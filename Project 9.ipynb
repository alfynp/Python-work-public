{
 "cells": [
  {
   "cell_type": "markdown",
   "id": "ec82badb",
   "metadata": {},
   "source": [
    "# Students Performance"
   ]
  },
  {
   "cell_type": "code",
   "execution_count": 42,
   "id": "1dd6a829",
   "metadata": {},
   "outputs": [],
   "source": [
    "#import library\n",
    "\n",
    "import pandas as pd,numpy as np,matplotlib.pyplot as plt,seaborn as sns\n",
    "%matplotlib inline"
   ]
  },
  {
   "cell_type": "code",
   "execution_count": 43,
   "id": "f434b84e",
   "metadata": {},
   "outputs": [
    {
     "data": {
      "text/html": [
       "<div>\n",
       "<style scoped>\n",
       "    .dataframe tbody tr th:only-of-type {\n",
       "        vertical-align: middle;\n",
       "    }\n",
       "\n",
       "    .dataframe tbody tr th {\n",
       "        vertical-align: top;\n",
       "    }\n",
       "\n",
       "    .dataframe thead th {\n",
       "        text-align: right;\n",
       "    }\n",
       "</style>\n",
       "<table border=\"1\" class=\"dataframe\">\n",
       "  <thead>\n",
       "    <tr style=\"text-align: right;\">\n",
       "      <th></th>\n",
       "      <th>Student ID</th>\n",
       "      <th>gender</th>\n",
       "      <th>race/ethnicity</th>\n",
       "      <th>parental level of education</th>\n",
       "      <th>lunch</th>\n",
       "      <th>Column</th>\n",
       "      <th>Column.1</th>\n",
       "      <th>test preparation course</th>\n",
       "      <th>math score</th>\n",
       "      <th>reading score</th>\n",
       "      <th>writing score</th>\n",
       "    </tr>\n",
       "  </thead>\n",
       "  <tbody>\n",
       "    <tr>\n",
       "      <th>0</th>\n",
       "      <td>1</td>\n",
       "      <td>female</td>\n",
       "      <td>group B</td>\n",
       "      <td>bachelor's degree</td>\n",
       "      <td>standard</td>\n",
       "      <td>NaN</td>\n",
       "      <td>NaN</td>\n",
       "      <td>none</td>\n",
       "      <td>72.0</td>\n",
       "      <td>72.0</td>\n",
       "      <td>74.0</td>\n",
       "    </tr>\n",
       "    <tr>\n",
       "      <th>1</th>\n",
       "      <td>2</td>\n",
       "      <td>female</td>\n",
       "      <td>group C</td>\n",
       "      <td>Diploma</td>\n",
       "      <td>standard</td>\n",
       "      <td>NaN</td>\n",
       "      <td>NaN</td>\n",
       "      <td>completed</td>\n",
       "      <td>69.0</td>\n",
       "      <td>90.0</td>\n",
       "      <td>88.0</td>\n",
       "    </tr>\n",
       "    <tr>\n",
       "      <th>2</th>\n",
       "      <td>3</td>\n",
       "      <td>female</td>\n",
       "      <td>group B</td>\n",
       "      <td>master's degree</td>\n",
       "      <td>standard</td>\n",
       "      <td>NaN</td>\n",
       "      <td>NaN</td>\n",
       "      <td>none</td>\n",
       "      <td>90.0</td>\n",
       "      <td>95.0</td>\n",
       "      <td>93.0</td>\n",
       "    </tr>\n",
       "    <tr>\n",
       "      <th>3</th>\n",
       "      <td>4</td>\n",
       "      <td>male</td>\n",
       "      <td>group A</td>\n",
       "      <td>associate's degree</td>\n",
       "      <td>free/reduced</td>\n",
       "      <td>NaN</td>\n",
       "      <td>NaN</td>\n",
       "      <td>none</td>\n",
       "      <td>47.0</td>\n",
       "      <td>57.0</td>\n",
       "      <td>44.0</td>\n",
       "    </tr>\n",
       "    <tr>\n",
       "      <th>4</th>\n",
       "      <td>5</td>\n",
       "      <td>male</td>\n",
       "      <td>group C</td>\n",
       "      <td>Diploma</td>\n",
       "      <td>standard</td>\n",
       "      <td>NaN</td>\n",
       "      <td>NaN</td>\n",
       "      <td>none</td>\n",
       "      <td>76.0</td>\n",
       "      <td>78.0</td>\n",
       "      <td>75.0</td>\n",
       "    </tr>\n",
       "    <tr>\n",
       "      <th>...</th>\n",
       "      <td>...</td>\n",
       "      <td>...</td>\n",
       "      <td>...</td>\n",
       "      <td>...</td>\n",
       "      <td>...</td>\n",
       "      <td>...</td>\n",
       "      <td>...</td>\n",
       "      <td>...</td>\n",
       "      <td>...</td>\n",
       "      <td>...</td>\n",
       "      <td>...</td>\n",
       "    </tr>\n",
       "    <tr>\n",
       "      <th>1000</th>\n",
       "      <td>1001</td>\n",
       "      <td>female</td>\n",
       "      <td>group E</td>\n",
       "      <td>master's degree</td>\n",
       "      <td>standard</td>\n",
       "      <td>NaN</td>\n",
       "      <td>NaN</td>\n",
       "      <td>completed</td>\n",
       "      <td>88.0</td>\n",
       "      <td>99.0</td>\n",
       "      <td>95.0</td>\n",
       "    </tr>\n",
       "    <tr>\n",
       "      <th>1001</th>\n",
       "      <td>1002</td>\n",
       "      <td>male</td>\n",
       "      <td>group C</td>\n",
       "      <td>high school</td>\n",
       "      <td>free/reduced</td>\n",
       "      <td>NaN</td>\n",
       "      <td>NaN</td>\n",
       "      <td>none</td>\n",
       "      <td>62.0</td>\n",
       "      <td>55.0</td>\n",
       "      <td>55.0</td>\n",
       "    </tr>\n",
       "    <tr>\n",
       "      <th>1002</th>\n",
       "      <td>1003</td>\n",
       "      <td>female</td>\n",
       "      <td>group C</td>\n",
       "      <td>high school</td>\n",
       "      <td>free/reduced</td>\n",
       "      <td>NaN</td>\n",
       "      <td>NaN</td>\n",
       "      <td>completed</td>\n",
       "      <td>59.0</td>\n",
       "      <td>71.0</td>\n",
       "      <td>65.0</td>\n",
       "    </tr>\n",
       "    <tr>\n",
       "      <th>1003</th>\n",
       "      <td>1004</td>\n",
       "      <td>female</td>\n",
       "      <td>group D</td>\n",
       "      <td>Diploma</td>\n",
       "      <td>standard</td>\n",
       "      <td>NaN</td>\n",
       "      <td>NaN</td>\n",
       "      <td>completed</td>\n",
       "      <td>68.0</td>\n",
       "      <td>78.0</td>\n",
       "      <td>77.0</td>\n",
       "    </tr>\n",
       "    <tr>\n",
       "      <th>1004</th>\n",
       "      <td>1005</td>\n",
       "      <td>female</td>\n",
       "      <td>group D</td>\n",
       "      <td>Diploma</td>\n",
       "      <td>free/reduced</td>\n",
       "      <td>NaN</td>\n",
       "      <td>NaN</td>\n",
       "      <td>none</td>\n",
       "      <td>77.0</td>\n",
       "      <td>86.0</td>\n",
       "      <td>86.0</td>\n",
       "    </tr>\n",
       "  </tbody>\n",
       "</table>\n",
       "<p>1005 rows × 11 columns</p>\n",
       "</div>"
      ],
      "text/plain": [
       "      Student ID  gender race/ethnicity parental level of education  \\\n",
       "0              1  female        group B           bachelor's degree   \n",
       "1              2  female        group C                     Diploma   \n",
       "2              3  female        group B             master's degree   \n",
       "3              4    male        group A          associate's degree   \n",
       "4              5    male        group C                     Diploma   \n",
       "...          ...     ...            ...                         ...   \n",
       "1000        1001  female        group E             master's degree   \n",
       "1001        1002    male        group C                 high school   \n",
       "1002        1003  female        group C                 high school   \n",
       "1003        1004  female        group D                     Diploma   \n",
       "1004        1005  female        group D                     Diploma   \n",
       "\n",
       "             lunch  Column  Column.1 test preparation course  math score  \\\n",
       "0         standard     NaN       NaN                    none        72.0   \n",
       "1         standard     NaN       NaN               completed        69.0   \n",
       "2         standard     NaN       NaN                    none        90.0   \n",
       "3     free/reduced     NaN       NaN                    none        47.0   \n",
       "4         standard     NaN       NaN                    none        76.0   \n",
       "...            ...     ...       ...                     ...         ...   \n",
       "1000      standard     NaN       NaN               completed        88.0   \n",
       "1001  free/reduced     NaN       NaN                    none        62.0   \n",
       "1002  free/reduced     NaN       NaN               completed        59.0   \n",
       "1003      standard     NaN       NaN               completed        68.0   \n",
       "1004  free/reduced     NaN       NaN                    none        77.0   \n",
       "\n",
       "      reading score  writing score  \n",
       "0              72.0           74.0  \n",
       "1              90.0           88.0  \n",
       "2              95.0           93.0  \n",
       "3              57.0           44.0  \n",
       "4              78.0           75.0  \n",
       "...             ...            ...  \n",
       "1000           99.0           95.0  \n",
       "1001           55.0           55.0  \n",
       "1002           71.0           65.0  \n",
       "1003           78.0           77.0  \n",
       "1004           86.0           86.0  \n",
       "\n",
       "[1005 rows x 11 columns]"
      ]
     },
     "execution_count": 43,
     "metadata": {},
     "output_type": "execute_result"
    }
   ],
   "source": [
    "sp=pd.read_csv('StudentsPerformance1.csv')\n",
    "sp"
   ]
  },
  {
   "cell_type": "markdown",
   "id": "eb2634b6",
   "metadata": {},
   "source": [
    "## Data Cleaning"
   ]
  },
  {
   "cell_type": "code",
   "execution_count": 44,
   "id": "25e45462",
   "metadata": {},
   "outputs": [],
   "source": [
    "# Remove the columns\n",
    "sp.drop(['Column','Column.1'], axis=1 ,inplace=True)"
   ]
  },
  {
   "cell_type": "code",
   "execution_count": 45,
   "id": "c66f36a5",
   "metadata": {},
   "outputs": [
    {
     "name": "stdout",
     "output_type": "stream",
     "text": [
      "<class 'pandas.core.frame.DataFrame'>\n",
      "RangeIndex: 1005 entries, 0 to 1004\n",
      "Data columns (total 9 columns):\n",
      " #   Column                       Non-Null Count  Dtype  \n",
      "---  ------                       --------------  -----  \n",
      " 0   Student ID                   1005 non-null   int64  \n",
      " 1   gender                       1005 non-null   object \n",
      " 2   race/ethnicity               1005 non-null   object \n",
      " 3   parental level of education  1005 non-null   object \n",
      " 4   lunch                        1005 non-null   object \n",
      " 5   test preparation course      1005 non-null   object \n",
      " 6   math score                   1000 non-null   float64\n",
      " 7   reading score                1000 non-null   float64\n",
      " 8   writing score                1000 non-null   float64\n",
      "dtypes: float64(3), int64(1), object(5)\n",
      "memory usage: 70.8+ KB\n"
     ]
    }
   ],
   "source": [
    "# Checking null values present in the data\n",
    "sp.info()"
   ]
  },
  {
   "cell_type": "code",
   "execution_count": 46,
   "id": "cdbf3f79",
   "metadata": {},
   "outputs": [
    {
     "data": {
      "text/plain": [
       "Student ID                     0\n",
       "gender                         0\n",
       "race/ethnicity                 0\n",
       "parental level of education    0\n",
       "lunch                          0\n",
       "test preparation course        0\n",
       "math score                     5\n",
       "reading score                  5\n",
       "writing score                  5\n",
       "dtype: int64"
      ]
     },
     "execution_count": 46,
     "metadata": {},
     "output_type": "execute_result"
    }
   ],
   "source": [
    "sp.isna().sum()"
   ]
  },
  {
   "cell_type": "code",
   "execution_count": 47,
   "id": "f99ea14f",
   "metadata": {},
   "outputs": [
    {
     "data": {
      "text/plain": [
       "(1005, 9)"
      ]
     },
     "execution_count": 47,
     "metadata": {},
     "output_type": "execute_result"
    }
   ],
   "source": [
    "sp.shape"
   ]
  },
  {
   "cell_type": "code",
   "execution_count": 48,
   "id": "6c55c887",
   "metadata": {},
   "outputs": [
    {
     "data": {
      "text/html": [
       "<div>\n",
       "<style scoped>\n",
       "    .dataframe tbody tr th:only-of-type {\n",
       "        vertical-align: middle;\n",
       "    }\n",
       "\n",
       "    .dataframe tbody tr th {\n",
       "        vertical-align: top;\n",
       "    }\n",
       "\n",
       "    .dataframe thead th {\n",
       "        text-align: right;\n",
       "    }\n",
       "</style>\n",
       "<table border=\"1\" class=\"dataframe\">\n",
       "  <thead>\n",
       "    <tr style=\"text-align: right;\">\n",
       "      <th></th>\n",
       "      <th>Student ID</th>\n",
       "      <th>gender</th>\n",
       "      <th>race/ethnicity</th>\n",
       "      <th>parental level of education</th>\n",
       "      <th>lunch</th>\n",
       "      <th>test preparation course</th>\n",
       "      <th>math score</th>\n",
       "      <th>reading score</th>\n",
       "      <th>writing score</th>\n",
       "    </tr>\n",
       "  </thead>\n",
       "  <tbody>\n",
       "    <tr>\n",
       "      <th>0</th>\n",
       "      <td>1</td>\n",
       "      <td>female</td>\n",
       "      <td>group B</td>\n",
       "      <td>bachelor's degree</td>\n",
       "      <td>standard</td>\n",
       "      <td>none</td>\n",
       "      <td>72.0</td>\n",
       "      <td>72.0</td>\n",
       "      <td>74.0</td>\n",
       "    </tr>\n",
       "    <tr>\n",
       "      <th>1</th>\n",
       "      <td>2</td>\n",
       "      <td>female</td>\n",
       "      <td>group C</td>\n",
       "      <td>Diploma</td>\n",
       "      <td>standard</td>\n",
       "      <td>completed</td>\n",
       "      <td>69.0</td>\n",
       "      <td>90.0</td>\n",
       "      <td>88.0</td>\n",
       "    </tr>\n",
       "    <tr>\n",
       "      <th>2</th>\n",
       "      <td>3</td>\n",
       "      <td>female</td>\n",
       "      <td>group B</td>\n",
       "      <td>master's degree</td>\n",
       "      <td>standard</td>\n",
       "      <td>none</td>\n",
       "      <td>90.0</td>\n",
       "      <td>95.0</td>\n",
       "      <td>93.0</td>\n",
       "    </tr>\n",
       "    <tr>\n",
       "      <th>3</th>\n",
       "      <td>4</td>\n",
       "      <td>male</td>\n",
       "      <td>group A</td>\n",
       "      <td>associate's degree</td>\n",
       "      <td>free/reduced</td>\n",
       "      <td>none</td>\n",
       "      <td>47.0</td>\n",
       "      <td>57.0</td>\n",
       "      <td>44.0</td>\n",
       "    </tr>\n",
       "    <tr>\n",
       "      <th>4</th>\n",
       "      <td>5</td>\n",
       "      <td>male</td>\n",
       "      <td>group C</td>\n",
       "      <td>Diploma</td>\n",
       "      <td>standard</td>\n",
       "      <td>none</td>\n",
       "      <td>76.0</td>\n",
       "      <td>78.0</td>\n",
       "      <td>75.0</td>\n",
       "    </tr>\n",
       "    <tr>\n",
       "      <th>...</th>\n",
       "      <td>...</td>\n",
       "      <td>...</td>\n",
       "      <td>...</td>\n",
       "      <td>...</td>\n",
       "      <td>...</td>\n",
       "      <td>...</td>\n",
       "      <td>...</td>\n",
       "      <td>...</td>\n",
       "      <td>...</td>\n",
       "    </tr>\n",
       "    <tr>\n",
       "      <th>1000</th>\n",
       "      <td>1001</td>\n",
       "      <td>female</td>\n",
       "      <td>group E</td>\n",
       "      <td>master's degree</td>\n",
       "      <td>standard</td>\n",
       "      <td>completed</td>\n",
       "      <td>88.0</td>\n",
       "      <td>99.0</td>\n",
       "      <td>95.0</td>\n",
       "    </tr>\n",
       "    <tr>\n",
       "      <th>1001</th>\n",
       "      <td>1002</td>\n",
       "      <td>male</td>\n",
       "      <td>group C</td>\n",
       "      <td>high school</td>\n",
       "      <td>free/reduced</td>\n",
       "      <td>none</td>\n",
       "      <td>62.0</td>\n",
       "      <td>55.0</td>\n",
       "      <td>55.0</td>\n",
       "    </tr>\n",
       "    <tr>\n",
       "      <th>1002</th>\n",
       "      <td>1003</td>\n",
       "      <td>female</td>\n",
       "      <td>group C</td>\n",
       "      <td>high school</td>\n",
       "      <td>free/reduced</td>\n",
       "      <td>completed</td>\n",
       "      <td>59.0</td>\n",
       "      <td>71.0</td>\n",
       "      <td>65.0</td>\n",
       "    </tr>\n",
       "    <tr>\n",
       "      <th>1003</th>\n",
       "      <td>1004</td>\n",
       "      <td>female</td>\n",
       "      <td>group D</td>\n",
       "      <td>Diploma</td>\n",
       "      <td>standard</td>\n",
       "      <td>completed</td>\n",
       "      <td>68.0</td>\n",
       "      <td>78.0</td>\n",
       "      <td>77.0</td>\n",
       "    </tr>\n",
       "    <tr>\n",
       "      <th>1004</th>\n",
       "      <td>1005</td>\n",
       "      <td>female</td>\n",
       "      <td>group D</td>\n",
       "      <td>Diploma</td>\n",
       "      <td>free/reduced</td>\n",
       "      <td>none</td>\n",
       "      <td>77.0</td>\n",
       "      <td>86.0</td>\n",
       "      <td>86.0</td>\n",
       "    </tr>\n",
       "  </tbody>\n",
       "</table>\n",
       "<p>1005 rows × 9 columns</p>\n",
       "</div>"
      ],
      "text/plain": [
       "      Student ID  gender race/ethnicity parental level of education  \\\n",
       "0              1  female        group B           bachelor's degree   \n",
       "1              2  female        group C                     Diploma   \n",
       "2              3  female        group B             master's degree   \n",
       "3              4    male        group A          associate's degree   \n",
       "4              5    male        group C                     Diploma   \n",
       "...          ...     ...            ...                         ...   \n",
       "1000        1001  female        group E             master's degree   \n",
       "1001        1002    male        group C                 high school   \n",
       "1002        1003  female        group C                 high school   \n",
       "1003        1004  female        group D                     Diploma   \n",
       "1004        1005  female        group D                     Diploma   \n",
       "\n",
       "             lunch test preparation course  math score  reading score  \\\n",
       "0         standard                    none        72.0           72.0   \n",
       "1         standard               completed        69.0           90.0   \n",
       "2         standard                    none        90.0           95.0   \n",
       "3     free/reduced                    none        47.0           57.0   \n",
       "4         standard                    none        76.0           78.0   \n",
       "...            ...                     ...         ...            ...   \n",
       "1000      standard               completed        88.0           99.0   \n",
       "1001  free/reduced                    none        62.0           55.0   \n",
       "1002  free/reduced               completed        59.0           71.0   \n",
       "1003      standard               completed        68.0           78.0   \n",
       "1004  free/reduced                    none        77.0           86.0   \n",
       "\n",
       "      writing score  \n",
       "0              74.0  \n",
       "1              88.0  \n",
       "2              93.0  \n",
       "3              44.0  \n",
       "4              75.0  \n",
       "...             ...  \n",
       "1000           95.0  \n",
       "1001           55.0  \n",
       "1002           65.0  \n",
       "1003           77.0  \n",
       "1004           86.0  \n",
       "\n",
       "[1005 rows x 9 columns]"
      ]
     },
     "execution_count": 48,
     "metadata": {},
     "output_type": "execute_result"
    }
   ],
   "source": [
    "# filling null values in math score,reading score,writing score with mean\n",
    "sp.fillna(sp[['math score','reading score','writing score']].mean(),inplace=True)\n",
    "sp"
   ]
  },
  {
   "cell_type": "code",
   "execution_count": 49,
   "id": "a7204aa2",
   "metadata": {},
   "outputs": [
    {
     "name": "stdout",
     "output_type": "stream",
     "text": [
      "<class 'pandas.core.frame.DataFrame'>\n",
      "RangeIndex: 1005 entries, 0 to 1004\n",
      "Data columns (total 9 columns):\n",
      " #   Column                       Non-Null Count  Dtype  \n",
      "---  ------                       --------------  -----  \n",
      " 0   Student ID                   1005 non-null   int64  \n",
      " 1   gender                       1005 non-null   object \n",
      " 2   race/ethnicity               1005 non-null   object \n",
      " 3   parental level of education  1005 non-null   object \n",
      " 4   lunch                        1005 non-null   object \n",
      " 5   test preparation course      1005 non-null   object \n",
      " 6   math score                   1005 non-null   float64\n",
      " 7   reading score                1005 non-null   float64\n",
      " 8   writing score                1005 non-null   float64\n",
      "dtypes: float64(3), int64(1), object(5)\n",
      "memory usage: 70.8+ KB\n"
     ]
    }
   ],
   "source": [
    "sp.info()"
   ]
  },
  {
   "cell_type": "code",
   "execution_count": 50,
   "id": "2f644350",
   "metadata": {},
   "outputs": [
    {
     "data": {
      "text/plain": [
       "Student ID                     0\n",
       "gender                         0\n",
       "race/ethnicity                 0\n",
       "parental level of education    0\n",
       "lunch                          0\n",
       "test preparation course        0\n",
       "math score                     0\n",
       "reading score                  0\n",
       "writing score                  0\n",
       "dtype: int64"
      ]
     },
     "execution_count": 50,
     "metadata": {},
     "output_type": "execute_result"
    }
   ],
   "source": [
    "sp.isna().sum()"
   ]
  },
  {
   "cell_type": "code",
   "execution_count": 51,
   "id": "88087c15",
   "metadata": {},
   "outputs": [
    {
     "data": {
      "text/plain": [
       "Index(['Student ID', 'gender', 'race/ethnicity', 'parental level of education',\n",
       "       'lunch', 'test preparation course', 'math score', 'reading score',\n",
       "       'writing score'],\n",
       "      dtype='object')"
      ]
     },
     "execution_count": 51,
     "metadata": {},
     "output_type": "execute_result"
    }
   ],
   "source": [
    "sp.columns"
   ]
  },
  {
   "cell_type": "code",
   "execution_count": 52,
   "id": "87d3d6f8",
   "metadata": {},
   "outputs": [
    {
     "data": {
      "text/plain": [
       "1005"
      ]
     },
     "execution_count": 52,
     "metadata": {},
     "output_type": "execute_result"
    }
   ],
   "source": [
    "# total number of students\n",
    "sp['Student ID'].count()"
   ]
  },
  {
   "cell_type": "code",
   "execution_count": 53,
   "id": "91951e2b",
   "metadata": {},
   "outputs": [
    {
     "data": {
      "text/plain": [
       "69.169"
      ]
     },
     "execution_count": 53,
     "metadata": {},
     "output_type": "execute_result"
    }
   ],
   "source": [
    "# average for reading score\n",
    "sp['reading score'].mean()"
   ]
  },
  {
   "cell_type": "code",
   "execution_count": 54,
   "id": "e2d9e0c2",
   "metadata": {},
   "outputs": [
    {
     "data": {
      "text/plain": [
       "count    1005.000000\n",
       "mean       68.054000\n",
       "std        15.157772\n",
       "min        10.000000\n",
       "25%        58.000000\n",
       "50%        69.000000\n",
       "75%        79.000000\n",
       "max       100.000000\n",
       "Name: writing score, dtype: float64"
      ]
     },
     "execution_count": 54,
     "metadata": {},
     "output_type": "execute_result"
    }
   ],
   "source": [
    "# descriptive statistics for writing score\n",
    "sp.describe()['writing score']"
   ]
  },
  {
   "cell_type": "code",
   "execution_count": 55,
   "id": "6e828771",
   "metadata": {},
   "outputs": [
    {
     "data": {
      "text/plain": [
       "none         644\n",
       "completed    361\n",
       "Name: test preparation course, dtype: int64"
      ]
     },
     "execution_count": 55,
     "metadata": {},
     "output_type": "execute_result"
    }
   ],
   "source": [
    "# The number of students had completed the test preparation\n",
    "sp['test preparation course'].value_counts()"
   ]
  },
  {
   "cell_type": "code",
   "execution_count": 56,
   "id": "975f5775",
   "metadata": {},
   "outputs": [
    {
     "data": {
      "text/plain": [
       "0.0"
      ]
     },
     "execution_count": 56,
     "metadata": {},
     "output_type": "execute_result"
    }
   ],
   "source": [
    "# the minimum score in math\n",
    "sp['math score'].min()"
   ]
  },
  {
   "cell_type": "code",
   "execution_count": 57,
   "id": "c7723ae3",
   "metadata": {},
   "outputs": [
    {
     "data": {
      "text/plain": [
       "100.0"
      ]
     },
     "execution_count": 57,
     "metadata": {},
     "output_type": "execute_result"
    }
   ],
   "source": [
    "# the maximum score in writing\n",
    "sp['writing score'].max()"
   ]
  },
  {
   "cell_type": "code",
   "execution_count": 58,
   "id": "c9be9cc5",
   "metadata": {},
   "outputs": [
    {
     "data": {
      "text/plain": [
       "lunch\n",
       "free/reduced    356\n",
       "standard        649\n",
       "Name: Student ID, dtype: int64"
      ]
     },
     "execution_count": 58,
     "metadata": {},
     "output_type": "execute_result"
    }
   ],
   "source": [
    "# the number of students by lunch\n",
    "sp.groupby('lunch')['Student ID'].count()"
   ]
  },
  {
   "cell_type": "code",
   "execution_count": 59,
   "id": "49827061",
   "metadata": {},
   "outputs": [
    {
     "data": {
      "text/plain": [
       "race/ethnicity\n",
       "group A    61.727231\n",
       "group B    63.466435\n",
       "group C    64.469028\n",
       "group D    67.362595\n",
       "group E    73.766589\n",
       "Name: math score, dtype: float64"
      ]
     },
     "execution_count": 59,
     "metadata": {},
     "output_type": "execute_result"
    }
   ],
   "source": [
    "# average score for each by race/ethnicity\n",
    "sp.groupby('race/ethnicity')['math score'].mean()"
   ]
  },
  {
   "cell_type": "code",
   "execution_count": 60,
   "id": "bb7f7ac0",
   "metadata": {},
   "outputs": [
    {
     "data": {
      "text/plain": [
       "race/ethnicity\n",
       "group A    62.792396\n",
       "group B    65.612848\n",
       "group C    67.828294\n",
       "group D    70.145038\n",
       "group E    71.383362\n",
       "Name: writing score, dtype: float64"
      ]
     },
     "execution_count": 60,
     "metadata": {},
     "output_type": "execute_result"
    }
   ],
   "source": [
    "sp.groupby('race/ethnicity')['writing score'].mean()"
   ]
  },
  {
   "cell_type": "code",
   "execution_count": 61,
   "id": "e25f4cb1",
   "metadata": {},
   "outputs": [
    {
     "data": {
      "text/plain": [
       "race/ethnicity\n",
       "group A    64.772945\n",
       "group B    67.362141\n",
       "group C    69.103653\n",
       "group D    70.030534\n",
       "group E    73.001199\n",
       "Name: reading score, dtype: float64"
      ]
     },
     "execution_count": 61,
     "metadata": {},
     "output_type": "execute_result"
    }
   ],
   "source": [
    "sp.groupby('race/ethnicity')['reading score'].mean()"
   ]
  },
  {
   "cell_type": "code",
   "execution_count": 62,
   "id": "a7611590",
   "metadata": {},
   "outputs": [
    {
     "data": {
      "text/plain": [
       "<Axes: >"
      ]
     },
     "execution_count": 62,
     "metadata": {},
     "output_type": "execute_result"
    },
    {
     "data": {
      "image/png": "[encoded data removed]",
      "text/plain": [
       "<Figure size 640x480 with 1 Axes>"
      ]
     },
     "metadata": {},
     "output_type": "display_data"
    }
   ],
   "source": [
    "sp['parental level of education'].value_counts().plot(kind='bar',color='orange')"
   ]
  },
  {
   "cell_type": "code",
   "execution_count": 63,
   "id": "93541437",
   "metadata": {},
   "outputs": [
    {
     "data": {
      "text/html": [
       "<div>\n",
       "<style scoped>\n",
       "    .dataframe tbody tr th:only-of-type {\n",
       "        vertical-align: middle;\n",
       "    }\n",
       "\n",
       "    .dataframe tbody tr th {\n",
       "        vertical-align: top;\n",
       "    }\n",
       "\n",
       "    .dataframe thead th {\n",
       "        text-align: right;\n",
       "    }\n",
       "</style>\n",
       "<table border=\"1\" class=\"dataframe\">\n",
       "  <thead>\n",
       "    <tr style=\"text-align: right;\">\n",
       "      <th></th>\n",
       "      <th>Student ID</th>\n",
       "      <th>gender</th>\n",
       "      <th>race/ethnicity</th>\n",
       "      <th>parental level of education</th>\n",
       "      <th>lunch</th>\n",
       "      <th>test preparation course</th>\n",
       "      <th>math score</th>\n",
       "      <th>reading score</th>\n",
       "      <th>writing score</th>\n",
       "      <th>Total score</th>\n",
       "    </tr>\n",
       "  </thead>\n",
       "  <tbody>\n",
       "    <tr>\n",
       "      <th>0</th>\n",
       "      <td>1</td>\n",
       "      <td>female</td>\n",
       "      <td>group B</td>\n",
       "      <td>bachelor's degree</td>\n",
       "      <td>standard</td>\n",
       "      <td>none</td>\n",
       "      <td>72.0</td>\n",
       "      <td>72.0</td>\n",
       "      <td>74.0</td>\n",
       "      <td>218.0</td>\n",
       "    </tr>\n",
       "    <tr>\n",
       "      <th>1</th>\n",
       "      <td>2</td>\n",
       "      <td>female</td>\n",
       "      <td>group C</td>\n",
       "      <td>Diploma</td>\n",
       "      <td>standard</td>\n",
       "      <td>completed</td>\n",
       "      <td>69.0</td>\n",
       "      <td>90.0</td>\n",
       "      <td>88.0</td>\n",
       "      <td>247.0</td>\n",
       "    </tr>\n",
       "    <tr>\n",
       "      <th>2</th>\n",
       "      <td>3</td>\n",
       "      <td>female</td>\n",
       "      <td>group B</td>\n",
       "      <td>master's degree</td>\n",
       "      <td>standard</td>\n",
       "      <td>none</td>\n",
       "      <td>90.0</td>\n",
       "      <td>95.0</td>\n",
       "      <td>93.0</td>\n",
       "      <td>278.0</td>\n",
       "    </tr>\n",
       "    <tr>\n",
       "      <th>3</th>\n",
       "      <td>4</td>\n",
       "      <td>male</td>\n",
       "      <td>group A</td>\n",
       "      <td>associate's degree</td>\n",
       "      <td>free/reduced</td>\n",
       "      <td>none</td>\n",
       "      <td>47.0</td>\n",
       "      <td>57.0</td>\n",
       "      <td>44.0</td>\n",
       "      <td>148.0</td>\n",
       "    </tr>\n",
       "    <tr>\n",
       "      <th>4</th>\n",
       "      <td>5</td>\n",
       "      <td>male</td>\n",
       "      <td>group C</td>\n",
       "      <td>Diploma</td>\n",
       "      <td>standard</td>\n",
       "      <td>none</td>\n",
       "      <td>76.0</td>\n",
       "      <td>78.0</td>\n",
       "      <td>75.0</td>\n",
       "      <td>229.0</td>\n",
       "    </tr>\n",
       "    <tr>\n",
       "      <th>...</th>\n",
       "      <td>...</td>\n",
       "      <td>...</td>\n",
       "      <td>...</td>\n",
       "      <td>...</td>\n",
       "      <td>...</td>\n",
       "      <td>...</td>\n",
       "      <td>...</td>\n",
       "      <td>...</td>\n",
       "      <td>...</td>\n",
       "      <td>...</td>\n",
       "    </tr>\n",
       "    <tr>\n",
       "      <th>1000</th>\n",
       "      <td>1001</td>\n",
       "      <td>female</td>\n",
       "      <td>group E</td>\n",
       "      <td>master's degree</td>\n",
       "      <td>standard</td>\n",
       "      <td>completed</td>\n",
       "      <td>88.0</td>\n",
       "      <td>99.0</td>\n",
       "      <td>95.0</td>\n",
       "      <td>282.0</td>\n",
       "    </tr>\n",
       "    <tr>\n",
       "      <th>1001</th>\n",
       "      <td>1002</td>\n",
       "      <td>male</td>\n",
       "      <td>group C</td>\n",
       "      <td>high school</td>\n",
       "      <td>free/reduced</td>\n",
       "      <td>none</td>\n",
       "      <td>62.0</td>\n",
       "      <td>55.0</td>\n",
       "      <td>55.0</td>\n",
       "      <td>172.0</td>\n",
       "    </tr>\n",
       "    <tr>\n",
       "      <th>1002</th>\n",
       "      <td>1003</td>\n",
       "      <td>female</td>\n",
       "      <td>group C</td>\n",
       "      <td>high school</td>\n",
       "      <td>free/reduced</td>\n",
       "      <td>completed</td>\n",
       "      <td>59.0</td>\n",
       "      <td>71.0</td>\n",
       "      <td>65.0</td>\n",
       "      <td>195.0</td>\n",
       "    </tr>\n",
       "    <tr>\n",
       "      <th>1003</th>\n",
       "      <td>1004</td>\n",
       "      <td>female</td>\n",
       "      <td>group D</td>\n",
       "      <td>Diploma</td>\n",
       "      <td>standard</td>\n",
       "      <td>completed</td>\n",
       "      <td>68.0</td>\n",
       "      <td>78.0</td>\n",
       "      <td>77.0</td>\n",
       "      <td>223.0</td>\n",
       "    </tr>\n",
       "    <tr>\n",
       "      <th>1004</th>\n",
       "      <td>1005</td>\n",
       "      <td>female</td>\n",
       "      <td>group D</td>\n",
       "      <td>Diploma</td>\n",
       "      <td>free/reduced</td>\n",
       "      <td>none</td>\n",
       "      <td>77.0</td>\n",
       "      <td>86.0</td>\n",
       "      <td>86.0</td>\n",
       "      <td>249.0</td>\n",
       "    </tr>\n",
       "  </tbody>\n",
       "</table>\n",
       "<p>1005 rows × 10 columns</p>\n",
       "</div>"
      ],
      "text/plain": [
       "      Student ID  gender race/ethnicity parental level of education  \\\n",
       "0              1  female        group B           bachelor's degree   \n",
       "1              2  female        group C                     Diploma   \n",
       "2              3  female        group B             master's degree   \n",
       "3              4    male        group A          associate's degree   \n",
       "4              5    male        group C                     Diploma   \n",
       "...          ...     ...            ...                         ...   \n",
       "1000        1001  female        group E             master's degree   \n",
       "1001        1002    male        group C                 high school   \n",
       "1002        1003  female        group C                 high school   \n",
       "1003        1004  female        group D                     Diploma   \n",
       "1004        1005  female        group D                     Diploma   \n",
       "\n",
       "             lunch test preparation course  math score  reading score  \\\n",
       "0         standard                    none        72.0           72.0   \n",
       "1         standard               completed        69.0           90.0   \n",
       "2         standard                    none        90.0           95.0   \n",
       "3     free/reduced                    none        47.0           57.0   \n",
       "4         standard                    none        76.0           78.0   \n",
       "...            ...                     ...         ...            ...   \n",
       "1000      standard               completed        88.0           99.0   \n",
       "1001  free/reduced                    none        62.0           55.0   \n",
       "1002  free/reduced               completed        59.0           71.0   \n",
       "1003      standard               completed        68.0           78.0   \n",
       "1004  free/reduced                    none        77.0           86.0   \n",
       "\n",
       "      writing score  Total score  \n",
       "0              74.0        218.0  \n",
       "1              88.0        247.0  \n",
       "2              93.0        278.0  \n",
       "3              44.0        148.0  \n",
       "4              75.0        229.0  \n",
       "...             ...          ...  \n",
       "1000           95.0        282.0  \n",
       "1001           55.0        172.0  \n",
       "1002           65.0        195.0  \n",
       "1003           77.0        223.0  \n",
       "1004           86.0        249.0  \n",
       "\n",
       "[1005 rows x 10 columns]"
      ]
     },
     "execution_count": 63,
     "metadata": {},
     "output_type": "execute_result"
    }
   ],
   "source": [
    "# create a new variable 'Total score'\n",
    "sp['Total score']=sp['math score']+sp['writing score']+sp['reading score']\n",
    "sp"
   ]
  },
  {
   "cell_type": "code",
   "execution_count": 64,
   "id": "ad138910",
   "metadata": {},
   "outputs": [
    {
     "data": {
      "text/plain": [
       "Student ID  Total score\n",
       "1           218.0          1\n",
       "2           247.0          1\n",
       "3           278.0          1\n",
       "4           148.0          1\n",
       "5           229.0          1\n",
       "                          ..\n",
       "1001        282.0          1\n",
       "1002        172.0          1\n",
       "1003        195.0          1\n",
       "1004        223.0          1\n",
       "1005        249.0          1\n",
       "Name: Total score, Length: 1005, dtype: int64"
      ]
     },
     "execution_count": 64,
     "metadata": {},
     "output_type": "execute_result"
    }
   ],
   "source": [
    "# the total score of each student\n",
    "sp.groupby('Student ID')['Total score'].value_counts()"
   ]
  },
  {
   "cell_type": "code",
   "execution_count": 65,
   "id": "19ba7fd0",
   "metadata": {},
   "outputs": [
    {
     "data": {
      "text/plain": [
       "gender\n",
       "female    208.677420\n",
       "male      197.536413\n",
       "Name: Total score, dtype: float64"
      ]
     },
     "execution_count": 65,
     "metadata": {},
     "output_type": "execute_result"
    }
   ],
   "source": [
    "# the average of total score for male and female students\n",
    "sp.groupby('gender')['Total score'].mean()"
   ]
  },
  {
   "cell_type": "code",
   "execution_count": 66,
   "id": "c7b2390d",
   "metadata": {},
   "outputs": [
    {
     "data": {
      "text/plain": [
       "gender  parental level of education\n",
       "female  Diploma                        212.926992\n",
       "        associate's degree             213.370690\n",
       "        bachelor's degree              223.692375\n",
       "        high school                    195.448649\n",
       "        master's degree                220.467892\n",
       "male    Diploma                        197.148148\n",
       "        associate's degree             203.601047\n",
       "        bachelor's degree              206.327273\n",
       "        high school                    189.053990\n",
       "        master's degree                220.565217\n",
       "Name: Total score, dtype: float64"
      ]
     },
     "execution_count": 66,
     "metadata": {},
     "output_type": "execute_result"
    }
   ],
   "source": [
    "# the average of total score by gender and parental education level\n",
    "sp.groupby(['gender','parental level of education'])['Total score'].mean()"
   ]
  },
  {
   "cell_type": "code",
   "execution_count": 67,
   "id": "994644b0",
   "metadata": {},
   "outputs": [
    {
     "data": {
      "text/plain": [
       "race/ethnicity\n",
       "group A    61.727231\n",
       "group B    63.466435\n",
       "group C    64.469028\n",
       "group D    67.362595\n",
       "group E    73.766589\n",
       "Name: math score, dtype: float64"
      ]
     },
     "execution_count": 67,
     "metadata": {},
     "output_type": "execute_result"
    }
   ],
   "source": [
    "# the average math score by race/ethnicity\n",
    "sp.groupby('race/ethnicity')['math score'].mean()"
   ]
  },
  {
   "cell_type": "code",
   "execution_count": 68,
   "id": "94658dec",
   "metadata": {},
   "outputs": [
    {
     "data": {
      "text/plain": [
       "test preparation course\n",
       "completed    361\n",
       "none         644\n",
       "Name: Student ID, dtype: int64"
      ]
     },
     "execution_count": 68,
     "metadata": {},
     "output_type": "execute_result"
    }
   ],
   "source": [
    "# the number of Students by test preparation course\n",
    "sp.groupby('test preparation course')['Student ID'].count()"
   ]
  },
  {
   "cell_type": "code",
   "execution_count": 69,
   "id": "de74d7ec",
   "metadata": {},
   "outputs": [
    {
     "data": {
      "text/plain": [
       "test preparation course\n",
       "completed    217.886249\n",
       "none         195.142273\n",
       "Name: Total score, dtype: float64"
      ]
     },
     "execution_count": 69,
     "metadata": {},
     "output_type": "execute_result"
    }
   ],
   "source": [
    "# the average total score by test preparation course\n",
    "sp.groupby('test preparation course')['Total score'].mean()"
   ]
  },
  {
   "cell_type": "code",
   "execution_count": 70,
   "id": "b8c3b043",
   "metadata": {},
   "outputs": [
    {
     "data": {
      "text/html": [
       "<div>\n",
       "<style scoped>\n",
       "    .dataframe tbody tr th:only-of-type {\n",
       "        vertical-align: middle;\n",
       "    }\n",
       "\n",
       "    .dataframe tbody tr th {\n",
       "        vertical-align: top;\n",
       "    }\n",
       "\n",
       "    .dataframe thead th {\n",
       "        text-align: right;\n",
       "    }\n",
       "</style>\n",
       "<table border=\"1\" class=\"dataframe\">\n",
       "  <thead>\n",
       "    <tr style=\"text-align: right;\">\n",
       "      <th></th>\n",
       "      <th>Student ID</th>\n",
       "      <th>gender</th>\n",
       "      <th>race/ethnicity</th>\n",
       "      <th>parental level of education</th>\n",
       "      <th>lunch</th>\n",
       "      <th>test preparation course</th>\n",
       "      <th>math score</th>\n",
       "      <th>reading score</th>\n",
       "      <th>writing score</th>\n",
       "      <th>Total score</th>\n",
       "      <th>Percentage</th>\n",
       "    </tr>\n",
       "  </thead>\n",
       "  <tbody>\n",
       "    <tr>\n",
       "      <th>0</th>\n",
       "      <td>1</td>\n",
       "      <td>female</td>\n",
       "      <td>group B</td>\n",
       "      <td>bachelor's degree</td>\n",
       "      <td>standard</td>\n",
       "      <td>none</td>\n",
       "      <td>72.0</td>\n",
       "      <td>72.0</td>\n",
       "      <td>74.0</td>\n",
       "      <td>218.0</td>\n",
       "      <td>72.666667</td>\n",
       "    </tr>\n",
       "    <tr>\n",
       "      <th>1</th>\n",
       "      <td>2</td>\n",
       "      <td>female</td>\n",
       "      <td>group C</td>\n",
       "      <td>Diploma</td>\n",
       "      <td>standard</td>\n",
       "      <td>completed</td>\n",
       "      <td>69.0</td>\n",
       "      <td>90.0</td>\n",
       "      <td>88.0</td>\n",
       "      <td>247.0</td>\n",
       "      <td>82.333333</td>\n",
       "    </tr>\n",
       "    <tr>\n",
       "      <th>2</th>\n",
       "      <td>3</td>\n",
       "      <td>female</td>\n",
       "      <td>group B</td>\n",
       "      <td>master's degree</td>\n",
       "      <td>standard</td>\n",
       "      <td>none</td>\n",
       "      <td>90.0</td>\n",
       "      <td>95.0</td>\n",
       "      <td>93.0</td>\n",
       "      <td>278.0</td>\n",
       "      <td>92.666667</td>\n",
       "    </tr>\n",
       "    <tr>\n",
       "      <th>3</th>\n",
       "      <td>4</td>\n",
       "      <td>male</td>\n",
       "      <td>group A</td>\n",
       "      <td>associate's degree</td>\n",
       "      <td>free/reduced</td>\n",
       "      <td>none</td>\n",
       "      <td>47.0</td>\n",
       "      <td>57.0</td>\n",
       "      <td>44.0</td>\n",
       "      <td>148.0</td>\n",
       "      <td>49.333333</td>\n",
       "    </tr>\n",
       "    <tr>\n",
       "      <th>4</th>\n",
       "      <td>5</td>\n",
       "      <td>male</td>\n",
       "      <td>group C</td>\n",
       "      <td>Diploma</td>\n",
       "      <td>standard</td>\n",
       "      <td>none</td>\n",
       "      <td>76.0</td>\n",
       "      <td>78.0</td>\n",
       "      <td>75.0</td>\n",
       "      <td>229.0</td>\n",
       "      <td>76.333333</td>\n",
       "    </tr>\n",
       "    <tr>\n",
       "      <th>...</th>\n",
       "      <td>...</td>\n",
       "      <td>...</td>\n",
       "      <td>...</td>\n",
       "      <td>...</td>\n",
       "      <td>...</td>\n",
       "      <td>...</td>\n",
       "      <td>...</td>\n",
       "      <td>...</td>\n",
       "      <td>...</td>\n",
       "      <td>...</td>\n",
       "      <td>...</td>\n",
       "    </tr>\n",
       "    <tr>\n",
       "      <th>1000</th>\n",
       "      <td>1001</td>\n",
       "      <td>female</td>\n",
       "      <td>group E</td>\n",
       "      <td>master's degree</td>\n",
       "      <td>standard</td>\n",
       "      <td>completed</td>\n",
       "      <td>88.0</td>\n",
       "      <td>99.0</td>\n",
       "      <td>95.0</td>\n",
       "      <td>282.0</td>\n",
       "      <td>94.000000</td>\n",
       "    </tr>\n",
       "    <tr>\n",
       "      <th>1001</th>\n",
       "      <td>1002</td>\n",
       "      <td>male</td>\n",
       "      <td>group C</td>\n",
       "      <td>high school</td>\n",
       "      <td>free/reduced</td>\n",
       "      <td>none</td>\n",
       "      <td>62.0</td>\n",
       "      <td>55.0</td>\n",
       "      <td>55.0</td>\n",
       "      <td>172.0</td>\n",
       "      <td>57.333333</td>\n",
       "    </tr>\n",
       "    <tr>\n",
       "      <th>1002</th>\n",
       "      <td>1003</td>\n",
       "      <td>female</td>\n",
       "      <td>group C</td>\n",
       "      <td>high school</td>\n",
       "      <td>free/reduced</td>\n",
       "      <td>completed</td>\n",
       "      <td>59.0</td>\n",
       "      <td>71.0</td>\n",
       "      <td>65.0</td>\n",
       "      <td>195.0</td>\n",
       "      <td>65.000000</td>\n",
       "    </tr>\n",
       "    <tr>\n",
       "      <th>1003</th>\n",
       "      <td>1004</td>\n",
       "      <td>female</td>\n",
       "      <td>group D</td>\n",
       "      <td>Diploma</td>\n",
       "      <td>standard</td>\n",
       "      <td>completed</td>\n",
       "      <td>68.0</td>\n",
       "      <td>78.0</td>\n",
       "      <td>77.0</td>\n",
       "      <td>223.0</td>\n",
       "      <td>74.333333</td>\n",
       "    </tr>\n",
       "    <tr>\n",
       "      <th>1004</th>\n",
       "      <td>1005</td>\n",
       "      <td>female</td>\n",
       "      <td>group D</td>\n",
       "      <td>Diploma</td>\n",
       "      <td>free/reduced</td>\n",
       "      <td>none</td>\n",
       "      <td>77.0</td>\n",
       "      <td>86.0</td>\n",
       "      <td>86.0</td>\n",
       "      <td>249.0</td>\n",
       "      <td>83.000000</td>\n",
       "    </tr>\n",
       "  </tbody>\n",
       "</table>\n",
       "<p>1005 rows × 11 columns</p>\n",
       "</div>"
      ],
      "text/plain": [
       "      Student ID  gender race/ethnicity parental level of education  \\\n",
       "0              1  female        group B           bachelor's degree   \n",
       "1              2  female        group C                     Diploma   \n",
       "2              3  female        group B             master's degree   \n",
       "3              4    male        group A          associate's degree   \n",
       "4              5    male        group C                     Diploma   \n",
       "...          ...     ...            ...                         ...   \n",
       "1000        1001  female        group E             master's degree   \n",
       "1001        1002    male        group C                 high school   \n",
       "1002        1003  female        group C                 high school   \n",
       "1003        1004  female        group D                     Diploma   \n",
       "1004        1005  female        group D                     Diploma   \n",
       "\n",
       "             lunch test preparation course  math score  reading score  \\\n",
       "0         standard                    none        72.0           72.0   \n",
       "1         standard               completed        69.0           90.0   \n",
       "2         standard                    none        90.0           95.0   \n",
       "3     free/reduced                    none        47.0           57.0   \n",
       "4         standard                    none        76.0           78.0   \n",
       "...            ...                     ...         ...            ...   \n",
       "1000      standard               completed        88.0           99.0   \n",
       "1001  free/reduced                    none        62.0           55.0   \n",
       "1002  free/reduced               completed        59.0           71.0   \n",
       "1003      standard               completed        68.0           78.0   \n",
       "1004  free/reduced                    none        77.0           86.0   \n",
       "\n",
       "      writing score  Total score  Percentage  \n",
       "0              74.0        218.0   72.666667  \n",
       "1              88.0        247.0   82.333333  \n",
       "2              93.0        278.0   92.666667  \n",
       "3              44.0        148.0   49.333333  \n",
       "4              75.0        229.0   76.333333  \n",
       "...             ...          ...         ...  \n",
       "1000           95.0        282.0   94.000000  \n",
       "1001           55.0        172.0   57.333333  \n",
       "1002           65.0        195.0   65.000000  \n",
       "1003           77.0        223.0   74.333333  \n",
       "1004           86.0        249.0   83.000000  \n",
       "\n",
       "[1005 rows x 11 columns]"
      ]
     },
     "execution_count": 70,
     "metadata": {},
     "output_type": "execute_result"
    }
   ],
   "source": [
    "# Create a new variable as 'percentage'\n",
    "sp['Percentage']=(sp['math score']+sp['writing score']+sp['reading score'])/300*(100)\n",
    "sp"
   ]
  },
  {
   "cell_type": "code",
   "execution_count": 71,
   "id": "3329ce50",
   "metadata": {},
   "outputs": [],
   "source": [
    "sp['status'] = sp.apply(lambda x : 'Fail' if x['math score'] == '<40%' or x['reading score'] == '<40%' or x['writing score'] == '<40%' else 'Pass', axis = 1)\n"
   ]
  },
  {
   "cell_type": "code",
   "execution_count": null,
   "id": "f14f1231",
   "metadata": {},
   "outputs": [],
   "source": []
  }
 ],
 "metadata": {
  "kernelspec": {
   "display_name": "Python 3 (ipykernel)",
   "language": "python",
   "name": "python3"
  },
  "language_info": {
   "codemirror_mode": {
    "name": "ipython",
    "version": 3
   },
   "file_extension": ".py",
   "mimetype": "text/x-python",
   "name": "python",
   "nbconvert_exporter": "python",
   "pygments_lexer": "ipython3",
   "version": "3.10.9"
  }
 },
 "nbformat": 4,
 "nbformat_minor": 5
}
