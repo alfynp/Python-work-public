{
 "cells": [
  {
   "cell_type": "markdown",
   "id": "97fc712b",
   "metadata": {},
   "source": [
    "# Sales Data"
   ]
  },
  {
   "cell_type": "code",
   "execution_count": 2,
   "id": "52f5aad7",
   "metadata": {},
   "outputs": [
    {
     "data": {
      "text/html": [
       "<div>\n",
       "<style scoped>\n",
       "    .dataframe tbody tr th:only-of-type {\n",
       "        vertical-align: middle;\n",
       "    }\n",
       "\n",
       "    .dataframe tbody tr th {\n",
       "        vertical-align: top;\n",
       "    }\n",
       "\n",
       "    .dataframe thead th {\n",
       "        text-align: right;\n",
       "    }\n",
       "</style>\n",
       "<table border=\"1\" class=\"dataframe\">\n",
       "  <thead>\n",
       "    <tr style=\"text-align: right;\">\n",
       "      <th></th>\n",
       "      <th>Invoice Number</th>\n",
       "      <th>Date</th>\n",
       "      <th>Time</th>\n",
       "      <th>Zone</th>\n",
       "      <th>Manager</th>\n",
       "      <th>Customer</th>\n",
       "      <th>Product</th>\n",
       "      <th>price</th>\n",
       "      <th>Units Sold</th>\n",
       "      <th>sales</th>\n",
       "    </tr>\n",
       "  </thead>\n",
       "  <tbody>\n",
       "    <tr>\n",
       "      <th>0</th>\n",
       "      <td>102234</td>\n",
       "      <td>2010-01-07</td>\n",
       "      <td>10:25:37.200000</td>\n",
       "      <td>East</td>\n",
       "      <td>Bruce</td>\n",
       "      <td>Polo</td>\n",
       "      <td>A001</td>\n",
       "      <td>485</td>\n",
       "      <td>42</td>\n",
       "      <td>20370</td>\n",
       "    </tr>\n",
       "    <tr>\n",
       "      <th>1</th>\n",
       "      <td>102235</td>\n",
       "      <td>2010-01-07</td>\n",
       "      <td>12:00:00</td>\n",
       "      <td>East</td>\n",
       "      <td>Jacob</td>\n",
       "      <td>EEE</td>\n",
       "      <td>B227</td>\n",
       "      <td>292</td>\n",
       "      <td>71</td>\n",
       "      <td>20732</td>\n",
       "    </tr>\n",
       "    <tr>\n",
       "      <th>2</th>\n",
       "      <td>102235</td>\n",
       "      <td>2010-01-07</td>\n",
       "      <td>14:19:12</td>\n",
       "      <td>East</td>\n",
       "      <td>Melvin</td>\n",
       "      <td>Marco</td>\n",
       "      <td>A009</td>\n",
       "      <td>544</td>\n",
       "      <td>87</td>\n",
       "      <td>47328</td>\n",
       "    </tr>\n",
       "    <tr>\n",
       "      <th>3</th>\n",
       "      <td>102236</td>\n",
       "      <td>2010-01-07</td>\n",
       "      <td>12:57:00</td>\n",
       "      <td>South</td>\n",
       "      <td>Alicia</td>\n",
       "      <td>EEE</td>\n",
       "      <td>D440</td>\n",
       "      <td>385</td>\n",
       "      <td>51</td>\n",
       "      <td>19635</td>\n",
       "    </tr>\n",
       "    <tr>\n",
       "      <th>4</th>\n",
       "      <td>102236</td>\n",
       "      <td>2010-01-07</td>\n",
       "      <td>14:51:36</td>\n",
       "      <td>East</td>\n",
       "      <td>Paul</td>\n",
       "      <td>Zee</td>\n",
       "      <td>WP6</td>\n",
       "      <td>173</td>\n",
       "      <td>69</td>\n",
       "      <td>11937</td>\n",
       "    </tr>\n",
       "    <tr>\n",
       "      <th>...</th>\n",
       "      <td>...</td>\n",
       "      <td>...</td>\n",
       "      <td>...</td>\n",
       "      <td>...</td>\n",
       "      <td>...</td>\n",
       "      <td>...</td>\n",
       "      <td>...</td>\n",
       "      <td>...</td>\n",
       "      <td>...</td>\n",
       "      <td>...</td>\n",
       "    </tr>\n",
       "    <tr>\n",
       "      <th>26078</th>\n",
       "      <td>115273</td>\n",
       "      <td>2018-12-10</td>\n",
       "      <td>11:16:48</td>\n",
       "      <td>West</td>\n",
       "      <td>Melvin</td>\n",
       "      <td>ABC</td>\n",
       "      <td>B229</td>\n",
       "      <td>388</td>\n",
       "      <td>202</td>\n",
       "      <td>78376</td>\n",
       "    </tr>\n",
       "    <tr>\n",
       "      <th>26079</th>\n",
       "      <td>115274</td>\n",
       "      <td>2018-12-10</td>\n",
       "      <td>11:16:48</td>\n",
       "      <td>West</td>\n",
       "      <td>Melvin</td>\n",
       "      <td>ABC</td>\n",
       "      <td>B229</td>\n",
       "      <td>388</td>\n",
       "      <td>201</td>\n",
       "      <td>77988</td>\n",
       "    </tr>\n",
       "    <tr>\n",
       "      <th>26080</th>\n",
       "      <td>115273</td>\n",
       "      <td>2019-12-10</td>\n",
       "      <td>11:16:48</td>\n",
       "      <td>West</td>\n",
       "      <td>Melvin</td>\n",
       "      <td>ABC</td>\n",
       "      <td>B229</td>\n",
       "      <td>388</td>\n",
       "      <td>500</td>\n",
       "      <td>194000</td>\n",
       "    </tr>\n",
       "    <tr>\n",
       "      <th>26081</th>\n",
       "      <td>115273</td>\n",
       "      <td>2019-12-10</td>\n",
       "      <td>11:16:48</td>\n",
       "      <td>West</td>\n",
       "      <td>Melvin</td>\n",
       "      <td>ABC</td>\n",
       "      <td>B229</td>\n",
       "      <td>388</td>\n",
       "      <td>1000</td>\n",
       "      <td>388000</td>\n",
       "    </tr>\n",
       "    <tr>\n",
       "      <th>26082</th>\n",
       "      <td>115274</td>\n",
       "      <td>2019-12-10</td>\n",
       "      <td>11:16:48</td>\n",
       "      <td>West</td>\n",
       "      <td>Melvin</td>\n",
       "      <td>ABC</td>\n",
       "      <td>B229</td>\n",
       "      <td>388</td>\n",
       "      <td>1500</td>\n",
       "      <td>582000</td>\n",
       "    </tr>\n",
       "  </tbody>\n",
       "</table>\n",
       "<p>26083 rows × 10 columns</p>\n",
       "</div>"
      ],
      "text/plain": [
       "       Invoice Number       Date             Time   Zone Manager Customer  \\\n",
       "0              102234 2010-01-07  10:25:37.200000   East   Bruce     Polo   \n",
       "1              102235 2010-01-07         12:00:00   East   Jacob      EEE   \n",
       "2              102235 2010-01-07         14:19:12   East  Melvin    Marco   \n",
       "3              102236 2010-01-07         12:57:00  South  Alicia      EEE   \n",
       "4              102236 2010-01-07         14:51:36   East    Paul      Zee   \n",
       "...               ...        ...              ...    ...     ...      ...   \n",
       "26078          115273 2018-12-10         11:16:48   West  Melvin      ABC   \n",
       "26079          115274 2018-12-10         11:16:48   West  Melvin      ABC   \n",
       "26080          115273 2019-12-10         11:16:48   West  Melvin      ABC   \n",
       "26081          115273 2019-12-10         11:16:48   West  Melvin      ABC   \n",
       "26082          115274 2019-12-10         11:16:48   West  Melvin      ABC   \n",
       "\n",
       "      Product   price  Units Sold   sales  \n",
       "0         A001    485          42   20370  \n",
       "1         B227    292          71   20732  \n",
       "2         A009    544          87   47328  \n",
       "3         D440    385          51   19635  \n",
       "4          WP6    173          69   11937  \n",
       "...        ...    ...         ...     ...  \n",
       "26078     B229    388         202   78376  \n",
       "26079     B229    388         201   77988  \n",
       "26080     B229    388         500  194000  \n",
       "26081     B229    388        1000  388000  \n",
       "26082     B229    388        1500  582000  \n",
       "\n",
       "[26083 rows x 10 columns]"
      ]
     },
     "execution_count": 2,
     "metadata": {},
     "output_type": "execute_result"
    }
   ],
   "source": [
    "import pandas as pd\n",
    "sales=pd.read_excel('sales data 02-05-2023.xlsx')\n",
    "sales"
   ]
  },
  {
   "cell_type": "code",
   "execution_count": 3,
   "id": "cc2981fd",
   "metadata": {},
   "outputs": [
    {
     "name": "stdout",
     "output_type": "stream",
     "text": [
      "<class 'pandas.core.frame.DataFrame'>\n",
      "RangeIndex: 26083 entries, 0 to 26082\n",
      "Data columns (total 10 columns):\n",
      " #   Column          Non-Null Count  Dtype         \n",
      "---  ------          --------------  -----         \n",
      " 0   Invoice Number  26083 non-null  int64         \n",
      " 1   Date            26083 non-null  datetime64[ns]\n",
      " 2   Time            26083 non-null  object        \n",
      " 3   Zone            26083 non-null  object        \n",
      " 4   Manager         26083 non-null  object        \n",
      " 5   Customer        26083 non-null  object        \n",
      " 6   Product         26083 non-null  object        \n",
      " 7   price           26083 non-null  int64         \n",
      " 8   Units Sold      26083 non-null  int64         \n",
      " 9   sales           26083 non-null  int64         \n",
      "dtypes: datetime64[ns](1), int64(4), object(5)\n",
      "memory usage: 2.0+ MB\n"
     ]
    }
   ],
   "source": [
    "sales.info()\n",
    "# there is no null values in the data."
   ]
  },
  {
   "cell_type": "code",
   "execution_count": 6,
   "id": "d300266c",
   "metadata": {},
   "outputs": [
    {
     "name": "stderr",
     "output_type": "stream",
     "text": [
      "C:\\Users\\ALAN PETER\\AppData\\Local\\Temp\\ipykernel_22952\\1787753732.py:1: FutureWarning: The default value of numeric_only in DataFrame.sum is deprecated. In a future version, it will default to False. In addition, specifying 'numeric_only=None' is deprecated. Select only valid columns or specify the value of numeric_only to silence this warning.\n",
      "  sales.sum()['sales']\n"
     ]
    },
    {
     "data": {
      "text/plain": [
       "1085806200"
      ]
     },
     "execution_count": 6,
     "metadata": {},
     "output_type": "execute_result"
    }
   ],
   "source": [
    "# Total sales\n",
    "sales.sum()['sales']"
   ]
  },
  {
   "cell_type": "code",
   "execution_count": 12,
   "id": "4a914b99",
   "metadata": {},
   "outputs": [
    {
     "name": "stderr",
     "output_type": "stream",
     "text": [
      "C:\\Users\\ALAN PETER\\AppData\\Local\\Temp\\ipykernel_22952\\274286979.py:2: FutureWarning: The default value of numeric_only in DataFrame.sum is deprecated. In a future version, it will default to False. In addition, specifying 'numeric_only=None' is deprecated. Select only valid columns or specify the value of numeric_only to silence this warning.\n",
      "  sales.sum()['Units Sold']\n"
     ]
    },
    {
     "data": {
      "text/plain": [
       "2961642"
      ]
     },
     "execution_count": 12,
     "metadata": {},
     "output_type": "execute_result"
    }
   ],
   "source": [
    "# Total number of products sold\n",
    "sales.sum()['Units Sold']"
   ]
  },
  {
   "cell_type": "code",
   "execution_count": 13,
   "id": "5f5cc65c",
   "metadata": {},
   "outputs": [
    {
     "data": {
      "text/plain": [
       "582000"
      ]
     },
     "execution_count": 13,
     "metadata": {},
     "output_type": "execute_result"
    }
   ],
   "source": [
    "# Maximum sales\n",
    "sales.max()['sales']"
   ]
  },
  {
   "cell_type": "code",
   "execution_count": 14,
   "id": "64a02b50",
   "metadata": {},
   "outputs": [
    {
     "data": {
      "text/plain": [
       "865"
      ]
     },
     "execution_count": 14,
     "metadata": {},
     "output_type": "execute_result"
    }
   ],
   "source": [
    "# Minimum sales\n",
    "sales.min()['sales']"
   ]
  },
  {
   "cell_type": "code",
   "execution_count": 16,
   "id": "81982842",
   "metadata": {},
   "outputs": [
    {
     "data": {
      "text/plain": [
       "581135"
      ]
     },
     "execution_count": 16,
     "metadata": {},
     "output_type": "execute_result"
    }
   ],
   "source": [
    "# Range of sales\n",
    "a=582000-865\n",
    "a"
   ]
  },
  {
   "cell_type": "code",
   "execution_count": 17,
   "id": "a30beadf",
   "metadata": {},
   "outputs": [
    {
     "name": "stderr",
     "output_type": "stream",
     "text": [
      "C:\\Users\\ALAN PETER\\AppData\\Local\\Temp\\ipykernel_22952\\3619967846.py:2: FutureWarning: The default value of numeric_only in DataFrame.std is deprecated. In a future version, it will default to False. In addition, specifying 'numeric_only=None' is deprecated. Select only valid columns or specify the value of numeric_only to silence this warning.\n",
      "  sales.std()['sales']\n"
     ]
    },
    {
     "data": {
      "text/plain": [
       "30413.734244059717"
      ]
     },
     "execution_count": 17,
     "metadata": {},
     "output_type": "execute_result"
    }
   ],
   "source": [
    "# standard deviation of sales\n",
    "sales.std()['sales']"
   ]
  },
  {
   "cell_type": "code",
   "execution_count": 27,
   "id": "61107a2c",
   "metadata": {},
   "outputs": [
    {
     "ename": "TypeError",
     "evalue": "'DataFrame' object is not callable",
     "output_type": "error",
     "traceback": [
      "\u001b[1;31m---------------------------------------------------------------------------\u001b[0m",
      "\u001b[1;31mTypeError\u001b[0m                                 Traceback (most recent call last)",
      "Cell \u001b[1;32mIn[27], line 2\u001b[0m\n\u001b[0;32m      1\u001b[0m \u001b[38;5;66;03m# Average sales by each zone\u001b[39;00m\n\u001b[1;32m----> 2\u001b[0m \u001b[43msales\u001b[49m\u001b[43m(\u001b[49m\u001b[43mby\u001b[49m\u001b[38;5;241;43m=\u001b[39;49m\u001b[38;5;124;43m\"\u001b[39;49m\u001b[38;5;124;43mzone\u001b[39;49m\u001b[38;5;124;43m\"\u001b[39;49m\u001b[43m)\u001b[49m[[\u001b[38;5;124m\"\u001b[39m\u001b[38;5;124msales\u001b[39m\u001b[38;5;124m\"\u001b[39m]]\u001b[38;5;241m.\u001b[39mmean()\n",
      "\u001b[1;31mTypeError\u001b[0m: 'DataFrame' object is not callable"
     ]
    }
   ],
   "source": [
    "# Average sales by each zone\n",
    "sales(by=\"zone\")[\"sales\"].mean()"
   ]
  },
  {
   "cell_type": "code",
   "execution_count": null,
   "id": "b1c3bd51",
   "metadata": {},
   "outputs": [],
   "source": []
  }
 ],
 "metadata": {
  "kernelspec": {
   "display_name": "Python 3 (ipykernel)",
   "language": "python",
   "name": "python3"
  },
  "language_info": {
   "codemirror_mode": {
    "name": "ipython",
    "version": 3
   },
   "file_extension": ".py",
   "mimetype": "text/x-python",
   "name": "python",
   "nbconvert_exporter": "python",
   "pygments_lexer": "ipython3",
   "version": "3.10.9"
  }
 },
 "nbformat": 4,
 "nbformat_minor": 5
}
