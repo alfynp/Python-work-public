{
 "cells": [
  {
   "cell_type": "markdown",
   "id": "d7a09aaa",
   "metadata": {},
   "source": [
    "# Inventory"
   ]
  },
  {
   "cell_type": "code",
   "execution_count": 56,
   "id": "4ca5cce7",
   "metadata": {},
   "outputs": [
    {
     "data": {
      "text/html": [
       "<div>\n",
       "<style scoped>\n",
       "    .dataframe tbody tr th:only-of-type {\n",
       "        vertical-align: middle;\n",
       "    }\n",
       "\n",
       "    .dataframe tbody tr th {\n",
       "        vertical-align: top;\n",
       "    }\n",
       "\n",
       "    .dataframe thead th {\n",
       "        text-align: right;\n",
       "    }\n",
       "</style>\n",
       "<table border=\"1\" class=\"dataframe\">\n",
       "  <thead>\n",
       "    <tr style=\"text-align: right;\">\n",
       "      <th></th>\n",
       "      <th>Product Name</th>\n",
       "      <th>Category</th>\n",
       "      <th>Quantity</th>\n",
       "      <th>Price</th>\n",
       "      <th>Amount of Products</th>\n",
       "      <th>Supplier</th>\n",
       "      <th>Order Date</th>\n",
       "    </tr>\n",
       "  </thead>\n",
       "  <tbody>\n",
       "    <tr>\n",
       "      <th>0</th>\n",
       "      <td>Enermax Note Cards, Premium</td>\n",
       "      <td>Office Supplies</td>\n",
       "      <td>3</td>\n",
       "      <td>45</td>\n",
       "      <td>135</td>\n",
       "      <td>Kathy Robinson</td>\n",
       "      <td>2011-01-01</td>\n",
       "    </tr>\n",
       "    <tr>\n",
       "      <th>1</th>\n",
       "      <td>Dania Corner Shelving, Traditional</td>\n",
       "      <td>Furniture</td>\n",
       "      <td>7</td>\n",
       "      <td>854</td>\n",
       "      <td>5978</td>\n",
       "      <td>Eric Hatchett</td>\n",
       "      <td>2011-01-03</td>\n",
       "    </tr>\n",
       "    <tr>\n",
       "      <th>2</th>\n",
       "      <td>Binney &amp; Smith Sketch Pad, Easy-Erase</td>\n",
       "      <td>Office Supplies</td>\n",
       "      <td>3</td>\n",
       "      <td>140</td>\n",
       "      <td>420</td>\n",
       "      <td>Ashley Upright</td>\n",
       "      <td>2011-01-04</td>\n",
       "    </tr>\n",
       "    <tr>\n",
       "      <th>3</th>\n",
       "      <td>Boston Markers, Easy-Erase</td>\n",
       "      <td>Office Supplies</td>\n",
       "      <td>2</td>\n",
       "      <td>27</td>\n",
       "      <td>54</td>\n",
       "      <td>Christopher Francis</td>\n",
       "      <td>2011-01-04</td>\n",
       "    </tr>\n",
       "    <tr>\n",
       "      <th>4</th>\n",
       "      <td>Eldon Folders, Single Width</td>\n",
       "      <td>Office Supplies</td>\n",
       "      <td>2</td>\n",
       "      <td>17</td>\n",
       "      <td>34</td>\n",
       "      <td>Gregory Williams</td>\n",
       "      <td>2011-01-04</td>\n",
       "    </tr>\n",
       "    <tr>\n",
       "      <th>...</th>\n",
       "      <td>...</td>\n",
       "      <td>...</td>\n",
       "      <td>...</td>\n",
       "      <td>...</td>\n",
       "      <td>...</td>\n",
       "      <td>...</td>\n",
       "      <td>...</td>\n",
       "    </tr>\n",
       "    <tr>\n",
       "      <th>8042</th>\n",
       "      <td>Ikea Stackable Bookrack, Traditional</td>\n",
       "      <td>Furniture</td>\n",
       "      <td>2</td>\n",
       "      <td>245</td>\n",
       "      <td>490</td>\n",
       "      <td>Josephine Lee</td>\n",
       "      <td>2014-12-31</td>\n",
       "    </tr>\n",
       "    <tr>\n",
       "      <th>8043</th>\n",
       "      <td>BIC Pencil Sharpener, Fluorescent</td>\n",
       "      <td>Office Supplies</td>\n",
       "      <td>2</td>\n",
       "      <td>30</td>\n",
       "      <td>60</td>\n",
       "      <td>Geri Holston</td>\n",
       "      <td>2014-12-31</td>\n",
       "    </tr>\n",
       "    <tr>\n",
       "      <th>8044</th>\n",
       "      <td>Avery Binder Covers, Recycled</td>\n",
       "      <td>Office Supplies</td>\n",
       "      <td>4</td>\n",
       "      <td>23</td>\n",
       "      <td>92</td>\n",
       "      <td>Oscar Williams</td>\n",
       "      <td>2014-12-31</td>\n",
       "    </tr>\n",
       "    <tr>\n",
       "      <th>8045</th>\n",
       "      <td>StarTech Phone, Red</td>\n",
       "      <td>Technology</td>\n",
       "      <td>3</td>\n",
       "      <td>108</td>\n",
       "      <td>324</td>\n",
       "      <td>John Crenshaw</td>\n",
       "      <td>2014-12-31</td>\n",
       "    </tr>\n",
       "    <tr>\n",
       "      <th>8046</th>\n",
       "      <td>Motorola Audio Dock, VoIP</td>\n",
       "      <td>Technology</td>\n",
       "      <td>5</td>\n",
       "      <td>867</td>\n",
       "      <td>4335</td>\n",
       "      <td>Leonard Angelo</td>\n",
       "      <td>2014-12-31</td>\n",
       "    </tr>\n",
       "  </tbody>\n",
       "</table>\n",
       "<p>8047 rows × 7 columns</p>\n",
       "</div>"
      ],
      "text/plain": [
       "                               Product Name         Category  Quantity  Price  \\\n",
       "0               Enermax Note Cards, Premium  Office Supplies         3     45   \n",
       "1        Dania Corner Shelving, Traditional        Furniture         7    854   \n",
       "2     Binney & Smith Sketch Pad, Easy-Erase  Office Supplies         3    140   \n",
       "3                Boston Markers, Easy-Erase  Office Supplies         2     27   \n",
       "4               Eldon Folders, Single Width  Office Supplies         2     17   \n",
       "...                                     ...              ...       ...    ...   \n",
       "8042   Ikea Stackable Bookrack, Traditional        Furniture         2    245   \n",
       "8043      BIC Pencil Sharpener, Fluorescent  Office Supplies         2     30   \n",
       "8044          Avery Binder Covers, Recycled  Office Supplies         4     23   \n",
       "8045                    StarTech Phone, Red       Technology         3    108   \n",
       "8046              Motorola Audio Dock, VoIP       Technology         5    867   \n",
       "\n",
       "      Amount of Products             Supplier Order Date  \n",
       "0                    135       Kathy Robinson 2011-01-01  \n",
       "1                   5978        Eric Hatchett 2011-01-03  \n",
       "2                    420       Ashley Upright 2011-01-04  \n",
       "3                     54  Christopher Francis 2011-01-04  \n",
       "4                     34     Gregory Williams 2011-01-04  \n",
       "...                  ...                  ...        ...  \n",
       "8042                 490        Josephine Lee 2014-12-31  \n",
       "8043                  60         Geri Holston 2014-12-31  \n",
       "8044                  92       Oscar Williams 2014-12-31  \n",
       "8045                 324        John Crenshaw 2014-12-31  \n",
       "8046                4335       Leonard Angelo 2014-12-31  \n",
       "\n",
       "[8047 rows x 7 columns]"
      ]
     },
     "execution_count": 56,
     "metadata": {},
     "output_type": "execute_result"
    }
   ],
   "source": [
    "import pandas as pd\n",
    "dt=pd.read_excel('Inventory (1).xlsx')\n",
    "dt"
   ]
  },
  {
   "cell_type": "code",
   "execution_count": 57,
   "id": "5b40620b",
   "metadata": {},
   "outputs": [
    {
     "name": "stdout",
     "output_type": "stream",
     "text": [
      "<class 'pandas.core.frame.DataFrame'>\n",
      "RangeIndex: 8047 entries, 0 to 8046\n",
      "Data columns (total 7 columns):\n",
      " #   Column              Non-Null Count  Dtype         \n",
      "---  ------              --------------  -----         \n",
      " 0   Product Name        8047 non-null   object        \n",
      " 1   Category            8047 non-null   object        \n",
      " 2   Quantity            8047 non-null   int64         \n",
      " 3   Price               8047 non-null   int64         \n",
      " 4   Amount of Products  8047 non-null   int64         \n",
      " 5   Supplier            8047 non-null   object        \n",
      " 6   Order Date          8047 non-null   datetime64[ns]\n",
      "dtypes: datetime64[ns](1), int64(3), object(3)\n",
      "memory usage: 440.2+ KB\n"
     ]
    }
   ],
   "source": [
    "dt.info()"
   ]
  },
  {
   "cell_type": "code",
   "execution_count": 58,
   "id": "8623d131",
   "metadata": {},
   "outputs": [
    {
     "name": "stderr",
     "output_type": "stream",
     "text": [
      "C:\\Users\\ALAN PETER\\AppData\\Local\\Temp\\ipykernel_65780\\1995518905.py:2: FutureWarning: The default value of numeric_only in DataFrame.sum is deprecated. In a future version, it will default to False. In addition, specifying 'numeric_only=None' is deprecated. Select only valid columns or specify the value of numeric_only to silence this warning.\n",
      "  dt.sum()['Quantity']\n"
     ]
    },
    {
     "data": {
      "text/plain": [
       "30354"
      ]
     },
     "execution_count": 58,
     "metadata": {},
     "output_type": "execute_result"
    }
   ],
   "source": [
    "# Total stock\n",
    "dt.sum()['Quantity']"
   ]
  },
  {
   "cell_type": "code",
   "execution_count": 59,
   "id": "14452687",
   "metadata": {},
   "outputs": [
    {
     "name": "stderr",
     "output_type": "stream",
     "text": [
      "C:\\Users\\ALAN PETER\\AppData\\Local\\Temp\\ipykernel_65780\\1770891386.py:2: FutureWarning: The default value of numeric_only in DataFrame.sum is deprecated. In a future version, it will default to False. In addition, specifying 'numeric_only=None' is deprecated. Select only valid columns or specify the value of numeric_only to silence this warning.\n",
      "  dt.sum()['Amount of Products']\n"
     ]
    },
    {
     "data": {
      "text/plain": [
       "11898983"
      ]
     },
     "execution_count": 59,
     "metadata": {},
     "output_type": "execute_result"
    }
   ],
   "source": [
    "# Total amount of stock\n",
    "dt.sum()['Amount of Products']"
   ]
  },
  {
   "cell_type": "code",
   "execution_count": 60,
   "id": "f55d294c",
   "metadata": {},
   "outputs": [
    {
     "data": {
      "text/plain": [
       "Office Supplies    5286\n",
       "Technology         1523\n",
       "Furniture          1238\n",
       "Name: Category, dtype: int64"
      ]
     },
     "execution_count": 60,
     "metadata": {},
     "output_type": "execute_result"
    }
   ],
   "source": [
    "# Number of Categories\n",
    "dt['Category'].value_counts()"
   ]
  },
  {
   "cell_type": "code",
   "execution_count": 61,
   "id": "b37f2c18",
   "metadata": {},
   "outputs": [
    {
     "data": {
      "text/plain": [
       "8047"
      ]
     },
     "execution_count": 61,
     "metadata": {},
     "output_type": "execute_result"
    }
   ],
   "source": [
    "# Number of Suppliers\n",
    "a=dt.count()['Supplier']\n",
    "a"
   ]
  },
  {
   "cell_type": "code",
   "execution_count": 62,
   "id": "afa89538",
   "metadata": {},
   "outputs": [
    {
     "data": {
      "text/plain": [
       "Category\n",
       "Furniture          1238\n",
       "Office Supplies    5286\n",
       "Technology         1523\n",
       "Name: Quantity, dtype: int64"
      ]
     },
     "execution_count": 62,
     "metadata": {},
     "output_type": "execute_result"
    }
   ],
   "source": [
    "# Number of Products in each category\n",
    "dt.groupby('Category').count()['Quantity']"
   ]
  },
  {
   "cell_type": "code",
   "execution_count": 63,
   "id": "b82991b9",
   "metadata": {},
   "outputs": [
    {
     "data": {
      "text/plain": [
       "Office Supplies    0.656891\n",
       "Technology         0.189263\n",
       "Furniture          0.153846\n",
       "Name: Category, dtype: float64"
      ]
     },
     "execution_count": 63,
     "metadata": {},
     "output_type": "execute_result"
    }
   ],
   "source": [
    "a=dt['Category'].value_counts(normalize=True)\n",
    "a"
   ]
  },
  {
   "cell_type": "code",
   "execution_count": 64,
   "id": "e7ead01f",
   "metadata": {},
   "outputs": [
    {
     "data": {
      "text/plain": [
       "<Axes: ylabel='Category'>"
      ]
     },
     "execution_count": 64,
     "metadata": {},
     "output_type": "execute_result"
    },
    {
     "data": {
      "image/png": "[encoded data removed]",
      "text/plain": [
       "<Figure size 640x480 with 1 Axes>"
      ]
     },
     "metadata": {},
     "output_type": "display_data"
    }
   ],
   "source": [
    "a.plot(kind='pie',autopct='%1.2f%%')"
   ]
  },
  {
   "cell_type": "code",
   "execution_count": 65,
   "id": "c6a73a11",
   "metadata": {},
   "outputs": [
    {
     "data": {
      "text/plain": [
       "['Kathy Robinson',\n",
       " 'Ashley Upright',\n",
       " 'Guillermo Plant',\n",
       " 'Josephine Lee',\n",
       " 'Leonard Angelo',\n",
       " 'Eric Hatchett']"
      ]
     },
     "execution_count": 65,
     "metadata": {},
     "output_type": "execute_result"
    }
   ],
   "source": [
    "list=['Kathy Robinson','Ashley Upright','Guillermo Plant','Josephine Lee','Leonard Angelo','Eric Hatchett']\n",
    "list"
   ]
  },
  {
   "cell_type": "code",
   "execution_count": 66,
   "id": "bc8de0e4",
   "metadata": {},
   "outputs": [
    {
     "data": {
      "text/plain": [
       "['Kathy Robinson',\n",
       " 'Ashley Upright',\n",
       " 'Josephine Lee',\n",
       " 'Leonard Angelo',\n",
       " 'Eric Hatchett']"
      ]
     },
     "execution_count": 66,
     "metadata": {},
     "output_type": "execute_result"
    }
   ],
   "source": [
    "list.remove('Guillermo Plant')\n",
    "list"
   ]
  },
  {
   "cell_type": "code",
   "execution_count": 67,
   "id": "5736b53f",
   "metadata": {},
   "outputs": [
    {
     "name": "stderr",
     "output_type": "stream",
     "text": [
      "C:\\Users\\ALAN PETER\\AppData\\Local\\Temp\\ipykernel_65780\\2979009657.py:1: FutureWarning: The default value of numeric_only in DataFrameGroupBy.sum is deprecated. In a future version, numeric_only will default to False. Either specify numeric_only or select only columns which should be valid for the function.\n",
      "  dt.groupby('Category').sum()['Quantity']\n"
     ]
    },
    {
     "data": {
      "text/plain": [
       "Category\n",
       "Furniture           4641\n",
       "Office Supplies    19902\n",
       "Technology          5811\n",
       "Name: Quantity, dtype: int64"
      ]
     },
     "execution_count": 67,
     "metadata": {},
     "output_type": "execute_result"
    }
   ],
   "source": [
    "dt.groupby('Category').sum()['Quantity']"
   ]
  },
  {
   "cell_type": "code",
   "execution_count": 68,
   "id": "9cc7617b",
   "metadata": {},
   "outputs": [
    {
     "data": {
      "text/plain": [
       "Category\n",
       "Furniture          1\n",
       "Office Supplies    1\n",
       "Technology         1\n",
       "Name: Quantity, dtype: int64"
      ]
     },
     "execution_count": 68,
     "metadata": {},
     "output_type": "execute_result"
    }
   ],
   "source": [
    "dt.groupby('Category').min()['Quantity']"
   ]
  },
  {
   "cell_type": "code",
   "execution_count": 69,
   "id": "6ae8eae2",
   "metadata": {},
   "outputs": [
    {
     "name": "stderr",
     "output_type": "stream",
     "text": [
      "C:\\Users\\ALAN PETER\\AppData\\Local\\Temp\\ipykernel_65780\\667630233.py:1: FutureWarning: The default value of numeric_only in DataFrameGroupBy.sum is deprecated. In a future version, numeric_only will default to False. Either specify numeric_only or select only columns which should be valid for the function.\n",
      "  dt.groupby('Supplier').sum()['Amount of Products']\n"
     ]
    },
    {
     "data": {
      "text/plain": [
       "Supplier\n",
       "Ada Pappas            1821\n",
       "Ada Stanley             10\n",
       "Alexandra Martino     5975\n",
       "Alvin Franks           360\n",
       "Amanda Cooper         8458\n",
       "                     ...  \n",
       "Thomas Grimm          4449\n",
       "Thomas Lucas         26696\n",
       "Thomas Mauer           908\n",
       "Thomas Watson         5285\n",
       "Timothy Cluff         5038\n",
       "Name: Amount of Products, Length: 416, dtype: int64"
      ]
     },
     "execution_count": 69,
     "metadata": {},
     "output_type": "execute_result"
    }
   ],
   "source": [
    "dt.groupby('Supplier').sum()['Amount of Products']"
   ]
  },
  {
   "cell_type": "code",
   "execution_count": null,
   "id": "bff93ff3",
   "metadata": {},
   "outputs": [],
   "source": []
  }
 ],
 "metadata": {
  "kernelspec": {
   "display_name": "Python 3 (ipykernel)",
   "language": "python",
   "name": "python3"
  },
  "language_info": {
   "codemirror_mode": {
    "name": "ipython",
    "version": 3
   },
   "file_extension": ".py",
   "mimetype": "text/x-python",
   "name": "python",
   "nbconvert_exporter": "python",
   "pygments_lexer": "ipython3",
   "version": "3.10.9"
  }
 },
 "nbformat": 4,
 "nbformat_minor": 5
}
