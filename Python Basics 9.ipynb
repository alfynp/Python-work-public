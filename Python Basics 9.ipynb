{
 "cells": [
  {
   "cell_type": "markdown",
   "id": "319723b6",
   "metadata": {},
   "source": [
    "## Addition"
   ]
  },
  {
   "cell_type": "markdown",
   "id": "e258cb2f",
   "metadata": {},
   "source": [
    "### To add 2 numbers"
   ]
  },
  {
   "cell_type": "markdown",
   "id": "243c0d9b",
   "metadata": {},
   "source": [
    "1st assign data into string"
   ]
  },
  {
   "cell_type": "markdown",
   "id": "64823846",
   "metadata": {},
   "source": [
    "input a number"
   ]
  },
  {
   "cell_type": "code",
   "execution_count": 1,
   "id": "5bcf0785",
   "metadata": {},
   "outputs": [
    {
     "data": {
      "text/plain": [
       "12"
      ]
     },
     "execution_count": 1,
     "metadata": {},
     "output_type": "execute_result"
    }
   ],
   "source": [
    "a = 2\n",
    "b = 10\n",
    "c = a+b\n",
    "c"
   ]
  },
  {
   "cell_type": "markdown",
   "id": "b238d1f8",
   "metadata": {},
   "source": [
    "### or"
   ]
  },
  {
   "cell_type": "code",
   "execution_count": 4,
   "id": "bb00ef26",
   "metadata": {},
   "outputs": [
    {
     "name": "stdout",
     "output_type": "stream",
     "text": [
      "First number:2\n"
     ]
    }
   ],
   "source": [
    "num1=input('First number:')"
   ]
  },
  {
   "cell_type": "code",
   "execution_count": 5,
   "id": "4c1cd260",
   "metadata": {},
   "outputs": [
    {
     "name": "stdout",
     "output_type": "stream",
     "text": [
      "\n",
      "Second number:10\n"
     ]
    }
   ],
   "source": [
    "#back slash is given to come to next line\n",
    "num2=input('\\nSecond number:')"
   ]
  },
  {
   "cell_type": "code",
   "execution_count": 6,
   "id": "5b41991f",
   "metadata": {},
   "outputs": [
    {
     "data": {
      "text/plain": [
       "12.0"
      ]
     },
     "execution_count": 6,
     "metadata": {},
     "output_type": "execute_result"
    }
   ],
   "source": [
    "#string converting to float\n",
    "sum=float(num1)+float(num2)\n",
    "sum"
   ]
  },
  {
   "cell_type": "code",
   "execution_count": 7,
   "id": "a25f6edf",
   "metadata": {},
   "outputs": [
    {
     "name": "stdout",
     "output_type": "stream",
     "text": [
      "the sum of 2 and 10 is 12.0\n"
     ]
    }
   ],
   "source": [
    "#to convert float into string format we give .format\n",
    "#here inside the curly brackets we give the index numbers of each code\n",
    "\n",
    "print('the sum of {0} and {1} is {2}'.format(num1,num2,sum))"
   ]
  },
  {
   "cell_type": "markdown",
   "id": "a5d2cd1e",
   "metadata": {},
   "source": [
    "## Substraction"
   ]
  },
  {
   "cell_type": "markdown",
   "id": "e9873e22",
   "metadata": {},
   "source": [
    "### To substract 2 numbers"
   ]
  },
  {
   "cell_type": "markdown",
   "id": "6d7d0b10",
   "metadata": {},
   "source": [
    "1st assign data into string"
   ]
  },
  {
   "cell_type": "markdown",
   "id": "1d10e320",
   "metadata": {},
   "source": [
    "input a number"
   ]
  },
  {
   "cell_type": "code",
   "execution_count": 8,
   "id": "333b66dc",
   "metadata": {},
   "outputs": [
    {
     "data": {
      "text/plain": [
       "8"
      ]
     },
     "execution_count": 8,
     "metadata": {},
     "output_type": "execute_result"
    }
   ],
   "source": [
    "a = 2\n",
    "b = 10\n",
    "c = b-a\n",
    "c"
   ]
  },
  {
   "cell_type": "markdown",
   "id": "5e668931",
   "metadata": {},
   "source": [
    "## or"
   ]
  },
  {
   "cell_type": "code",
   "execution_count": 9,
   "id": "e751c358",
   "metadata": {},
   "outputs": [
    {
     "name": "stdout",
     "output_type": "stream",
     "text": [
      "first number:10\n"
     ]
    }
   ],
   "source": [
    "num1 = input('first number:')"
   ]
  },
  {
   "cell_type": "code",
   "execution_count": 10,
   "id": "434486d9",
   "metadata": {},
   "outputs": [
    {
     "name": "stdout",
     "output_type": "stream",
     "text": [
      "\n",
      "Second number:2\n"
     ]
    }
   ],
   "source": [
    "#back slash is given to come to next line\n",
    "num2 = input('\\nSecond number:')"
   ]
  },
  {
   "cell_type": "code",
   "execution_count": 11,
   "id": "1c84d2b9",
   "metadata": {},
   "outputs": [
    {
     "data": {
      "text/plain": [
       "8.0"
      ]
     },
     "execution_count": 11,
     "metadata": {},
     "output_type": "execute_result"
    }
   ],
   "source": [
    "#string converting to float\n",
    "sub=float(num1)-float(num2)\n",
    "sub"
   ]
  },
  {
   "cell_type": "code",
   "execution_count": 12,
   "id": "ab722bac",
   "metadata": {},
   "outputs": [
    {
     "name": "stdout",
     "output_type": "stream",
     "text": [
      "the substracted value of 10 and 2 is 8.0\n"
     ]
    }
   ],
   "source": [
    "#to convert float into string format we give .format\n",
    "#here inside the curly brackets we give the index numbers of each code\n",
    "\n",
    "print('the substracted value of {0} and {1} is {2}'.format(num1,num2,sub))"
   ]
  },
  {
   "cell_type": "code",
   "execution_count": null,
   "id": "4e84ad80",
   "metadata": {},
   "outputs": [],
   "source": []
  }
 ],
 "metadata": {
  "kernelspec": {
   "display_name": "Python 3 (ipykernel)",
   "language": "python",
   "name": "python3"
  },
  "language_info": {
   "codemirror_mode": {
    "name": "ipython",
    "version": 3
   },
   "file_extension": ".py",
   "mimetype": "text/x-python",
   "name": "python",
   "nbconvert_exporter": "python",
   "pygments_lexer": "ipython3",
   "version": "3.10.9"
  }
 },
 "nbformat": 4,
 "nbformat_minor": 5
}
