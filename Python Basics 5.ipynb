{
 "cells": [
  {
   "cell_type": "markdown",
   "id": "94492926",
   "metadata": {},
   "source": [
    "# List"
   ]
  },
  {
   "cell_type": "code",
   "execution_count": 96,
   "id": "9707da2e",
   "metadata": {},
   "outputs": [],
   "source": [
    "List.clear()"
   ]
  },
  {
   "cell_type": "code",
   "execution_count": 97,
   "id": "ed5fc2af",
   "metadata": {},
   "outputs": [
    {
     "data": {
      "text/plain": [
       "['Book', 'Laptop', 'Phone', 'Battery', 'Wire']"
      ]
     },
     "execution_count": 97,
     "metadata": {},
     "output_type": "execute_result"
    }
   ],
   "source": [
    "List=['Book','Laptop','Phone','Battery','Wire']\n",
    "List"
   ]
  },
  {
   "cell_type": "code",
   "execution_count": 98,
   "id": "2a5b002a",
   "metadata": {},
   "outputs": [
    {
     "data": {
      "text/plain": [
       "'Wire'"
      ]
     },
     "execution_count": 98,
     "metadata": {},
     "output_type": "execute_result"
    }
   ],
   "source": [
    "List[4]"
   ]
  },
  {
   "cell_type": "code",
   "execution_count": 99,
   "id": "4cf5a46f",
   "metadata": {},
   "outputs": [
    {
     "data": {
      "text/plain": [
       "['Battery', 'Wire']"
      ]
     },
     "execution_count": 99,
     "metadata": {},
     "output_type": "execute_result"
    }
   ],
   "source": [
    "List[3:5]"
   ]
  },
  {
   "cell_type": "code",
   "execution_count": 100,
   "id": "54b1a0d9",
   "metadata": {},
   "outputs": [
    {
     "data": {
      "text/plain": [
       "['Book', 'Laptop', 'Phone', 'Battery', 'Wire', 'charger']"
      ]
     },
     "execution_count": 100,
     "metadata": {},
     "output_type": "execute_result"
    }
   ],
   "source": [
    "List.append('charger')\n",
    "List"
   ]
  },
  {
   "cell_type": "code",
   "execution_count": 101,
   "id": "4e124bad",
   "metadata": {},
   "outputs": [
    {
     "data": {
      "text/plain": [
       "['Book', 'Laptop', 'Pen', 'Phone', 'Battery', 'Wire', 'charger']"
      ]
     },
     "execution_count": 101,
     "metadata": {},
     "output_type": "execute_result"
    }
   ],
   "source": [
    "List.insert(2,'Pen')\n",
    "List"
   ]
  },
  {
   "cell_type": "code",
   "execution_count": 102,
   "id": "8e59c94e",
   "metadata": {},
   "outputs": [
    {
     "data": {
      "text/plain": [
       "['Book', 'Laptop', 'Pen', 'Phone', 'Battery', 'Wire', 'charger']"
      ]
     },
     "execution_count": 102,
     "metadata": {},
     "output_type": "execute_result"
    }
   ],
   "source": [
    "List.copy()\n",
    "List"
   ]
  },
  {
   "cell_type": "code",
   "execution_count": 103,
   "id": "07d9bdd3",
   "metadata": {},
   "outputs": [
    {
     "data": {
      "text/plain": [
       "(1000, 20)"
      ]
     },
     "execution_count": 103,
     "metadata": {},
     "output_type": "execute_result"
    }
   ],
   "source": [
    "List2=(1000,20)\n",
    "List2"
   ]
  },
  {
   "cell_type": "code",
   "execution_count": 104,
   "id": "6d671a95",
   "metadata": {},
   "outputs": [
    {
     "data": {
      "text/plain": [
       "['Book', 'Laptop', 'Pen', 'Phone', 'Battery', 'Wire', 'charger', 1000, 20]"
      ]
     },
     "execution_count": 104,
     "metadata": {},
     "output_type": "execute_result"
    }
   ],
   "source": [
    "List.extend(List2)\n",
    "List"
   ]
  },
  {
   "cell_type": "code",
   "execution_count": 105,
   "id": "8abc715b",
   "metadata": {},
   "outputs": [
    {
     "data": {
      "text/plain": [
       "['Book',\n",
       " 'Laptop',\n",
       " 'Pen',\n",
       " 'Phone',\n",
       " 'Battery',\n",
       " 'Wire',\n",
       " 'charger',\n",
       " 1000,\n",
       " 20,\n",
       " 'Book',\n",
       " 'Laptop',\n",
       " 'Pen',\n",
       " 'Phone',\n",
       " 'Battery',\n",
       " 'Wire',\n",
       " 'charger',\n",
       " 1000,\n",
       " 20]"
      ]
     },
     "execution_count": 105,
     "metadata": {},
     "output_type": "execute_result"
    }
   ],
   "source": [
    "List.extend(List)\n",
    "List"
   ]
  },
  {
   "cell_type": "code",
   "execution_count": 106,
   "id": "a92513f1",
   "metadata": {},
   "outputs": [
    {
     "data": {
      "text/plain": [
       "20"
      ]
     },
     "execution_count": 106,
     "metadata": {},
     "output_type": "execute_result"
    }
   ],
   "source": [
    "List.pop()"
   ]
  },
  {
   "cell_type": "code",
   "execution_count": 107,
   "id": "7b385307",
   "metadata": {},
   "outputs": [
    {
     "data": {
      "text/plain": [
       "['Book',\n",
       " 'Laptop',\n",
       " 'Pen',\n",
       " 'Phone',\n",
       " 'Battery',\n",
       " 'Wire',\n",
       " 'charger',\n",
       " 20,\n",
       " 'Book',\n",
       " 'Laptop',\n",
       " 'Pen',\n",
       " 'Phone',\n",
       " 'Battery',\n",
       " 'Wire',\n",
       " 'charger',\n",
       " 1000]"
      ]
     },
     "execution_count": 107,
     "metadata": {},
     "output_type": "execute_result"
    }
   ],
   "source": [
    "List.remove(1000)\n",
    "List"
   ]
  },
  {
   "cell_type": "code",
   "execution_count": 110,
   "id": "632bbbc8",
   "metadata": {},
   "outputs": [
    {
     "data": {
      "text/plain": [
       "['Battery',\n",
       " 'Battery',\n",
       " 'Book',\n",
       " 'Book',\n",
       " 'Laptop',\n",
       " 'Laptop',\n",
       " 'Pen',\n",
       " 'Phone',\n",
       " 'Phone',\n",
       " 'Wire',\n",
       " 'Wire',\n",
       " 'charger',\n",
       " 'charger',\n",
       " 1000]"
      ]
     },
     "execution_count": 110,
     "metadata": {},
     "output_type": "execute_result"
    }
   ],
   "source": [
    "List.pop(7)\n",
    "List"
   ]
  },
  {
   "cell_type": "code",
   "execution_count": 109,
   "id": "0fd894d0",
   "metadata": {},
   "outputs": [
    {
     "ename": "TypeError",
     "evalue": "'<' not supported between instances of 'int' and 'str'",
     "output_type": "error",
     "traceback": [
      "\u001b[1;31m---------------------------------------------------------------------------\u001b[0m",
      "\u001b[1;31mTypeError\u001b[0m                                 Traceback (most recent call last)",
      "Cell \u001b[1;32mIn[109], line 1\u001b[0m\n\u001b[1;32m----> 1\u001b[0m \u001b[43mList\u001b[49m\u001b[38;5;241;43m.\u001b[39;49m\u001b[43msort\u001b[49m\u001b[43m(\u001b[49m\u001b[43m)\u001b[49m\n\u001b[0;32m      2\u001b[0m List\n",
      "\u001b[1;31mTypeError\u001b[0m: '<' not supported between instances of 'int' and 'str'"
     ]
    }
   ],
   "source": [
    "List.sort()\n",
    "List"
   ]
  },
  {
   "cell_type": "code",
   "execution_count": 111,
   "id": "f77e04bc",
   "metadata": {},
   "outputs": [
    {
     "data": {
      "text/plain": [
       "[0, 4, 8, 10, 15]"
      ]
     },
     "execution_count": 111,
     "metadata": {},
     "output_type": "execute_result"
    }
   ],
   "source": [
    "List3=[0,10,15,8,4]\n",
    "List3.sort()\n",
    "List3"
   ]
  },
  {
   "cell_type": "code",
   "execution_count": 112,
   "id": "c6fc5a0c",
   "metadata": {},
   "outputs": [
    {
     "data": {
      "text/plain": [
       "[15, 10, 8, 4, 0]"
      ]
     },
     "execution_count": 112,
     "metadata": {},
     "output_type": "execute_result"
    }
   ],
   "source": [
    "List3.reverse()\n",
    "List3"
   ]
  },
  {
   "cell_type": "code",
   "execution_count": 113,
   "id": "1fcc7464",
   "metadata": {},
   "outputs": [
    {
     "data": {
      "text/plain": [
       "[1000,\n",
       " 'charger',\n",
       " 'charger',\n",
       " 'Wire',\n",
       " 'Wire',\n",
       " 'Phone',\n",
       " 'Phone',\n",
       " 'Pen',\n",
       " 'Laptop',\n",
       " 'Laptop',\n",
       " 'Book',\n",
       " 'Book',\n",
       " 'Battery',\n",
       " 'Battery']"
      ]
     },
     "execution_count": 113,
     "metadata": {},
     "output_type": "execute_result"
    }
   ],
   "source": [
    "List.reverse()\n",
    "List"
   ]
  },
  {
   "cell_type": "code",
   "execution_count": 114,
   "id": "b780baf1",
   "metadata": {},
   "outputs": [
    {
     "data": {
      "text/plain": [
       "[]"
      ]
     },
     "execution_count": 114,
     "metadata": {},
     "output_type": "execute_result"
    }
   ],
   "source": [
    "List.clear()\n",
    "List"
   ]
  },
  {
   "cell_type": "code",
   "execution_count": 115,
   "id": "431a98c3",
   "metadata": {},
   "outputs": [
    {
     "data": {
      "text/plain": [
       "[]"
      ]
     },
     "execution_count": 115,
     "metadata": {},
     "output_type": "execute_result"
    }
   ],
   "source": [
    "List.copy()\n",
    "List"
   ]
  },
  {
   "cell_type": "markdown",
   "id": "93689d59",
   "metadata": {},
   "source": [
    "# Tuples"
   ]
  },
  {
   "cell_type": "markdown",
   "id": "a8856f01",
   "metadata": {},
   "source": [
    "Collection which is unchangeable or immutable"
   ]
  },
  {
   "cell_type": "markdown",
   "id": "6b69f470",
   "metadata": {},
   "source": [
    "To declare a tuple we use the round brackets"
   ]
  },
  {
   "cell_type": "code",
   "execution_count": 119,
   "id": "15bec720",
   "metadata": {},
   "outputs": [
    {
     "data": {
      "text/plain": [
       "7"
      ]
     },
     "execution_count": 119,
     "metadata": {},
     "output_type": "execute_result"
    }
   ],
   "source": [
    "tuple=(10,20,10,30,20,40,30,50,30)\n",
    "# to count the number of elements\n",
    "tuple.count(10)\n",
    "tuple.count(30)\n",
    "\n",
    "# to find the index\n",
    "tuple.index(50)"
   ]
  }
 ],
 "metadata": {
  "kernelspec": {
   "display_name": "Python 3 (ipykernel)",
   "language": "python",
   "name": "python3"
  },
  "language_info": {
   "codemirror_mode": {
    "name": "ipython",
    "version": 3
   },
   "file_extension": ".py",
   "mimetype": "text/x-python",
   "name": "python",
   "nbconvert_exporter": "python",
   "pygments_lexer": "ipython3",
   "version": "3.10.9"
  }
 },
 "nbformat": 4,
 "nbformat_minor": 5
}
