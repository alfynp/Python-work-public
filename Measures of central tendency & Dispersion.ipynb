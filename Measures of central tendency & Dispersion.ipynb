{
 "cells": [
  {
   "cell_type": "code",
   "execution_count": 6,
   "id": "01b50c78",
   "metadata": {},
   "outputs": [],
   "source": [
    "#Descriptive Statistics\n",
    "#In measures of central tendancy \n",
    "#Mean, Median & Mode"
   ]
  },
  {
   "cell_type": "markdown",
   "id": "5b473205",
   "metadata": {},
   "source": [
    "# Measures of Central Tendancy"
   ]
  },
  {
   "cell_type": "code",
   "execution_count": 7,
   "id": "9f3e8b00",
   "metadata": {},
   "outputs": [
    {
     "data": {
      "text/html": [
       "<div>\n",
       "<style scoped>\n",
       "    .dataframe tbody tr th:only-of-type {\n",
       "        vertical-align: middle;\n",
       "    }\n",
       "\n",
       "    .dataframe tbody tr th {\n",
       "        vertical-align: top;\n",
       "    }\n",
       "\n",
       "    .dataframe thead th {\n",
       "        text-align: right;\n",
       "    }\n",
       "</style>\n",
       "<table border=\"1\" class=\"dataframe\">\n",
       "  <thead>\n",
       "    <tr style=\"text-align: right;\">\n",
       "      <th></th>\n",
       "      <th>Example 1</th>\n",
       "      <th>Example 2</th>\n",
       "      <th>Example 3</th>\n",
       "      <th>Example 4</th>\n",
       "      <th>Example 5</th>\n",
       "      <th>Example 6</th>\n",
       "      <th>Example 7</th>\n",
       "      <th>Example 8</th>\n",
       "      <th>Unnamed: 8</th>\n",
       "      <th>Unnamed: 9</th>\n",
       "      <th>Unnamed: 10</th>\n",
       "      <th>Unnamed: 11</th>\n",
       "      <th>Unnamed: 12</th>\n",
       "      <th>Unnamed: 13</th>\n",
       "      <th>Unnamed: 14</th>\n",
       "      <th>Unnamed: 15</th>\n",
       "      <th>Unnamed: 16</th>\n",
       "      <th>Unnamed: 17</th>\n",
       "    </tr>\n",
       "  </thead>\n",
       "  <tbody>\n",
       "    <tr>\n",
       "      <th>0</th>\n",
       "      <td>1.0</td>\n",
       "      <td>1.0</td>\n",
       "      <td>1.0</td>\n",
       "      <td>1.0</td>\n",
       "      <td>1</td>\n",
       "      <td>1.0</td>\n",
       "      <td>2.0</td>\n",
       "      <td>2.0</td>\n",
       "      <td>NaN</td>\n",
       "      <td>NaN</td>\n",
       "      <td>Measures of Central Tendancy &amp;Measures of  Di...</td>\n",
       "      <td>NaN</td>\n",
       "      <td>NaN</td>\n",
       "      <td>NaN</td>\n",
       "      <td>NaN</td>\n",
       "      <td>NaN</td>\n",
       "      <td>NaN</td>\n",
       "      <td>NaN</td>\n",
       "    </tr>\n",
       "    <tr>\n",
       "      <th>1</th>\n",
       "      <td>1.0</td>\n",
       "      <td>1.0</td>\n",
       "      <td>1.0</td>\n",
       "      <td>2.0</td>\n",
       "      <td>2</td>\n",
       "      <td>1.0</td>\n",
       "      <td>2.0</td>\n",
       "      <td>2.0</td>\n",
       "      <td>NaN</td>\n",
       "      <td>NaN</td>\n",
       "      <td>Example 1</td>\n",
       "      <td>Example 2</td>\n",
       "      <td>Example 3</td>\n",
       "      <td>Example 4</td>\n",
       "      <td>Example 5</td>\n",
       "      <td>Example 6</td>\n",
       "      <td>Example 7</td>\n",
       "      <td>Example 8</td>\n",
       "    </tr>\n",
       "    <tr>\n",
       "      <th>2</th>\n",
       "      <td>2.0</td>\n",
       "      <td>2.0</td>\n",
       "      <td>2.0</td>\n",
       "      <td>2.0</td>\n",
       "      <td>2</td>\n",
       "      <td>2.0</td>\n",
       "      <td>2.0</td>\n",
       "      <td>2.0</td>\n",
       "      <td>NaN</td>\n",
       "      <td>Mean</td>\n",
       "      <td>3.2</td>\n",
       "      <td>12</td>\n",
       "      <td>20.333333</td>\n",
       "      <td>26.923077</td>\n",
       "      <td>382.142857</td>\n",
       "      <td>2</td>\n",
       "      <td>2</td>\n",
       "      <td>1668.333333</td>\n",
       "    </tr>\n",
       "    <tr>\n",
       "      <th>3</th>\n",
       "      <td>2.0</td>\n",
       "      <td>2.0</td>\n",
       "      <td>2.0</td>\n",
       "      <td>3.0</td>\n",
       "      <td>3</td>\n",
       "      <td>2.0</td>\n",
       "      <td>2.0</td>\n",
       "      <td>2.0</td>\n",
       "      <td>NaN</td>\n",
       "      <td>Median</td>\n",
       "      <td>3</td>\n",
       "      <td>3</td>\n",
       "      <td>3.5</td>\n",
       "      <td>6</td>\n",
       "      <td>6</td>\n",
       "      <td>2</td>\n",
       "      <td>2</td>\n",
       "      <td>2</td>\n",
       "    </tr>\n",
       "    <tr>\n",
       "      <th>4</th>\n",
       "      <td>3.0</td>\n",
       "      <td>3.0</td>\n",
       "      <td>3.0</td>\n",
       "      <td>4.0</td>\n",
       "      <td>4</td>\n",
       "      <td>4.0</td>\n",
       "      <td>2.0</td>\n",
       "      <td>2.0</td>\n",
       "      <td>NaN</td>\n",
       "      <td>Mode</td>\n",
       "      <td>1</td>\n",
       "      <td>1</td>\n",
       "      <td>1</td>\n",
       "      <td>6</td>\n",
       "      <td>6</td>\n",
       "      <td>1</td>\n",
       "      <td>2</td>\n",
       "      <td>2</td>\n",
       "    </tr>\n",
       "    <tr>\n",
       "      <th>5</th>\n",
       "      <td>3.0</td>\n",
       "      <td>3.0</td>\n",
       "      <td>3.0</td>\n",
       "      <td>5.0</td>\n",
       "      <td>5</td>\n",
       "      <td>NaN</td>\n",
       "      <td>NaN</td>\n",
       "      <td>10000.0</td>\n",
       "      <td>NaN</td>\n",
       "      <td>Variance</td>\n",
       "      <td>3.066667</td>\n",
       "      <td>854.6</td>\n",
       "      <td>1610.242424</td>\n",
       "      <td>3404.74359</td>\n",
       "      <td>1769678.131868</td>\n",
       "      <td>1.5</td>\n",
       "      <td>0</td>\n",
       "      <td>16660000.666667</td>\n",
       "    </tr>\n",
       "    <tr>\n",
       "      <th>6</th>\n",
       "      <td>4.0</td>\n",
       "      <td>4.0</td>\n",
       "      <td>4.0</td>\n",
       "      <td>6.0</td>\n",
       "      <td>6</td>\n",
       "      <td>NaN</td>\n",
       "      <td>NaN</td>\n",
       "      <td>NaN</td>\n",
       "      <td>NaN</td>\n",
       "      <td>Stdev</td>\n",
       "      <td>1.75119</td>\n",
       "      <td>29.233542</td>\n",
       "      <td>40.127826</td>\n",
       "      <td>58.350181</td>\n",
       "      <td>1330.292499</td>\n",
       "      <td>1.224745</td>\n",
       "      <td>0</td>\n",
       "      <td>4081.666408</td>\n",
       "    </tr>\n",
       "    <tr>\n",
       "      <th>7</th>\n",
       "      <td>5.0</td>\n",
       "      <td>5.0</td>\n",
       "      <td>5.0</td>\n",
       "      <td>6.0</td>\n",
       "      <td>6</td>\n",
       "      <td>NaN</td>\n",
       "      <td>NaN</td>\n",
       "      <td>NaN</td>\n",
       "      <td>NaN</td>\n",
       "      <td>NaN</td>\n",
       "      <td>NaN</td>\n",
       "      <td>NaN</td>\n",
       "      <td>NaN</td>\n",
       "      <td>NaN</td>\n",
       "      <td>NaN</td>\n",
       "      <td>NaN</td>\n",
       "      <td>NaN</td>\n",
       "      <td>NaN</td>\n",
       "    </tr>\n",
       "    <tr>\n",
       "      <th>8</th>\n",
       "      <td>5.0</td>\n",
       "      <td>5.0</td>\n",
       "      <td>5.0</td>\n",
       "      <td>6.0</td>\n",
       "      <td>6</td>\n",
       "      <td>NaN</td>\n",
       "      <td>NaN</td>\n",
       "      <td>NaN</td>\n",
       "      <td>NaN</td>\n",
       "      <td>NaN</td>\n",
       "      <td>NaN</td>\n",
       "      <td>NaN</td>\n",
       "      <td>NaN</td>\n",
       "      <td>NaN</td>\n",
       "      <td>NaN</td>\n",
       "      <td>NaN</td>\n",
       "      <td>NaN</td>\n",
       "      <td>NaN</td>\n",
       "    </tr>\n",
       "    <tr>\n",
       "      <th>9</th>\n",
       "      <td>6.0</td>\n",
       "      <td>6.0</td>\n",
       "      <td>6.0</td>\n",
       "      <td>7.0</td>\n",
       "      <td>7</td>\n",
       "      <td>NaN</td>\n",
       "      <td>NaN</td>\n",
       "      <td>NaN</td>\n",
       "      <td>NaN</td>\n",
       "      <td>NaN</td>\n",
       "      <td>NaN</td>\n",
       "      <td>NaN</td>\n",
       "      <td>NaN</td>\n",
       "      <td>NaN</td>\n",
       "      <td>NaN</td>\n",
       "      <td>NaN</td>\n",
       "      <td>NaN</td>\n",
       "      <td>NaN</td>\n",
       "    </tr>\n",
       "    <tr>\n",
       "      <th>10</th>\n",
       "      <td>NaN</td>\n",
       "      <td>100.0</td>\n",
       "      <td>100.0</td>\n",
       "      <td>8.0</td>\n",
       "      <td>8</td>\n",
       "      <td>NaN</td>\n",
       "      <td>NaN</td>\n",
       "      <td>NaN</td>\n",
       "      <td>NaN</td>\n",
       "      <td>NaN</td>\n",
       "      <td>NaN</td>\n",
       "      <td>NaN</td>\n",
       "      <td>NaN</td>\n",
       "      <td>NaN</td>\n",
       "      <td>NaN</td>\n",
       "      <td>NaN</td>\n",
       "      <td>NaN</td>\n",
       "      <td>NaN</td>\n",
       "    </tr>\n",
       "    <tr>\n",
       "      <th>11</th>\n",
       "      <td>NaN</td>\n",
       "      <td>NaN</td>\n",
       "      <td>112.0</td>\n",
       "      <td>100.0</td>\n",
       "      <td>100</td>\n",
       "      <td>NaN</td>\n",
       "      <td>NaN</td>\n",
       "      <td>NaN</td>\n",
       "      <td>NaN</td>\n",
       "      <td>NaN</td>\n",
       "      <td>NaN</td>\n",
       "      <td>NaN</td>\n",
       "      <td>NaN</td>\n",
       "      <td>NaN</td>\n",
       "      <td>NaN</td>\n",
       "      <td>NaN</td>\n",
       "      <td>NaN</td>\n",
       "      <td>NaN</td>\n",
       "    </tr>\n",
       "    <tr>\n",
       "      <th>12</th>\n",
       "      <td>NaN</td>\n",
       "      <td>NaN</td>\n",
       "      <td>NaN</td>\n",
       "      <td>200.0</td>\n",
       "      <td>200</td>\n",
       "      <td>NaN</td>\n",
       "      <td>NaN</td>\n",
       "      <td>NaN</td>\n",
       "      <td>NaN</td>\n",
       "      <td>NaN</td>\n",
       "      <td>NaN</td>\n",
       "      <td>NaN</td>\n",
       "      <td>NaN</td>\n",
       "      <td>NaN</td>\n",
       "      <td>NaN</td>\n",
       "      <td>NaN</td>\n",
       "      <td>NaN</td>\n",
       "      <td>NaN</td>\n",
       "    </tr>\n",
       "    <tr>\n",
       "      <th>13</th>\n",
       "      <td>NaN</td>\n",
       "      <td>NaN</td>\n",
       "      <td>NaN</td>\n",
       "      <td>NaN</td>\n",
       "      <td>5000</td>\n",
       "      <td>NaN</td>\n",
       "      <td>NaN</td>\n",
       "      <td>NaN</td>\n",
       "      <td>NaN</td>\n",
       "      <td>NaN</td>\n",
       "      <td>NaN</td>\n",
       "      <td>NaN</td>\n",
       "      <td>NaN</td>\n",
       "      <td>NaN</td>\n",
       "      <td>NaN</td>\n",
       "      <td>NaN</td>\n",
       "      <td>NaN</td>\n",
       "      <td>NaN</td>\n",
       "    </tr>\n",
       "  </tbody>\n",
       "</table>\n",
       "</div>"
      ],
      "text/plain": [
       "    Example 1  Example 2  Example 3  Example 4  Example 5  Example 6  \\\n",
       "0         1.0        1.0        1.0        1.0          1        1.0   \n",
       "1         1.0        1.0        1.0        2.0          2        1.0   \n",
       "2         2.0        2.0        2.0        2.0          2        2.0   \n",
       "3         2.0        2.0        2.0        3.0          3        2.0   \n",
       "4         3.0        3.0        3.0        4.0          4        4.0   \n",
       "5         3.0        3.0        3.0        5.0          5        NaN   \n",
       "6         4.0        4.0        4.0        6.0          6        NaN   \n",
       "7         5.0        5.0        5.0        6.0          6        NaN   \n",
       "8         5.0        5.0        5.0        6.0          6        NaN   \n",
       "9         6.0        6.0        6.0        7.0          7        NaN   \n",
       "10        NaN      100.0      100.0        8.0          8        NaN   \n",
       "11        NaN        NaN      112.0      100.0        100        NaN   \n",
       "12        NaN        NaN        NaN      200.0        200        NaN   \n",
       "13        NaN        NaN        NaN        NaN       5000        NaN   \n",
       "\n",
       "    Example 7  Example 8  Unnamed: 8 Unnamed: 9  \\\n",
       "0         2.0        2.0         NaN        NaN   \n",
       "1         2.0        2.0         NaN        NaN   \n",
       "2         2.0        2.0         NaN       Mean   \n",
       "3         2.0        2.0         NaN     Median   \n",
       "4         2.0        2.0         NaN       Mode   \n",
       "5         NaN    10000.0         NaN   Variance   \n",
       "6         NaN        NaN         NaN      Stdev   \n",
       "7         NaN        NaN         NaN        NaN   \n",
       "8         NaN        NaN         NaN        NaN   \n",
       "9         NaN        NaN         NaN        NaN   \n",
       "10        NaN        NaN         NaN        NaN   \n",
       "11        NaN        NaN         NaN        NaN   \n",
       "12        NaN        NaN         NaN        NaN   \n",
       "13        NaN        NaN         NaN        NaN   \n",
       "\n",
       "                                          Unnamed: 10 Unnamed: 11  \\\n",
       "0    Measures of Central Tendancy &Measures of  Di...         NaN   \n",
       "1                                           Example 1   Example 2   \n",
       "2                                                 3.2          12   \n",
       "3                                                   3           3   \n",
       "4                                                   1           1   \n",
       "5                                            3.066667       854.6   \n",
       "6                                             1.75119   29.233542   \n",
       "7                                                 NaN         NaN   \n",
       "8                                                 NaN         NaN   \n",
       "9                                                 NaN         NaN   \n",
       "10                                                NaN         NaN   \n",
       "11                                                NaN         NaN   \n",
       "12                                                NaN         NaN   \n",
       "13                                                NaN         NaN   \n",
       "\n",
       "    Unnamed: 12 Unnamed: 13     Unnamed: 14 Unnamed: 15 Unnamed: 16  \\\n",
       "0           NaN         NaN             NaN         NaN         NaN   \n",
       "1     Example 3   Example 4       Example 5   Example 6   Example 7   \n",
       "2     20.333333   26.923077      382.142857           2           2   \n",
       "3           3.5           6               6           2           2   \n",
       "4             1           6               6           1           2   \n",
       "5   1610.242424  3404.74359  1769678.131868         1.5           0   \n",
       "6     40.127826   58.350181     1330.292499    1.224745           0   \n",
       "7           NaN         NaN             NaN         NaN         NaN   \n",
       "8           NaN         NaN             NaN         NaN         NaN   \n",
       "9           NaN         NaN             NaN         NaN         NaN   \n",
       "10          NaN         NaN             NaN         NaN         NaN   \n",
       "11          NaN         NaN             NaN         NaN         NaN   \n",
       "12          NaN         NaN             NaN         NaN         NaN   \n",
       "13          NaN         NaN             NaN         NaN         NaN   \n",
       "\n",
       "        Unnamed: 17  \n",
       "0               NaN  \n",
       "1         Example 8  \n",
       "2       1668.333333  \n",
       "3                 2  \n",
       "4                 2  \n",
       "5   16660000.666667  \n",
       "6       4081.666408  \n",
       "7               NaN  \n",
       "8               NaN  \n",
       "9               NaN  \n",
       "10              NaN  \n",
       "11              NaN  \n",
       "12              NaN  \n",
       "13              NaN  "
      ]
     },
     "execution_count": 7,
     "metadata": {},
     "output_type": "execute_result"
    }
   ],
   "source": [
    "import pandas as pd\n",
    "data = pd.read_excel('Assignment 18.04.2023.xlsx')\n",
    "data"
   ]
  },
  {
   "cell_type": "code",
   "execution_count": 8,
   "id": "172d8747",
   "metadata": {},
   "outputs": [
    {
     "data": {
      "text/plain": [
       "3.2"
      ]
     },
     "execution_count": 8,
     "metadata": {},
     "output_type": "execute_result"
    }
   ],
   "source": [
    "#mean\n",
    "\n",
    "import numpy as np\n",
    "a=[1,1,2,2,3,3,4,5,5,6]\n",
    "\n",
    "#using numpy\n",
    "np.mean(a)"
   ]
  },
  {
   "cell_type": "code",
   "execution_count": 9,
   "id": "a0894903",
   "metadata": {},
   "outputs": [
    {
     "name": "stdout",
     "output_type": "stream",
     "text": [
      "mean : 3.2\n"
     ]
    }
   ],
   "source": [
    "print(\"mean :\",np.mean(a))"
   ]
  },
  {
   "cell_type": "code",
   "execution_count": 11,
   "id": "d7c9e013",
   "metadata": {},
   "outputs": [
    {
     "data": {
      "text/html": [
       "<div>\n",
       "<style scoped>\n",
       "    .dataframe tbody tr th:only-of-type {\n",
       "        vertical-align: middle;\n",
       "    }\n",
       "\n",
       "    .dataframe tbody tr th {\n",
       "        vertical-align: top;\n",
       "    }\n",
       "\n",
       "    .dataframe thead th {\n",
       "        text-align: right;\n",
       "    }\n",
       "</style>\n",
       "<table border=\"1\" class=\"dataframe\">\n",
       "  <thead>\n",
       "    <tr style=\"text-align: right;\">\n",
       "      <th></th>\n",
       "      <th>values</th>\n",
       "    </tr>\n",
       "  </thead>\n",
       "  <tbody>\n",
       "    <tr>\n",
       "      <th>0</th>\n",
       "      <td>1</td>\n",
       "    </tr>\n",
       "    <tr>\n",
       "      <th>1</th>\n",
       "      <td>1</td>\n",
       "    </tr>\n",
       "    <tr>\n",
       "      <th>2</th>\n",
       "      <td>2</td>\n",
       "    </tr>\n",
       "    <tr>\n",
       "      <th>3</th>\n",
       "      <td>2</td>\n",
       "    </tr>\n",
       "    <tr>\n",
       "      <th>4</th>\n",
       "      <td>3</td>\n",
       "    </tr>\n",
       "    <tr>\n",
       "      <th>5</th>\n",
       "      <td>3</td>\n",
       "    </tr>\n",
       "    <tr>\n",
       "      <th>6</th>\n",
       "      <td>4</td>\n",
       "    </tr>\n",
       "    <tr>\n",
       "      <th>7</th>\n",
       "      <td>5</td>\n",
       "    </tr>\n",
       "    <tr>\n",
       "      <th>8</th>\n",
       "      <td>5</td>\n",
       "    </tr>\n",
       "    <tr>\n",
       "      <th>9</th>\n",
       "      <td>6</td>\n",
       "    </tr>\n",
       "  </tbody>\n",
       "</table>\n",
       "</div>"
      ],
      "text/plain": [
       "   values\n",
       "0       1\n",
       "1       1\n",
       "2       2\n",
       "3       2\n",
       "4       3\n",
       "5       3\n",
       "6       4\n",
       "7       5\n",
       "8       5\n",
       "9       6"
      ]
     },
     "execution_count": 11,
     "metadata": {},
     "output_type": "execute_result"
    }
   ],
   "source": [
    "#created the list into the data form\n",
    "import pandas as pd\n",
    "b=pd.DataFrame(data={'values':[1,1,2,2,3,3,4,5,5,6]})\n",
    "b"
   ]
  },
  {
   "cell_type": "code",
   "execution_count": 12,
   "id": "3805e6c3",
   "metadata": {},
   "outputs": [
    {
     "data": {
      "text/plain": [
       "values    3.2\n",
       "dtype: float64"
      ]
     },
     "execution_count": 12,
     "metadata": {},
     "output_type": "execute_result"
    }
   ],
   "source": [
    "#mean using pandas\n",
    "b.mean()"
   ]
  },
  {
   "cell_type": "code",
   "execution_count": 13,
   "id": "26781b40",
   "metadata": {},
   "outputs": [
    {
     "data": {
      "text/html": [
       "<div>\n",
       "<style scoped>\n",
       "    .dataframe tbody tr th:only-of-type {\n",
       "        vertical-align: middle;\n",
       "    }\n",
       "\n",
       "    .dataframe tbody tr th {\n",
       "        vertical-align: top;\n",
       "    }\n",
       "\n",
       "    .dataframe thead th {\n",
       "        text-align: right;\n",
       "    }\n",
       "</style>\n",
       "<table border=\"1\" class=\"dataframe\">\n",
       "  <thead>\n",
       "    <tr style=\"text-align: right;\">\n",
       "      <th></th>\n",
       "      <th>values</th>\n",
       "    </tr>\n",
       "  </thead>\n",
       "  <tbody>\n",
       "    <tr>\n",
       "      <th>count</th>\n",
       "      <td>10.00000</td>\n",
       "    </tr>\n",
       "    <tr>\n",
       "      <th>mean</th>\n",
       "      <td>3.20000</td>\n",
       "    </tr>\n",
       "    <tr>\n",
       "      <th>std</th>\n",
       "      <td>1.75119</td>\n",
       "    </tr>\n",
       "    <tr>\n",
       "      <th>min</th>\n",
       "      <td>1.00000</td>\n",
       "    </tr>\n",
       "    <tr>\n",
       "      <th>25%</th>\n",
       "      <td>2.00000</td>\n",
       "    </tr>\n",
       "    <tr>\n",
       "      <th>50%</th>\n",
       "      <td>3.00000</td>\n",
       "    </tr>\n",
       "    <tr>\n",
       "      <th>75%</th>\n",
       "      <td>4.75000</td>\n",
       "    </tr>\n",
       "    <tr>\n",
       "      <th>max</th>\n",
       "      <td>6.00000</td>\n",
       "    </tr>\n",
       "  </tbody>\n",
       "</table>\n",
       "</div>"
      ],
      "text/plain": [
       "         values\n",
       "count  10.00000\n",
       "mean    3.20000\n",
       "std     1.75119\n",
       "min     1.00000\n",
       "25%     2.00000\n",
       "50%     3.00000\n",
       "75%     4.75000\n",
       "max     6.00000"
      ]
     },
     "execution_count": 13,
     "metadata": {},
     "output_type": "execute_result"
    }
   ],
   "source": [
    "b.describe()"
   ]
  },
  {
   "cell_type": "code",
   "execution_count": 15,
   "id": "2185320d",
   "metadata": {},
   "outputs": [
    {
     "data": {
      "text/plain": [
       "3.0"
      ]
     },
     "execution_count": 15,
     "metadata": {},
     "output_type": "execute_result"
    }
   ],
   "source": [
    "#median\n",
    "import numpy as np\n",
    "a=[1,1,2,2,3,3,4,5,5,6]\n",
    "\n",
    "#using numpy\n",
    "np.median(a)"
   ]
  },
  {
   "cell_type": "code",
   "execution_count": 16,
   "id": "f884ada8",
   "metadata": {},
   "outputs": [
    {
     "name": "stdout",
     "output_type": "stream",
     "text": [
      "median : 3.0\n"
     ]
    }
   ],
   "source": [
    "print(\"median :\",np.median(a))"
   ]
  },
  {
   "cell_type": "code",
   "execution_count": 17,
   "id": "3f3e129b",
   "metadata": {},
   "outputs": [
    {
     "data": {
      "text/plain": [
       "values    3.0\n",
       "dtype: float64"
      ]
     },
     "execution_count": 17,
     "metadata": {},
     "output_type": "execute_result"
    }
   ],
   "source": [
    "#using pandas\n",
    "b.median()"
   ]
  },
  {
   "cell_type": "code",
   "execution_count": 18,
   "id": "67da1810",
   "metadata": {},
   "outputs": [
    {
     "data": {
      "text/html": [
       "<div>\n",
       "<style scoped>\n",
       "    .dataframe tbody tr th:only-of-type {\n",
       "        vertical-align: middle;\n",
       "    }\n",
       "\n",
       "    .dataframe tbody tr th {\n",
       "        vertical-align: top;\n",
       "    }\n",
       "\n",
       "    .dataframe thead th {\n",
       "        text-align: right;\n",
       "    }\n",
       "</style>\n",
       "<table border=\"1\" class=\"dataframe\">\n",
       "  <thead>\n",
       "    <tr style=\"text-align: right;\">\n",
       "      <th></th>\n",
       "      <th>values</th>\n",
       "    </tr>\n",
       "  </thead>\n",
       "  <tbody>\n",
       "    <tr>\n",
       "      <th>count</th>\n",
       "      <td>10.00000</td>\n",
       "    </tr>\n",
       "    <tr>\n",
       "      <th>mean</th>\n",
       "      <td>3.20000</td>\n",
       "    </tr>\n",
       "    <tr>\n",
       "      <th>std</th>\n",
       "      <td>1.75119</td>\n",
       "    </tr>\n",
       "    <tr>\n",
       "      <th>min</th>\n",
       "      <td>1.00000</td>\n",
       "    </tr>\n",
       "    <tr>\n",
       "      <th>25%</th>\n",
       "      <td>2.00000</td>\n",
       "    </tr>\n",
       "    <tr>\n",
       "      <th>50%</th>\n",
       "      <td>3.00000</td>\n",
       "    </tr>\n",
       "    <tr>\n",
       "      <th>75%</th>\n",
       "      <td>4.75000</td>\n",
       "    </tr>\n",
       "    <tr>\n",
       "      <th>max</th>\n",
       "      <td>6.00000</td>\n",
       "    </tr>\n",
       "  </tbody>\n",
       "</table>\n",
       "</div>"
      ],
      "text/plain": [
       "         values\n",
       "count  10.00000\n",
       "mean    3.20000\n",
       "std     1.75119\n",
       "min     1.00000\n",
       "25%     2.00000\n",
       "50%     3.00000\n",
       "75%     4.75000\n",
       "max     6.00000"
      ]
     },
     "execution_count": 18,
     "metadata": {},
     "output_type": "execute_result"
    }
   ],
   "source": [
    "b.describe()"
   ]
  },
  {
   "cell_type": "code",
   "execution_count": null,
   "id": "fddea441",
   "metadata": {},
   "outputs": [],
   "source": [
    "#mode\n",
    "#numpy does not has an attribute mode"
   ]
  },
  {
   "cell_type": "code",
   "execution_count": 19,
   "id": "7dfd2954",
   "metadata": {},
   "outputs": [
    {
     "data": {
      "text/html": [
       "<div>\n",
       "<style scoped>\n",
       "    .dataframe tbody tr th:only-of-type {\n",
       "        vertical-align: middle;\n",
       "    }\n",
       "\n",
       "    .dataframe tbody tr th {\n",
       "        vertical-align: top;\n",
       "    }\n",
       "\n",
       "    .dataframe thead th {\n",
       "        text-align: right;\n",
       "    }\n",
       "</style>\n",
       "<table border=\"1\" class=\"dataframe\">\n",
       "  <thead>\n",
       "    <tr style=\"text-align: right;\">\n",
       "      <th></th>\n",
       "      <th>values</th>\n",
       "    </tr>\n",
       "  </thead>\n",
       "  <tbody>\n",
       "    <tr>\n",
       "      <th>0</th>\n",
       "      <td>1</td>\n",
       "    </tr>\n",
       "    <tr>\n",
       "      <th>1</th>\n",
       "      <td>2</td>\n",
       "    </tr>\n",
       "    <tr>\n",
       "      <th>2</th>\n",
       "      <td>3</td>\n",
       "    </tr>\n",
       "    <tr>\n",
       "      <th>3</th>\n",
       "      <td>5</td>\n",
       "    </tr>\n",
       "  </tbody>\n",
       "</table>\n",
       "</div>"
      ],
      "text/plain": [
       "   values\n",
       "0       1\n",
       "1       2\n",
       "2       3\n",
       "3       5"
      ]
     },
     "execution_count": 19,
     "metadata": {},
     "output_type": "execute_result"
    }
   ],
   "source": [
    "#using pandas\n",
    "b.mode()"
   ]
  },
  {
   "cell_type": "code",
   "execution_count": null,
   "id": "abdf9ce4",
   "metadata": {},
   "outputs": [],
   "source": [
    "#Descriptive Statistics\n",
    "#In measures of dispersion\n",
    "#variance,standard deviation"
   ]
  },
  {
   "cell_type": "markdown",
   "id": "683329de",
   "metadata": {},
   "source": [
    "# Measures of Dispersion"
   ]
  },
  {
   "cell_type": "code",
   "execution_count": 21,
   "id": "0ac88ff2",
   "metadata": {},
   "outputs": [
    {
     "data": {
      "text/plain": [
       "2.7600000000000002"
      ]
     },
     "execution_count": 21,
     "metadata": {},
     "output_type": "execute_result"
    }
   ],
   "source": [
    "#variance\n",
    "a=[1,1,2,2,3,3,4,5,5,6]\n",
    "\n",
    "#using numpy\n",
    "np.var(a)\n"
   ]
  },
  {
   "cell_type": "code",
   "execution_count": 22,
   "id": "5779bb66",
   "metadata": {},
   "outputs": [
    {
     "name": "stdout",
     "output_type": "stream",
     "text": [
      "Variance : 2.7600000000000002\n"
     ]
    }
   ],
   "source": [
    "print('Variance :',np.var(a))"
   ]
  },
  {
   "cell_type": "code",
   "execution_count": 23,
   "id": "637cf95c",
   "metadata": {},
   "outputs": [
    {
     "data": {
      "text/plain": [
       "values    3.066667\n",
       "dtype: float64"
      ]
     },
     "execution_count": 23,
     "metadata": {},
     "output_type": "execute_result"
    }
   ],
   "source": [
    "#using pandas\n",
    "b.var()"
   ]
  },
  {
   "cell_type": "code",
   "execution_count": 38,
   "id": "869f6d4b",
   "metadata": {},
   "outputs": [
    {
     "data": {
      "text/plain": [
       "1.661324772583615"
      ]
     },
     "execution_count": 38,
     "metadata": {},
     "output_type": "execute_result"
    }
   ],
   "source": [
    "#standard deviation\n",
    "a=[1,1,2,2,3,3,4,5,5,6]\n",
    "\n",
    "#using numpy\n",
    "np.std(a)\n",
    "\n"
   ]
  },
  {
   "cell_type": "code",
   "execution_count": 39,
   "id": "be0c7c2b",
   "metadata": {},
   "outputs": [
    {
     "name": "stdout",
     "output_type": "stream",
     "text": [
      "Standard deviation : 1.661324772583615\n"
     ]
    }
   ],
   "source": [
    "print('Standard deviation :',np.std(a))"
   ]
  },
  {
   "cell_type": "code",
   "execution_count": 26,
   "id": "74c8d735",
   "metadata": {},
   "outputs": [
    {
     "data": {
      "text/plain": [
       "values    1.75119\n",
       "dtype: float64"
      ]
     },
     "execution_count": 26,
     "metadata": {},
     "output_type": "execute_result"
    }
   ],
   "source": [
    "#using pandas\n",
    "b.std()"
   ]
  },
  {
   "cell_type": "markdown",
   "id": "ac76f88a",
   "metadata": {},
   "source": [
    "# Example 2"
   ]
  },
  {
   "cell_type": "code",
   "execution_count": 27,
   "id": "1e07ae6c",
   "metadata": {},
   "outputs": [
    {
     "data": {
      "text/plain": [
       "12.0"
      ]
     },
     "execution_count": 27,
     "metadata": {},
     "output_type": "execute_result"
    }
   ],
   "source": [
    "#mean\n",
    "\n",
    "import numpy as np\n",
    "a=[1,1,2,2,3,3,4,5,5,6,100]\n",
    "\n",
    "#using numpy\n",
    "np.mean(a)"
   ]
  },
  {
   "cell_type": "code",
   "execution_count": 28,
   "id": "a9f1ee9a",
   "metadata": {},
   "outputs": [
    {
     "name": "stdout",
     "output_type": "stream",
     "text": [
      "mean : 12.0\n"
     ]
    }
   ],
   "source": [
    "print(\"mean :\",np.mean(a))"
   ]
  },
  {
   "cell_type": "code",
   "execution_count": 29,
   "id": "f5309e53",
   "metadata": {},
   "outputs": [
    {
     "data": {
      "text/html": [
       "<div>\n",
       "<style scoped>\n",
       "    .dataframe tbody tr th:only-of-type {\n",
       "        vertical-align: middle;\n",
       "    }\n",
       "\n",
       "    .dataframe tbody tr th {\n",
       "        vertical-align: top;\n",
       "    }\n",
       "\n",
       "    .dataframe thead th {\n",
       "        text-align: right;\n",
       "    }\n",
       "</style>\n",
       "<table border=\"1\" class=\"dataframe\">\n",
       "  <thead>\n",
       "    <tr style=\"text-align: right;\">\n",
       "      <th></th>\n",
       "      <th>values</th>\n",
       "    </tr>\n",
       "  </thead>\n",
       "  <tbody>\n",
       "    <tr>\n",
       "      <th>0</th>\n",
       "      <td>1</td>\n",
       "    </tr>\n",
       "    <tr>\n",
       "      <th>1</th>\n",
       "      <td>1</td>\n",
       "    </tr>\n",
       "    <tr>\n",
       "      <th>2</th>\n",
       "      <td>2</td>\n",
       "    </tr>\n",
       "    <tr>\n",
       "      <th>3</th>\n",
       "      <td>2</td>\n",
       "    </tr>\n",
       "    <tr>\n",
       "      <th>4</th>\n",
       "      <td>3</td>\n",
       "    </tr>\n",
       "    <tr>\n",
       "      <th>5</th>\n",
       "      <td>3</td>\n",
       "    </tr>\n",
       "    <tr>\n",
       "      <th>6</th>\n",
       "      <td>4</td>\n",
       "    </tr>\n",
       "    <tr>\n",
       "      <th>7</th>\n",
       "      <td>5</td>\n",
       "    </tr>\n",
       "    <tr>\n",
       "      <th>8</th>\n",
       "      <td>5</td>\n",
       "    </tr>\n",
       "    <tr>\n",
       "      <th>9</th>\n",
       "      <td>6</td>\n",
       "    </tr>\n",
       "    <tr>\n",
       "      <th>10</th>\n",
       "      <td>100</td>\n",
       "    </tr>\n",
       "  </tbody>\n",
       "</table>\n",
       "</div>"
      ],
      "text/plain": [
       "    values\n",
       "0        1\n",
       "1        1\n",
       "2        2\n",
       "3        2\n",
       "4        3\n",
       "5        3\n",
       "6        4\n",
       "7        5\n",
       "8        5\n",
       "9        6\n",
       "10     100"
      ]
     },
     "execution_count": 29,
     "metadata": {},
     "output_type": "execute_result"
    }
   ],
   "source": [
    "#created the list into the data form\n",
    "import pandas as pd\n",
    "b=pd.DataFrame(data={'values':[1,1,2,2,3,3,4,5,5,6,100]})\n",
    "b"
   ]
  },
  {
   "cell_type": "code",
   "execution_count": 30,
   "id": "ad49bcce",
   "metadata": {},
   "outputs": [
    {
     "data": {
      "text/plain": [
       "values    12.0\n",
       "dtype: float64"
      ]
     },
     "execution_count": 30,
     "metadata": {},
     "output_type": "execute_result"
    }
   ],
   "source": [
    "#mean using pandas\n",
    "b.mean()"
   ]
  },
  {
   "cell_type": "code",
   "execution_count": 31,
   "id": "d7182513",
   "metadata": {},
   "outputs": [
    {
     "data": {
      "text/plain": [
       "3.0"
      ]
     },
     "execution_count": 31,
     "metadata": {},
     "output_type": "execute_result"
    }
   ],
   "source": [
    "#median\n",
    "import numpy as np\n",
    "a=[1,1,2,2,3,3,4,5,5,6,100]\n",
    "\n",
    "#using numpy\n",
    "np.median(a)"
   ]
  },
  {
   "cell_type": "code",
   "execution_count": 32,
   "id": "e67d9157",
   "metadata": {},
   "outputs": [
    {
     "name": "stdout",
     "output_type": "stream",
     "text": [
      "median : 3.0\n"
     ]
    }
   ],
   "source": [
    "print(\"median :\",np.median(a))"
   ]
  },
  {
   "cell_type": "code",
   "execution_count": 33,
   "id": "6d6e680e",
   "metadata": {},
   "outputs": [
    {
     "data": {
      "text/plain": [
       "values    3.0\n",
       "dtype: float64"
      ]
     },
     "execution_count": 33,
     "metadata": {},
     "output_type": "execute_result"
    }
   ],
   "source": [
    "#using pandas\n",
    "b.median()"
   ]
  },
  {
   "cell_type": "code",
   "execution_count": null,
   "id": "c77740ec",
   "metadata": {},
   "outputs": [],
   "source": [
    "#mode\n",
    "#numpy does not has an attribute mode"
   ]
  },
  {
   "cell_type": "code",
   "execution_count": 34,
   "id": "3d105377",
   "metadata": {},
   "outputs": [
    {
     "data": {
      "text/html": [
       "<div>\n",
       "<style scoped>\n",
       "    .dataframe tbody tr th:only-of-type {\n",
       "        vertical-align: middle;\n",
       "    }\n",
       "\n",
       "    .dataframe tbody tr th {\n",
       "        vertical-align: top;\n",
       "    }\n",
       "\n",
       "    .dataframe thead th {\n",
       "        text-align: right;\n",
       "    }\n",
       "</style>\n",
       "<table border=\"1\" class=\"dataframe\">\n",
       "  <thead>\n",
       "    <tr style=\"text-align: right;\">\n",
       "      <th></th>\n",
       "      <th>values</th>\n",
       "    </tr>\n",
       "  </thead>\n",
       "  <tbody>\n",
       "    <tr>\n",
       "      <th>0</th>\n",
       "      <td>1</td>\n",
       "    </tr>\n",
       "    <tr>\n",
       "      <th>1</th>\n",
       "      <td>2</td>\n",
       "    </tr>\n",
       "    <tr>\n",
       "      <th>2</th>\n",
       "      <td>3</td>\n",
       "    </tr>\n",
       "    <tr>\n",
       "      <th>3</th>\n",
       "      <td>5</td>\n",
       "    </tr>\n",
       "  </tbody>\n",
       "</table>\n",
       "</div>"
      ],
      "text/plain": [
       "   values\n",
       "0       1\n",
       "1       2\n",
       "2       3\n",
       "3       5"
      ]
     },
     "execution_count": 34,
     "metadata": {},
     "output_type": "execute_result"
    }
   ],
   "source": [
    "#using pandas\n",
    "b.mode()"
   ]
  },
  {
   "cell_type": "code",
   "execution_count": 35,
   "id": "a2d932af",
   "metadata": {},
   "outputs": [
    {
     "data": {
      "text/plain": [
       "776.9090909090909"
      ]
     },
     "execution_count": 35,
     "metadata": {},
     "output_type": "execute_result"
    }
   ],
   "source": [
    "#variance\n",
    "a=[1,1,2,2,3,3,4,5,5,6,100]\n",
    "\n",
    "#using numpy\n",
    "np.var(a)\n"
   ]
  },
  {
   "cell_type": "code",
   "execution_count": 36,
   "id": "4fc90cab",
   "metadata": {},
   "outputs": [
    {
     "name": "stdout",
     "output_type": "stream",
     "text": [
      "Variance : 776.9090909090909\n"
     ]
    }
   ],
   "source": [
    "print('Variance :',np.var(a))"
   ]
  },
  {
   "cell_type": "code",
   "execution_count": 37,
   "id": "9ddfb90b",
   "metadata": {},
   "outputs": [
    {
     "data": {
      "text/plain": [
       "values    854.6\n",
       "dtype: float64"
      ]
     },
     "execution_count": 37,
     "metadata": {},
     "output_type": "execute_result"
    }
   ],
   "source": [
    "#using pandas\n",
    "b.var()"
   ]
  },
  {
   "cell_type": "code",
   "execution_count": 40,
   "id": "0ba960e7",
   "metadata": {},
   "outputs": [
    {
     "data": {
      "text/plain": [
       "27.873089009097843"
      ]
     },
     "execution_count": 40,
     "metadata": {},
     "output_type": "execute_result"
    }
   ],
   "source": [
    "#standard deviation\n",
    "a=[1,1,2,2,3,3,4,5,5,6,100]\n",
    "\n",
    "#using numpy\n",
    "np.std(a)\n",
    "\n"
   ]
  },
  {
   "cell_type": "code",
   "execution_count": 41,
   "id": "8a50a6fc",
   "metadata": {},
   "outputs": [
    {
     "name": "stdout",
     "output_type": "stream",
     "text": [
      "Standard deviation : 27.873089009097843\n"
     ]
    }
   ],
   "source": [
    "print('Standard deviation :',np.std(a))"
   ]
  },
  {
   "cell_type": "code",
   "execution_count": 42,
   "id": "88d04216",
   "metadata": {},
   "outputs": [
    {
     "data": {
      "text/plain": [
       "values    29.233542\n",
       "dtype: float64"
      ]
     },
     "execution_count": 42,
     "metadata": {},
     "output_type": "execute_result"
    }
   ],
   "source": [
    "#using pandas\n",
    "b.std()"
   ]
  },
  {
   "cell_type": "markdown",
   "id": "60da108f",
   "metadata": {},
   "source": [
    "# Example 3"
   ]
  },
  {
   "cell_type": "code",
   "execution_count": 43,
   "id": "080ba049",
   "metadata": {},
   "outputs": [
    {
     "data": {
      "text/plain": [
       "20.333333333333332"
      ]
     },
     "execution_count": 43,
     "metadata": {},
     "output_type": "execute_result"
    }
   ],
   "source": [
    "#mean\n",
    "\n",
    "import numpy as np\n",
    "a=[1,1,2,2,3,3,4,5,5,6,100,112]\n",
    "\n",
    "#using numpy\n",
    "np.mean(a)"
   ]
  },
  {
   "cell_type": "code",
   "execution_count": 44,
   "id": "d293d25d",
   "metadata": {},
   "outputs": [
    {
     "name": "stdout",
     "output_type": "stream",
     "text": [
      "mean : 20.333333333333332\n"
     ]
    }
   ],
   "source": [
    "print(\"mean :\",np.mean(a))"
   ]
  },
  {
   "cell_type": "code",
   "execution_count": 78,
   "id": "3887de39",
   "metadata": {},
   "outputs": [
    {
     "data": {
      "text/html": [
       "<div>\n",
       "<style scoped>\n",
       "    .dataframe tbody tr th:only-of-type {\n",
       "        vertical-align: middle;\n",
       "    }\n",
       "\n",
       "    .dataframe tbody tr th {\n",
       "        vertical-align: top;\n",
       "    }\n",
       "\n",
       "    .dataframe thead th {\n",
       "        text-align: right;\n",
       "    }\n",
       "</style>\n",
       "<table border=\"1\" class=\"dataframe\">\n",
       "  <thead>\n",
       "    <tr style=\"text-align: right;\">\n",
       "      <th></th>\n",
       "      <th>values</th>\n",
       "    </tr>\n",
       "  </thead>\n",
       "  <tbody>\n",
       "    <tr>\n",
       "      <th>0</th>\n",
       "      <td>1</td>\n",
       "    </tr>\n",
       "    <tr>\n",
       "      <th>1</th>\n",
       "      <td>1</td>\n",
       "    </tr>\n",
       "    <tr>\n",
       "      <th>2</th>\n",
       "      <td>2</td>\n",
       "    </tr>\n",
       "    <tr>\n",
       "      <th>3</th>\n",
       "      <td>2</td>\n",
       "    </tr>\n",
       "    <tr>\n",
       "      <th>4</th>\n",
       "      <td>3</td>\n",
       "    </tr>\n",
       "    <tr>\n",
       "      <th>5</th>\n",
       "      <td>3</td>\n",
       "    </tr>\n",
       "    <tr>\n",
       "      <th>6</th>\n",
       "      <td>4</td>\n",
       "    </tr>\n",
       "    <tr>\n",
       "      <th>7</th>\n",
       "      <td>5</td>\n",
       "    </tr>\n",
       "    <tr>\n",
       "      <th>8</th>\n",
       "      <td>5</td>\n",
       "    </tr>\n",
       "    <tr>\n",
       "      <th>9</th>\n",
       "      <td>6</td>\n",
       "    </tr>\n",
       "    <tr>\n",
       "      <th>10</th>\n",
       "      <td>100</td>\n",
       "    </tr>\n",
       "    <tr>\n",
       "      <th>11</th>\n",
       "      <td>112</td>\n",
       "    </tr>\n",
       "  </tbody>\n",
       "</table>\n",
       "</div>"
      ],
      "text/plain": [
       "    values\n",
       "0        1\n",
       "1        1\n",
       "2        2\n",
       "3        2\n",
       "4        3\n",
       "5        3\n",
       "6        4\n",
       "7        5\n",
       "8        5\n",
       "9        6\n",
       "10     100\n",
       "11     112"
      ]
     },
     "execution_count": 78,
     "metadata": {},
     "output_type": "execute_result"
    }
   ],
   "source": [
    "#created the list into the data form\n",
    "import pandas as pd\n",
    "b=pd.DataFrame(data={'values':[1,1,2,2,3,3,4,5,5,6,100,112]})\n",
    "b"
   ]
  },
  {
   "cell_type": "code",
   "execution_count": 46,
   "id": "2821152a",
   "metadata": {},
   "outputs": [
    {
     "data": {
      "text/plain": [
       "values    12.0\n",
       "dtype: float64"
      ]
     },
     "execution_count": 46,
     "metadata": {},
     "output_type": "execute_result"
    }
   ],
   "source": [
    "#mean using pandas\n",
    "b.mean()"
   ]
  },
  {
   "cell_type": "code",
   "execution_count": 47,
   "id": "31e06204",
   "metadata": {},
   "outputs": [
    {
     "data": {
      "text/plain": [
       "3.5"
      ]
     },
     "execution_count": 47,
     "metadata": {},
     "output_type": "execute_result"
    }
   ],
   "source": [
    "#median\n",
    "import numpy as np\n",
    "a=[1,1,2,2,3,3,4,5,5,6,100,112]\n",
    "\n",
    "#using numpy\n",
    "np.median(a)"
   ]
  },
  {
   "cell_type": "code",
   "execution_count": 48,
   "id": "8d0a875a",
   "metadata": {},
   "outputs": [
    {
     "name": "stdout",
     "output_type": "stream",
     "text": [
      "median : 3.5\n"
     ]
    }
   ],
   "source": [
    "print(\"median :\",np.median(a))"
   ]
  },
  {
   "cell_type": "code",
   "execution_count": 49,
   "id": "37743953",
   "metadata": {},
   "outputs": [
    {
     "data": {
      "text/plain": [
       "values    3.0\n",
       "dtype: float64"
      ]
     },
     "execution_count": 49,
     "metadata": {},
     "output_type": "execute_result"
    }
   ],
   "source": [
    "#using pandas\n",
    "b.median()"
   ]
  },
  {
   "cell_type": "code",
   "execution_count": 50,
   "id": "a85650cb",
   "metadata": {},
   "outputs": [],
   "source": [
    "#mode\n",
    "#numpy does not has an attribute mode"
   ]
  },
  {
   "cell_type": "code",
   "execution_count": 51,
   "id": "9f1e49e2",
   "metadata": {},
   "outputs": [
    {
     "data": {
      "text/html": [
       "<div>\n",
       "<style scoped>\n",
       "    .dataframe tbody tr th:only-of-type {\n",
       "        vertical-align: middle;\n",
       "    }\n",
       "\n",
       "    .dataframe tbody tr th {\n",
       "        vertical-align: top;\n",
       "    }\n",
       "\n",
       "    .dataframe thead th {\n",
       "        text-align: right;\n",
       "    }\n",
       "</style>\n",
       "<table border=\"1\" class=\"dataframe\">\n",
       "  <thead>\n",
       "    <tr style=\"text-align: right;\">\n",
       "      <th></th>\n",
       "      <th>values</th>\n",
       "    </tr>\n",
       "  </thead>\n",
       "  <tbody>\n",
       "    <tr>\n",
       "      <th>0</th>\n",
       "      <td>1</td>\n",
       "    </tr>\n",
       "    <tr>\n",
       "      <th>1</th>\n",
       "      <td>2</td>\n",
       "    </tr>\n",
       "    <tr>\n",
       "      <th>2</th>\n",
       "      <td>3</td>\n",
       "    </tr>\n",
       "    <tr>\n",
       "      <th>3</th>\n",
       "      <td>5</td>\n",
       "    </tr>\n",
       "  </tbody>\n",
       "</table>\n",
       "</div>"
      ],
      "text/plain": [
       "   values\n",
       "0       1\n",
       "1       2\n",
       "2       3\n",
       "3       5"
      ]
     },
     "execution_count": 51,
     "metadata": {},
     "output_type": "execute_result"
    }
   ],
   "source": [
    "#using pandas\n",
    "b.mode()"
   ]
  },
  {
   "cell_type": "code",
   "execution_count": 52,
   "id": "f573cbd5",
   "metadata": {},
   "outputs": [
    {
     "data": {
      "text/plain": [
       "1476.0555555555557"
      ]
     },
     "execution_count": 52,
     "metadata": {},
     "output_type": "execute_result"
    }
   ],
   "source": [
    "#variance\n",
    "a=[1,1,2,2,3,3,4,5,5,6,100,112]\n",
    "\n",
    "#using numpy\n",
    "np.var(a)\n"
   ]
  },
  {
   "cell_type": "code",
   "execution_count": 53,
   "id": "cc2a84e9",
   "metadata": {},
   "outputs": [
    {
     "name": "stdout",
     "output_type": "stream",
     "text": [
      "Variance : 1476.0555555555557\n"
     ]
    }
   ],
   "source": [
    "print('Variance :',np.var(a))"
   ]
  },
  {
   "cell_type": "code",
   "execution_count": 54,
   "id": "3a4d09c3",
   "metadata": {},
   "outputs": [
    {
     "data": {
      "text/plain": [
       "values    854.6\n",
       "dtype: float64"
      ]
     },
     "execution_count": 54,
     "metadata": {},
     "output_type": "execute_result"
    }
   ],
   "source": [
    "#using pandas\n",
    "b.var()"
   ]
  },
  {
   "cell_type": "code",
   "execution_count": 55,
   "id": "9238943e",
   "metadata": {},
   "outputs": [
    {
     "data": {
      "text/plain": [
       "38.41946844446908"
      ]
     },
     "execution_count": 55,
     "metadata": {},
     "output_type": "execute_result"
    }
   ],
   "source": [
    "#standard deviation\n",
    "a=[1,1,2,2,3,3,4,5,5,6,100,112]\n",
    "\n",
    "#using numpy\n",
    "np.std(a)\n"
   ]
  },
  {
   "cell_type": "code",
   "execution_count": 56,
   "id": "b673725f",
   "metadata": {},
   "outputs": [
    {
     "name": "stdout",
     "output_type": "stream",
     "text": [
      "Standard deviation : 38.41946844446908\n"
     ]
    }
   ],
   "source": [
    "print('Standard deviation :',np.std(a))"
   ]
  },
  {
   "cell_type": "code",
   "execution_count": 57,
   "id": "b438ae4a",
   "metadata": {},
   "outputs": [
    {
     "data": {
      "text/plain": [
       "values    29.233542\n",
       "dtype: float64"
      ]
     },
     "execution_count": 57,
     "metadata": {},
     "output_type": "execute_result"
    }
   ],
   "source": [
    "#using pandas\n",
    "b.std()"
   ]
  },
  {
   "cell_type": "markdown",
   "id": "90d7ea3d",
   "metadata": {},
   "source": [
    "# Example 4"
   ]
  },
  {
   "cell_type": "code",
   "execution_count": 58,
   "id": "6e884848",
   "metadata": {},
   "outputs": [
    {
     "data": {
      "text/plain": [
       "26.923076923076923"
      ]
     },
     "execution_count": 58,
     "metadata": {},
     "output_type": "execute_result"
    }
   ],
   "source": [
    "#mean\n",
    "\n",
    "import numpy as np\n",
    "a=[1,2,2,3,4,5,6,6,6,7,8,100,200]\n",
    "\n",
    "#using numpy\n",
    "np.mean(a)"
   ]
  },
  {
   "cell_type": "code",
   "execution_count": 59,
   "id": "84bd03a0",
   "metadata": {},
   "outputs": [
    {
     "name": "stdout",
     "output_type": "stream",
     "text": [
      "mean : 26.923076923076923\n"
     ]
    }
   ],
   "source": [
    "print(\"mean :\",np.mean(a))"
   ]
  },
  {
   "cell_type": "code",
   "execution_count": 77,
   "id": "45ca1b8c",
   "metadata": {},
   "outputs": [
    {
     "data": {
      "text/html": [
       "<div>\n",
       "<style scoped>\n",
       "    .dataframe tbody tr th:only-of-type {\n",
       "        vertical-align: middle;\n",
       "    }\n",
       "\n",
       "    .dataframe tbody tr th {\n",
       "        vertical-align: top;\n",
       "    }\n",
       "\n",
       "    .dataframe thead th {\n",
       "        text-align: right;\n",
       "    }\n",
       "</style>\n",
       "<table border=\"1\" class=\"dataframe\">\n",
       "  <thead>\n",
       "    <tr style=\"text-align: right;\">\n",
       "      <th></th>\n",
       "      <th>values</th>\n",
       "    </tr>\n",
       "  </thead>\n",
       "  <tbody>\n",
       "    <tr>\n",
       "      <th>0</th>\n",
       "      <td>1</td>\n",
       "    </tr>\n",
       "    <tr>\n",
       "      <th>1</th>\n",
       "      <td>2</td>\n",
       "    </tr>\n",
       "    <tr>\n",
       "      <th>2</th>\n",
       "      <td>2</td>\n",
       "    </tr>\n",
       "    <tr>\n",
       "      <th>3</th>\n",
       "      <td>3</td>\n",
       "    </tr>\n",
       "    <tr>\n",
       "      <th>4</th>\n",
       "      <td>4</td>\n",
       "    </tr>\n",
       "    <tr>\n",
       "      <th>5</th>\n",
       "      <td>5</td>\n",
       "    </tr>\n",
       "    <tr>\n",
       "      <th>6</th>\n",
       "      <td>6</td>\n",
       "    </tr>\n",
       "    <tr>\n",
       "      <th>7</th>\n",
       "      <td>6</td>\n",
       "    </tr>\n",
       "    <tr>\n",
       "      <th>8</th>\n",
       "      <td>6</td>\n",
       "    </tr>\n",
       "    <tr>\n",
       "      <th>9</th>\n",
       "      <td>7</td>\n",
       "    </tr>\n",
       "    <tr>\n",
       "      <th>10</th>\n",
       "      <td>8</td>\n",
       "    </tr>\n",
       "    <tr>\n",
       "      <th>11</th>\n",
       "      <td>100</td>\n",
       "    </tr>\n",
       "    <tr>\n",
       "      <th>12</th>\n",
       "      <td>200</td>\n",
       "    </tr>\n",
       "  </tbody>\n",
       "</table>\n",
       "</div>"
      ],
      "text/plain": [
       "    values\n",
       "0        1\n",
       "1        2\n",
       "2        2\n",
       "3        3\n",
       "4        4\n",
       "5        5\n",
       "6        6\n",
       "7        6\n",
       "8        6\n",
       "9        7\n",
       "10       8\n",
       "11     100\n",
       "12     200"
      ]
     },
     "execution_count": 77,
     "metadata": {},
     "output_type": "execute_result"
    }
   ],
   "source": [
    "#created the list into the data form\n",
    "import pandas as pd\n",
    "b=pd.DataFrame(data={'values':[1,2,2,3,4,5,6,6,6,7,8,100,200]})\n",
    "b"
   ]
  },
  {
   "cell_type": "code",
   "execution_count": 61,
   "id": "80125bc6",
   "metadata": {},
   "outputs": [
    {
     "data": {
      "text/plain": [
       "values    12.0\n",
       "dtype: float64"
      ]
     },
     "execution_count": 61,
     "metadata": {},
     "output_type": "execute_result"
    }
   ],
   "source": [
    "#mean using pandas\n",
    "b.mean()"
   ]
  },
  {
   "cell_type": "code",
   "execution_count": 62,
   "id": "b6d3e577",
   "metadata": {},
   "outputs": [
    {
     "data": {
      "text/plain": [
       "6.0"
      ]
     },
     "execution_count": 62,
     "metadata": {},
     "output_type": "execute_result"
    }
   ],
   "source": [
    "#median\n",
    "import numpy as np\n",
    "a=[1,2,2,3,4,5,6,6,6,7,8,100,200]\n",
    "\n",
    "#using numpy\n",
    "np.median(a)"
   ]
  },
  {
   "cell_type": "code",
   "execution_count": 63,
   "id": "0097fc3f",
   "metadata": {},
   "outputs": [
    {
     "name": "stdout",
     "output_type": "stream",
     "text": [
      "median : 6.0\n"
     ]
    }
   ],
   "source": [
    "print(\"median :\",np.median(a))"
   ]
  },
  {
   "cell_type": "code",
   "execution_count": 64,
   "id": "741cd40f",
   "metadata": {},
   "outputs": [
    {
     "data": {
      "text/plain": [
       "values    3.0\n",
       "dtype: float64"
      ]
     },
     "execution_count": 64,
     "metadata": {},
     "output_type": "execute_result"
    }
   ],
   "source": [
    "#using pandas\n",
    "b.median()"
   ]
  },
  {
   "cell_type": "code",
   "execution_count": null,
   "id": "18758886",
   "metadata": {},
   "outputs": [],
   "source": [
    "#mode\n",
    "#numpy does not has an attribute mode"
   ]
  },
  {
   "cell_type": "code",
   "execution_count": 65,
   "id": "e742364e",
   "metadata": {},
   "outputs": [
    {
     "data": {
      "text/html": [
       "<div>\n",
       "<style scoped>\n",
       "    .dataframe tbody tr th:only-of-type {\n",
       "        vertical-align: middle;\n",
       "    }\n",
       "\n",
       "    .dataframe tbody tr th {\n",
       "        vertical-align: top;\n",
       "    }\n",
       "\n",
       "    .dataframe thead th {\n",
       "        text-align: right;\n",
       "    }\n",
       "</style>\n",
       "<table border=\"1\" class=\"dataframe\">\n",
       "  <thead>\n",
       "    <tr style=\"text-align: right;\">\n",
       "      <th></th>\n",
       "      <th>values</th>\n",
       "    </tr>\n",
       "  </thead>\n",
       "  <tbody>\n",
       "    <tr>\n",
       "      <th>0</th>\n",
       "      <td>1</td>\n",
       "    </tr>\n",
       "    <tr>\n",
       "      <th>1</th>\n",
       "      <td>2</td>\n",
       "    </tr>\n",
       "    <tr>\n",
       "      <th>2</th>\n",
       "      <td>3</td>\n",
       "    </tr>\n",
       "    <tr>\n",
       "      <th>3</th>\n",
       "      <td>5</td>\n",
       "    </tr>\n",
       "  </tbody>\n",
       "</table>\n",
       "</div>"
      ],
      "text/plain": [
       "   values\n",
       "0       1\n",
       "1       2\n",
       "2       3\n",
       "3       5"
      ]
     },
     "execution_count": 65,
     "metadata": {},
     "output_type": "execute_result"
    }
   ],
   "source": [
    "#using pandas\n",
    "b.mode()"
   ]
  },
  {
   "cell_type": "code",
   "execution_count": 70,
   "id": "5a1affa2",
   "metadata": {},
   "outputs": [
    {
     "data": {
      "text/plain": [
       "3142.84023668639"
      ]
     },
     "execution_count": 70,
     "metadata": {},
     "output_type": "execute_result"
    }
   ],
   "source": [
    "#variance\n",
    "a=[1,2,2,3,4,5,6,6,6,7,8,100,200]\n",
    "\n",
    "#using numpy\n",
    "np.var(a)"
   ]
  },
  {
   "cell_type": "code",
   "execution_count": 67,
   "id": "b6129094",
   "metadata": {},
   "outputs": [
    {
     "name": "stdout",
     "output_type": "stream",
     "text": [
      "Variance : 1476.0555555555557\n"
     ]
    }
   ],
   "source": [
    "print('Variance :',np.var(a))"
   ]
  },
  {
   "cell_type": "code",
   "execution_count": 68,
   "id": "981cd562",
   "metadata": {},
   "outputs": [
    {
     "data": {
      "text/plain": [
       "values    854.6\n",
       "dtype: float64"
      ]
     },
     "execution_count": 68,
     "metadata": {},
     "output_type": "execute_result"
    }
   ],
   "source": [
    "#using pandas\n",
    "b.var()"
   ]
  },
  {
   "cell_type": "code",
   "execution_count": 71,
   "id": "c80fcbe6",
   "metadata": {},
   "outputs": [
    {
     "data": {
      "text/plain": [
       "56.0610402747433"
      ]
     },
     "execution_count": 71,
     "metadata": {},
     "output_type": "execute_result"
    }
   ],
   "source": [
    "#standard deviation\n",
    "a=[1,2,2,3,4,5,6,6,6,7,8,100,200]\n",
    "\n",
    "#using numpy\n",
    "np.std(a)\n"
   ]
  },
  {
   "cell_type": "code",
   "execution_count": 72,
   "id": "ddb5108f",
   "metadata": {},
   "outputs": [
    {
     "name": "stdout",
     "output_type": "stream",
     "text": [
      "Standard deviation : 56.0610402747433\n"
     ]
    }
   ],
   "source": [
    "print('Standard deviation :',np.std(a))"
   ]
  },
  {
   "cell_type": "code",
   "execution_count": 73,
   "id": "2c8be6c8",
   "metadata": {},
   "outputs": [
    {
     "data": {
      "text/plain": [
       "values    29.233542\n",
       "dtype: float64"
      ]
     },
     "execution_count": 73,
     "metadata": {},
     "output_type": "execute_result"
    }
   ],
   "source": [
    "#using pandas\n",
    "b.std()"
   ]
  },
  {
   "cell_type": "markdown",
   "id": "fc66f5c5",
   "metadata": {},
   "source": [
    "# Example 5"
   ]
  },
  {
   "cell_type": "code",
   "execution_count": 74,
   "id": "87488141",
   "metadata": {},
   "outputs": [
    {
     "data": {
      "text/plain": [
       "382.14285714285717"
      ]
     },
     "execution_count": 74,
     "metadata": {},
     "output_type": "execute_result"
    }
   ],
   "source": [
    "#mean\n",
    "\n",
    "import numpy as np\n",
    "a=[1,2,2,3,4,5,6,6,6,7,8,100,200,5000]\n",
    "\n",
    "#using numpy\n",
    "np.mean(a)"
   ]
  },
  {
   "cell_type": "code",
   "execution_count": 75,
   "id": "a3ce37a4",
   "metadata": {},
   "outputs": [
    {
     "name": "stdout",
     "output_type": "stream",
     "text": [
      "mean : 382.14285714285717\n"
     ]
    }
   ],
   "source": [
    "print(\"mean :\",np.mean(a))"
   ]
  },
  {
   "cell_type": "code",
   "execution_count": 76,
   "id": "62b1003a",
   "metadata": {},
   "outputs": [
    {
     "data": {
      "text/html": [
       "<div>\n",
       "<style scoped>\n",
       "    .dataframe tbody tr th:only-of-type {\n",
       "        vertical-align: middle;\n",
       "    }\n",
       "\n",
       "    .dataframe tbody tr th {\n",
       "        vertical-align: top;\n",
       "    }\n",
       "\n",
       "    .dataframe thead th {\n",
       "        text-align: right;\n",
       "    }\n",
       "</style>\n",
       "<table border=\"1\" class=\"dataframe\">\n",
       "  <thead>\n",
       "    <tr style=\"text-align: right;\">\n",
       "      <th></th>\n",
       "      <th>values</th>\n",
       "    </tr>\n",
       "  </thead>\n",
       "  <tbody>\n",
       "    <tr>\n",
       "      <th>0</th>\n",
       "      <td>1</td>\n",
       "    </tr>\n",
       "    <tr>\n",
       "      <th>1</th>\n",
       "      <td>2</td>\n",
       "    </tr>\n",
       "    <tr>\n",
       "      <th>2</th>\n",
       "      <td>2</td>\n",
       "    </tr>\n",
       "    <tr>\n",
       "      <th>3</th>\n",
       "      <td>3</td>\n",
       "    </tr>\n",
       "    <tr>\n",
       "      <th>4</th>\n",
       "      <td>4</td>\n",
       "    </tr>\n",
       "    <tr>\n",
       "      <th>5</th>\n",
       "      <td>5</td>\n",
       "    </tr>\n",
       "    <tr>\n",
       "      <th>6</th>\n",
       "      <td>6</td>\n",
       "    </tr>\n",
       "    <tr>\n",
       "      <th>7</th>\n",
       "      <td>6</td>\n",
       "    </tr>\n",
       "    <tr>\n",
       "      <th>8</th>\n",
       "      <td>6</td>\n",
       "    </tr>\n",
       "    <tr>\n",
       "      <th>9</th>\n",
       "      <td>7</td>\n",
       "    </tr>\n",
       "    <tr>\n",
       "      <th>10</th>\n",
       "      <td>8</td>\n",
       "    </tr>\n",
       "    <tr>\n",
       "      <th>11</th>\n",
       "      <td>100</td>\n",
       "    </tr>\n",
       "    <tr>\n",
       "      <th>12</th>\n",
       "      <td>200</td>\n",
       "    </tr>\n",
       "    <tr>\n",
       "      <th>13</th>\n",
       "      <td>5000</td>\n",
       "    </tr>\n",
       "  </tbody>\n",
       "</table>\n",
       "</div>"
      ],
      "text/plain": [
       "    values\n",
       "0        1\n",
       "1        2\n",
       "2        2\n",
       "3        3\n",
       "4        4\n",
       "5        5\n",
       "6        6\n",
       "7        6\n",
       "8        6\n",
       "9        7\n",
       "10       8\n",
       "11     100\n",
       "12     200\n",
       "13    5000"
      ]
     },
     "execution_count": 76,
     "metadata": {},
     "output_type": "execute_result"
    }
   ],
   "source": [
    "#created the list into the data form\n",
    "import pandas as pd\n",
    "b=pd.DataFrame(data={'values':[1,2,2,3,4,5,6,6,6,7,8,100,200,5000]})\n",
    "b"
   ]
  },
  {
   "cell_type": "code",
   "execution_count": 79,
   "id": "152ad645",
   "metadata": {},
   "outputs": [
    {
     "data": {
      "text/plain": [
       "values    20.333333\n",
       "dtype: float64"
      ]
     },
     "execution_count": 79,
     "metadata": {},
     "output_type": "execute_result"
    }
   ],
   "source": [
    "#mean using pandas\n",
    "b.mean()"
   ]
  },
  {
   "cell_type": "code",
   "execution_count": 80,
   "id": "878b7a2a",
   "metadata": {},
   "outputs": [
    {
     "data": {
      "text/plain": [
       "6.0"
      ]
     },
     "execution_count": 80,
     "metadata": {},
     "output_type": "execute_result"
    }
   ],
   "source": [
    "#median\n",
    "import numpy as np\n",
    "a=[1,2,2,3,4,5,6,6,6,7,8,100,200,5000]\n",
    "\n",
    "#using numpy\n",
    "np.median(a)"
   ]
  },
  {
   "cell_type": "code",
   "execution_count": 81,
   "id": "b616483d",
   "metadata": {},
   "outputs": [
    {
     "name": "stdout",
     "output_type": "stream",
     "text": [
      "median : 6.0\n"
     ]
    }
   ],
   "source": [
    "print(\"median :\",np.median(a))"
   ]
  },
  {
   "cell_type": "code",
   "execution_count": 82,
   "id": "71233eac",
   "metadata": {},
   "outputs": [
    {
     "data": {
      "text/plain": [
       "values    3.5\n",
       "dtype: float64"
      ]
     },
     "execution_count": 82,
     "metadata": {},
     "output_type": "execute_result"
    }
   ],
   "source": [
    "#using pandas\n",
    "b.median()"
   ]
  },
  {
   "cell_type": "code",
   "execution_count": 83,
   "id": "69295cf6",
   "metadata": {},
   "outputs": [
    {
     "data": {
      "text/html": [
       "<div>\n",
       "<style scoped>\n",
       "    .dataframe tbody tr th:only-of-type {\n",
       "        vertical-align: middle;\n",
       "    }\n",
       "\n",
       "    .dataframe tbody tr th {\n",
       "        vertical-align: top;\n",
       "    }\n",
       "\n",
       "    .dataframe thead th {\n",
       "        text-align: right;\n",
       "    }\n",
       "</style>\n",
       "<table border=\"1\" class=\"dataframe\">\n",
       "  <thead>\n",
       "    <tr style=\"text-align: right;\">\n",
       "      <th></th>\n",
       "      <th>values</th>\n",
       "    </tr>\n",
       "  </thead>\n",
       "  <tbody>\n",
       "    <tr>\n",
       "      <th>0</th>\n",
       "      <td>1</td>\n",
       "    </tr>\n",
       "    <tr>\n",
       "      <th>1</th>\n",
       "      <td>2</td>\n",
       "    </tr>\n",
       "    <tr>\n",
       "      <th>2</th>\n",
       "      <td>3</td>\n",
       "    </tr>\n",
       "    <tr>\n",
       "      <th>3</th>\n",
       "      <td>5</td>\n",
       "    </tr>\n",
       "  </tbody>\n",
       "</table>\n",
       "</div>"
      ],
      "text/plain": [
       "   values\n",
       "0       1\n",
       "1       2\n",
       "2       3\n",
       "3       5"
      ]
     },
     "execution_count": 83,
     "metadata": {},
     "output_type": "execute_result"
    }
   ],
   "source": [
    "#using pandas\n",
    "b.mode()"
   ]
  },
  {
   "cell_type": "code",
   "execution_count": 84,
   "id": "066f88ab",
   "metadata": {},
   "outputs": [
    {
     "data": {
      "text/plain": [
       "1643272.5510204083"
      ]
     },
     "execution_count": 84,
     "metadata": {},
     "output_type": "execute_result"
    }
   ],
   "source": [
    "#variance\n",
    "a=[1,2,2,3,4,5,6,6,6,7,8,100,200,5000]\n",
    "\n",
    "#using numpy\n",
    "np.var(a)"
   ]
  },
  {
   "cell_type": "code",
   "execution_count": 85,
   "id": "5f8174cd",
   "metadata": {},
   "outputs": [
    {
     "name": "stdout",
     "output_type": "stream",
     "text": [
      "Variance : 1643272.5510204083\n"
     ]
    }
   ],
   "source": [
    "print('Variance :',np.var(a))"
   ]
  },
  {
   "cell_type": "code",
   "execution_count": 86,
   "id": "fa078266",
   "metadata": {},
   "outputs": [
    {
     "data": {
      "text/plain": [
       "values    1610.242424\n",
       "dtype: float64"
      ]
     },
     "execution_count": 86,
     "metadata": {},
     "output_type": "execute_result"
    }
   ],
   "source": [
    "#using pandas\n",
    "b.var()"
   ]
  },
  {
   "cell_type": "code",
   "execution_count": 87,
   "id": "4ccbacda",
   "metadata": {},
   "outputs": [
    {
     "data": {
      "text/plain": [
       "1281.9019272239232"
      ]
     },
     "execution_count": 87,
     "metadata": {},
     "output_type": "execute_result"
    }
   ],
   "source": [
    "#standard deviation\n",
    "a=[1,2,2,3,4,5,6,6,6,7,8,100,200,5000]\n",
    "\n",
    "#using numpy\n",
    "np.std(a)\n"
   ]
  },
  {
   "cell_type": "code",
   "execution_count": 88,
   "id": "24c5de5a",
   "metadata": {},
   "outputs": [
    {
     "name": "stdout",
     "output_type": "stream",
     "text": [
      "Standard deviation : 1281.9019272239232\n"
     ]
    }
   ],
   "source": [
    "print('Standard deviation :',np.std(a))"
   ]
  },
  {
   "cell_type": "markdown",
   "id": "5d47cd9f",
   "metadata": {},
   "source": [
    "# Example 6"
   ]
  },
  {
   "cell_type": "code",
   "execution_count": 89,
   "id": "92a1af6b",
   "metadata": {},
   "outputs": [
    {
     "data": {
      "text/plain": [
       "2.0"
      ]
     },
     "execution_count": 89,
     "metadata": {},
     "output_type": "execute_result"
    }
   ],
   "source": [
    "#mean\n",
    "\n",
    "import numpy as np\n",
    "a=[1,1,2,2,4]\n",
    "\n",
    "#using numpy\n",
    "np.mean(a)"
   ]
  },
  {
   "cell_type": "code",
   "execution_count": 90,
   "id": "c646b3ce",
   "metadata": {},
   "outputs": [
    {
     "name": "stdout",
     "output_type": "stream",
     "text": [
      "mean : 2.0\n"
     ]
    }
   ],
   "source": [
    "print(\"mean :\",np.mean(a))"
   ]
  },
  {
   "cell_type": "code",
   "execution_count": 92,
   "id": "a929d496",
   "metadata": {},
   "outputs": [
    {
     "data": {
      "text/plain": [
       "2.0"
      ]
     },
     "execution_count": 92,
     "metadata": {},
     "output_type": "execute_result"
    }
   ],
   "source": [
    "#median\n",
    "import numpy as np\n",
    "a=[1,1,2,2,4]\n",
    "\n",
    "#using numpy\n",
    "np.median(a)"
   ]
  },
  {
   "cell_type": "code",
   "execution_count": 93,
   "id": "a92b57f1",
   "metadata": {},
   "outputs": [
    {
     "name": "stdout",
     "output_type": "stream",
     "text": [
      "median : 2.0\n"
     ]
    }
   ],
   "source": [
    "print(\"median :\",np.median(a))"
   ]
  },
  {
   "cell_type": "code",
   "execution_count": 94,
   "id": "72a90e32",
   "metadata": {},
   "outputs": [
    {
     "data": {
      "text/html": [
       "<div>\n",
       "<style scoped>\n",
       "    .dataframe tbody tr th:only-of-type {\n",
       "        vertical-align: middle;\n",
       "    }\n",
       "\n",
       "    .dataframe tbody tr th {\n",
       "        vertical-align: top;\n",
       "    }\n",
       "\n",
       "    .dataframe thead th {\n",
       "        text-align: right;\n",
       "    }\n",
       "</style>\n",
       "<table border=\"1\" class=\"dataframe\">\n",
       "  <thead>\n",
       "    <tr style=\"text-align: right;\">\n",
       "      <th></th>\n",
       "      <th>values</th>\n",
       "    </tr>\n",
       "  </thead>\n",
       "  <tbody>\n",
       "    <tr>\n",
       "      <th>0</th>\n",
       "      <td>1</td>\n",
       "    </tr>\n",
       "    <tr>\n",
       "      <th>1</th>\n",
       "      <td>2</td>\n",
       "    </tr>\n",
       "    <tr>\n",
       "      <th>2</th>\n",
       "      <td>3</td>\n",
       "    </tr>\n",
       "    <tr>\n",
       "      <th>3</th>\n",
       "      <td>5</td>\n",
       "    </tr>\n",
       "  </tbody>\n",
       "</table>\n",
       "</div>"
      ],
      "text/plain": [
       "   values\n",
       "0       1\n",
       "1       2\n",
       "2       3\n",
       "3       5"
      ]
     },
     "execution_count": 94,
     "metadata": {},
     "output_type": "execute_result"
    }
   ],
   "source": [
    "#using pandas\n",
    "b.mode()"
   ]
  },
  {
   "cell_type": "code",
   "execution_count": 95,
   "id": "7d831483",
   "metadata": {},
   "outputs": [
    {
     "data": {
      "text/plain": [
       "1.2"
      ]
     },
     "execution_count": 95,
     "metadata": {},
     "output_type": "execute_result"
    }
   ],
   "source": [
    "#variance\n",
    "a=[1,1,2,2,4]\n",
    "\n",
    "#using numpy\n",
    "np.var(a)"
   ]
  },
  {
   "cell_type": "code",
   "execution_count": 96,
   "id": "6b537c78",
   "metadata": {},
   "outputs": [
    {
     "name": "stdout",
     "output_type": "stream",
     "text": [
      "Variance : 1.2\n"
     ]
    }
   ],
   "source": [
    "print('Variance :',np.var(a))"
   ]
  },
  {
   "cell_type": "code",
   "execution_count": 97,
   "id": "92f2df89",
   "metadata": {},
   "outputs": [
    {
     "data": {
      "text/plain": [
       "1.0954451150103321"
      ]
     },
     "execution_count": 97,
     "metadata": {},
     "output_type": "execute_result"
    }
   ],
   "source": [
    "#standard deviation\n",
    "a=[1,1,2,2,4]\n",
    "#using numpy\n",
    "np.std(a)"
   ]
  },
  {
   "cell_type": "code",
   "execution_count": 98,
   "id": "dce32791",
   "metadata": {},
   "outputs": [
    {
     "name": "stdout",
     "output_type": "stream",
     "text": [
      "Standard deviation : 1.0954451150103321\n"
     ]
    }
   ],
   "source": [
    "print('Standard deviation :',np.std(a))"
   ]
  },
  {
   "cell_type": "markdown",
   "id": "2ca748b8",
   "metadata": {},
   "source": [
    "# Example 7"
   ]
  },
  {
   "cell_type": "code",
   "execution_count": 99,
   "id": "e2bdd00d",
   "metadata": {},
   "outputs": [
    {
     "data": {
      "text/plain": [
       "2.0"
      ]
     },
     "execution_count": 99,
     "metadata": {},
     "output_type": "execute_result"
    }
   ],
   "source": [
    "#mean\n",
    "\n",
    "import numpy as np\n",
    "a=[2,2,2,2,2]\n",
    "\n",
    "#using numpy\n",
    "np.mean(a)"
   ]
  },
  {
   "cell_type": "code",
   "execution_count": 100,
   "id": "b894612f",
   "metadata": {},
   "outputs": [
    {
     "name": "stdout",
     "output_type": "stream",
     "text": [
      "mean : 2.0\n"
     ]
    }
   ],
   "source": [
    "print(\"mean :\",np.mean(a))"
   ]
  },
  {
   "cell_type": "code",
   "execution_count": 101,
   "id": "60b7adf9",
   "metadata": {},
   "outputs": [
    {
     "data": {
      "text/plain": [
       "2.0"
      ]
     },
     "execution_count": 101,
     "metadata": {},
     "output_type": "execute_result"
    }
   ],
   "source": [
    "#median\n",
    "import numpy as np\n",
    "a=[2,2,2,2,2]\n",
    "\n",
    "#using numpy\n",
    "np.median(a)"
   ]
  },
  {
   "cell_type": "code",
   "execution_count": 102,
   "id": "e4982bac",
   "metadata": {},
   "outputs": [
    {
     "name": "stdout",
     "output_type": "stream",
     "text": [
      "median : 2.0\n"
     ]
    }
   ],
   "source": [
    "print(\"median :\",np.median(a))"
   ]
  },
  {
   "cell_type": "code",
   "execution_count": 103,
   "id": "830350cc",
   "metadata": {},
   "outputs": [
    {
     "data": {
      "text/plain": [
       "0.0"
      ]
     },
     "execution_count": 103,
     "metadata": {},
     "output_type": "execute_result"
    }
   ],
   "source": [
    "#variance\n",
    "a=[2,2,2,2,2]\n",
    "\n",
    "#using numpy\n",
    "np.var(a)"
   ]
  },
  {
   "cell_type": "code",
   "execution_count": 104,
   "id": "9e743aa9",
   "metadata": {},
   "outputs": [
    {
     "name": "stdout",
     "output_type": "stream",
     "text": [
      "Variance : 0.0\n"
     ]
    }
   ],
   "source": [
    "print('Variance :',np.var(a))"
   ]
  },
  {
   "cell_type": "code",
   "execution_count": 105,
   "id": "735bbb34",
   "metadata": {},
   "outputs": [
    {
     "data": {
      "text/plain": [
       "0.0"
      ]
     },
     "execution_count": 105,
     "metadata": {},
     "output_type": "execute_result"
    }
   ],
   "source": [
    "#standard deviation\n",
    "a=[2,2,2,2,2]\n",
    "#using numpy\n",
    "np.std(a)"
   ]
  },
  {
   "cell_type": "code",
   "execution_count": 106,
   "id": "1183bd1e",
   "metadata": {},
   "outputs": [
    {
     "name": "stdout",
     "output_type": "stream",
     "text": [
      "Standard deviation : 0.0\n"
     ]
    }
   ],
   "source": [
    "print('Standard deviation :',np.std(a))"
   ]
  },
  {
   "cell_type": "markdown",
   "id": "256916f1",
   "metadata": {},
   "source": [
    "# Example 8"
   ]
  },
  {
   "cell_type": "code",
   "execution_count": 107,
   "id": "6dc89d1e",
   "metadata": {},
   "outputs": [
    {
     "data": {
      "text/plain": [
       "1668.3333333333333"
      ]
     },
     "execution_count": 107,
     "metadata": {},
     "output_type": "execute_result"
    }
   ],
   "source": [
    "#mean\n",
    "\n",
    "import numpy as np\n",
    "a=[2,2,2,2,2,10000]\n",
    "\n",
    "#using numpy\n",
    "np.mean(a)"
   ]
  },
  {
   "cell_type": "code",
   "execution_count": 108,
   "id": "811ff969",
   "metadata": {},
   "outputs": [
    {
     "name": "stdout",
     "output_type": "stream",
     "text": [
      "mean : 1668.3333333333333\n"
     ]
    }
   ],
   "source": [
    "print(\"mean :\",np.mean(a))"
   ]
  },
  {
   "cell_type": "code",
   "execution_count": 109,
   "id": "131b6c73",
   "metadata": {},
   "outputs": [
    {
     "data": {
      "text/plain": [
       "2.0"
      ]
     },
     "execution_count": 109,
     "metadata": {},
     "output_type": "execute_result"
    }
   ],
   "source": [
    "#median\n",
    "import numpy as np\n",
    "a=[2,2,2,2,2,10000]\n",
    "\n",
    "#using numpy\n",
    "np.median(a)"
   ]
  },
  {
   "cell_type": "code",
   "execution_count": 110,
   "id": "8155d380",
   "metadata": {},
   "outputs": [
    {
     "name": "stdout",
     "output_type": "stream",
     "text": [
      "median : 2.0\n"
     ]
    }
   ],
   "source": [
    "print(\"median :\",np.median(a))"
   ]
  },
  {
   "cell_type": "code",
   "execution_count": 111,
   "id": "bc021813",
   "metadata": {},
   "outputs": [
    {
     "data": {
      "text/plain": [
       "13883333.888888886"
      ]
     },
     "execution_count": 111,
     "metadata": {},
     "output_type": "execute_result"
    }
   ],
   "source": [
    "#variance\n",
    "a=[2,2,2,2,2,10000]\n",
    "\n",
    "#using numpy\n",
    "np.var(a)"
   ]
  },
  {
   "cell_type": "code",
   "execution_count": 112,
   "id": "0036cc73",
   "metadata": {},
   "outputs": [
    {
     "name": "stdout",
     "output_type": "stream",
     "text": [
      "Variance : 13883333.888888886\n"
     ]
    }
   ],
   "source": [
    "print('Variance :',np.var(a))"
   ]
  },
  {
   "cell_type": "code",
   "execution_count": 113,
   "id": "5b1ddff5",
   "metadata": {},
   "outputs": [
    {
     "data": {
      "text/plain": [
       "3726.0346065071494"
      ]
     },
     "execution_count": 113,
     "metadata": {},
     "output_type": "execute_result"
    }
   ],
   "source": [
    "#standard deviation\n",
    "a=[2,2,2,2,2,10000]\n",
    "#using numpy\n",
    "np.std(a)"
   ]
  },
  {
   "cell_type": "code",
   "execution_count": 114,
   "id": "75faee25",
   "metadata": {},
   "outputs": [
    {
     "name": "stdout",
     "output_type": "stream",
     "text": [
      "Standard deviation : 3726.0346065071494\n"
     ]
    }
   ],
   "source": [
    "print('Standard deviation :',np.std(a))"
   ]
  }
 ],
 "metadata": {
  "kernelspec": {
   "display_name": "Python 3 (ipykernel)",
   "language": "python",
   "name": "python3"
  },
  "language_info": {
   "codemirror_mode": {
    "name": "ipython",
    "version": 3
   },
   "file_extension": ".py",
   "mimetype": "text/x-python",
   "name": "python",
   "nbconvert_exporter": "python",
   "pygments_lexer": "ipython3",
   "version": "3.10.9"
  }
 },
 "nbformat": 4,
 "nbformat_minor": 5
}
