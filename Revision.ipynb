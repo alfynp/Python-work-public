{
 "cells": [
  {
   "cell_type": "code",
   "execution_count": 70,
   "id": "5e1b6978",
   "metadata": {},
   "outputs": [],
   "source": [
    "import numpy as np\n",
    "import pandas as pd\n",
    "import matplotlib.pyplot as plt"
   ]
  },
  {
   "cell_type": "code",
   "execution_count": 6,
   "id": "529fefe5",
   "metadata": {},
   "outputs": [
    {
     "name": "stdout",
     "output_type": "stream",
     "text": [
      "Six less than ten!\n"
     ]
    }
   ],
   "source": [
    "if 6 < 10:\n",
    "    print('Six less than ten!')"
   ]
  },
  {
   "cell_type": "code",
   "execution_count": 8,
   "id": "2eaabd53",
   "metadata": {},
   "outputs": [
    {
     "name": "stdout",
     "output_type": "stream",
     "text": [
      "6 less than 10\n"
     ]
    }
   ],
   "source": [
    "x=6\n",
    "y=10\n",
    "\n",
    "if x<y:\n",
    "\n",
    "  print(\"6 less than 10\")"
   ]
  },
  {
   "cell_type": "code",
   "execution_count": 14,
   "id": "50e426be",
   "metadata": {
    "scrolled": true
   },
   "outputs": [
    {
     "name": "stdout",
     "output_type": "stream",
     "text": [
      "<class 'float'>\n"
     ]
    }
   ],
   "source": [
    "num=6.9\n",
    "print(type(num)) # datatype"
   ]
  },
  {
   "cell_type": "code",
   "execution_count": 15,
   "id": "9f4c0c8f",
   "metadata": {},
   "outputs": [
    {
     "name": "stdout",
     "output_type": "stream",
     "text": [
      "Niya Filo and are good friends\n"
     ]
    }
   ],
   "source": [
    "t='Niya'\n",
    "y='Filo'\n",
    "z='and'\n",
    "x='are good friends'\n",
    "print(t,y,z,x)"
   ]
  },
  {
   "cell_type": "code",
   "execution_count": 12,
   "id": "6bb6c9b1",
   "metadata": {},
   "outputs": [
    {
     "name": "stdout",
     "output_type": "stream",
     "text": [
      "first number:20\n"
     ]
    }
   ],
   "source": [
    "x=input('first number:')"
   ]
  },
  {
   "cell_type": "code",
   "execution_count": 13,
   "id": "f5b4cff1",
   "metadata": {},
   "outputs": [
    {
     "name": "stdout",
     "output_type": "stream",
     "text": [
      "\n",
      "Second number:40\n"
     ]
    }
   ],
   "source": [
    "y=input('\\nSecond number:')"
   ]
  },
  {
   "cell_type": "code",
   "execution_count": 15,
   "id": "60090a8e",
   "metadata": {},
   "outputs": [
    {
     "data": {
      "text/plain": [
       "800"
      ]
     },
     "execution_count": 15,
     "metadata": {},
     "output_type": "execute_result"
    }
   ],
   "source": [
    "Mul=(20*40)\n",
    "Mul"
   ]
  },
  {
   "cell_type": "code",
   "execution_count": 17,
   "id": "1137fd5b",
   "metadata": {},
   "outputs": [
    {
     "name": "stdout",
     "output_type": "stream",
     "text": [
      "the multiplied value of 20 and 40 is 800\n"
     ]
    }
   ],
   "source": [
    "print('the multiplied value of {0} and {1} is {2}'.format(x,y,Mul))"
   ]
  },
  {
   "cell_type": "code",
   "execution_count": 24,
   "id": "7e7efc45",
   "metadata": {},
   "outputs": [
    {
     "data": {
      "text/html": [
       "<div>\n",
       "<style scoped>\n",
       "    .dataframe tbody tr th:only-of-type {\n",
       "        vertical-align: middle;\n",
       "    }\n",
       "\n",
       "    .dataframe tbody tr th {\n",
       "        vertical-align: top;\n",
       "    }\n",
       "\n",
       "    .dataframe thead th {\n",
       "        text-align: right;\n",
       "    }\n",
       "</style>\n",
       "<table border=\"1\" class=\"dataframe\">\n",
       "  <thead>\n",
       "    <tr style=\"text-align: right;\">\n",
       "      <th></th>\n",
       "      <th>numbers</th>\n",
       "    </tr>\n",
       "  </thead>\n",
       "  <tbody>\n",
       "    <tr>\n",
       "      <th>0</th>\n",
       "      <td>100</td>\n",
       "    </tr>\n",
       "    <tr>\n",
       "      <th>1</th>\n",
       "      <td>234</td>\n",
       "    </tr>\n",
       "    <tr>\n",
       "      <th>2</th>\n",
       "      <td>120</td>\n",
       "    </tr>\n",
       "    <tr>\n",
       "      <th>3</th>\n",
       "      <td>111</td>\n",
       "    </tr>\n",
       "    <tr>\n",
       "      <th>4</th>\n",
       "      <td>121</td>\n",
       "    </tr>\n",
       "  </tbody>\n",
       "</table>\n",
       "</div>"
      ],
      "text/plain": [
       "   numbers\n",
       "0      100\n",
       "1      234\n",
       "2      120\n",
       "3      111\n",
       "4      121"
      ]
     },
     "execution_count": 24,
     "metadata": {},
     "output_type": "execute_result"
    }
   ],
   "source": [
    "a=[100,234,120,111,121]\n",
    "import pandas as pd\n",
    "b=pd.DataFrame(data={'numbers':[100,234,120,111,121]})\n",
    "b"
   ]
  },
  {
   "cell_type": "code",
   "execution_count": 25,
   "id": "871f3867",
   "metadata": {},
   "outputs": [
    {
     "data": {
      "text/html": [
       "<div>\n",
       "<style scoped>\n",
       "    .dataframe tbody tr th:only-of-type {\n",
       "        vertical-align: middle;\n",
       "    }\n",
       "\n",
       "    .dataframe tbody tr th {\n",
       "        vertical-align: top;\n",
       "    }\n",
       "\n",
       "    .dataframe thead th {\n",
       "        text-align: right;\n",
       "    }\n",
       "</style>\n",
       "<table border=\"1\" class=\"dataframe\">\n",
       "  <thead>\n",
       "    <tr style=\"text-align: right;\">\n",
       "      <th></th>\n",
       "      <th>Name of products</th>\n",
       "      <th>Model</th>\n",
       "      <th>colour</th>\n",
       "      <th>date</th>\n",
       "      <th>price</th>\n",
       "    </tr>\n",
       "  </thead>\n",
       "  <tbody>\n",
       "    <tr>\n",
       "      <th>0</th>\n",
       "      <td>LG</td>\n",
       "      <td>i5</td>\n",
       "      <td>black</td>\n",
       "      <td>2020-06-01 00:00:00</td>\n",
       "      <td>66100</td>\n",
       "    </tr>\n",
       "    <tr>\n",
       "      <th>1</th>\n",
       "      <td>DELL</td>\n",
       "      <td>i3</td>\n",
       "      <td>black</td>\n",
       "      <td>01/23/2020</td>\n",
       "      <td>37500</td>\n",
       "    </tr>\n",
       "    <tr>\n",
       "      <th>2</th>\n",
       "      <td>DELL</td>\n",
       "      <td>i5</td>\n",
       "      <td>black</td>\n",
       "      <td>2020-09-02 00:00:00</td>\n",
       "      <td>86800</td>\n",
       "    </tr>\n",
       "    <tr>\n",
       "      <th>3</th>\n",
       "      <td>LG</td>\n",
       "      <td>i7</td>\n",
       "      <td>black</td>\n",
       "      <td>2020-09-03 00:00:00</td>\n",
       "      <td>90500</td>\n",
       "    </tr>\n",
       "    <tr>\n",
       "      <th>4</th>\n",
       "      <td>HP</td>\n",
       "      <td>i7</td>\n",
       "      <td>silver</td>\n",
       "      <td>2020-09-04 00:00:00</td>\n",
       "      <td>99200</td>\n",
       "    </tr>\n",
       "    <tr>\n",
       "      <th>5</th>\n",
       "      <td>DELL</td>\n",
       "      <td>i5</td>\n",
       "      <td>matt</td>\n",
       "      <td>2020-09-05 00:00:00</td>\n",
       "      <td>48900</td>\n",
       "    </tr>\n",
       "    <tr>\n",
       "      <th>6</th>\n",
       "      <td>ASUS</td>\n",
       "      <td>i3</td>\n",
       "      <td>silver</td>\n",
       "      <td>2020-09-06 00:00:00</td>\n",
       "      <td>36000</td>\n",
       "    </tr>\n",
       "    <tr>\n",
       "      <th>7</th>\n",
       "      <td>ACER</td>\n",
       "      <td>i5</td>\n",
       "      <td>black</td>\n",
       "      <td>2020-09-07 00:00:00</td>\n",
       "      <td>55200</td>\n",
       "    </tr>\n",
       "    <tr>\n",
       "      <th>8</th>\n",
       "      <td>DELL</td>\n",
       "      <td>i5</td>\n",
       "      <td>red</td>\n",
       "      <td>2020-09-08 00:00:00</td>\n",
       "      <td>77000</td>\n",
       "    </tr>\n",
       "    <tr>\n",
       "      <th>9</th>\n",
       "      <td>HP</td>\n",
       "      <td>i5</td>\n",
       "      <td>silver</td>\n",
       "      <td>2020-09-09 00:00:00</td>\n",
       "      <td>68000</td>\n",
       "    </tr>\n",
       "    <tr>\n",
       "      <th>10</th>\n",
       "      <td>LG</td>\n",
       "      <td>i7</td>\n",
       "      <td>silver</td>\n",
       "      <td>2020-09-10 00:00:00</td>\n",
       "      <td>77600</td>\n",
       "    </tr>\n",
       "    <tr>\n",
       "      <th>11</th>\n",
       "      <td>DELL</td>\n",
       "      <td>i3</td>\n",
       "      <td>black</td>\n",
       "      <td>2020-09-11 00:00:00</td>\n",
       "      <td>39900</td>\n",
       "    </tr>\n",
       "    <tr>\n",
       "      <th>12</th>\n",
       "      <td>HP</td>\n",
       "      <td>i5</td>\n",
       "      <td>matt</td>\n",
       "      <td>2020-09-12 00:00:00</td>\n",
       "      <td>63500</td>\n",
       "    </tr>\n",
       "    <tr>\n",
       "      <th>13</th>\n",
       "      <td>HP</td>\n",
       "      <td>i5</td>\n",
       "      <td>silver</td>\n",
       "      <td>2020-09-13 00:00:00</td>\n",
       "      <td>68500</td>\n",
       "    </tr>\n",
       "    <tr>\n",
       "      <th>14</th>\n",
       "      <td>HP</td>\n",
       "      <td>i5</td>\n",
       "      <td>matt</td>\n",
       "      <td>2020-09-14 00:00:00</td>\n",
       "      <td>65400</td>\n",
       "    </tr>\n",
       "    <tr>\n",
       "      <th>15</th>\n",
       "      <td>ASUS</td>\n",
       "      <td>i5</td>\n",
       "      <td>silver</td>\n",
       "      <td>2020-09-15 00:00:00</td>\n",
       "      <td>42500</td>\n",
       "    </tr>\n",
       "    <tr>\n",
       "      <th>16</th>\n",
       "      <td>ASUS</td>\n",
       "      <td>i7</td>\n",
       "      <td>silver</td>\n",
       "      <td>2020-09-16 00:00:00</td>\n",
       "      <td>83640</td>\n",
       "    </tr>\n",
       "    <tr>\n",
       "      <th>17</th>\n",
       "      <td>HP</td>\n",
       "      <td>i7</td>\n",
       "      <td>silver</td>\n",
       "      <td>2020-09-17 00:00:00</td>\n",
       "      <td>83200</td>\n",
       "    </tr>\n",
       "    <tr>\n",
       "      <th>18</th>\n",
       "      <td>HP</td>\n",
       "      <td>i3</td>\n",
       "      <td>black</td>\n",
       "      <td>2020-09-18 00:00:00</td>\n",
       "      <td>32200</td>\n",
       "    </tr>\n",
       "    <tr>\n",
       "      <th>19</th>\n",
       "      <td>HP</td>\n",
       "      <td>i5</td>\n",
       "      <td>black</td>\n",
       "      <td>2020-09-19 00:00:00</td>\n",
       "      <td>62600</td>\n",
       "    </tr>\n",
       "    <tr>\n",
       "      <th>20</th>\n",
       "      <td>LG</td>\n",
       "      <td>i5</td>\n",
       "      <td>black</td>\n",
       "      <td>2020-09-20 00:00:00</td>\n",
       "      <td>52300</td>\n",
       "    </tr>\n",
       "    <tr>\n",
       "      <th>21</th>\n",
       "      <td>DELL</td>\n",
       "      <td>i7</td>\n",
       "      <td>black</td>\n",
       "      <td>2020-09-21 00:00:00</td>\n",
       "      <td>88200</td>\n",
       "    </tr>\n",
       "  </tbody>\n",
       "</table>\n",
       "</div>"
      ],
      "text/plain": [
       "   Name of products Model  colour                 date  price\n",
       "0                LG    i5   black  2020-06-01 00:00:00  66100\n",
       "1              DELL    i3   black           01/23/2020  37500\n",
       "2              DELL    i5   black  2020-09-02 00:00:00  86800\n",
       "3                LG    i7   black  2020-09-03 00:00:00  90500\n",
       "4                HP    i7  silver  2020-09-04 00:00:00  99200\n",
       "5              DELL    i5    matt  2020-09-05 00:00:00  48900\n",
       "6              ASUS    i3  silver  2020-09-06 00:00:00  36000\n",
       "7              ACER    i5   black  2020-09-07 00:00:00  55200\n",
       "8              DELL    i5     red  2020-09-08 00:00:00  77000\n",
       "9                HP    i5  silver  2020-09-09 00:00:00  68000\n",
       "10               LG    i7  silver  2020-09-10 00:00:00  77600\n",
       "11             DELL    i3   black  2020-09-11 00:00:00  39900\n",
       "12               HP    i5    matt  2020-09-12 00:00:00  63500\n",
       "13               HP    i5  silver  2020-09-13 00:00:00  68500\n",
       "14               HP    i5    matt  2020-09-14 00:00:00  65400\n",
       "15             ASUS    i5  silver  2020-09-15 00:00:00  42500\n",
       "16             ASUS    i7  silver  2020-09-16 00:00:00  83640\n",
       "17               HP    i7  silver  2020-09-17 00:00:00  83200\n",
       "18               HP    i3   black  2020-09-18 00:00:00  32200\n",
       "19               HP    i5   black  2020-09-19 00:00:00  62600\n",
       "20               LG    i5   black  2020-09-20 00:00:00  52300\n",
       "21             DELL    i7   black  2020-09-21 00:00:00  88200"
      ]
     },
     "execution_count": 25,
     "metadata": {},
     "output_type": "execute_result"
    }
   ],
   "source": [
    "import pandas as pd\n",
    "data=pd.read_excel(\"Lap Data.xlsx\")\n",
    "data"
   ]
  },
  {
   "cell_type": "code",
   "execution_count": 80,
   "id": "1c50c9bc",
   "metadata": {},
   "outputs": [
    {
     "data": {
      "text/html": [
       "<div>\n",
       "<style scoped>\n",
       "    .dataframe tbody tr th:only-of-type {\n",
       "        vertical-align: middle;\n",
       "    }\n",
       "\n",
       "    .dataframe tbody tr th {\n",
       "        vertical-align: top;\n",
       "    }\n",
       "\n",
       "    .dataframe thead th {\n",
       "        text-align: right;\n",
       "    }\n",
       "</style>\n",
       "<table border=\"1\" class=\"dataframe\">\n",
       "  <thead>\n",
       "    <tr style=\"text-align: right;\">\n",
       "      <th></th>\n",
       "      <th>Name of products</th>\n",
       "      <th>Model</th>\n",
       "      <th>colour</th>\n",
       "      <th>date</th>\n",
       "      <th>price</th>\n",
       "    </tr>\n",
       "  </thead>\n",
       "  <tbody>\n",
       "    <tr>\n",
       "      <th>0</th>\n",
       "      <td>LG</td>\n",
       "      <td>i5</td>\n",
       "      <td>black</td>\n",
       "      <td>2020-06-01 00:00:00</td>\n",
       "      <td>66100</td>\n",
       "    </tr>\n",
       "    <tr>\n",
       "      <th>1</th>\n",
       "      <td>DELL</td>\n",
       "      <td>i3</td>\n",
       "      <td>black</td>\n",
       "      <td>01/23/2020</td>\n",
       "      <td>37500</td>\n",
       "    </tr>\n",
       "    <tr>\n",
       "      <th>2</th>\n",
       "      <td>DELL</td>\n",
       "      <td>i5</td>\n",
       "      <td>black</td>\n",
       "      <td>2020-09-02 00:00:00</td>\n",
       "      <td>86800</td>\n",
       "    </tr>\n",
       "    <tr>\n",
       "      <th>3</th>\n",
       "      <td>LG</td>\n",
       "      <td>i7</td>\n",
       "      <td>black</td>\n",
       "      <td>2020-09-03 00:00:00</td>\n",
       "      <td>90500</td>\n",
       "    </tr>\n",
       "    <tr>\n",
       "      <th>4</th>\n",
       "      <td>HP</td>\n",
       "      <td>i7</td>\n",
       "      <td>silver</td>\n",
       "      <td>2020-09-04 00:00:00</td>\n",
       "      <td>99200</td>\n",
       "    </tr>\n",
       "  </tbody>\n",
       "</table>\n",
       "</div>"
      ],
      "text/plain": [
       "  Name of products Model  colour                 date  price\n",
       "0               LG    i5   black  2020-06-01 00:00:00  66100\n",
       "1             DELL    i3   black           01/23/2020  37500\n",
       "2             DELL    i5   black  2020-09-02 00:00:00  86800\n",
       "3               LG    i7   black  2020-09-03 00:00:00  90500\n",
       "4               HP    i7  silver  2020-09-04 00:00:00  99200"
      ]
     },
     "execution_count": 80,
     "metadata": {},
     "output_type": "execute_result"
    }
   ],
   "source": [
    "data.head() # shows first 5 rows"
   ]
  },
  {
   "cell_type": "code",
   "execution_count": 81,
   "id": "b5b54b39",
   "metadata": {},
   "outputs": [
    {
     "data": {
      "text/html": [
       "<div>\n",
       "<style scoped>\n",
       "    .dataframe tbody tr th:only-of-type {\n",
       "        vertical-align: middle;\n",
       "    }\n",
       "\n",
       "    .dataframe tbody tr th {\n",
       "        vertical-align: top;\n",
       "    }\n",
       "\n",
       "    .dataframe thead th {\n",
       "        text-align: right;\n",
       "    }\n",
       "</style>\n",
       "<table border=\"1\" class=\"dataframe\">\n",
       "  <thead>\n",
       "    <tr style=\"text-align: right;\">\n",
       "      <th></th>\n",
       "      <th>Name of products</th>\n",
       "      <th>Model</th>\n",
       "      <th>colour</th>\n",
       "      <th>date</th>\n",
       "      <th>price</th>\n",
       "    </tr>\n",
       "  </thead>\n",
       "  <tbody>\n",
       "    <tr>\n",
       "      <th>17</th>\n",
       "      <td>HP</td>\n",
       "      <td>i7</td>\n",
       "      <td>silver</td>\n",
       "      <td>2020-09-17 00:00:00</td>\n",
       "      <td>83200</td>\n",
       "    </tr>\n",
       "    <tr>\n",
       "      <th>18</th>\n",
       "      <td>HP</td>\n",
       "      <td>i3</td>\n",
       "      <td>black</td>\n",
       "      <td>2020-09-18 00:00:00</td>\n",
       "      <td>32200</td>\n",
       "    </tr>\n",
       "    <tr>\n",
       "      <th>19</th>\n",
       "      <td>HP</td>\n",
       "      <td>i5</td>\n",
       "      <td>black</td>\n",
       "      <td>2020-09-19 00:00:00</td>\n",
       "      <td>62600</td>\n",
       "    </tr>\n",
       "    <tr>\n",
       "      <th>20</th>\n",
       "      <td>LG</td>\n",
       "      <td>i5</td>\n",
       "      <td>black</td>\n",
       "      <td>2020-09-20 00:00:00</td>\n",
       "      <td>52300</td>\n",
       "    </tr>\n",
       "    <tr>\n",
       "      <th>21</th>\n",
       "      <td>DELL</td>\n",
       "      <td>i7</td>\n",
       "      <td>black</td>\n",
       "      <td>2020-09-21 00:00:00</td>\n",
       "      <td>88200</td>\n",
       "    </tr>\n",
       "  </tbody>\n",
       "</table>\n",
       "</div>"
      ],
      "text/plain": [
       "   Name of products Model  colour                 date  price\n",
       "17               HP    i7  silver  2020-09-17 00:00:00  83200\n",
       "18               HP    i3   black  2020-09-18 00:00:00  32200\n",
       "19               HP    i5   black  2020-09-19 00:00:00  62600\n",
       "20               LG    i5   black  2020-09-20 00:00:00  52300\n",
       "21             DELL    i7   black  2020-09-21 00:00:00  88200"
      ]
     },
     "execution_count": 81,
     "metadata": {},
     "output_type": "execute_result"
    }
   ],
   "source": [
    "data.tail() # shows the last 5 rows"
   ]
  },
  {
   "cell_type": "code",
   "execution_count": 82,
   "id": "eb582b4f",
   "metadata": {},
   "outputs": [
    {
     "data": {
      "text/plain": [
       "(22, 5)"
      ]
     },
     "execution_count": 82,
     "metadata": {},
     "output_type": "execute_result"
    }
   ],
   "source": [
    "data.shape"
   ]
  },
  {
   "cell_type": "code",
   "execution_count": 83,
   "id": "93a47c78",
   "metadata": {},
   "outputs": [
    {
     "data": {
      "text/plain": [
       "Index(['Name of products', 'Model', 'colour', 'date', 'price'], dtype='object')"
      ]
     },
     "execution_count": 83,
     "metadata": {},
     "output_type": "execute_result"
    }
   ],
   "source": [
    "data.columns"
   ]
  },
  {
   "cell_type": "code",
   "execution_count": 29,
   "id": "4d4e8c13",
   "metadata": {},
   "outputs": [
    {
     "data": {
      "text/plain": [
       "22"
      ]
     },
     "execution_count": 29,
     "metadata": {},
     "output_type": "execute_result"
    }
   ],
   "source": [
    "# Total no.of products\n",
    "data['Name of products'].count()"
   ]
  },
  {
   "cell_type": "code",
   "execution_count": 30,
   "id": "7a0bec46",
   "metadata": {},
   "outputs": [
    {
     "data": {
      "text/plain": [
       "HP      8\n",
       "DELL    6\n",
       "LG      4\n",
       "ASUS    3\n",
       "ACER    1\n",
       "Name: Name of products, dtype: int64"
      ]
     },
     "execution_count": 30,
     "metadata": {},
     "output_type": "execute_result"
    }
   ],
   "source": [
    "# Total no.of each products\n",
    "data['Name of products'].value_counts()"
   ]
  },
  {
   "cell_type": "code",
   "execution_count": 31,
   "id": "11b84689",
   "metadata": {},
   "outputs": [
    {
     "name": "stdout",
     "output_type": "stream",
     "text": [
      "<class 'pandas.core.frame.DataFrame'>\n",
      "RangeIndex: 22 entries, 0 to 21\n",
      "Data columns (total 5 columns):\n",
      " #   Column            Non-Null Count  Dtype \n",
      "---  ------            --------------  ----- \n",
      " 0   Name of products  22 non-null     object\n",
      " 1   Model             22 non-null     object\n",
      " 2   colour            22 non-null     object\n",
      " 3   date              22 non-null     object\n",
      " 4   price             22 non-null     int64 \n",
      "dtypes: int64(1), object(4)\n",
      "memory usage: 1008.0+ bytes\n"
     ]
    }
   ],
   "source": [
    "data.info() # there is no null values"
   ]
  },
  {
   "cell_type": "code",
   "execution_count": 32,
   "id": "d7cff45b",
   "metadata": {},
   "outputs": [
    {
     "data": {
      "text/plain": [
       "i5    12\n",
       "i7     6\n",
       "i3     4\n",
       "Name: Model, dtype: int64"
      ]
     },
     "execution_count": 32,
     "metadata": {},
     "output_type": "execute_result"
    }
   ],
   "source": [
    "# Total no. of each models\n",
    "data['Model'].value_counts()"
   ]
  },
  {
   "cell_type": "code",
   "execution_count": 71,
   "id": "9006f16b",
   "metadata": {},
   "outputs": [
    {
     "data": {
      "text/plain": [
       "Text(0.5, 1.0, 'Date Wise products')"
      ]
     },
     "execution_count": 71,
     "metadata": {},
     "output_type": "execute_result"
    },
    {
     "data": {
      "image/png": "[encoded data removed]",
      "text/plain": [
       "<Figure size 640x480 with 1 Axes>"
      ]
     },
     "metadata": {},
     "output_type": "display_data"
    }
   ],
   "source": [
    "# Date wise products\n",
    "data.groupby('date')['Name of products'] \n",
    "data.plot(x='date',kind='line',fontsize=6,linewidth=3,color=\"green\")\n",
    "plt.title(\"Date Wise products\")\n"
   ]
  },
  {
   "cell_type": "code",
   "execution_count": 51,
   "id": "cfb1718d",
   "metadata": {},
   "outputs": [
    {
     "data": {
      "text/plain": [
       "99200"
      ]
     },
     "execution_count": 51,
     "metadata": {},
     "output_type": "execute_result"
    }
   ],
   "source": [
    "# Maximum price of product\n",
    "data['price'].max()"
   ]
  },
  {
   "cell_type": "code",
   "execution_count": 53,
   "id": "94671645",
   "metadata": {},
   "outputs": [
    {
     "data": {
      "text/plain": [
       "32200"
      ]
     },
     "execution_count": 53,
     "metadata": {},
     "output_type": "execute_result"
    }
   ],
   "source": [
    "# Minimum price of product\n",
    "data['price'].min()"
   ]
  },
  {
   "cell_type": "code",
   "execution_count": 54,
   "id": "62e07f8f",
   "metadata": {},
   "outputs": [
    {
     "data": {
      "text/plain": [
       "64760.90909090909"
      ]
     },
     "execution_count": 54,
     "metadata": {},
     "output_type": "execute_result"
    }
   ],
   "source": [
    "# Average price of product\n",
    "data['price'].mean()"
   ]
  },
  {
   "cell_type": "code",
   "execution_count": 87,
   "id": "dd0a2940",
   "metadata": {},
   "outputs": [
    {
     "data": {
      "text/plain": [
       "67000"
      ]
     },
     "execution_count": 87,
     "metadata": {},
     "output_type": "execute_result"
    }
   ],
   "source": [
    "# Range of price\n",
    "a = 99200-32200\n",
    "a"
   ]
  },
  {
   "cell_type": "code",
   "execution_count": 58,
   "id": "197c288e",
   "metadata": {},
   "outputs": [
    {
     "name": "stderr",
     "output_type": "stream",
     "text": [
      "C:\\Users\\ALAN PETER\\AppData\\Local\\Temp\\ipykernel_65840\\625766220.py:2: FutureWarning: Dropping invalid columns in DataFrameGroupBy.min is deprecated. In a future version, a TypeError will be raised. Before calling .min, select only columns which should be valid for the function.\n",
      "  data.groupby('Name of products').min()['price']\n"
     ]
    },
    {
     "data": {
      "text/plain": [
       "Name of products\n",
       "ACER    55200\n",
       "ASUS    36000\n",
       "DELL    37500\n",
       "HP      32200\n",
       "LG      52300\n",
       "Name: price, dtype: int64"
      ]
     },
     "execution_count": 58,
     "metadata": {},
     "output_type": "execute_result"
    }
   ],
   "source": [
    "# Minimum price of each product\n",
    "data.groupby('Name of products').min()['price']"
   ]
  },
  {
   "cell_type": "code",
   "execution_count": 64,
   "id": "aa77be08",
   "metadata": {},
   "outputs": [
    {
     "name": "stderr",
     "output_type": "stream",
     "text": [
      "C:\\Users\\ALAN PETER\\AppData\\Local\\Temp\\ipykernel_65840\\3840040312.py:2: FutureWarning: Dropping invalid columns in DataFrameGroupBy.max is deprecated. In a future version, a TypeError will be raised. Before calling .max, select only columns which should be valid for the function.\n",
      "  data.groupby('Name of products').max()['price'].plot(kind ='bar')\n"
     ]
    },
    {
     "data": {
      "text/plain": [
       "<Axes: xlabel='Name of products'>"
      ]
     },
     "execution_count": 64,
     "metadata": {},
     "output_type": "execute_result"
    },
    {
     "data": {
      "image/png": "[encoded data removed]",
      "text/plain": [
       "<Figure size 640x480 with 1 Axes>"
      ]
     },
     "metadata": {},
     "output_type": "display_data"
    }
   ],
   "source": [
    "# Maximum price of each product\n",
    "data.groupby('Name of products').max()['price'].plot(kind ='bar')"
   ]
  },
  {
   "cell_type": "code",
   "execution_count": 61,
   "id": "d5b06a11",
   "metadata": {},
   "outputs": [
    {
     "name": "stderr",
     "output_type": "stream",
     "text": [
      "C:\\Users\\ALAN PETER\\AppData\\Local\\Temp\\ipykernel_65840\\301514647.py:2: FutureWarning: The default value of numeric_only in DataFrameGroupBy.mean is deprecated. In a future version, numeric_only will default to False. Either specify numeric_only or select only columns which should be valid for the function.\n",
      "  data.groupby('Name of products').mean()['price']\n"
     ]
    },
    {
     "data": {
      "text/plain": [
       "Name of products\n",
       "ACER    55200.000000\n",
       "ASUS    54046.666667\n",
       "DELL    63050.000000\n",
       "HP      67825.000000\n",
       "LG      71625.000000\n",
       "Name: price, dtype: float64"
      ]
     },
     "execution_count": 61,
     "metadata": {},
     "output_type": "execute_result"
    }
   ],
   "source": [
    "# Average price of each product\n",
    "data.groupby('Name of products').mean()['price']"
   ]
  },
  {
   "cell_type": "code",
   "execution_count": 62,
   "id": "6af66029",
   "metadata": {},
   "outputs": [
    {
     "name": "stderr",
     "output_type": "stream",
     "text": [
      "C:\\Users\\ALAN PETER\\AppData\\Local\\Temp\\ipykernel_65840\\2976069040.py:1: FutureWarning: The default value of numeric_only in DataFrameGroupBy.mean is deprecated. In a future version, numeric_only will default to False. Either specify numeric_only or select only columns which should be valid for the function.\n",
      "  mod=data.groupby('Model').mean()['price']\n"
     ]
    },
    {
     "data": {
      "text/plain": [
       "Model\n",
       "i3    36400.000000\n",
       "i5    63066.666667\n",
       "i7    87056.666667\n",
       "Name: price, dtype: float64"
      ]
     },
     "execution_count": 62,
     "metadata": {},
     "output_type": "execute_result"
    }
   ],
   "source": [
    "mod=data.groupby('Model').mean()['price']\n",
    "mod"
   ]
  },
  {
   "cell_type": "code",
   "execution_count": 63,
   "id": "068d509d",
   "metadata": {},
   "outputs": [
    {
     "data": {
      "text/plain": [
       "<Axes: ylabel='price'>"
      ]
     },
     "execution_count": 63,
     "metadata": {},
     "output_type": "execute_result"
    },
    {
     "data": {
      "image/png": "[encoded data removed]",
      "text/plain": [
       "<Figure size 640x480 with 1 Axes>"
      ]
     },
     "metadata": {},
     "output_type": "display_data"
    }
   ],
   "source": [
    "mod.plot(kind ='pie',autopct='%1.2f%%')"
   ]
  },
  {
   "cell_type": "code",
   "execution_count": 78,
   "id": "14bfcc80",
   "metadata": {},
   "outputs": [
    {
     "name": "stderr",
     "output_type": "stream",
     "text": [
      "C:\\Users\\ALAN PETER\\AppData\\Local\\Temp\\ipykernel_65840\\4157305026.py:1: FutureWarning: The default value of numeric_only in DataFrameGroupBy.sum is deprecated. In a future version, numeric_only will default to False. Either specify numeric_only or select only columns which should be valid for the function.\n",
      "  data.groupby(['Name of products','Model']).sum()['price']\n"
     ]
    },
    {
     "data": {
      "text/plain": [
       "Name of products  Model\n",
       "ACER              i5        55200\n",
       "ASUS              i3        36000\n",
       "                  i5        42500\n",
       "                  i7        83640\n",
       "DELL              i3        77400\n",
       "                  i5       212700\n",
       "                  i7        88200\n",
       "HP                i3        32200\n",
       "                  i5       328000\n",
       "                  i7       182400\n",
       "LG                i5       118400\n",
       "                  i7       168100\n",
       "Name: price, dtype: int64"
      ]
     },
     "execution_count": 78,
     "metadata": {},
     "output_type": "execute_result"
    }
   ],
   "source": [
    "# data.groupby(['Name of products','Model']).sum()['price'].plot(kind='')"
   ]
  },
  {
   "cell_type": "code",
   "execution_count": 84,
   "id": "992f16ef",
   "metadata": {},
   "outputs": [
    {
     "name": "stderr",
     "output_type": "stream",
     "text": [
      "C:\\Users\\ALAN PETER\\AppData\\Local\\Temp\\ipykernel_65840\\326739597.py:2: FutureWarning: The default value of numeric_only in DataFrame.quantile is deprecated. In a future version, it will default to False. Select only valid columns or specify the value of numeric_only to silence this warning.\n",
      "  data.quantile(0.25)['price']\n"
     ]
    },
    {
     "data": {
      "text/plain": [
       "49750.0"
      ]
     },
     "execution_count": 84,
     "metadata": {},
     "output_type": "execute_result"
    }
   ],
   "source": [
    "# Q1 of price\n",
    "data.quantile(0.25)['price']"
   ]
  },
  {
   "cell_type": "code",
   "execution_count": 85,
   "id": "f3a33297",
   "metadata": {},
   "outputs": [
    {
     "name": "stderr",
     "output_type": "stream",
     "text": [
      "C:\\Users\\ALAN PETER\\AppData\\Local\\Temp\\ipykernel_65840\\4212383760.py:2: FutureWarning: The default value of numeric_only in DataFrame.quantile is deprecated. In a future version, it will default to False. Select only valid columns or specify the value of numeric_only to silence this warning.\n",
      "  data.quantile(0.50)['price']\n"
     ]
    },
    {
     "data": {
      "text/plain": [
       "65750.0"
      ]
     },
     "execution_count": 85,
     "metadata": {},
     "output_type": "execute_result"
    }
   ],
   "source": [
    "# Q2 of price\n",
    "data.quantile(0.50)['price']"
   ]
  },
  {
   "cell_type": "code",
   "execution_count": 86,
   "id": "33534ca0",
   "metadata": {},
   "outputs": [
    {
     "name": "stderr",
     "output_type": "stream",
     "text": [
      "C:\\Users\\ALAN PETER\\AppData\\Local\\Temp\\ipykernel_65840\\3048058627.py:2: FutureWarning: The default value of numeric_only in DataFrame.quantile is deprecated. In a future version, it will default to False. Select only valid columns or specify the value of numeric_only to silence this warning.\n",
      "  data.quantile(0.75)['price']\n"
     ]
    },
    {
     "data": {
      "text/plain": [
       "81800.0"
      ]
     },
     "execution_count": 86,
     "metadata": {},
     "output_type": "execute_result"
    }
   ],
   "source": [
    "# Q3 of price\n",
    "data.quantile(0.75)['price']"
   ]
  },
  {
   "cell_type": "markdown",
   "id": "194ea44d",
   "metadata": {},
   "source": [
    "## Conclusion"
   ]
  },
  {
   "cell_type": "markdown",
   "id": "cbfed855",
   "metadata": {},
   "source": [
    "This is a Lap Data.\n",
    "Data contains in 5 rows and 22 columns.\n",
    "Data contains Name of products,Model,color,date and price.\n",
    "There is no null values in the data.\n",
    "Total number of products is 22.\n",
    "HP is the most sale product and least sales product is Acer.\n",
    "i5 model has more sales.\n",
    "The Maximum price of product is 99200.\n",
    "The  Minimum price of product is 32200.\n",
    "64761 is average price of product.\n",
    "Bar chart shown maximum price of each product.\n",
    "Q1 of price is 49750,Q2 of price is 65750 and Q3 of price is 81800."
   ]
  }
 ],
 "metadata": {
  "kernelspec": {
   "display_name": "Python 3 (ipykernel)",
   "language": "python",
   "name": "python3"
  },
  "language_info": {
   "codemirror_mode": {
    "name": "ipython",
    "version": 3
   },
   "file_extension": ".py",
   "mimetype": "text/x-python",
   "name": "python",
   "nbconvert_exporter": "python",
   "pygments_lexer": "ipython3",
   "version": "3.10.9"
  }
 },
 "nbformat": 4,
 "nbformat_minor": 5
}
