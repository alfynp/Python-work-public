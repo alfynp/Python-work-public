{
 "cells": [
  {
   "cell_type": "markdown",
   "id": "086f6dcb",
   "metadata": {},
   "source": [
    "# Sales by Region"
   ]
  },
  {
   "cell_type": "code",
   "execution_count": 2,
   "id": "362569d1",
   "metadata": {},
   "outputs": [
    {
     "data": {
      "text/html": [
       "<div>\n",
       "<style scoped>\n",
       "    .dataframe tbody tr th:only-of-type {\n",
       "        vertical-align: middle;\n",
       "    }\n",
       "\n",
       "    .dataframe tbody tr th {\n",
       "        vertical-align: top;\n",
       "    }\n",
       "\n",
       "    .dataframe thead th {\n",
       "        text-align: right;\n",
       "    }\n",
       "</style>\n",
       "<table border=\"1\" class=\"dataframe\">\n",
       "  <thead>\n",
       "    <tr style=\"text-align: right;\">\n",
       "      <th></th>\n",
       "      <th>Order ID</th>\n",
       "      <th>Order Date</th>\n",
       "      <th>Product Name</th>\n",
       "      <th>Category</th>\n",
       "      <th>Quantity</th>\n",
       "      <th>Sales</th>\n",
       "      <th>Region</th>\n",
       "      <th>Customer</th>\n",
       "    </tr>\n",
       "  </thead>\n",
       "  <tbody>\n",
       "    <tr>\n",
       "      <th>0</th>\n",
       "      <td>BN-2011-7407039</td>\n",
       "      <td>2011-01-01</td>\n",
       "      <td>Enermax Note Cards, Premium</td>\n",
       "      <td>Office Supplies</td>\n",
       "      <td>3</td>\n",
       "      <td>45</td>\n",
       "      <td>North</td>\n",
       "      <td>Ruby Patel</td>\n",
       "    </tr>\n",
       "    <tr>\n",
       "      <th>1</th>\n",
       "      <td>AZ-2011-9050313</td>\n",
       "      <td>2011-01-03</td>\n",
       "      <td>Dania Corner Shelving, Traditional</td>\n",
       "      <td>Furniture</td>\n",
       "      <td>7</td>\n",
       "      <td>854</td>\n",
       "      <td>North</td>\n",
       "      <td>Summer Hayward</td>\n",
       "    </tr>\n",
       "    <tr>\n",
       "      <th>2</th>\n",
       "      <td>AZ-2011-6674300</td>\n",
       "      <td>2011-01-04</td>\n",
       "      <td>Binney &amp; Smith Sketch Pad, Easy-Erase</td>\n",
       "      <td>Office Supplies</td>\n",
       "      <td>3</td>\n",
       "      <td>140</td>\n",
       "      <td>Central</td>\n",
       "      <td>Devin Huddleston</td>\n",
       "    </tr>\n",
       "    <tr>\n",
       "      <th>3</th>\n",
       "      <td>BN-2011-2819714</td>\n",
       "      <td>2011-01-04</td>\n",
       "      <td>Boston Markers, Easy-Erase</td>\n",
       "      <td>Office Supplies</td>\n",
       "      <td>2</td>\n",
       "      <td>27</td>\n",
       "      <td>North</td>\n",
       "      <td>Mary Parker</td>\n",
       "    </tr>\n",
       "    <tr>\n",
       "      <th>4</th>\n",
       "      <td>AZ-2011-617423</td>\n",
       "      <td>2011-01-05</td>\n",
       "      <td>Binney &amp; Smith Pencil Sharpener, Water Color</td>\n",
       "      <td>Office Supplies</td>\n",
       "      <td>3</td>\n",
       "      <td>90</td>\n",
       "      <td>Central</td>\n",
       "      <td>Daniel Burke</td>\n",
       "    </tr>\n",
       "    <tr>\n",
       "      <th>...</th>\n",
       "      <td>...</td>\n",
       "      <td>...</td>\n",
       "      <td>...</td>\n",
       "      <td>...</td>\n",
       "      <td>...</td>\n",
       "      <td>...</td>\n",
       "      <td>...</td>\n",
       "      <td>...</td>\n",
       "    </tr>\n",
       "    <tr>\n",
       "      <th>4112</th>\n",
       "      <td>AZ-2014-8174835</td>\n",
       "      <td>2014-12-31</td>\n",
       "      <td>Kleencut Shears, Serrated</td>\n",
       "      <td>Office Supplies</td>\n",
       "      <td>6</td>\n",
       "      <td>261</td>\n",
       "      <td>Central</td>\n",
       "      <td>Eloise Sykes</td>\n",
       "    </tr>\n",
       "    <tr>\n",
       "      <th>4113</th>\n",
       "      <td>AZ-2014-766953</td>\n",
       "      <td>2014-12-31</td>\n",
       "      <td>Ikea Stackable Bookrack, Traditional</td>\n",
       "      <td>Furniture</td>\n",
       "      <td>2</td>\n",
       "      <td>245</td>\n",
       "      <td>North</td>\n",
       "      <td>Jose Gambino</td>\n",
       "    </tr>\n",
       "    <tr>\n",
       "      <th>4114</th>\n",
       "      <td>AZ-2014-1412225</td>\n",
       "      <td>2014-12-31</td>\n",
       "      <td>Fellowes Shelving, Single Width</td>\n",
       "      <td>Office Supplies</td>\n",
       "      <td>5</td>\n",
       "      <td>289</td>\n",
       "      <td>North</td>\n",
       "      <td>Leon Barnes</td>\n",
       "    </tr>\n",
       "    <tr>\n",
       "      <th>4115</th>\n",
       "      <td>AZ-2014-7604524</td>\n",
       "      <td>2014-12-31</td>\n",
       "      <td>Wilson Jones Index Tab, Economy</td>\n",
       "      <td>Office Supplies</td>\n",
       "      <td>5</td>\n",
       "      <td>32</td>\n",
       "      <td>Central</td>\n",
       "      <td>Rebecca Chamberlain</td>\n",
       "    </tr>\n",
       "    <tr>\n",
       "      <th>4116</th>\n",
       "      <td>BN-2014-4140795</td>\n",
       "      <td>2014-12-31</td>\n",
       "      <td>BIC Pencil Sharpener, Fluorescent</td>\n",
       "      <td>Office Supplies</td>\n",
       "      <td>2</td>\n",
       "      <td>30</td>\n",
       "      <td>Central</td>\n",
       "      <td>Daniel Hamilton</td>\n",
       "    </tr>\n",
       "  </tbody>\n",
       "</table>\n",
       "<p>4117 rows × 8 columns</p>\n",
       "</div>"
      ],
      "text/plain": [
       "             Order ID Order Date  \\\n",
       "0     BN-2011-7407039 2011-01-01   \n",
       "1     AZ-2011-9050313 2011-01-03   \n",
       "2     AZ-2011-6674300 2011-01-04   \n",
       "3     BN-2011-2819714 2011-01-04   \n",
       "4      AZ-2011-617423 2011-01-05   \n",
       "...               ...        ...   \n",
       "4112  AZ-2014-8174835 2014-12-31   \n",
       "4113   AZ-2014-766953 2014-12-31   \n",
       "4114  AZ-2014-1412225 2014-12-31   \n",
       "4115  AZ-2014-7604524 2014-12-31   \n",
       "4116  BN-2014-4140795 2014-12-31   \n",
       "\n",
       "                                      Product Name         Category  Quantity  \\\n",
       "0                      Enermax Note Cards, Premium  Office Supplies         3   \n",
       "1               Dania Corner Shelving, Traditional        Furniture         7   \n",
       "2            Binney & Smith Sketch Pad, Easy-Erase  Office Supplies         3   \n",
       "3                       Boston Markers, Easy-Erase  Office Supplies         2   \n",
       "4     Binney & Smith Pencil Sharpener, Water Color  Office Supplies         3   \n",
       "...                                            ...              ...       ...   \n",
       "4112                     Kleencut Shears, Serrated  Office Supplies         6   \n",
       "4113          Ikea Stackable Bookrack, Traditional        Furniture         2   \n",
       "4114               Fellowes Shelving, Single Width  Office Supplies         5   \n",
       "4115               Wilson Jones Index Tab, Economy  Office Supplies         5   \n",
       "4116             BIC Pencil Sharpener, Fluorescent  Office Supplies         2   \n",
       "\n",
       "      Sales   Region             Customer  \n",
       "0        45    North           Ruby Patel  \n",
       "1       854    North       Summer Hayward  \n",
       "2       140  Central     Devin Huddleston  \n",
       "3        27    North          Mary Parker  \n",
       "4        90  Central         Daniel Burke  \n",
       "...     ...      ...                  ...  \n",
       "4112    261  Central         Eloise Sykes  \n",
       "4113    245    North         Jose Gambino  \n",
       "4114    289    North          Leon Barnes  \n",
       "4115     32  Central  Rebecca Chamberlain  \n",
       "4116     30  Central      Daniel Hamilton  \n",
       "\n",
       "[4117 rows x 8 columns]"
      ]
     },
     "execution_count": 2,
     "metadata": {},
     "output_type": "execute_result"
    }
   ],
   "source": [
    "import pandas as pd\n",
    "data = pd.read_excel('Sales by Region (1).xlsx')\n",
    "data"
   ]
  },
  {
   "cell_type": "code",
   "execution_count": 3,
   "id": "aa30a786",
   "metadata": {},
   "outputs": [
    {
     "name": "stdout",
     "output_type": "stream",
     "text": [
      "<class 'pandas.core.frame.DataFrame'>\n",
      "RangeIndex: 4117 entries, 0 to 4116\n",
      "Data columns (total 8 columns):\n",
      " #   Column        Non-Null Count  Dtype         \n",
      "---  ------        --------------  -----         \n",
      " 0   Order ID      4117 non-null   object        \n",
      " 1   Order Date    4117 non-null   datetime64[ns]\n",
      " 2   Product Name  4117 non-null   object        \n",
      " 3   Category      4117 non-null   object        \n",
      " 4   Quantity      4117 non-null   int64         \n",
      " 5   Sales         4117 non-null   int64         \n",
      " 6   Region        4117 non-null   object        \n",
      " 7   Customer      4117 non-null   object        \n",
      "dtypes: datetime64[ns](1), int64(2), object(5)\n",
      "memory usage: 257.4+ KB\n"
     ]
    }
   ],
   "source": [
    "data.info()"
   ]
  },
  {
   "cell_type": "code",
   "execution_count": 4,
   "id": "b2db75a8",
   "metadata": {},
   "outputs": [
    {
     "data": {
      "text/plain": [
       "(4117, 8)"
      ]
     },
     "execution_count": 4,
     "metadata": {},
     "output_type": "execute_result"
    }
   ],
   "source": [
    "data.shape"
   ]
  },
  {
   "cell_type": "markdown",
   "id": "3f8ef76b",
   "metadata": {},
   "source": [
    "### 1.Total Sales"
   ]
  },
  {
   "cell_type": "code",
   "execution_count": 5,
   "id": "9cc505c1",
   "metadata": {},
   "outputs": [
    {
     "data": {
      "text/plain": [
       "1267690"
      ]
     },
     "execution_count": 5,
     "metadata": {},
     "output_type": "execute_result"
    }
   ],
   "source": [
    "data['Sales'].sum()"
   ]
  },
  {
   "cell_type": "markdown",
   "id": "95f6fbac",
   "metadata": {},
   "source": [
    "### 2.Total No.of units sold"
   ]
  },
  {
   "cell_type": "code",
   "execution_count": 6,
   "id": "6c934945",
   "metadata": {},
   "outputs": [
    {
     "data": {
      "text/plain": [
       "15428"
      ]
     },
     "execution_count": 6,
     "metadata": {},
     "output_type": "execute_result"
    }
   ],
   "source": [
    "data['Quantity'].sum()"
   ]
  },
  {
   "cell_type": "markdown",
   "id": "2788bdd9",
   "metadata": {},
   "source": [
    "### 3.Category wise sales"
   ]
  },
  {
   "cell_type": "code",
   "execution_count": 7,
   "id": "25cbb3b7",
   "metadata": {},
   "outputs": [
    {
     "name": "stderr",
     "output_type": "stream",
     "text": [
      "C:\\Users\\ALAN PETER\\AppData\\Local\\Temp\\ipykernel_48408\\3606682102.py:1: FutureWarning: The default value of numeric_only in DataFrameGroupBy.sum is deprecated. In a future version, numeric_only will default to False. Either specify numeric_only or select only columns which should be valid for the function.\n",
      "  data.groupby('Category').sum()['Sales']\n"
     ]
    },
    {
     "data": {
      "text/plain": [
       "Category\n",
       "Furniture          568595\n",
       "Office Supplies    421719\n",
       "Technology         277376\n",
       "Name: Sales, dtype: int64"
      ]
     },
     "execution_count": 7,
     "metadata": {},
     "output_type": "execute_result"
    }
   ],
   "source": [
    "data.groupby('Category').sum()['Sales']"
   ]
  },
  {
   "cell_type": "markdown",
   "id": "73fc2613",
   "metadata": {},
   "source": [
    "### 4.Category wise units sold"
   ]
  },
  {
   "cell_type": "code",
   "execution_count": 8,
   "id": "d08238c7",
   "metadata": {},
   "outputs": [
    {
     "name": "stderr",
     "output_type": "stream",
     "text": [
      "C:\\Users\\ALAN PETER\\AppData\\Local\\Temp\\ipykernel_48408\\2207420996.py:1: FutureWarning: The default value of numeric_only in DataFrameGroupBy.sum is deprecated. In a future version, numeric_only will default to False. Either specify numeric_only or select only columns which should be valid for the function.\n",
      "  data.groupby('Category').sum()['Quantity']\n"
     ]
    },
    {
     "data": {
      "text/plain": [
       "Category\n",
       "Furniture          4017\n",
       "Office Supplies    9711\n",
       "Technology         1700\n",
       "Name: Quantity, dtype: int64"
      ]
     },
     "execution_count": 8,
     "metadata": {},
     "output_type": "execute_result"
    }
   ],
   "source": [
    "data.groupby('Category').sum()['Quantity']"
   ]
  },
  {
   "cell_type": "markdown",
   "id": "25c06fcc",
   "metadata": {},
   "source": [
    "### 5.Region wise sales"
   ]
  },
  {
   "cell_type": "code",
   "execution_count": 9,
   "id": "7f71956f",
   "metadata": {},
   "outputs": [
    {
     "name": "stderr",
     "output_type": "stream",
     "text": [
      "C:\\Users\\ALAN PETER\\AppData\\Local\\Temp\\ipykernel_48408\\996214296.py:1: FutureWarning: The default value of numeric_only in DataFrameGroupBy.sum is deprecated. In a future version, numeric_only will default to False. Either specify numeric_only or select only columns which should be valid for the function.\n",
      "  data.groupby('Region').sum()['Sales']\n"
     ]
    },
    {
     "data": {
      "text/plain": [
       "Region\n",
       "Central    698288\n",
       "North      289102\n",
       "South      280300\n",
       "Name: Sales, dtype: int64"
      ]
     },
     "execution_count": 9,
     "metadata": {},
     "output_type": "execute_result"
    }
   ],
   "source": [
    "data.groupby('Region').sum()['Sales']"
   ]
  },
  {
   "cell_type": "markdown",
   "id": "e3014f2d",
   "metadata": {},
   "source": [
    "### 6.Region wise units sold"
   ]
  },
  {
   "cell_type": "code",
   "execution_count": 10,
   "id": "e005b7a8",
   "metadata": {},
   "outputs": [
    {
     "name": "stderr",
     "output_type": "stream",
     "text": [
      "C:\\Users\\ALAN PETER\\AppData\\Local\\Temp\\ipykernel_48408\\1354897258.py:1: FutureWarning: The default value of numeric_only in DataFrameGroupBy.sum is deprecated. In a future version, numeric_only will default to False. Either specify numeric_only or select only columns which should be valid for the function.\n",
      "  data.groupby('Region').sum()['Quantity']\n"
     ]
    },
    {
     "data": {
      "text/plain": [
       "Region\n",
       "Central    8503\n",
       "North      3506\n",
       "South      3419\n",
       "Name: Quantity, dtype: int64"
      ]
     },
     "execution_count": 10,
     "metadata": {},
     "output_type": "execute_result"
    }
   ],
   "source": [
    "data.groupby('Region').sum()['Quantity']"
   ]
  },
  {
   "cell_type": "markdown",
   "id": "e403abc6",
   "metadata": {},
   "source": [
    "### 7.Customer wise sales"
   ]
  },
  {
   "cell_type": "code",
   "execution_count": 11,
   "id": "04c91846",
   "metadata": {},
   "outputs": [
    {
     "name": "stderr",
     "output_type": "stream",
     "text": [
      "C:\\Users\\ALAN PETER\\AppData\\Local\\Temp\\ipykernel_48408\\1369142758.py:1: FutureWarning: The default value of numeric_only in DataFrameGroupBy.sum is deprecated. In a future version, numeric_only will default to False. Either specify numeric_only or select only columns which should be valid for the function.\n",
      "  data.groupby('Customer').sum()['Sales']\n"
     ]
    },
    {
     "data": {
      "text/plain": [
       "Customer\n",
       "Aaron Bootman       1635\n",
       "Aaron Cunningham     820\n",
       "Aaron Davey         1862\n",
       "Aaron Macrossan       81\n",
       "Abbie Perry          619\n",
       "                    ... \n",
       "Zara Loton          1570\n",
       "Zara Money           785\n",
       "Zoe Lanigan         2358\n",
       "Zoe Lowin            565\n",
       "Zona Meyer          2490\n",
       "Name: Sales, Length: 792, dtype: int64"
      ]
     },
     "execution_count": 11,
     "metadata": {},
     "output_type": "execute_result"
    }
   ],
   "source": [
    "data.groupby('Customer').sum()['Sales']"
   ]
  },
  {
   "cell_type": "markdown",
   "id": "2a485ea2",
   "metadata": {},
   "source": [
    "### 8.Customer wise units sold"
   ]
  },
  {
   "cell_type": "code",
   "execution_count": 12,
   "id": "1ba53228",
   "metadata": {},
   "outputs": [
    {
     "name": "stderr",
     "output_type": "stream",
     "text": [
      "C:\\Users\\ALAN PETER\\AppData\\Local\\Temp\\ipykernel_48408\\2856710408.py:1: FutureWarning: The default value of numeric_only in DataFrameGroupBy.sum is deprecated. In a future version, numeric_only will default to False. Either specify numeric_only or select only columns which should be valid for the function.\n",
      "  data.groupby('Customer').sum()['Quantity']\n"
     ]
    },
    {
     "data": {
      "text/plain": [
       "Customer\n",
       "Aaron Bootman       37\n",
       "Aaron Cunningham    25\n",
       "Aaron Davey         22\n",
       "Aaron Macrossan      3\n",
       "Abbie Perry         11\n",
       "                    ..\n",
       "Zara Loton           8\n",
       "Zara Money          26\n",
       "Zoe Lanigan         16\n",
       "Zoe Lowin           14\n",
       "Zona Meyer          41\n",
       "Name: Quantity, Length: 792, dtype: int64"
      ]
     },
     "execution_count": 12,
     "metadata": {},
     "output_type": "execute_result"
    }
   ],
   "source": [
    "data.groupby('Customer').sum()['Quantity']"
   ]
  },
  {
   "cell_type": "markdown",
   "id": "3ece8815",
   "metadata": {},
   "source": [
    "### 9.Date wise sales"
   ]
  },
  {
   "cell_type": "code",
   "execution_count": 13,
   "id": "65487422",
   "metadata": {},
   "outputs": [
    {
     "name": "stderr",
     "output_type": "stream",
     "text": [
      "C:\\Users\\ALAN PETER\\AppData\\Local\\Temp\\ipykernel_48408\\3265113926.py:1: FutureWarning: The default value of numeric_only in DataFrameGroupBy.sum is deprecated. In a future version, numeric_only will default to False. Either specify numeric_only or select only columns which should be valid for the function.\n",
      "  data.groupby('Order Date').sum()['Sales']\n"
     ]
    },
    {
     "data": {
      "text/plain": [
       "Order Date\n",
       "2011-01-01      45\n",
       "2011-01-03     854\n",
       "2011-01-04     167\n",
       "2011-01-05      90\n",
       "2011-01-07     155\n",
       "              ... \n",
       "2014-12-27    1718\n",
       "2014-12-28     135\n",
       "2014-12-29    2384\n",
       "2014-12-30     457\n",
       "2014-12-31    1414\n",
       "Name: Sales, Length: 1214, dtype: int64"
      ]
     },
     "execution_count": 13,
     "metadata": {},
     "output_type": "execute_result"
    }
   ],
   "source": [
    "data.groupby('Order Date').sum()['Sales']"
   ]
  },
  {
   "cell_type": "markdown",
   "id": "7952d544",
   "metadata": {},
   "source": [
    "### 10.Date wise units sold"
   ]
  },
  {
   "cell_type": "code",
   "execution_count": 14,
   "id": "9acb7f85",
   "metadata": {},
   "outputs": [
    {
     "name": "stderr",
     "output_type": "stream",
     "text": [
      "C:\\Users\\ALAN PETER\\AppData\\Local\\Temp\\ipykernel_48408\\870523925.py:1: FutureWarning: The default value of numeric_only in DataFrameGroupBy.sum is deprecated. In a future version, numeric_only will default to False. Either specify numeric_only or select only columns which should be valid for the function.\n",
      "  data.groupby('Order Date').sum()['Quantity']\n"
     ]
    },
    {
     "data": {
      "text/plain": [
       "Order Date\n",
       "2011-01-01     3\n",
       "2011-01-03     7\n",
       "2011-01-04     5\n",
       "2011-01-05     3\n",
       "2011-01-07     1\n",
       "              ..\n",
       "2014-12-27    14\n",
       "2014-12-28     5\n",
       "2014-12-29    32\n",
       "2014-12-30    13\n",
       "2014-12-31    23\n",
       "Name: Quantity, Length: 1214, dtype: int64"
      ]
     },
     "execution_count": 14,
     "metadata": {},
     "output_type": "execute_result"
    }
   ],
   "source": [
    "data.groupby('Order Date').sum()['Quantity']"
   ]
  },
  {
   "cell_type": "markdown",
   "id": "5d339ea2",
   "metadata": {},
   "source": [
    "### 11.Total number of orders"
   ]
  },
  {
   "cell_type": "code",
   "execution_count": 15,
   "id": "f7c15321",
   "metadata": {},
   "outputs": [
    {
     "data": {
      "text/plain": [
       "4117"
      ]
     },
     "execution_count": 15,
     "metadata": {},
     "output_type": "execute_result"
    }
   ],
   "source": [
    "data['Order ID'].count()"
   ]
  },
  {
   "cell_type": "markdown",
   "id": "7423e7c2",
   "metadata": {},
   "source": [
    "### 12.Q1, Q2 and Q3 of Sales in a Box Plot"
   ]
  },
  {
   "cell_type": "code",
   "execution_count": 16,
   "id": "8d9bc732",
   "metadata": {},
   "outputs": [
    {
     "name": "stderr",
     "output_type": "stream",
     "text": [
      "C:\\Users\\ALAN PETER\\AppData\\Local\\Temp\\ipykernel_48408\\3047235402.py:1: FutureWarning: The default value of numeric_only in DataFrame.quantile is deprecated. In a future version, it will default to False. Select only valid columns or specify the value of numeric_only to silence this warning.\n",
      "  data.quantile(0.25)['Sales']\n"
     ]
    },
    {
     "data": {
      "text/plain": [
       "50.0"
      ]
     },
     "execution_count": 16,
     "metadata": {},
     "output_type": "execute_result"
    }
   ],
   "source": [
    "data.quantile(0.25)['Sales']"
   ]
  },
  {
   "cell_type": "code",
   "execution_count": 17,
   "id": "e9499813",
   "metadata": {},
   "outputs": [
    {
     "name": "stderr",
     "output_type": "stream",
     "text": [
      "C:\\Users\\ALAN PETER\\AppData\\Local\\Temp\\ipykernel_48408\\3277385613.py:1: FutureWarning: The default value of numeric_only in DataFrame.quantile is deprecated. In a future version, it will default to False. Select only valid columns or specify the value of numeric_only to silence this warning.\n",
      "  data.quantile(0.50)['Sales']\n"
     ]
    },
    {
     "data": {
      "text/plain": [
       "120.0"
      ]
     },
     "execution_count": 17,
     "metadata": {},
     "output_type": "execute_result"
    }
   ],
   "source": [
    "data.quantile(0.50)['Sales']"
   ]
  },
  {
   "cell_type": "code",
   "execution_count": 18,
   "id": "afd9695e",
   "metadata": {},
   "outputs": [
    {
     "name": "stderr",
     "output_type": "stream",
     "text": [
      "C:\\Users\\ALAN PETER\\AppData\\Local\\Temp\\ipykernel_48408\\394855559.py:1: FutureWarning: The default value of numeric_only in DataFrame.quantile is deprecated. In a future version, it will default to False. Select only valid columns or specify the value of numeric_only to silence this warning.\n",
      "  data.quantile(0.75)['Sales']\n"
     ]
    },
    {
     "data": {
      "text/plain": [
       "322.0"
      ]
     },
     "execution_count": 18,
     "metadata": {},
     "output_type": "execute_result"
    }
   ],
   "source": [
    "data.quantile(0.75)['Sales']"
   ]
  },
  {
   "cell_type": "code",
   "execution_count": 19,
   "id": "4cf984c3",
   "metadata": {},
   "outputs": [
    {
     "data": {
      "text/plain": [
       "<Axes: >"
      ]
     },
     "execution_count": 19,
     "metadata": {},
     "output_type": "execute_result"
    },
    {
     "data": {
      "image/png": "[encoded data removed]",
      "text/plain": [
       "<Figure size 640x480 with 1 Axes>"
      ]
     },
     "metadata": {},
     "output_type": "display_data"
    }
   ],
   "source": [
    "data.plot(y=['Sales'],kind ='box')"
   ]
  },
  {
   "cell_type": "markdown",
   "id": "ca3c8afd",
   "metadata": {},
   "source": [
    "### 13. Average sales of each region in Pie Chart"
   ]
  },
  {
   "cell_type": "code",
   "execution_count": 20,
   "id": "6c58ef52",
   "metadata": {},
   "outputs": [
    {
     "name": "stderr",
     "output_type": "stream",
     "text": [
      "C:\\Users\\ALAN PETER\\AppData\\Local\\Temp\\ipykernel_48408\\1294853234.py:1: FutureWarning: The default value of numeric_only in DataFrameGroupBy.mean is deprecated. In a future version, numeric_only will default to False. Either specify numeric_only or select only columns which should be valid for the function.\n",
      "  data.groupby('Region').mean()['Sales'].plot(kind='pie',autopct='%1.2f%%')\n"
     ]
    },
    {
     "data": {
      "text/plain": [
       "<Axes: ylabel='Sales'>"
      ]
     },
     "execution_count": 20,
     "metadata": {},
     "output_type": "execute_result"
    },
    {
     "data": {
      "image/png": "[encoded data removed]",
      "text/plain": [
       "<Figure size 640x480 with 1 Axes>"
      ]
     },
     "metadata": {},
     "output_type": "display_data"
    }
   ],
   "source": [
    "data.groupby('Region').mean()['Sales'].plot(kind='pie',autopct='%1.2f%%')"
   ]
  },
  {
   "cell_type": "markdown",
   "id": "f6d3963e",
   "metadata": {},
   "source": [
    "### 14. Average sales of each category in Bar Chart"
   ]
  },
  {
   "cell_type": "code",
   "execution_count": 21,
   "id": "18f8e3b3",
   "metadata": {},
   "outputs": [
    {
     "name": "stderr",
     "output_type": "stream",
     "text": [
      "C:\\Users\\ALAN PETER\\AppData\\Local\\Temp\\ipykernel_48408\\191143640.py:1: FutureWarning: The default value of numeric_only in DataFrameGroupBy.mean is deprecated. In a future version, numeric_only will default to False. Either specify numeric_only or select only columns which should be valid for the function.\n",
      "  data.groupby('Category').mean()['Sales'].plot(kind ='bar')\n"
     ]
    },
    {
     "data": {
      "text/plain": [
       "<Axes: xlabel='Category'>"
      ]
     },
     "execution_count": 21,
     "metadata": {},
     "output_type": "execute_result"
    },
    {
     "data": {
      "image/png": "[encoded data removed]",
      "text/plain": [
       "<Figure size 640x480 with 1 Axes>"
      ]
     },
     "metadata": {},
     "output_type": "display_data"
    }
   ],
   "source": [
    "data.groupby('Category').mean()['Sales'].plot(kind ='bar')"
   ]
  },
  {
   "cell_type": "markdown",
   "id": "ed837fe9",
   "metadata": {},
   "source": [
    "### 15.Maximum sales in each region"
   ]
  },
  {
   "cell_type": "code",
   "execution_count": 22,
   "id": "0f056fd6",
   "metadata": {},
   "outputs": [
    {
     "data": {
      "text/plain": [
       "Region\n",
       "Central    5729\n",
       "North      5725\n",
       "South      6517\n",
       "Name: Sales, dtype: int64"
      ]
     },
     "execution_count": 22,
     "metadata": {},
     "output_type": "execute_result"
    }
   ],
   "source": [
    "data.groupby('Region').max()['Sales']"
   ]
  },
  {
   "cell_type": "markdown",
   "id": "94a0391b",
   "metadata": {},
   "source": [
    "### 16.Minimum sales in each region"
   ]
  },
  {
   "cell_type": "code",
   "execution_count": 23,
   "id": "13e69c96",
   "metadata": {},
   "outputs": [
    {
     "data": {
      "text/plain": [
       "Region\n",
       "Central    5\n",
       "North      3\n",
       "South      8\n",
       "Name: Sales, dtype: int64"
      ]
     },
     "execution_count": 23,
     "metadata": {},
     "output_type": "execute_result"
    }
   ],
   "source": [
    "data.groupby('Region').min()['Sales']"
   ]
  },
  {
   "cell_type": "markdown",
   "id": "a178f111",
   "metadata": {},
   "source": [
    "### 17.Average sales in each region"
   ]
  },
  {
   "cell_type": "code",
   "execution_count": 24,
   "id": "59161c1c",
   "metadata": {},
   "outputs": [
    {
     "name": "stderr",
     "output_type": "stream",
     "text": [
      "C:\\Users\\ALAN PETER\\AppData\\Local\\Temp\\ipykernel_48408\\3431790526.py:1: FutureWarning: The default value of numeric_only in DataFrameGroupBy.mean is deprecated. In a future version, numeric_only will default to False. Either specify numeric_only or select only columns which should be valid for the function.\n",
      "  data.groupby('Region').mean()['Sales']\n"
     ]
    },
    {
     "data": {
      "text/plain": [
       "Region\n",
       "Central    312.572963\n",
       "North      304.317895\n",
       "South      300.428725\n",
       "Name: Sales, dtype: float64"
      ]
     },
     "execution_count": 24,
     "metadata": {},
     "output_type": "execute_result"
    }
   ],
   "source": [
    "data.groupby('Region').mean()['Sales']"
   ]
  },
  {
   "cell_type": "markdown",
   "id": "8dfe01e4",
   "metadata": {},
   "source": [
    "### 18.Maximum sales by each category"
   ]
  },
  {
   "cell_type": "code",
   "execution_count": 25,
   "id": "3cbbaf2c",
   "metadata": {},
   "outputs": [
    {
     "data": {
      "text/plain": [
       "Category\n",
       "Furniture          5729\n",
       "Office Supplies    6517\n",
       "Technology         5725\n",
       "Name: Sales, dtype: int64"
      ]
     },
     "execution_count": 25,
     "metadata": {},
     "output_type": "execute_result"
    }
   ],
   "source": [
    "data.groupby('Category').max()['Sales']"
   ]
  },
  {
   "cell_type": "markdown",
   "id": "638f2411",
   "metadata": {},
   "source": [
    "### 19.Minimum sales by each category"
   ]
  },
  {
   "cell_type": "code",
   "execution_count": 26,
   "id": "819d1fa3",
   "metadata": {},
   "outputs": [
    {
     "data": {
      "text/plain": [
       "Category\n",
       "Furniture          11\n",
       "Office Supplies     3\n",
       "Technology         20\n",
       "Name: Sales, dtype: int64"
      ]
     },
     "execution_count": 26,
     "metadata": {},
     "output_type": "execute_result"
    }
   ],
   "source": [
    "data.groupby('Category').min()['Sales']"
   ]
  },
  {
   "cell_type": "markdown",
   "id": "7b6dbb50",
   "metadata": {},
   "source": [
    "### 20. Draw a Histogram using the Sales data"
   ]
  },
  {
   "cell_type": "code",
   "execution_count": 28,
   "id": "1647be7f",
   "metadata": {},
   "outputs": [
    {
     "data": {
      "text/plain": [
       "<Axes: ylabel='Frequency'>"
      ]
     },
     "execution_count": 28,
     "metadata": {},
     "output_type": "execute_result"
    },
    {
     "data": {
      "image/png": "[encoded data removed]",
      "text/plain": [
       "<Figure size 640x480 with 1 Axes>"
      ]
     },
     "metadata": {},
     "output_type": "display_data"
    }
   ],
   "source": [
    "data.plot(x='Sales',kind='hist',bins=10)"
   ]
  },
  {
   "cell_type": "code",
   "execution_count": null,
   "id": "1f7293cc",
   "metadata": {},
   "outputs": [],
   "source": []
  }
 ],
 "metadata": {
  "kernelspec": {
   "display_name": "Python 3 (ipykernel)",
   "language": "python",
   "name": "python3"
  },
  "language_info": {
   "codemirror_mode": {
    "name": "ipython",
    "version": 3
   },
   "file_extension": ".py",
   "mimetype": "text/x-python",
   "name": "python",
   "nbconvert_exporter": "python",
   "pygments_lexer": "ipython3",
   "version": "3.10.9"
  }
 },
 "nbformat": 4,
 "nbformat_minor": 5
}
