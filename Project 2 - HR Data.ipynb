{
 "cells": [
  {
   "cell_type": "markdown",
   "id": "9f9caef1",
   "metadata": {},
   "source": [
    "# Human Resource Data"
   ]
  },
  {
   "cell_type": "code",
   "execution_count": 2,
   "id": "8e3602b7",
   "metadata": {},
   "outputs": [
    {
     "data": {
      "text/html": [
       "<div>\n",
       "<style scoped>\n",
       "    .dataframe tbody tr th:only-of-type {\n",
       "        vertical-align: middle;\n",
       "    }\n",
       "\n",
       "    .dataframe tbody tr th {\n",
       "        vertical-align: top;\n",
       "    }\n",
       "\n",
       "    .dataframe thead th {\n",
       "        text-align: right;\n",
       "    }\n",
       "</style>\n",
       "<table border=\"1\" class=\"dataframe\">\n",
       "  <thead>\n",
       "    <tr style=\"text-align: right;\">\n",
       "      <th></th>\n",
       "      <th>Employee Name</th>\n",
       "      <th>Department</th>\n",
       "      <th>Salary</th>\n",
       "      <th>Age</th>\n",
       "      <th>Gender</th>\n",
       "      <th>Date of Join</th>\n",
       "    </tr>\n",
       "  </thead>\n",
       "  <tbody>\n",
       "    <tr>\n",
       "      <th>0</th>\n",
       "      <td>Wilson  K Adinolfi</td>\n",
       "      <td>Production</td>\n",
       "      <td>62506</td>\n",
       "      <td>49</td>\n",
       "      <td>Male</td>\n",
       "      <td>07-05-2011</td>\n",
       "    </tr>\n",
       "    <tr>\n",
       "      <th>1</th>\n",
       "      <td>Karthikeyan Ait Sidi</td>\n",
       "      <td>IT/IS</td>\n",
       "      <td>104437</td>\n",
       "      <td>55</td>\n",
       "      <td>Male</td>\n",
       "      <td>30-03-2015</td>\n",
       "    </tr>\n",
       "    <tr>\n",
       "      <th>2</th>\n",
       "      <td>Sarah Akinkuolie</td>\n",
       "      <td>Production</td>\n",
       "      <td>64955</td>\n",
       "      <td>49</td>\n",
       "      <td>Female</td>\n",
       "      <td>07-05-2011</td>\n",
       "    </tr>\n",
       "    <tr>\n",
       "      <th>3</th>\n",
       "      <td>Trina Alagbe</td>\n",
       "      <td>Production</td>\n",
       "      <td>64991</td>\n",
       "      <td>49</td>\n",
       "      <td>Female</td>\n",
       "      <td>01-07-2008</td>\n",
       "    </tr>\n",
       "    <tr>\n",
       "      <th>4</th>\n",
       "      <td>Carol Anderson</td>\n",
       "      <td>Production</td>\n",
       "      <td>50825</td>\n",
       "      <td>31</td>\n",
       "      <td>Female</td>\n",
       "      <td>07-11-2011</td>\n",
       "    </tr>\n",
       "    <tr>\n",
       "      <th>...</th>\n",
       "      <td>...</td>\n",
       "      <td>...</td>\n",
       "      <td>...</td>\n",
       "      <td>...</td>\n",
       "      <td>...</td>\n",
       "      <td>...</td>\n",
       "    </tr>\n",
       "    <tr>\n",
       "      <th>306</th>\n",
       "      <td>Jason Woodson</td>\n",
       "      <td>Production</td>\n",
       "      <td>65893</td>\n",
       "      <td>39</td>\n",
       "      <td>Male</td>\n",
       "      <td>07-07-2014</td>\n",
       "    </tr>\n",
       "    <tr>\n",
       "      <th>307</th>\n",
       "      <td>Catherine Ybarra</td>\n",
       "      <td>Production</td>\n",
       "      <td>48513</td>\n",
       "      <td>35</td>\n",
       "      <td>Female</td>\n",
       "      <td>09-02-2008</td>\n",
       "    </tr>\n",
       "    <tr>\n",
       "      <th>308</th>\n",
       "      <td>Jennifer Zamora</td>\n",
       "      <td>IT/IS</td>\n",
       "      <td>220450</td>\n",
       "      <td>42</td>\n",
       "      <td>Female</td>\n",
       "      <td>04-10-2010</td>\n",
       "    </tr>\n",
       "    <tr>\n",
       "      <th>309</th>\n",
       "      <td>Julia Zhou</td>\n",
       "      <td>IT/IS</td>\n",
       "      <td>89292</td>\n",
       "      <td>42</td>\n",
       "      <td>Female</td>\n",
       "      <td>30-03-2015</td>\n",
       "    </tr>\n",
       "    <tr>\n",
       "      <th>310</th>\n",
       "      <td>Colleen Zima</td>\n",
       "      <td>Production</td>\n",
       "      <td>45046</td>\n",
       "      <td>58</td>\n",
       "      <td>Female</td>\n",
       "      <td>29-09-2014</td>\n",
       "    </tr>\n",
       "  </tbody>\n",
       "</table>\n",
       "<p>311 rows × 6 columns</p>\n",
       "</div>"
      ],
      "text/plain": [
       "            Employee Name         Department  Salary  Age  Gender Date of Join\n",
       "0      Wilson  K Adinolfi  Production          62506   49   Male    07-05-2011\n",
       "1    Karthikeyan Ait Sidi              IT/IS  104437   55   Male    30-03-2015\n",
       "2        Sarah Akinkuolie  Production          64955   49  Female   07-05-2011\n",
       "3            Trina Alagbe  Production          64991   49  Female   01-07-2008\n",
       "4          Carol Anderson  Production          50825   31  Female   07-11-2011\n",
       "..                    ...                ...     ...  ...     ...          ...\n",
       "306         Jason Woodson  Production          65893   39   Male    07-07-2014\n",
       "307      Catherine Ybarra  Production          48513   35  Female   09-02-2008\n",
       "308       Jennifer Zamora              IT/IS  220450   42  Female   04-10-2010\n",
       "309            Julia Zhou              IT/IS   89292   42  Female   30-03-2015\n",
       "310          Colleen Zima  Production          45046   58  Female   29-09-2014\n",
       "\n",
       "[311 rows x 6 columns]"
      ]
     },
     "execution_count": 2,
     "metadata": {},
     "output_type": "execute_result"
    }
   ],
   "source": [
    "import pandas as pd\n",
    "hr=pd.read_excel('Human resource (1).xlsx')\n",
    "hr"
   ]
  },
  {
   "cell_type": "code",
   "execution_count": 3,
   "id": "484f3b83",
   "metadata": {},
   "outputs": [
    {
     "data": {
      "text/plain": [
       "21465433"
      ]
     },
     "execution_count": 3,
     "metadata": {},
     "output_type": "execute_result"
    }
   ],
   "source": [
    "# Total Salary\n",
    "hr.sum()['Salary']"
   ]
  },
  {
   "cell_type": "code",
   "execution_count": 7,
   "id": "dc789f15",
   "metadata": {},
   "outputs": [
    {
     "data": {
      "text/plain": [
       "69020.6848874598"
      ]
     },
     "execution_count": 7,
     "metadata": {},
     "output_type": "execute_result"
    }
   ],
   "source": [
    "# Average salary given in the company\n",
    "a=hr['Salary'].mean()\n",
    "a"
   ]
  },
  {
   "cell_type": "code",
   "execution_count": 9,
   "id": "97ad7742",
   "metadata": {},
   "outputs": [
    {
     "data": {
      "text/plain": [
       "250000"
      ]
     },
     "execution_count": 9,
     "metadata": {},
     "output_type": "execute_result"
    }
   ],
   "source": [
    "# Maximum Salary\n",
    "hr.max()['Salary']"
   ]
  },
  {
   "cell_type": "code",
   "execution_count": 10,
   "id": "3369e3b6",
   "metadata": {},
   "outputs": [
    {
     "data": {
      "text/plain": [
       "45046"
      ]
     },
     "execution_count": 10,
     "metadata": {},
     "output_type": "execute_result"
    }
   ],
   "source": [
    "# Minimum Salary\n",
    "hr.min()['Salary']"
   ]
  },
  {
   "cell_type": "code",
   "execution_count": 11,
   "id": "a9f15a81",
   "metadata": {},
   "outputs": [
    {
     "data": {
      "text/plain": [
       "204954"
      ]
     },
     "execution_count": 11,
     "metadata": {},
     "output_type": "execute_result"
    }
   ],
   "source": [
    "# Range of Salary\n",
    "hr.max()['Salary']-hr.min()['Salary']"
   ]
  },
  {
   "cell_type": "code",
   "execution_count": 12,
   "id": "32881136",
   "metadata": {},
   "outputs": [
    {
     "data": {
      "text/plain": [
       "42.02893890675241"
      ]
     },
     "execution_count": 12,
     "metadata": {},
     "output_type": "execute_result"
    }
   ],
   "source": [
    "# Average age of employees\n",
    "hr['Age'].mean()"
   ]
  },
  {
   "cell_type": "code",
   "execution_count": 13,
   "id": "fdd623d3",
   "metadata": {},
   "outputs": [
    {
     "data": {
      "text/plain": [
       "24"
      ]
     },
     "execution_count": 13,
     "metadata": {},
     "output_type": "execute_result"
    }
   ],
   "source": [
    "# Minimum age of employees\n",
    "hr.min()['Age']"
   ]
  },
  {
   "cell_type": "code",
   "execution_count": 14,
   "id": "87e387f0",
   "metadata": {},
   "outputs": [
    {
     "data": {
      "text/plain": [
       "60"
      ]
     },
     "execution_count": 14,
     "metadata": {},
     "output_type": "execute_result"
    }
   ],
   "source": [
    "# Maximum age of employees\n",
    "hr.max()['Age']"
   ]
  },
  {
   "cell_type": "code",
   "execution_count": 15,
   "id": "3feeeaa2",
   "metadata": {},
   "outputs": [
    {
     "name": "stderr",
     "output_type": "stream",
     "text": [
      "C:\\Users\\ALAN PETER\\AppData\\Local\\Temp\\ipykernel_79692\\1979530266.py:1: FutureWarning: The default value of numeric_only in DataFrame.var is deprecated. In a future version, it will default to False. In addition, specifying 'numeric_only=None' is deprecated. Select only valid columns or specify the value of numeric_only to silence this warning.\n",
      "  hr.var()['Salary']\n"
     ]
    },
    {
     "data": {
      "text/plain": [
       "632856381.6100614"
      ]
     },
     "execution_count": 15,
     "metadata": {},
     "output_type": "execute_result"
    }
   ],
   "source": [
    "# variance of salary\n",
    "hr.var()['Salary']"
   ]
  },
  {
   "cell_type": "code",
   "execution_count": 22,
   "id": "5c1b2fa2",
   "metadata": {},
   "outputs": [
    {
     "data": {
      "text/plain": [
       "Female    176\n",
       "Male      135\n",
       "Name: Gender, dtype: int64"
      ]
     },
     "execution_count": 22,
     "metadata": {},
     "output_type": "execute_result"
    }
   ],
   "source": [
    "# count of Gender\n",
    "hr['Gender'].value_counts()"
   ]
  },
  {
   "cell_type": "code",
   "execution_count": 23,
   "id": "fae29003",
   "metadata": {},
   "outputs": [
    {
     "data": {
      "text/plain": [
       "<Axes: >"
      ]
     },
     "execution_count": 23,
     "metadata": {},
     "output_type": "execute_result"
    },
    {
     "data": {
      "image/png": "[encoded data removed]",
      "text/plain": [
       "<Figure size 640x480 with 1 Axes>"
      ]
     },
     "metadata": {},
     "output_type": "display_data"
    }
   ],
   "source": [
    "# Frequency of gender in a bar chart\n",
    "hr['Gender'].value_counts().plot(kind='bar')"
   ]
  },
  {
   "cell_type": "code",
   "execution_count": 24,
   "id": "ffd36278",
   "metadata": {},
   "outputs": [
    {
     "data": {
      "text/plain": [
       "Female    0.565916\n",
       "Male      0.434084\n",
       "Name: Gender, dtype: float64"
      ]
     },
     "execution_count": 24,
     "metadata": {},
     "output_type": "execute_result"
    }
   ],
   "source": [
    "# Percentage value of no. of male & female employees\n",
    "hr['Gender'].value_counts(normalize= True)"
   ]
  },
  {
   "cell_type": "code",
   "execution_count": 25,
   "id": "85cb0dfc",
   "metadata": {},
   "outputs": [
    {
     "data": {
      "text/plain": [
       "<Axes: ylabel='Gender'>"
      ]
     },
     "execution_count": 25,
     "metadata": {},
     "output_type": "execute_result"
    },
    {
     "data": {
      "image/png": "[encoded data removed]",
      "text/plain": [
       "<Figure size 640x480 with 1 Axes>"
      ]
     },
     "metadata": {},
     "output_type": "display_data"
    }
   ],
   "source": [
    "# Percentage value of no. of male & female employees shown in pie chart.\n",
    "hr['Gender'].value_counts(normalize= True).plot(kind='pie')"
   ]
  },
  {
   "cell_type": "code",
   "execution_count": null,
   "id": "f6e65362",
   "metadata": {},
   "outputs": [],
   "source": []
  }
 ],
 "metadata": {
  "kernelspec": {
   "display_name": "Python 3 (ipykernel)",
   "language": "python",
   "name": "python3"
  },
  "language_info": {
   "codemirror_mode": {
    "name": "ipython",
    "version": 3
   },
   "file_extension": ".py",
   "mimetype": "text/x-python",
   "name": "python",
   "nbconvert_exporter": "python",
   "pygments_lexer": "ipython3",
   "version": "3.10.9"
  }
 },
 "nbformat": 4,
 "nbformat_minor": 5
}
