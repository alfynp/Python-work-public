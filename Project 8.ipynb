{
 "cells": [
  {
   "cell_type": "markdown",
   "id": "03916952",
   "metadata": {},
   "source": [
    "# E-Commerce"
   ]
  },
  {
   "cell_type": "code",
   "execution_count": 2,
   "id": "7992c303",
   "metadata": {},
   "outputs": [
    {
     "data": {
      "text/html": [
       "<div>\n",
       "<style scoped>\n",
       "    .dataframe tbody tr th:only-of-type {\n",
       "        vertical-align: middle;\n",
       "    }\n",
       "\n",
       "    .dataframe tbody tr th {\n",
       "        vertical-align: top;\n",
       "    }\n",
       "\n",
       "    .dataframe thead th {\n",
       "        text-align: right;\n",
       "    }\n",
       "</style>\n",
       "<table border=\"1\" class=\"dataframe\">\n",
       "  <thead>\n",
       "    <tr style=\"text-align: right;\">\n",
       "      <th></th>\n",
       "      <th>InvoiceNo</th>\n",
       "      <th>StockCode</th>\n",
       "      <th>Description</th>\n",
       "      <th>Quantity</th>\n",
       "      <th>InvoiceDate</th>\n",
       "      <th>UnitPrice</th>\n",
       "      <th>CustomerID</th>\n",
       "      <th>Revenue</th>\n",
       "      <th>Country</th>\n",
       "    </tr>\n",
       "  </thead>\n",
       "  <tbody>\n",
       "    <tr>\n",
       "      <th>0</th>\n",
       "      <td>536365</td>\n",
       "      <td>85123A</td>\n",
       "      <td>WHITE HANGING HEART T-LIGHT HOLDER</td>\n",
       "      <td>6</td>\n",
       "      <td>2010-01-12 08:26:00</td>\n",
       "      <td>2.55</td>\n",
       "      <td>17850.0</td>\n",
       "      <td>15.30</td>\n",
       "      <td>United Kingdom</td>\n",
       "    </tr>\n",
       "    <tr>\n",
       "      <th>1</th>\n",
       "      <td>536365</td>\n",
       "      <td>71053</td>\n",
       "      <td>WHITE METAL LANTERN</td>\n",
       "      <td>6</td>\n",
       "      <td>2010-01-12 08:26:00</td>\n",
       "      <td>3.39</td>\n",
       "      <td>17850.0</td>\n",
       "      <td>20.34</td>\n",
       "      <td>United Kingdom</td>\n",
       "    </tr>\n",
       "    <tr>\n",
       "      <th>2</th>\n",
       "      <td>536365</td>\n",
       "      <td>84406B</td>\n",
       "      <td>CREAM CUPID HEARTS COAT HANGER</td>\n",
       "      <td>8</td>\n",
       "      <td>2010-01-12 08:26:00</td>\n",
       "      <td>2.75</td>\n",
       "      <td>17850.0</td>\n",
       "      <td>22.00</td>\n",
       "      <td>United Kingdom</td>\n",
       "    </tr>\n",
       "    <tr>\n",
       "      <th>3</th>\n",
       "      <td>536365</td>\n",
       "      <td>84029G</td>\n",
       "      <td>KNITTED UNION FLAG HOT WATER BOTTLE</td>\n",
       "      <td>6</td>\n",
       "      <td>2010-01-12 08:26:00</td>\n",
       "      <td>3.39</td>\n",
       "      <td>17850.0</td>\n",
       "      <td>20.34</td>\n",
       "      <td>United Kingdom</td>\n",
       "    </tr>\n",
       "    <tr>\n",
       "      <th>4</th>\n",
       "      <td>536365</td>\n",
       "      <td>84029E</td>\n",
       "      <td>RED WOOLLY HOTTIE WHITE HEART.</td>\n",
       "      <td>6</td>\n",
       "      <td>2010-01-12 08:26:00</td>\n",
       "      <td>3.39</td>\n",
       "      <td>17850.0</td>\n",
       "      <td>20.34</td>\n",
       "      <td>United Kingdom</td>\n",
       "    </tr>\n",
       "    <tr>\n",
       "      <th>...</th>\n",
       "      <td>...</td>\n",
       "      <td>...</td>\n",
       "      <td>...</td>\n",
       "      <td>...</td>\n",
       "      <td>...</td>\n",
       "      <td>...</td>\n",
       "      <td>...</td>\n",
       "      <td>...</td>\n",
       "      <td>...</td>\n",
       "    </tr>\n",
       "    <tr>\n",
       "      <th>230584</th>\n",
       "      <td>581587</td>\n",
       "      <td>22613</td>\n",
       "      <td>PACK OF 20 SPACEBOY NAPKINS</td>\n",
       "      <td>12</td>\n",
       "      <td>2011-09-12 12:50:00</td>\n",
       "      <td>0.85</td>\n",
       "      <td>12680.0</td>\n",
       "      <td>10.20</td>\n",
       "      <td>France</td>\n",
       "    </tr>\n",
       "    <tr>\n",
       "      <th>230585</th>\n",
       "      <td>581587</td>\n",
       "      <td>22899</td>\n",
       "      <td>CHILDREN'S APRON DOLLY GIRL</td>\n",
       "      <td>6</td>\n",
       "      <td>2011-09-12 12:50:00</td>\n",
       "      <td>2.10</td>\n",
       "      <td>12680.0</td>\n",
       "      <td>12.60</td>\n",
       "      <td>France</td>\n",
       "    </tr>\n",
       "    <tr>\n",
       "      <th>230586</th>\n",
       "      <td>581587</td>\n",
       "      <td>23254</td>\n",
       "      <td>CHILDRENS CUTLERY DOLLY GIRL</td>\n",
       "      <td>4</td>\n",
       "      <td>2011-09-12 12:50:00</td>\n",
       "      <td>4.15</td>\n",
       "      <td>12680.0</td>\n",
       "      <td>16.60</td>\n",
       "      <td>France</td>\n",
       "    </tr>\n",
       "    <tr>\n",
       "      <th>230587</th>\n",
       "      <td>581587</td>\n",
       "      <td>23255</td>\n",
       "      <td>CHILDRENS CUTLERY CIRCUS PARADE</td>\n",
       "      <td>4</td>\n",
       "      <td>2011-09-12 12:50:00</td>\n",
       "      <td>4.15</td>\n",
       "      <td>12680.0</td>\n",
       "      <td>16.60</td>\n",
       "      <td>France</td>\n",
       "    </tr>\n",
       "    <tr>\n",
       "      <th>230588</th>\n",
       "      <td>581587</td>\n",
       "      <td>22138</td>\n",
       "      <td>BAKING SET 9 PIECE RETROSPOT</td>\n",
       "      <td>3</td>\n",
       "      <td>2011-09-12 12:50:00</td>\n",
       "      <td>4.95</td>\n",
       "      <td>12680.0</td>\n",
       "      <td>14.85</td>\n",
       "      <td>France</td>\n",
       "    </tr>\n",
       "  </tbody>\n",
       "</table>\n",
       "<p>230589 rows × 9 columns</p>\n",
       "</div>"
      ],
      "text/plain": [
       "       InvoiceNo StockCode                          Description  Quantity  \\\n",
       "0         536365    85123A   WHITE HANGING HEART T-LIGHT HOLDER         6   \n",
       "1         536365     71053                  WHITE METAL LANTERN         6   \n",
       "2         536365    84406B       CREAM CUPID HEARTS COAT HANGER         8   \n",
       "3         536365    84029G  KNITTED UNION FLAG HOT WATER BOTTLE         6   \n",
       "4         536365    84029E       RED WOOLLY HOTTIE WHITE HEART.         6   \n",
       "...          ...       ...                                  ...       ...   \n",
       "230584    581587     22613          PACK OF 20 SPACEBOY NAPKINS        12   \n",
       "230585    581587     22899         CHILDREN'S APRON DOLLY GIRL          6   \n",
       "230586    581587     23254        CHILDRENS CUTLERY DOLLY GIRL          4   \n",
       "230587    581587     23255      CHILDRENS CUTLERY CIRCUS PARADE         4   \n",
       "230588    581587     22138        BAKING SET 9 PIECE RETROSPOT          3   \n",
       "\n",
       "               InvoiceDate  UnitPrice  CustomerID  Revenue         Country  \n",
       "0      2010-01-12 08:26:00       2.55     17850.0    15.30  United Kingdom  \n",
       "1      2010-01-12 08:26:00       3.39     17850.0    20.34  United Kingdom  \n",
       "2      2010-01-12 08:26:00       2.75     17850.0    22.00  United Kingdom  \n",
       "3      2010-01-12 08:26:00       3.39     17850.0    20.34  United Kingdom  \n",
       "4      2010-01-12 08:26:00       3.39     17850.0    20.34  United Kingdom  \n",
       "...                    ...        ...         ...      ...             ...  \n",
       "230584 2011-09-12 12:50:00       0.85     12680.0    10.20          France  \n",
       "230585 2011-09-12 12:50:00       2.10     12680.0    12.60          France  \n",
       "230586 2011-09-12 12:50:00       4.15     12680.0    16.60          France  \n",
       "230587 2011-09-12 12:50:00       4.15     12680.0    16.60          France  \n",
       "230588 2011-09-12 12:50:00       4.95     12680.0    14.85          France  \n",
       "\n",
       "[230589 rows x 9 columns]"
      ]
     },
     "execution_count": 2,
     "metadata": {},
     "output_type": "execute_result"
    }
   ],
   "source": [
    "import pandas as pd\n",
    "data=pd.read_excel('E-commerce (2).xlsx')\n",
    "data"
   ]
  },
  {
   "cell_type": "code",
   "execution_count": 3,
   "id": "f42d6641",
   "metadata": {},
   "outputs": [
    {
     "data": {
      "text/plain": [
       "(230589, 9)"
      ]
     },
     "execution_count": 3,
     "metadata": {},
     "output_type": "execute_result"
    }
   ],
   "source": [
    "data.shape"
   ]
  },
  {
   "cell_type": "code",
   "execution_count": 4,
   "id": "13c0370c",
   "metadata": {},
   "outputs": [
    {
     "name": "stdout",
     "output_type": "stream",
     "text": [
      "<class 'pandas.core.frame.DataFrame'>\n",
      "RangeIndex: 230589 entries, 0 to 230588\n",
      "Data columns (total 9 columns):\n",
      " #   Column       Non-Null Count   Dtype         \n",
      "---  ------       --------------   -----         \n",
      " 0   InvoiceNo    230589 non-null  object        \n",
      " 1   StockCode    230589 non-null  object        \n",
      " 2   Description  229991 non-null  object        \n",
      " 3   Quantity     230589 non-null  int64         \n",
      " 4   InvoiceDate  230589 non-null  datetime64[ns]\n",
      " 5   UnitPrice    230589 non-null  float64       \n",
      " 6   CustomerID   170491 non-null  float64       \n",
      " 7   Revenue      230589 non-null  float64       \n",
      " 8   Country      230589 non-null  object        \n",
      "dtypes: datetime64[ns](1), float64(3), int64(1), object(4)\n",
      "memory usage: 15.8+ MB\n"
     ]
    }
   ],
   "source": [
    "data.info()"
   ]
  },
  {
   "cell_type": "code",
   "execution_count": 5,
   "id": "2751e65f",
   "metadata": {},
   "outputs": [
    {
     "data": {
      "text/plain": [
       "5148073.239999999"
      ]
     },
     "execution_count": 5,
     "metadata": {},
     "output_type": "execute_result"
    }
   ],
   "source": [
    "data['Revenue'].sum()"
   ]
  },
  {
   "cell_type": "code",
   "execution_count": 6,
   "id": "13f3d627",
   "metadata": {},
   "outputs": [
    {
     "data": {
      "text/plain": [
       "230589"
      ]
     },
     "execution_count": 6,
     "metadata": {},
     "output_type": "execute_result"
    }
   ],
   "source": [
    "data['InvoiceNo'].count()"
   ]
  },
  {
   "cell_type": "code",
   "execution_count": 9,
   "id": "2625c4fa",
   "metadata": {},
   "outputs": [
    {
     "data": {
      "text/plain": [
       "17841.0    3368\n",
       "14911.0    2313\n",
       "12748.0    2078\n",
       "14096.0    1604\n",
       "14606.0    1236\n",
       "           ... \n",
       "13270.0       1\n",
       "17736.0       1\n",
       "14682.0       1\n",
       "15724.0       1\n",
       "18080.0       1\n",
       "Name: CustomerID, Length: 3125, dtype: int64"
      ]
     },
     "execution_count": 9,
     "metadata": {},
     "output_type": "execute_result"
    }
   ],
   "source": [
    "data['CustomerID'].value_counts()"
   ]
  },
  {
   "cell_type": "code",
   "execution_count": 8,
   "id": "8011c0cd",
   "metadata": {},
   "outputs": [
    {
     "name": "stderr",
     "output_type": "stream",
     "text": [
      "C:\\Users\\ALAN PETER\\AppData\\Local\\Temp\\ipykernel_4640\\2848473531.py:1: FutureWarning: The default value of numeric_only in DataFrameGroupBy.sum is deprecated. In a future version, numeric_only will default to False. Either specify numeric_only or select only columns which should be valid for the function.\n",
      "  data.groupby('Country').sum()['Revenue']\n"
     ]
    },
    {
     "data": {
      "text/plain": [
       "Country\n",
       "Australia                 51918.01\n",
       "Austria                    2999.69\n",
       "Bahrain                     665.14\n",
       "Belgium                   17086.58\n",
       "Canada                     1751.88\n",
       "Channel Islands            7899.21\n",
       "Cyprus                     5673.51\n",
       "Czech Republic              334.99\n",
       "Denmark                    4998.11\n",
       "EIRE                     113425.86\n",
       "European Community          440.55\n",
       "Finland                   11519.79\n",
       "France                    87804.11\n",
       "Germany                   97755.23\n",
       "Greece                     2149.28\n",
       "Hong Kong                  1550.59\n",
       "Iceland                    2540.29\n",
       "Israel                     1045.75\n",
       "Italy                      3797.76\n",
       "Japan                     19074.65\n",
       "Lithuania                  1661.06\n",
       "Malta                       863.97\n",
       "Netherlands               89945.76\n",
       "Norway                    15495.40\n",
       "Poland                     3983.12\n",
       "Portugal                  13776.38\n",
       "Saudi Arabia                 14.75\n",
       "Singapore                 14300.42\n",
       "Spain                     26422.27\n",
       "Sweden                     9812.21\n",
       "Switzerland               27864.21\n",
       "USA                        4314.22\n",
       "United Arab Emirates        975.54\n",
       "United Kingdom          4502149.94\n",
       "Unspecified                2063.01\n",
       "Name: Revenue, dtype: float64"
      ]
     },
     "execution_count": 8,
     "metadata": {},
     "output_type": "execute_result"
    }
   ],
   "source": [
    "data.groupby('Country').sum()['Revenue']"
   ]
  },
  {
   "cell_type": "code",
   "execution_count": 10,
   "id": "ecf698c5",
   "metadata": {},
   "outputs": [
    {
     "data": {
      "text/plain": [
       "2638512"
      ]
     },
     "execution_count": 10,
     "metadata": {},
     "output_type": "execute_result"
    }
   ],
   "source": [
    "data['Quantity'].sum()"
   ]
  },
  {
   "cell_type": "code",
   "execution_count": 19,
   "id": "00cc8f50",
   "metadata": {},
   "outputs": [
    {
     "name": "stderr",
     "output_type": "stream",
     "text": [
      "C:\\Users\\ALAN PETER\\AppData\\Local\\Temp\\ipykernel_4640\\2096900739.py:1: FutureWarning: The default value of numeric_only in DataFrameGroupBy.sum is deprecated. In a future version, numeric_only will default to False. Either specify numeric_only or select only columns which should be valid for the function.\n",
      "  data.groupby('Country').sum()['Revenue'].nlargest(3)\n"
     ]
    },
    {
     "data": {
      "text/plain": [
       "Country\n",
       "United Kingdom    4502149.94\n",
       "EIRE               113425.86\n",
       "Germany             97755.23\n",
       "Name: Revenue, dtype: float64"
      ]
     },
     "execution_count": 19,
     "metadata": {},
     "output_type": "execute_result"
    }
   ],
   "source": [
    "data.groupby('Country').sum()['Revenue'].nlargest(3)"
   ]
  },
  {
   "cell_type": "code",
   "execution_count": 13,
   "id": "b517d2f0",
   "metadata": {},
   "outputs": [
    {
     "name": "stderr",
     "output_type": "stream",
     "text": [
      "C:\\Users\\ALAN PETER\\AppData\\Local\\Temp\\ipykernel_4640\\3700602967.py:1: FutureWarning: The default value of numeric_only in DataFrameGroupBy.mean is deprecated. In a future version, numeric_only will default to False. Either specify numeric_only or select only columns which should be valid for the function.\n",
      "  data.groupby('Country').mean()['Revenue']\n"
     ]
    },
    {
     "data": {
      "text/plain": [
       "Country\n",
       "Australia               132.782634\n",
       "Austria                  27.774907\n",
       "Bahrain                  47.510000\n",
       "Belgium                  19.662348\n",
       "Canada                   22.460000\n",
       "Channel Islands          21.760909\n",
       "Cyprus                   23.838277\n",
       "Czech Republic           27.915833\n",
       "Denmark                  36.750809\n",
       "EIRE                     36.065456\n",
       "European Community       20.978571\n",
       "Finland                  31.734959\n",
       "France                   21.776813\n",
       "Germany                  24.698138\n",
       "Greece                   18.853333\n",
       "Hong Kong                46.987576\n",
       "Iceland                  23.965000\n",
       "Israel                   13.407051\n",
       "Italy                    22.605714\n",
       "Japan                    87.098858\n",
       "Lithuania                47.458857\n",
       "Malta                    17.632041\n",
       "Netherlands             110.770640\n",
       "Norway                   32.829237\n",
       "Poland                   20.637927\n",
       "Portugal                 18.271061\n",
       "Saudi Arabia             14.750000\n",
       "Singapore               230.651935\n",
       "Spain                    26.186591\n",
       "Sweden                   60.945404\n",
       "Switzerland              32.897532\n",
       "USA                      17.609061\n",
       "United Arab Emirates     26.365946\n",
       "United Kingdom           21.310338\n",
       "Unspecified              10.315050\n",
       "Name: Revenue, dtype: float64"
      ]
     },
     "execution_count": 13,
     "metadata": {},
     "output_type": "execute_result"
    }
   ],
   "source": [
    "data.groupby('Country').mean()['Revenue']"
   ]
  },
  {
   "cell_type": "code",
   "execution_count": 14,
   "id": "da92966c",
   "metadata": {},
   "outputs": [
    {
     "name": "stderr",
     "output_type": "stream",
     "text": [
      "C:\\Users\\ALAN PETER\\AppData\\Local\\Temp\\ipykernel_4640\\3501516592.py:1: FutureWarning: Dropping invalid columns in DataFrameGroupBy.max is deprecated. In a future version, a TypeError will be raised. Before calling .max, select only columns which should be valid for the function.\n",
      "  data.groupby('Country').max()['Revenue']\n"
     ]
    },
    {
     "data": {
      "text/plain": [
       "Country\n",
       "Australia                 1944.00\n",
       "Austria                    160.00\n",
       "Bahrain                    205.74\n",
       "Belgium                    165.00\n",
       "Canada                     534.24\n",
       "Channel Islands            131.40\n",
       "Cyprus                     290.00\n",
       "Czech Republic              61.20\n",
       "Denmark                    266.24\n",
       "EIRE                      1687.17\n",
       "European Community          45.00\n",
       "Finland                    551.20\n",
       "France                    1136.30\n",
       "Germany                    876.00\n",
       "Greece                     135.00\n",
       "Hong Kong                  166.00\n",
       "Iceland                    249.60\n",
       "Israel                      75.00\n",
       "Italy                      120.00\n",
       "Japan                     3794.40\n",
       "Lithuania                  122.40\n",
       "Malta                      160.00\n",
       "Netherlands               2577.60\n",
       "Norway                     376.50\n",
       "Poland                     102.00\n",
       "Portugal                   557.72\n",
       "Saudi Arabia                14.75\n",
       "Singapore                 2382.92\n",
       "Spain                     1350.00\n",
       "Sweden                     518.40\n",
       "Switzerland                300.00\n",
       "USA                         81.36\n",
       "United Arab Emirates       153.00\n",
       "United Kingdom          168469.60\n",
       "Unspecified                 45.00\n",
       "Name: Revenue, dtype: float64"
      ]
     },
     "execution_count": 14,
     "metadata": {},
     "output_type": "execute_result"
    }
   ],
   "source": [
    "data.groupby('Country').max()['Revenue']"
   ]
  },
  {
   "cell_type": "code",
   "execution_count": null,
   "id": "dbe247b9",
   "metadata": {},
   "outputs": [],
   "source": []
  }
 ],
 "metadata": {
  "kernelspec": {
   "display_name": "Python 3 (ipykernel)",
   "language": "python",
   "name": "python3"
  },
  "language_info": {
   "codemirror_mode": {
    "name": "ipython",
    "version": 3
   },
   "file_extension": ".py",
   "mimetype": "text/x-python",
   "name": "python",
   "nbconvert_exporter": "python",
   "pygments_lexer": "ipython3",
   "version": "3.10.9"
  }
 },
 "nbformat": 4,
 "nbformat_minor": 5
}
