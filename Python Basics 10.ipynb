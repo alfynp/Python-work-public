{
 "cells": [
  {
   "cell_type": "markdown",
   "id": "3e0cf4da",
   "metadata": {},
   "source": [
    "# Multiplication"
   ]
  },
  {
   "cell_type": "markdown",
   "id": "02f29ef9",
   "metadata": {},
   "source": [
    "## To multiply 2 numbers"
   ]
  },
  {
   "cell_type": "markdown",
   "id": "2de802ed",
   "metadata": {},
   "source": [
    "1st assign data into string"
   ]
  },
  {
   "cell_type": "markdown",
   "id": "284193e8",
   "metadata": {},
   "source": [
    "input a number"
   ]
  },
  {
   "cell_type": "code",
   "execution_count": 1,
   "id": "fd4c62a0",
   "metadata": {},
   "outputs": [
    {
     "data": {
      "text/plain": [
       "20"
      ]
     },
     "execution_count": 1,
     "metadata": {},
     "output_type": "execute_result"
    }
   ],
   "source": [
    "a=2\n",
    "b=10\n",
    "c=b*a\n",
    "c"
   ]
  },
  {
   "cell_type": "markdown",
   "id": "0015998b",
   "metadata": {},
   "source": [
    "## or"
   ]
  },
  {
   "cell_type": "code",
   "execution_count": 2,
   "id": "c1083785",
   "metadata": {},
   "outputs": [
    {
     "name": "stdout",
     "output_type": "stream",
     "text": [
      "first number:2\n"
     ]
    }
   ],
   "source": [
    "num1=input('first number:')"
   ]
  },
  {
   "cell_type": "code",
   "execution_count": 3,
   "id": "25c43544",
   "metadata": {},
   "outputs": [
    {
     "name": "stdout",
     "output_type": "stream",
     "text": [
      "\n",
      "Second number:10\n"
     ]
    }
   ],
   "source": [
    "#back slash is given to come to next line\n",
    "num2=input('\\nSecond number:')"
   ]
  },
  {
   "cell_type": "code",
   "execution_count": 4,
   "id": "18a2d8b2",
   "metadata": {},
   "outputs": [
    {
     "data": {
      "text/plain": [
       "20.0"
      ]
     },
     "execution_count": 4,
     "metadata": {},
     "output_type": "execute_result"
    }
   ],
   "source": [
    "#string converting to float\n",
    "Mul=float(num1)*float(num2)\n",
    "Mul"
   ]
  },
  {
   "cell_type": "code",
   "execution_count": 5,
   "id": "c504e6d9",
   "metadata": {},
   "outputs": [
    {
     "name": "stdout",
     "output_type": "stream",
     "text": [
      "the multiplied value of 2 and 10 is 20.0\n"
     ]
    }
   ],
   "source": [
    "#to convert float into string format we give .format\n",
    "#here inside the curly brackets we give the index numbers of each code\n",
    "\n",
    "print('the multiplied value of {0} and {1} is {2}'.format(num1,num2,Mul))"
   ]
  },
  {
   "cell_type": "markdown",
   "id": "c88010b7",
   "metadata": {},
   "source": [
    "# Division"
   ]
  },
  {
   "cell_type": "markdown",
   "id": "e6bf909e",
   "metadata": {},
   "source": [
    "## To Divide 2 numbers"
   ]
  },
  {
   "cell_type": "markdown",
   "id": "6d709dbb",
   "metadata": {},
   "source": [
    "1st assign data into string"
   ]
  },
  {
   "cell_type": "markdown",
   "id": "6a589b3e",
   "metadata": {},
   "source": [
    "input a number"
   ]
  },
  {
   "cell_type": "code",
   "execution_count": 6,
   "id": "8a5d76f3",
   "metadata": {},
   "outputs": [
    {
     "data": {
      "text/plain": [
       "5.0"
      ]
     },
     "execution_count": 6,
     "metadata": {},
     "output_type": "execute_result"
    }
   ],
   "source": [
    "a=2\n",
    "b=10\n",
    "c=b/a\n",
    "c"
   ]
  },
  {
   "cell_type": "markdown",
   "id": "f2c7b2b7",
   "metadata": {},
   "source": [
    "# or"
   ]
  },
  {
   "cell_type": "code",
   "execution_count": 7,
   "id": "90d258ab",
   "metadata": {},
   "outputs": [
    {
     "name": "stdout",
     "output_type": "stream",
     "text": [
      "first number:10\n"
     ]
    }
   ],
   "source": [
    "num1=input('first number:')"
   ]
  },
  {
   "cell_type": "code",
   "execution_count": 8,
   "id": "893ab079",
   "metadata": {},
   "outputs": [
    {
     "name": "stdout",
     "output_type": "stream",
     "text": [
      "\n",
      "Second number:2\n"
     ]
    }
   ],
   "source": [
    "#back slash is given to come to next line\n",
    "num2=input('\\nSecond number:')"
   ]
  },
  {
   "cell_type": "code",
   "execution_count": 9,
   "id": "7a7ed2b6",
   "metadata": {},
   "outputs": [
    {
     "data": {
      "text/plain": [
       "5.0"
      ]
     },
     "execution_count": 9,
     "metadata": {},
     "output_type": "execute_result"
    }
   ],
   "source": [
    "#string converting to float\n",
    "Div=float(num1)/float(num2)\n",
    "Div"
   ]
  },
  {
   "cell_type": "code",
   "execution_count": 10,
   "id": "8ba3d8ae",
   "metadata": {},
   "outputs": [
    {
     "name": "stdout",
     "output_type": "stream",
     "text": [
      "the divided value of 10 and 2 is 5.0\n"
     ]
    }
   ],
   "source": [
    "#to convert float into string format we give .format\n",
    "#here inside the curly brackets we give the index numbers of each code\n",
    "\n",
    "print('the divided value of {0} and {1} is {2}'.format(num1,num2,Div))"
   ]
  },
  {
   "cell_type": "code",
   "execution_count": null,
   "id": "3ce25da7",
   "metadata": {},
   "outputs": [],
   "source": []
  }
 ],
 "metadata": {
  "kernelspec": {
   "display_name": "Python 3 (ipykernel)",
   "language": "python",
   "name": "python3"
  },
  "language_info": {
   "codemirror_mode": {
    "name": "ipython",
    "version": 3
   },
   "file_extension": ".py",
   "mimetype": "text/x-python",
   "name": "python",
   "nbconvert_exporter": "python",
   "pygments_lexer": "ipython3",
   "version": "3.10.9"
  }
 },
 "nbformat": 4,
 "nbformat_minor": 5
}
