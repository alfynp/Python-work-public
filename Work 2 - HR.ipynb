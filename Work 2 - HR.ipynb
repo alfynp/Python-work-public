{
 "cells": [
  {
   "cell_type": "code",
   "execution_count": 1,
   "id": "032e8779",
   "metadata": {},
   "outputs": [],
   "source": [
    "import pandas as pd,numpy as np,matplotlib.pyplot as plt,seaborn as sns\n",
    "%matplotlib inline"
   ]
  },
  {
   "cell_type": "code",
   "execution_count": 3,
   "id": "9cd56304",
   "metadata": {},
   "outputs": [
    {
     "data": {
      "text/html": [
       "<div>\n",
       "<style scoped>\n",
       "    .dataframe tbody tr th:only-of-type {\n",
       "        vertical-align: middle;\n",
       "    }\n",
       "\n",
       "    .dataframe tbody tr th {\n",
       "        vertical-align: top;\n",
       "    }\n",
       "\n",
       "    .dataframe thead th {\n",
       "        text-align: right;\n",
       "    }\n",
       "</style>\n",
       "<table border=\"1\" class=\"dataframe\">\n",
       "  <thead>\n",
       "    <tr style=\"text-align: right;\">\n",
       "      <th></th>\n",
       "      <th>Date</th>\n",
       "      <th>Time</th>\n",
       "      <th>Jikky</th>\n",
       "      <th>Kayis</th>\n",
       "      <th>Sinny</th>\n",
       "      <th>Criji</th>\n",
       "      <th>Johnan</th>\n",
       "      <th>Mode of class</th>\n",
       "    </tr>\n",
       "  </thead>\n",
       "  <tbody>\n",
       "    <tr>\n",
       "      <th>0</th>\n",
       "      <td>2022-04-11</td>\n",
       "      <td>9:30 am- 10:30 am</td>\n",
       "      <td>1.0</td>\n",
       "      <td>1.0</td>\n",
       "      <td>NaN</td>\n",
       "      <td>NaN</td>\n",
       "      <td>NaN</td>\n",
       "      <td>Online</td>\n",
       "    </tr>\n",
       "    <tr>\n",
       "      <th>1</th>\n",
       "      <td>2022-04-11</td>\n",
       "      <td>10:30 am- 11:30 am</td>\n",
       "      <td>1.0</td>\n",
       "      <td>1.0</td>\n",
       "      <td>NaN</td>\n",
       "      <td>NaN</td>\n",
       "      <td>NaN</td>\n",
       "      <td>Online</td>\n",
       "    </tr>\n",
       "    <tr>\n",
       "      <th>2</th>\n",
       "      <td>2022-04-12</td>\n",
       "      <td>9:30 am- 10:30 am</td>\n",
       "      <td>1.0</td>\n",
       "      <td>1.0</td>\n",
       "      <td>NaN</td>\n",
       "      <td>NaN</td>\n",
       "      <td>NaN</td>\n",
       "      <td>Online</td>\n",
       "    </tr>\n",
       "  </tbody>\n",
       "</table>\n",
       "</div>"
      ],
      "text/plain": [
       "        Date                Time  Jikky  Kayis  Sinny  Criji  Johnan  \\\n",
       "0 2022-04-11   9:30 am- 10:30 am    1.0    1.0    NaN    NaN     NaN   \n",
       "1 2022-04-11  10:30 am- 11:30 am    1.0    1.0    NaN    NaN     NaN   \n",
       "2 2022-04-12   9:30 am- 10:30 am    1.0    1.0    NaN    NaN     NaN   \n",
       "\n",
       "  Mode of class  \n",
       "0        Online  \n",
       "1        Online  \n",
       "2        Online  "
      ]
     },
     "execution_count": 3,
     "metadata": {},
     "output_type": "execute_result"
    }
   ],
   "source": [
    "WH=pd.read_excel('Working Hours.xlsx')\n",
    "WH.head(3)"
   ]
  },
  {
   "cell_type": "code",
   "execution_count": 4,
   "id": "05d9c2d0",
   "metadata": {},
   "outputs": [
    {
     "data": {
      "text/plain": [
       "Date              0\n",
       "Time              0\n",
       "Jikky            51\n",
       "Kayis            72\n",
       "Sinny            68\n",
       "Criji            74\n",
       "Johnan           82\n",
       "Mode of class     0\n",
       "dtype: int64"
      ]
     },
     "execution_count": 4,
     "metadata": {},
     "output_type": "execute_result"
    }
   ],
   "source": [
    "WH.isna().sum()"
   ]
  },
  {
   "cell_type": "markdown",
   "id": "16eea9bc",
   "metadata": {},
   "source": [
    "# Data Cleaning"
   ]
  },
  {
   "cell_type": "markdown",
   "id": "d7032ca2",
   "metadata": {},
   "source": [
    "Nan values are replaced by zeros"
   ]
  },
  {
   "cell_type": "code",
   "execution_count": 6,
   "id": "10c80eff",
   "metadata": {},
   "outputs": [
    {
     "data": {
      "text/html": [
       "<div>\n",
       "<style scoped>\n",
       "    .dataframe tbody tr th:only-of-type {\n",
       "        vertical-align: middle;\n",
       "    }\n",
       "\n",
       "    .dataframe tbody tr th {\n",
       "        vertical-align: top;\n",
       "    }\n",
       "\n",
       "    .dataframe thead th {\n",
       "        text-align: right;\n",
       "    }\n",
       "</style>\n",
       "<table border=\"1\" class=\"dataframe\">\n",
       "  <thead>\n",
       "    <tr style=\"text-align: right;\">\n",
       "      <th></th>\n",
       "      <th>Date</th>\n",
       "      <th>Time</th>\n",
       "      <th>Jikky</th>\n",
       "      <th>Kayis</th>\n",
       "      <th>Sinny</th>\n",
       "      <th>Criji</th>\n",
       "      <th>Johnan</th>\n",
       "      <th>Mode of class</th>\n",
       "    </tr>\n",
       "  </thead>\n",
       "  <tbody>\n",
       "    <tr>\n",
       "      <th>0</th>\n",
       "      <td>2022-04-11</td>\n",
       "      <td>9:30 am- 10:30 am</td>\n",
       "      <td>1.0</td>\n",
       "      <td>1.0</td>\n",
       "      <td>0.0</td>\n",
       "      <td>0.0</td>\n",
       "      <td>0.0</td>\n",
       "      <td>Online</td>\n",
       "    </tr>\n",
       "    <tr>\n",
       "      <th>1</th>\n",
       "      <td>2022-04-11</td>\n",
       "      <td>10:30 am- 11:30 am</td>\n",
       "      <td>1.0</td>\n",
       "      <td>1.0</td>\n",
       "      <td>0.0</td>\n",
       "      <td>0.0</td>\n",
       "      <td>0.0</td>\n",
       "      <td>Online</td>\n",
       "    </tr>\n",
       "    <tr>\n",
       "      <th>2</th>\n",
       "      <td>2022-04-12</td>\n",
       "      <td>9:30 am- 10:30 am</td>\n",
       "      <td>1.0</td>\n",
       "      <td>1.0</td>\n",
       "      <td>0.0</td>\n",
       "      <td>0.0</td>\n",
       "      <td>0.0</td>\n",
       "      <td>Online</td>\n",
       "    </tr>\n",
       "  </tbody>\n",
       "</table>\n",
       "</div>"
      ],
      "text/plain": [
       "        Date                Time  Jikky  Kayis  Sinny  Criji  Johnan  \\\n",
       "0 2022-04-11   9:30 am- 10:30 am    1.0    1.0    0.0    0.0     0.0   \n",
       "1 2022-04-11  10:30 am- 11:30 am    1.0    1.0    0.0    0.0     0.0   \n",
       "2 2022-04-12   9:30 am- 10:30 am    1.0    1.0    0.0    0.0     0.0   \n",
       "\n",
       "  Mode of class  \n",
       "0        Online  \n",
       "1        Online  \n",
       "2        Online  "
      ]
     },
     "execution_count": 6,
     "metadata": {},
     "output_type": "execute_result"
    }
   ],
   "source": [
    "WH=WH.fillna(0)\n",
    "WH.head(3)"
   ]
  },
  {
   "cell_type": "code",
   "execution_count": 7,
   "id": "35cc1969",
   "metadata": {},
   "outputs": [
    {
     "data": {
      "text/plain": [
       "(91, 8)"
      ]
     },
     "execution_count": 7,
     "metadata": {},
     "output_type": "execute_result"
    }
   ],
   "source": [
    "WH.shape"
   ]
  },
  {
   "cell_type": "code",
   "execution_count": 8,
   "id": "e9de9194",
   "metadata": {},
   "outputs": [
    {
     "data": {
      "text/plain": [
       "Index(['Date', 'Time', 'Jikky', 'Kayis', 'Sinny', 'Criji', 'Johnan',\n",
       "       'Mode of class'],\n",
       "      dtype='object')"
      ]
     },
     "execution_count": 8,
     "metadata": {},
     "output_type": "execute_result"
    }
   ],
   "source": [
    "WH.columns"
   ]
  },
  {
   "cell_type": "code",
   "execution_count": 9,
   "id": "31e08a1f",
   "metadata": {},
   "outputs": [
    {
     "name": "stdout",
     "output_type": "stream",
     "text": [
      "<class 'pandas.core.frame.DataFrame'>\n",
      "RangeIndex: 91 entries, 0 to 90\n",
      "Data columns (total 8 columns):\n",
      " #   Column         Non-Null Count  Dtype         \n",
      "---  ------         --------------  -----         \n",
      " 0   Date           91 non-null     datetime64[ns]\n",
      " 1   Time           91 non-null     object        \n",
      " 2   Jikky          91 non-null     float64       \n",
      " 3   Kayis          91 non-null     float64       \n",
      " 4   Sinny          91 non-null     float64       \n",
      " 5   Criji          91 non-null     float64       \n",
      " 6   Johnan         91 non-null     float64       \n",
      " 7   Mode of class  91 non-null     object        \n",
      "dtypes: datetime64[ns](1), float64(5), object(2)\n",
      "memory usage: 5.8+ KB\n"
     ]
    }
   ],
   "source": [
    "WH.info()"
   ]
  },
  {
   "cell_type": "markdown",
   "id": "b7fa178d",
   "metadata": {},
   "source": [
    "## Splitting date"
   ]
  },
  {
   "cell_type": "markdown",
   "id": "2720a85b",
   "metadata": {},
   "source": [
    "date variable is needed to be splitted for further analysis\n",
    "\n",
    "here date is splitted into, month, year and day"
   ]
  },
  {
   "cell_type": "code",
   "execution_count": 10,
   "id": "6116f81d",
   "metadata": {},
   "outputs": [
    {
     "data": {
      "text/html": [
       "<div>\n",
       "<style scoped>\n",
       "    .dataframe tbody tr th:only-of-type {\n",
       "        vertical-align: middle;\n",
       "    }\n",
       "\n",
       "    .dataframe tbody tr th {\n",
       "        vertical-align: top;\n",
       "    }\n",
       "\n",
       "    .dataframe thead th {\n",
       "        text-align: right;\n",
       "    }\n",
       "</style>\n",
       "<table border=\"1\" class=\"dataframe\">\n",
       "  <thead>\n",
       "    <tr style=\"text-align: right;\">\n",
       "      <th></th>\n",
       "      <th>Date</th>\n",
       "      <th>Time</th>\n",
       "      <th>Jikky</th>\n",
       "      <th>Kayis</th>\n",
       "      <th>Sinny</th>\n",
       "      <th>Criji</th>\n",
       "      <th>Johnan</th>\n",
       "      <th>Mode of class</th>\n",
       "      <th>Month</th>\n",
       "      <th>year</th>\n",
       "      <th>Day</th>\n",
       "    </tr>\n",
       "  </thead>\n",
       "  <tbody>\n",
       "    <tr>\n",
       "      <th>0</th>\n",
       "      <td>2022-04-11</td>\n",
       "      <td>9:30 am- 10:30 am</td>\n",
       "      <td>1.0</td>\n",
       "      <td>1.0</td>\n",
       "      <td>0.0</td>\n",
       "      <td>0.0</td>\n",
       "      <td>0.0</td>\n",
       "      <td>Online</td>\n",
       "      <td>4</td>\n",
       "      <td>2022</td>\n",
       "      <td>11</td>\n",
       "    </tr>\n",
       "    <tr>\n",
       "      <th>1</th>\n",
       "      <td>2022-04-11</td>\n",
       "      <td>10:30 am- 11:30 am</td>\n",
       "      <td>1.0</td>\n",
       "      <td>1.0</td>\n",
       "      <td>0.0</td>\n",
       "      <td>0.0</td>\n",
       "      <td>0.0</td>\n",
       "      <td>Online</td>\n",
       "      <td>4</td>\n",
       "      <td>2022</td>\n",
       "      <td>11</td>\n",
       "    </tr>\n",
       "    <tr>\n",
       "      <th>2</th>\n",
       "      <td>2022-04-12</td>\n",
       "      <td>9:30 am- 10:30 am</td>\n",
       "      <td>1.0</td>\n",
       "      <td>1.0</td>\n",
       "      <td>0.0</td>\n",
       "      <td>0.0</td>\n",
       "      <td>0.0</td>\n",
       "      <td>Online</td>\n",
       "      <td>4</td>\n",
       "      <td>2022</td>\n",
       "      <td>12</td>\n",
       "    </tr>\n",
       "  </tbody>\n",
       "</table>\n",
       "</div>"
      ],
      "text/plain": [
       "        Date                Time  Jikky  Kayis  Sinny  Criji  Johnan  \\\n",
       "0 2022-04-11   9:30 am- 10:30 am    1.0    1.0    0.0    0.0     0.0   \n",
       "1 2022-04-11  10:30 am- 11:30 am    1.0    1.0    0.0    0.0     0.0   \n",
       "2 2022-04-12   9:30 am- 10:30 am    1.0    1.0    0.0    0.0     0.0   \n",
       "\n",
       "  Mode of class  Month  year  Day  \n",
       "0        Online      4  2022   11  \n",
       "1        Online      4  2022   11  \n",
       "2        Online      4  2022   12  "
      ]
     },
     "execution_count": 10,
     "metadata": {},
     "output_type": "execute_result"
    }
   ],
   "source": [
    "WH['Month']=pd.to_datetime(WH['Date']).dt.month\n",
    "WH['year']=pd.to_datetime(WH['Date']).dt.year\n",
    "WH['Day']=pd.to_datetime(WH['Date']).dt.day\n",
    "WH.head(3)"
   ]
  },
  {
   "cell_type": "markdown",
   "id": "1e18322b",
   "metadata": {},
   "source": [
    "# Data Analysis"
   ]
  },
  {
   "cell_type": "markdown",
   "id": "e63af327",
   "metadata": {},
   "source": [
    "Data is analysed with these requirements\n",
    "\n",
    "1.Find who had taken more class.\n",
    "\n",
    "2.Find by which mode, most of the time class has taken in month June\n",
    "\n",
    "3.Find the sum of Hours of each mentors\n",
    "\n",
    "4.Find by which time hour most the class has taken\n",
    "\n",
    "5.Find how many physical classes has taken by each mentors through out each month\n",
    "\n",
    "6.if the the payment is 100 for one hour , then how much salary\n",
    "\n",
    "7.if the the payment for one hour is 150 means how much salary did they got in each month\n",
    "\n",
    "8.Create a dataframe using the data you got with salary of each month of each mentors\n",
    "\n",
    "9.who earned more salary if the payment for one hour is 100.\n",
    "\n",
    "10.who earned more salary if the payment for one hour is 150, in the month of june.\n",
    "\n",
    "11.who is working more time\n",
    "\n",
    "12.who had worked more hours in the month of May?\n",
    "\n",
    "13.In which month more physical classes had taken place?"
   ]
  },
  {
   "cell_type": "markdown",
   "id": "d604df94",
   "metadata": {},
   "source": [
    "### Find who had taken more class"
   ]
  },
  {
   "cell_type": "code",
   "execution_count": 11,
   "id": "cc76ff0b",
   "metadata": {},
   "outputs": [
    {
     "data": {
      "text/plain": [
       "Jikky     71.2\n",
       "Kayis     29.6\n",
       "Sinny     54.5\n",
       "Criji     43.0\n",
       "Johnan    23.0\n",
       "dtype: float64"
      ]
     },
     "execution_count": 11,
     "metadata": {},
     "output_type": "execute_result"
    }
   ],
   "source": [
    "WH[['Jikky', 'Kayis', 'Sinny', 'Criji', 'Johnan']].sum()"
   ]
  },
  {
   "cell_type": "markdown",
   "id": "3cbb4d36",
   "metadata": {},
   "source": [
    "Jikky had taken more class."
   ]
  },
  {
   "cell_type": "markdown",
   "id": "22a875b2",
   "metadata": {},
   "source": [
    "### Find by which mode, most of the time class has taken in month June"
   ]
  },
  {
   "cell_type": "code",
   "execution_count": 12,
   "id": "69015cd8",
   "metadata": {},
   "outputs": [
    {
     "data": {
      "text/html": [
       "<div>\n",
       "<style scoped>\n",
       "    .dataframe tbody tr th:only-of-type {\n",
       "        vertical-align: middle;\n",
       "    }\n",
       "\n",
       "    .dataframe tbody tr th {\n",
       "        vertical-align: top;\n",
       "    }\n",
       "\n",
       "    .dataframe thead th {\n",
       "        text-align: right;\n",
       "    }\n",
       "</style>\n",
       "<table border=\"1\" class=\"dataframe\">\n",
       "  <thead>\n",
       "    <tr style=\"text-align: right;\">\n",
       "      <th>Mode of class</th>\n",
       "      <th>Online</th>\n",
       "      <th>Physical</th>\n",
       "    </tr>\n",
       "    <tr>\n",
       "      <th>Month</th>\n",
       "      <th></th>\n",
       "      <th></th>\n",
       "    </tr>\n",
       "  </thead>\n",
       "  <tbody>\n",
       "    <tr>\n",
       "      <th>4</th>\n",
       "      <td>25</td>\n",
       "      <td>0</td>\n",
       "    </tr>\n",
       "    <tr>\n",
       "      <th>5</th>\n",
       "      <td>24</td>\n",
       "      <td>5</td>\n",
       "    </tr>\n",
       "    <tr>\n",
       "      <th>6</th>\n",
       "      <td>31</td>\n",
       "      <td>6</td>\n",
       "    </tr>\n",
       "  </tbody>\n",
       "</table>\n",
       "</div>"
      ],
      "text/plain": [
       "Mode of class  Online  Physical\n",
       "Month                          \n",
       "4                  25         0\n",
       "5                  24         5\n",
       "6                  31         6"
      ]
     },
     "execution_count": 12,
     "metadata": {},
     "output_type": "execute_result"
    }
   ],
   "source": [
    "tm=pd.crosstab(WH['Month'],WH['Mode of class'])\n",
    "tm"
   ]
  },
  {
   "cell_type": "markdown",
   "id": "aded5300",
   "metadata": {},
   "source": [
    "Online class is mostly taken in the month June."
   ]
  },
  {
   "cell_type": "markdown",
   "id": "b1bdd9ac",
   "metadata": {},
   "source": [
    "### Find the sum of Hours of each mentors"
   ]
  },
  {
   "cell_type": "code",
   "execution_count": 15,
   "id": "39969755",
   "metadata": {},
   "outputs": [
    {
     "name": "stderr",
     "output_type": "stream",
     "text": [
      "C:\\Users\\ALAN PETER\\AppData\\Local\\Temp\\ipykernel_40616\\1000598899.py:1: FutureWarning: The default value of numeric_only in DataFrameGroupBy.sum is deprecated. In a future version, numeric_only will default to False. Either specify numeric_only or select only columns which should be valid for the function.\n",
      "  WH.groupby('Mode of class').sum()\n"
     ]
    },
    {
     "data": {
      "text/html": [
       "<div>\n",
       "<style scoped>\n",
       "    .dataframe tbody tr th:only-of-type {\n",
       "        vertical-align: middle;\n",
       "    }\n",
       "\n",
       "    .dataframe tbody tr th {\n",
       "        vertical-align: top;\n",
       "    }\n",
       "\n",
       "    .dataframe thead th {\n",
       "        text-align: right;\n",
       "    }\n",
       "</style>\n",
       "<table border=\"1\" class=\"dataframe\">\n",
       "  <thead>\n",
       "    <tr style=\"text-align: right;\">\n",
       "      <th></th>\n",
       "      <th>Jikky</th>\n",
       "      <th>Kayis</th>\n",
       "      <th>Sinny</th>\n",
       "      <th>Criji</th>\n",
       "      <th>Johnan</th>\n",
       "      <th>Month</th>\n",
       "      <th>year</th>\n",
       "      <th>Day</th>\n",
       "    </tr>\n",
       "    <tr>\n",
       "      <th>Mode of class</th>\n",
       "      <th></th>\n",
       "      <th></th>\n",
       "      <th></th>\n",
       "      <th></th>\n",
       "      <th></th>\n",
       "      <th></th>\n",
       "      <th></th>\n",
       "      <th></th>\n",
       "    </tr>\n",
       "  </thead>\n",
       "  <tbody>\n",
       "    <tr>\n",
       "      <th>Online</th>\n",
       "      <td>57.2</td>\n",
       "      <td>22.6</td>\n",
       "      <td>30.5</td>\n",
       "      <td>23.0</td>\n",
       "      <td>13.5</td>\n",
       "      <td>406</td>\n",
       "      <td>161760</td>\n",
       "      <td>1440</td>\n",
       "    </tr>\n",
       "    <tr>\n",
       "      <th>Physical</th>\n",
       "      <td>14.0</td>\n",
       "      <td>7.0</td>\n",
       "      <td>24.0</td>\n",
       "      <td>20.0</td>\n",
       "      <td>9.5</td>\n",
       "      <td>61</td>\n",
       "      <td>22242</td>\n",
       "      <td>195</td>\n",
       "    </tr>\n",
       "  </tbody>\n",
       "</table>\n",
       "</div>"
      ],
      "text/plain": [
       "               Jikky  Kayis  Sinny  Criji  Johnan  Month    year   Day\n",
       "Mode of class                                                         \n",
       "Online          57.2   22.6   30.5   23.0    13.5    406  161760  1440\n",
       "Physical        14.0    7.0   24.0   20.0     9.5     61   22242   195"
      ]
     },
     "execution_count": 15,
     "metadata": {},
     "output_type": "execute_result"
    }
   ],
   "source": [
    "WH.groupby('Mode of class').sum()"
   ]
  },
  {
   "cell_type": "code",
   "execution_count": 17,
   "id": "8677d18c",
   "metadata": {},
   "outputs": [
    {
     "data": {
      "text/plain": [
       "Online      80\n",
       "Physical    11\n",
       "Name: Mode of class, dtype: int64"
      ]
     },
     "execution_count": 17,
     "metadata": {},
     "output_type": "execute_result"
    }
   ],
   "source": [
    "moc=WH['Mode of class'].value_counts()\n",
    "moc"
   ]
  },
  {
   "cell_type": "markdown",
   "id": "eaf8b605",
   "metadata": {},
   "source": [
    "The mentors have taken online class than phyical classes."
   ]
  },
  {
   "cell_type": "markdown",
   "id": "a40d62bf",
   "metadata": {},
   "source": [
    "### Find by which time hour most the class has taken"
   ]
  },
  {
   "cell_type": "code",
   "execution_count": 18,
   "id": "1055291c",
   "metadata": {},
   "outputs": [
    {
     "data": {
      "text/plain": [
       "0    9:30 am - 11:30 am\n",
       "Name: Time, dtype: object"
      ]
     },
     "execution_count": 18,
     "metadata": {},
     "output_type": "execute_result"
    }
   ],
   "source": [
    "WH['Time'].mode()"
   ]
  },
  {
   "cell_type": "markdown",
   "id": "d247c672",
   "metadata": {},
   "source": [
    "most of the classes had taken in these time hour - 9.30am to 11.30am. `"
   ]
  },
  {
   "cell_type": "code",
   "execution_count": 19,
   "id": "b707d455",
   "metadata": {},
   "outputs": [
    {
     "data": {
      "text/plain": [
       "Month  Time               \n",
       "4      9:30 am- 10:30 am      12\n",
       "       11:30 am - 12:30 pm     8\n",
       "       9:30 am - 11:30 am      3\n",
       "       10:30 am- 11:30 am      1\n",
       "       11:30 am -  1:00 pm     1\n",
       "5      9:30 am - 11:30 am     17\n",
       "       1:30 pm- 3:30 pm        3\n",
       "       9:30am-12:00am          2\n",
       "       9:30am:4:30pm           2\n",
       "       2: 30PM - 3:50 PM       1\n",
       "       3: 00PM - 3:30 PM       1\n",
       "       9:30 am - 11:40 am      1\n",
       "       9:30am-1 PM             1\n",
       "       9:30am-3:30pm           1\n",
       "6      2:30 Pm-4:30pm         14\n",
       "       11:30 am- 1:30 Pm       9\n",
       "       9:30 am - 11:30 am      9\n",
       "       10:00 Am-3:30 Pm        1\n",
       "       10:00 am - 11:30 am     1\n",
       "       12:15 pm -12:45 pm      1\n",
       "       2:30 pm -4:00 pm        1\n",
       "       9:30am-3:30pm           1\n",
       "Name: Time, dtype: int64"
      ]
     },
     "execution_count": 19,
     "metadata": {},
     "output_type": "execute_result"
    }
   ],
   "source": [
    "WH.groupby('Month')['Time'].value_counts()"
   ]
  },
  {
   "cell_type": "markdown",
   "id": "d6934c77",
   "metadata": {},
   "source": [
    "The mentors mostly took the class from 9.30am to 10.30am in April\n",
    "\n",
    "The mentors mostly took the class from 9.30am to 11.30am in May.\n",
    "\n",
    "The mentors mostly took the class from 2.30pm to 4.30pm in June."
   ]
  },
  {
   "cell_type": "code",
   "execution_count": 20,
   "id": "2a2eaa4b",
   "metadata": {},
   "outputs": [
    {
     "data": {
      "text/html": [
       "<div>\n",
       "<style scoped>\n",
       "    .dataframe tbody tr th:only-of-type {\n",
       "        vertical-align: middle;\n",
       "    }\n",
       "\n",
       "    .dataframe tbody tr th {\n",
       "        vertical-align: top;\n",
       "    }\n",
       "\n",
       "    .dataframe thead th {\n",
       "        text-align: right;\n",
       "    }\n",
       "</style>\n",
       "<table border=\"1\" class=\"dataframe\">\n",
       "  <thead>\n",
       "    <tr style=\"text-align: right;\">\n",
       "      <th></th>\n",
       "      <th>Time</th>\n",
       "    </tr>\n",
       "    <tr>\n",
       "      <th>Month</th>\n",
       "      <th></th>\n",
       "    </tr>\n",
       "  </thead>\n",
       "  <tbody>\n",
       "    <tr>\n",
       "      <th>4</th>\n",
       "      <td>25</td>\n",
       "    </tr>\n",
       "    <tr>\n",
       "      <th>5</th>\n",
       "      <td>29</td>\n",
       "    </tr>\n",
       "    <tr>\n",
       "      <th>6</th>\n",
       "      <td>37</td>\n",
       "    </tr>\n",
       "  </tbody>\n",
       "</table>\n",
       "</div>"
      ],
      "text/plain": [
       "       Time\n",
       "Month      \n",
       "4        25\n",
       "5        29\n",
       "6        37"
      ]
     },
     "execution_count": 20,
     "metadata": {},
     "output_type": "execute_result"
    }
   ],
   "source": [
    "WH.groupby('Month')[['Time']].count()"
   ]
  },
  {
   "cell_type": "code",
   "execution_count": 21,
   "id": "cec1bc51",
   "metadata": {},
   "outputs": [
    {
     "data": {
      "text/html": [
       "<div>\n",
       "<style scoped>\n",
       "    .dataframe tbody tr th:only-of-type {\n",
       "        vertical-align: middle;\n",
       "    }\n",
       "\n",
       "    .dataframe tbody tr th {\n",
       "        vertical-align: top;\n",
       "    }\n",
       "\n",
       "    .dataframe thead th {\n",
       "        text-align: right;\n",
       "    }\n",
       "</style>\n",
       "<table border=\"1\" class=\"dataframe\">\n",
       "  <thead>\n",
       "    <tr style=\"text-align: right;\">\n",
       "      <th></th>\n",
       "      <th>Jikky</th>\n",
       "      <th>Kayis</th>\n",
       "      <th>Sinny</th>\n",
       "      <th>Criji</th>\n",
       "      <th>Johnan</th>\n",
       "      <th>Month</th>\n",
       "      <th>year</th>\n",
       "      <th>Day</th>\n",
       "    </tr>\n",
       "  </thead>\n",
       "  <tbody>\n",
       "    <tr>\n",
       "      <th>count</th>\n",
       "      <td>91.000000</td>\n",
       "      <td>91.000000</td>\n",
       "      <td>91.000000</td>\n",
       "      <td>91.000000</td>\n",
       "      <td>91.000000</td>\n",
       "      <td>91.000000</td>\n",
       "      <td>91.0</td>\n",
       "      <td>91.000000</td>\n",
       "    </tr>\n",
       "    <tr>\n",
       "      <th>mean</th>\n",
       "      <td>0.782418</td>\n",
       "      <td>0.325275</td>\n",
       "      <td>0.598901</td>\n",
       "      <td>0.472527</td>\n",
       "      <td>0.252747</td>\n",
       "      <td>5.131868</td>\n",
       "      <td>2022.0</td>\n",
       "      <td>17.967033</td>\n",
       "    </tr>\n",
       "    <tr>\n",
       "      <th>std</th>\n",
       "      <td>1.116701</td>\n",
       "      <td>0.888393</td>\n",
       "      <td>1.236527</td>\n",
       "      <td>1.184067</td>\n",
       "      <td>0.940962</td>\n",
       "      <td>0.819333</td>\n",
       "      <td>0.0</td>\n",
       "      <td>8.430699</td>\n",
       "    </tr>\n",
       "    <tr>\n",
       "      <th>min</th>\n",
       "      <td>0.000000</td>\n",
       "      <td>0.000000</td>\n",
       "      <td>0.000000</td>\n",
       "      <td>0.000000</td>\n",
       "      <td>0.000000</td>\n",
       "      <td>4.000000</td>\n",
       "      <td>2022.0</td>\n",
       "      <td>1.000000</td>\n",
       "    </tr>\n",
       "    <tr>\n",
       "      <th>25%</th>\n",
       "      <td>0.000000</td>\n",
       "      <td>0.000000</td>\n",
       "      <td>0.000000</td>\n",
       "      <td>0.000000</td>\n",
       "      <td>0.000000</td>\n",
       "      <td>4.000000</td>\n",
       "      <td>2022.0</td>\n",
       "      <td>11.500000</td>\n",
       "    </tr>\n",
       "    <tr>\n",
       "      <th>50%</th>\n",
       "      <td>0.000000</td>\n",
       "      <td>0.000000</td>\n",
       "      <td>0.000000</td>\n",
       "      <td>0.000000</td>\n",
       "      <td>0.000000</td>\n",
       "      <td>5.000000</td>\n",
       "      <td>2022.0</td>\n",
       "      <td>20.000000</td>\n",
       "    </tr>\n",
       "    <tr>\n",
       "      <th>75%</th>\n",
       "      <td>2.000000</td>\n",
       "      <td>0.000000</td>\n",
       "      <td>0.500000</td>\n",
       "      <td>0.000000</td>\n",
       "      <td>0.000000</td>\n",
       "      <td>6.000000</td>\n",
       "      <td>2022.0</td>\n",
       "      <td>24.500000</td>\n",
       "    </tr>\n",
       "    <tr>\n",
       "      <th>max</th>\n",
       "      <td>7.000000</td>\n",
       "      <td>7.000000</td>\n",
       "      <td>7.000000</td>\n",
       "      <td>7.000000</td>\n",
       "      <td>7.000000</td>\n",
       "      <td>6.000000</td>\n",
       "      <td>2022.0</td>\n",
       "      <td>31.000000</td>\n",
       "    </tr>\n",
       "  </tbody>\n",
       "</table>\n",
       "</div>"
      ],
      "text/plain": [
       "           Jikky      Kayis      Sinny      Criji     Johnan      Month  \\\n",
       "count  91.000000  91.000000  91.000000  91.000000  91.000000  91.000000   \n",
       "mean    0.782418   0.325275   0.598901   0.472527   0.252747   5.131868   \n",
       "std     1.116701   0.888393   1.236527   1.184067   0.940962   0.819333   \n",
       "min     0.000000   0.000000   0.000000   0.000000   0.000000   4.000000   \n",
       "25%     0.000000   0.000000   0.000000   0.000000   0.000000   4.000000   \n",
       "50%     0.000000   0.000000   0.000000   0.000000   0.000000   5.000000   \n",
       "75%     2.000000   0.000000   0.500000   0.000000   0.000000   6.000000   \n",
       "max     7.000000   7.000000   7.000000   7.000000   7.000000   6.000000   \n",
       "\n",
       "         year        Day  \n",
       "count    91.0  91.000000  \n",
       "mean   2022.0  17.967033  \n",
       "std       0.0   8.430699  \n",
       "min    2022.0   1.000000  \n",
       "25%    2022.0  11.500000  \n",
       "50%    2022.0  20.000000  \n",
       "75%    2022.0  24.500000  \n",
       "max    2022.0  31.000000  "
      ]
     },
     "execution_count": 21,
     "metadata": {},
     "output_type": "execute_result"
    }
   ],
   "source": [
    "WH.describe()"
   ]
  },
  {
   "cell_type": "markdown",
   "id": "3cd1edcb",
   "metadata": {},
   "source": [
    "### Find how many physical classes has taken by each mentors through out each month"
   ]
  },
  {
   "cell_type": "code",
   "execution_count": 22,
   "id": "bdf20f0d",
   "metadata": {},
   "outputs": [
    {
     "data": {
      "text/html": [
       "<div>\n",
       "<style scoped>\n",
       "    .dataframe tbody tr th:only-of-type {\n",
       "        vertical-align: middle;\n",
       "    }\n",
       "\n",
       "    .dataframe tbody tr th {\n",
       "        vertical-align: top;\n",
       "    }\n",
       "\n",
       "    .dataframe thead th {\n",
       "        text-align: right;\n",
       "    }\n",
       "</style>\n",
       "<table border=\"1\" class=\"dataframe\">\n",
       "  <thead>\n",
       "    <tr style=\"text-align: right;\">\n",
       "      <th></th>\n",
       "      <th>Jikky</th>\n",
       "      <th>Kayis</th>\n",
       "      <th>Sinny</th>\n",
       "      <th>Criji</th>\n",
       "      <th>Johnan</th>\n",
       "    </tr>\n",
       "    <tr>\n",
       "      <th>Mode of class</th>\n",
       "      <th></th>\n",
       "      <th></th>\n",
       "      <th></th>\n",
       "      <th></th>\n",
       "      <th></th>\n",
       "    </tr>\n",
       "  </thead>\n",
       "  <tbody>\n",
       "    <tr>\n",
       "      <th>Online</th>\n",
       "      <td>57.2</td>\n",
       "      <td>22.6</td>\n",
       "      <td>30.5</td>\n",
       "      <td>23.0</td>\n",
       "      <td>13.5</td>\n",
       "    </tr>\n",
       "    <tr>\n",
       "      <th>Physical</th>\n",
       "      <td>14.0</td>\n",
       "      <td>7.0</td>\n",
       "      <td>24.0</td>\n",
       "      <td>20.0</td>\n",
       "      <td>9.5</td>\n",
       "    </tr>\n",
       "  </tbody>\n",
       "</table>\n",
       "</div>"
      ],
      "text/plain": [
       "               Jikky  Kayis  Sinny  Criji  Johnan\n",
       "Mode of class                                    \n",
       "Online          57.2   22.6   30.5   23.0    13.5\n",
       "Physical        14.0    7.0   24.0   20.0     9.5"
      ]
     },
     "execution_count": 22,
     "metadata": {},
     "output_type": "execute_result"
    }
   ],
   "source": [
    "WH.groupby('Mode of class')[['Jikky', 'Kayis', 'Sinny', 'Criji', 'Johnan']].sum()"
   ]
  },
  {
   "cell_type": "markdown",
   "id": "980f190d",
   "metadata": {},
   "source": [
    "In these past 3 months most of the online classes had taken by Jikky\n",
    "\n",
    "and Sinny mostly took the physical classes"
   ]
  },
  {
   "cell_type": "code",
   "execution_count": 26,
   "id": "1743b88b",
   "metadata": {},
   "outputs": [
    {
     "data": {
      "text/html": [
       "<div>\n",
       "<style scoped>\n",
       "    .dataframe tbody tr th:only-of-type {\n",
       "        vertical-align: middle;\n",
       "    }\n",
       "\n",
       "    .dataframe tbody tr th {\n",
       "        vertical-align: top;\n",
       "    }\n",
       "\n",
       "    .dataframe thead th {\n",
       "        text-align: right;\n",
       "    }\n",
       "</style>\n",
       "<table border=\"1\" class=\"dataframe\">\n",
       "  <thead>\n",
       "    <tr style=\"text-align: right;\">\n",
       "      <th></th>\n",
       "      <th>Jikky</th>\n",
       "      <th>Kayis</th>\n",
       "      <th>Sinny</th>\n",
       "      <th>Criji</th>\n",
       "      <th>Johnan</th>\n",
       "    </tr>\n",
       "    <tr>\n",
       "      <th>Month</th>\n",
       "      <th></th>\n",
       "      <th></th>\n",
       "      <th></th>\n",
       "      <th></th>\n",
       "      <th></th>\n",
       "    </tr>\n",
       "  </thead>\n",
       "  <tbody>\n",
       "    <tr>\n",
       "      <th>4</th>\n",
       "      <td>11.5</td>\n",
       "      <td>14.5</td>\n",
       "      <td>9.5</td>\n",
       "      <td>1.0</td>\n",
       "      <td>0.0</td>\n",
       "    </tr>\n",
       "    <tr>\n",
       "      <th>5</th>\n",
       "      <td>22.7</td>\n",
       "      <td>15.1</td>\n",
       "      <td>22.0</td>\n",
       "      <td>21.0</td>\n",
       "      <td>23.0</td>\n",
       "    </tr>\n",
       "    <tr>\n",
       "      <th>6</th>\n",
       "      <td>37.0</td>\n",
       "      <td>0.0</td>\n",
       "      <td>23.0</td>\n",
       "      <td>21.0</td>\n",
       "      <td>0.0</td>\n",
       "    </tr>\n",
       "  </tbody>\n",
       "</table>\n",
       "</div>"
      ],
      "text/plain": [
       "       Jikky  Kayis  Sinny  Criji  Johnan\n",
       "Month                                    \n",
       "4       11.5   14.5    9.5    1.0     0.0\n",
       "5       22.7   15.1   22.0   21.0    23.0\n",
       "6       37.0    0.0   23.0   21.0     0.0"
      ]
     },
     "execution_count": 26,
     "metadata": {},
     "output_type": "execute_result"
    }
   ],
   "source": [
    "WH.groupby('Month')[['Jikky', 'Kayis', 'Sinny', 'Criji', 'Johnan']].sum()"
   ]
  },
  {
   "cell_type": "markdown",
   "id": "12946c38",
   "metadata": {},
   "source": [
    "Kayis had taken more class hours in April\n",
    "\n",
    "Johnan had taken more class hours in May\n",
    "\n",
    "Jikky had taken more class hours in June"
   ]
  },
  {
   "cell_type": "code",
   "execution_count": 28,
   "id": "686756ad",
   "metadata": {},
   "outputs": [
    {
     "data": {
      "text/plain": [
       "Mode of class\n",
       "Online      80\n",
       "Physical    11\n",
       "dtype: int64"
      ]
     },
     "execution_count": 28,
     "metadata": {},
     "output_type": "execute_result"
    }
   ],
   "source": [
    "jm=pd.crosstab(WH['Johnan'],WH['Mode of class']).sum()\n",
    "jm"
   ]
  },
  {
   "cell_type": "code",
   "execution_count": 29,
   "id": "dc80935b",
   "metadata": {},
   "outputs": [
    {
     "data": {
      "text/plain": [
       "Mode of class\n",
       "Online      80\n",
       "Physical    11\n",
       "dtype: int64"
      ]
     },
     "execution_count": 29,
     "metadata": {},
     "output_type": "execute_result"
    }
   ],
   "source": [
    "cm=pd.crosstab(WH['Criji'],WH['Mode of class']).sum()\n",
    "cm"
   ]
  },
  {
   "cell_type": "code",
   "execution_count": 30,
   "id": "029b799e",
   "metadata": {},
   "outputs": [
    {
     "data": {
      "text/plain": [
       "Mode of class\n",
       "Online      80\n",
       "Physical    11\n",
       "dtype: int64"
      ]
     },
     "execution_count": 30,
     "metadata": {},
     "output_type": "execute_result"
    }
   ],
   "source": [
    "sm=pd.crosstab(WH['Sinny'],WH['Mode of class']).sum()\n",
    "sm"
   ]
  },
  {
   "cell_type": "code",
   "execution_count": 31,
   "id": "6eb56613",
   "metadata": {},
   "outputs": [
    {
     "data": {
      "text/plain": [
       "Mode of class\n",
       "Online      80\n",
       "Physical    11\n",
       "dtype: int64"
      ]
     },
     "execution_count": 31,
     "metadata": {},
     "output_type": "execute_result"
    }
   ],
   "source": [
    "km=pd.crosstab(WH['Kayis'],WH['Mode of class']).sum()\n",
    "km"
   ]
  },
  {
   "cell_type": "code",
   "execution_count": 33,
   "id": "764362ea",
   "metadata": {},
   "outputs": [
    {
     "data": {
      "text/plain": [
       "Month  Mode of class\n",
       "4      Online           25\n",
       "5      Online           24\n",
       "       Physical          5\n",
       "6      Online           31\n",
       "       Physical          6\n",
       "Name: Mode of class, dtype: int64"
      ]
     },
     "execution_count": 33,
     "metadata": {},
     "output_type": "execute_result"
    }
   ],
   "source": [
    "WH.groupby('Month')['Mode of class'].value_counts()"
   ]
  },
  {
   "cell_type": "markdown",
   "id": "e193ffa5",
   "metadata": {},
   "source": [
    "The most of Online class is taken in June\n",
    "\n",
    "The most of Physical classes is taken in June"
   ]
  },
  {
   "cell_type": "code",
   "execution_count": 34,
   "id": "987ff6eb",
   "metadata": {},
   "outputs": [
    {
     "data": {
      "text/html": [
       "<div>\n",
       "<style scoped>\n",
       "    .dataframe tbody tr th:only-of-type {\n",
       "        vertical-align: middle;\n",
       "    }\n",
       "\n",
       "    .dataframe tbody tr th {\n",
       "        vertical-align: top;\n",
       "    }\n",
       "\n",
       "    .dataframe thead th {\n",
       "        text-align: right;\n",
       "    }\n",
       "</style>\n",
       "<table border=\"1\" class=\"dataframe\">\n",
       "  <thead>\n",
       "    <tr style=\"text-align: right;\">\n",
       "      <th></th>\n",
       "      <th>Mode of class</th>\n",
       "    </tr>\n",
       "    <tr>\n",
       "      <th>Month</th>\n",
       "      <th></th>\n",
       "    </tr>\n",
       "  </thead>\n",
       "  <tbody>\n",
       "    <tr>\n",
       "      <th>4</th>\n",
       "      <td>25</td>\n",
       "    </tr>\n",
       "    <tr>\n",
       "      <th>5</th>\n",
       "      <td>29</td>\n",
       "    </tr>\n",
       "    <tr>\n",
       "      <th>6</th>\n",
       "      <td>37</td>\n",
       "    </tr>\n",
       "  </tbody>\n",
       "</table>\n",
       "</div>"
      ],
      "text/plain": [
       "       Mode of class\n",
       "Month               \n",
       "4                 25\n",
       "5                 29\n",
       "6                 37"
      ]
     },
     "execution_count": 34,
     "metadata": {},
     "output_type": "execute_result"
    }
   ],
   "source": [
    "WH.groupby('Month')[['Mode of class']].count()"
   ]
  },
  {
   "cell_type": "markdown",
   "id": "e3900113",
   "metadata": {},
   "source": [
    "### If the the payment is 100 for one hour , then how much salary"
   ]
  },
  {
   "cell_type": "code",
   "execution_count": 35,
   "id": "494ddef2",
   "metadata": {},
   "outputs": [
    {
     "data": {
      "text/html": [
       "<div>\n",
       "<style scoped>\n",
       "    .dataframe tbody tr th:only-of-type {\n",
       "        vertical-align: middle;\n",
       "    }\n",
       "\n",
       "    .dataframe tbody tr th {\n",
       "        vertical-align: top;\n",
       "    }\n",
       "\n",
       "    .dataframe thead th {\n",
       "        text-align: right;\n",
       "    }\n",
       "</style>\n",
       "<table border=\"1\" class=\"dataframe\">\n",
       "  <thead>\n",
       "    <tr style=\"text-align: right;\">\n",
       "      <th></th>\n",
       "      <th>Date</th>\n",
       "      <th>Time</th>\n",
       "      <th>Jikky</th>\n",
       "      <th>Kayis</th>\n",
       "      <th>Sinny</th>\n",
       "      <th>Criji</th>\n",
       "      <th>Johnan</th>\n",
       "      <th>Mode of class</th>\n",
       "      <th>Month</th>\n",
       "      <th>year</th>\n",
       "      <th>Day</th>\n",
       "      <th>Salary_1_jikky</th>\n",
       "    </tr>\n",
       "  </thead>\n",
       "  <tbody>\n",
       "    <tr>\n",
       "      <th>0</th>\n",
       "      <td>2022-04-11</td>\n",
       "      <td>9:30 am- 10:30 am</td>\n",
       "      <td>1.0</td>\n",
       "      <td>1.0</td>\n",
       "      <td>0.0</td>\n",
       "      <td>0.0</td>\n",
       "      <td>0.0</td>\n",
       "      <td>Online</td>\n",
       "      <td>4</td>\n",
       "      <td>2022</td>\n",
       "      <td>11</td>\n",
       "      <td>100.0</td>\n",
       "    </tr>\n",
       "    <tr>\n",
       "      <th>1</th>\n",
       "      <td>2022-04-11</td>\n",
       "      <td>10:30 am- 11:30 am</td>\n",
       "      <td>1.0</td>\n",
       "      <td>1.0</td>\n",
       "      <td>0.0</td>\n",
       "      <td>0.0</td>\n",
       "      <td>0.0</td>\n",
       "      <td>Online</td>\n",
       "      <td>4</td>\n",
       "      <td>2022</td>\n",
       "      <td>11</td>\n",
       "      <td>100.0</td>\n",
       "    </tr>\n",
       "  </tbody>\n",
       "</table>\n",
       "</div>"
      ],
      "text/plain": [
       "        Date                Time  Jikky  Kayis  Sinny  Criji  Johnan  \\\n",
       "0 2022-04-11   9:30 am- 10:30 am    1.0    1.0    0.0    0.0     0.0   \n",
       "1 2022-04-11  10:30 am- 11:30 am    1.0    1.0    0.0    0.0     0.0   \n",
       "\n",
       "  Mode of class  Month  year  Day  Salary_1_jikky  \n",
       "0        Online      4  2022   11           100.0  \n",
       "1        Online      4  2022   11           100.0  "
      ]
     },
     "execution_count": 35,
     "metadata": {},
     "output_type": "execute_result"
    }
   ],
   "source": [
    "WH['Salary_1_jikky']=(WH['Jikky']*100)\n",
    "WH.head(2)"
   ]
  },
  {
   "cell_type": "code",
   "execution_count": 36,
   "id": "5c0ca7ec",
   "metadata": {},
   "outputs": [
    {
     "data": {
      "text/html": [
       "<div>\n",
       "<style scoped>\n",
       "    .dataframe tbody tr th:only-of-type {\n",
       "        vertical-align: middle;\n",
       "    }\n",
       "\n",
       "    .dataframe tbody tr th {\n",
       "        vertical-align: top;\n",
       "    }\n",
       "\n",
       "    .dataframe thead th {\n",
       "        text-align: right;\n",
       "    }\n",
       "</style>\n",
       "<table border=\"1\" class=\"dataframe\">\n",
       "  <thead>\n",
       "    <tr style=\"text-align: right;\">\n",
       "      <th></th>\n",
       "      <th>Date</th>\n",
       "      <th>Time</th>\n",
       "      <th>Jikky</th>\n",
       "      <th>Kayis</th>\n",
       "      <th>Sinny</th>\n",
       "      <th>Criji</th>\n",
       "      <th>Johnan</th>\n",
       "      <th>Mode of class</th>\n",
       "      <th>Month</th>\n",
       "      <th>year</th>\n",
       "      <th>Day</th>\n",
       "      <th>Salary_1_jikky</th>\n",
       "      <th>Salary_1_kayis</th>\n",
       "    </tr>\n",
       "  </thead>\n",
       "  <tbody>\n",
       "    <tr>\n",
       "      <th>0</th>\n",
       "      <td>2022-04-11</td>\n",
       "      <td>9:30 am- 10:30 am</td>\n",
       "      <td>1.0</td>\n",
       "      <td>1.0</td>\n",
       "      <td>0.0</td>\n",
       "      <td>0.0</td>\n",
       "      <td>0.0</td>\n",
       "      <td>Online</td>\n",
       "      <td>4</td>\n",
       "      <td>2022</td>\n",
       "      <td>11</td>\n",
       "      <td>100.0</td>\n",
       "      <td>100.0</td>\n",
       "    </tr>\n",
       "    <tr>\n",
       "      <th>1</th>\n",
       "      <td>2022-04-11</td>\n",
       "      <td>10:30 am- 11:30 am</td>\n",
       "      <td>1.0</td>\n",
       "      <td>1.0</td>\n",
       "      <td>0.0</td>\n",
       "      <td>0.0</td>\n",
       "      <td>0.0</td>\n",
       "      <td>Online</td>\n",
       "      <td>4</td>\n",
       "      <td>2022</td>\n",
       "      <td>11</td>\n",
       "      <td>100.0</td>\n",
       "      <td>100.0</td>\n",
       "    </tr>\n",
       "  </tbody>\n",
       "</table>\n",
       "</div>"
      ],
      "text/plain": [
       "        Date                Time  Jikky  Kayis  Sinny  Criji  Johnan  \\\n",
       "0 2022-04-11   9:30 am- 10:30 am    1.0    1.0    0.0    0.0     0.0   \n",
       "1 2022-04-11  10:30 am- 11:30 am    1.0    1.0    0.0    0.0     0.0   \n",
       "\n",
       "  Mode of class  Month  year  Day  Salary_1_jikky  Salary_1_kayis  \n",
       "0        Online      4  2022   11           100.0           100.0  \n",
       "1        Online      4  2022   11           100.0           100.0  "
      ]
     },
     "execution_count": 36,
     "metadata": {},
     "output_type": "execute_result"
    }
   ],
   "source": [
    "WH['Salary_1_kayis']=(WH['Kayis']*100)\n",
    "WH.head(2)"
   ]
  },
  {
   "cell_type": "code",
   "execution_count": 37,
   "id": "e7dea02d",
   "metadata": {},
   "outputs": [
    {
     "data": {
      "text/html": [
       "<div>\n",
       "<style scoped>\n",
       "    .dataframe tbody tr th:only-of-type {\n",
       "        vertical-align: middle;\n",
       "    }\n",
       "\n",
       "    .dataframe tbody tr th {\n",
       "        vertical-align: top;\n",
       "    }\n",
       "\n",
       "    .dataframe thead th {\n",
       "        text-align: right;\n",
       "    }\n",
       "</style>\n",
       "<table border=\"1\" class=\"dataframe\">\n",
       "  <thead>\n",
       "    <tr style=\"text-align: right;\">\n",
       "      <th></th>\n",
       "      <th>Date</th>\n",
       "      <th>Time</th>\n",
       "      <th>Jikky</th>\n",
       "      <th>Kayis</th>\n",
       "      <th>Sinny</th>\n",
       "      <th>Criji</th>\n",
       "      <th>Johnan</th>\n",
       "      <th>Mode of class</th>\n",
       "      <th>Month</th>\n",
       "      <th>year</th>\n",
       "      <th>Day</th>\n",
       "      <th>Salary_1_jikky</th>\n",
       "      <th>Salary_1_kayis</th>\n",
       "    </tr>\n",
       "  </thead>\n",
       "  <tbody>\n",
       "    <tr>\n",
       "      <th>0</th>\n",
       "      <td>2022-04-11</td>\n",
       "      <td>9:30 am- 10:30 am</td>\n",
       "      <td>1.0</td>\n",
       "      <td>1.0</td>\n",
       "      <td>0.0</td>\n",
       "      <td>0.0</td>\n",
       "      <td>0.0</td>\n",
       "      <td>Online</td>\n",
       "      <td>4</td>\n",
       "      <td>2022</td>\n",
       "      <td>11</td>\n",
       "      <td>100.0</td>\n",
       "      <td>0.0</td>\n",
       "    </tr>\n",
       "    <tr>\n",
       "      <th>1</th>\n",
       "      <td>2022-04-11</td>\n",
       "      <td>10:30 am- 11:30 am</td>\n",
       "      <td>1.0</td>\n",
       "      <td>1.0</td>\n",
       "      <td>0.0</td>\n",
       "      <td>0.0</td>\n",
       "      <td>0.0</td>\n",
       "      <td>Online</td>\n",
       "      <td>4</td>\n",
       "      <td>2022</td>\n",
       "      <td>11</td>\n",
       "      <td>100.0</td>\n",
       "      <td>0.0</td>\n",
       "    </tr>\n",
       "  </tbody>\n",
       "</table>\n",
       "</div>"
      ],
      "text/plain": [
       "        Date                Time  Jikky  Kayis  Sinny  Criji  Johnan  \\\n",
       "0 2022-04-11   9:30 am- 10:30 am    1.0    1.0    0.0    0.0     0.0   \n",
       "1 2022-04-11  10:30 am- 11:30 am    1.0    1.0    0.0    0.0     0.0   \n",
       "\n",
       "  Mode of class  Month  year  Day  Salary_1_jikky  Salary_1_kayis  \n",
       "0        Online      4  2022   11           100.0             0.0  \n",
       "1        Online      4  2022   11           100.0             0.0  "
      ]
     },
     "execution_count": 37,
     "metadata": {},
     "output_type": "execute_result"
    }
   ],
   "source": [
    "WH['Salary_1_sinny']=(WH['Sinny']*100)\n",
    "WH.head(2)"
   ]
  },
  {
   "cell_type": "code",
   "execution_count": 38,
   "id": "95afbeaa",
   "metadata": {},
   "outputs": [
    {
     "data": {
      "text/html": [
       "<div>\n",
       "<style scoped>\n",
       "    .dataframe tbody tr th:only-of-type {\n",
       "        vertical-align: middle;\n",
       "    }\n",
       "\n",
       "    .dataframe tbody tr th {\n",
       "        vertical-align: top;\n",
       "    }\n",
       "\n",
       "    .dataframe thead th {\n",
       "        text-align: right;\n",
       "    }\n",
       "</style>\n",
       "<table border=\"1\" class=\"dataframe\">\n",
       "  <thead>\n",
       "    <tr style=\"text-align: right;\">\n",
       "      <th></th>\n",
       "      <th>Date</th>\n",
       "      <th>Time</th>\n",
       "      <th>Jikky</th>\n",
       "      <th>Kayis</th>\n",
       "      <th>Sinny</th>\n",
       "      <th>Criji</th>\n",
       "      <th>Johnan</th>\n",
       "      <th>Mode of class</th>\n",
       "      <th>Month</th>\n",
       "      <th>year</th>\n",
       "      <th>Day</th>\n",
       "      <th>Salary_1_jikky</th>\n",
       "      <th>Salary_1_kayis</th>\n",
       "    </tr>\n",
       "  </thead>\n",
       "  <tbody>\n",
       "    <tr>\n",
       "      <th>0</th>\n",
       "      <td>2022-04-11</td>\n",
       "      <td>9:30 am- 10:30 am</td>\n",
       "      <td>1.0</td>\n",
       "      <td>1.0</td>\n",
       "      <td>0.0</td>\n",
       "      <td>0.0</td>\n",
       "      <td>0.0</td>\n",
       "      <td>Online</td>\n",
       "      <td>4</td>\n",
       "      <td>2022</td>\n",
       "      <td>11</td>\n",
       "      <td>100.0</td>\n",
       "      <td>0.0</td>\n",
       "    </tr>\n",
       "    <tr>\n",
       "      <th>1</th>\n",
       "      <td>2022-04-11</td>\n",
       "      <td>10:30 am- 11:30 am</td>\n",
       "      <td>1.0</td>\n",
       "      <td>1.0</td>\n",
       "      <td>0.0</td>\n",
       "      <td>0.0</td>\n",
       "      <td>0.0</td>\n",
       "      <td>Online</td>\n",
       "      <td>4</td>\n",
       "      <td>2022</td>\n",
       "      <td>11</td>\n",
       "      <td>100.0</td>\n",
       "      <td>0.0</td>\n",
       "    </tr>\n",
       "  </tbody>\n",
       "</table>\n",
       "</div>"
      ],
      "text/plain": [
       "        Date                Time  Jikky  Kayis  Sinny  Criji  Johnan  \\\n",
       "0 2022-04-11   9:30 am- 10:30 am    1.0    1.0    0.0    0.0     0.0   \n",
       "1 2022-04-11  10:30 am- 11:30 am    1.0    1.0    0.0    0.0     0.0   \n",
       "\n",
       "  Mode of class  Month  year  Day  Salary_1_jikky  Salary_1_kayis  \n",
       "0        Online      4  2022   11           100.0             0.0  \n",
       "1        Online      4  2022   11           100.0             0.0  "
      ]
     },
     "execution_count": 38,
     "metadata": {},
     "output_type": "execute_result"
    }
   ],
   "source": [
    "WH['Salary_1_criji']=(WH['Criji']*100)\n",
    "WH.head(2)"
   ]
  },
  {
   "cell_type": "code",
   "execution_count": 40,
   "id": "41406dd6",
   "metadata": {},
   "outputs": [
    {
     "data": {
      "text/html": [
       "<div>\n",
       "<style scoped>\n",
       "    .dataframe tbody tr th:only-of-type {\n",
       "        vertical-align: middle;\n",
       "    }\n",
       "\n",
       "    .dataframe tbody tr th {\n",
       "        vertical-align: top;\n",
       "    }\n",
       "\n",
       "    .dataframe thead th {\n",
       "        text-align: right;\n",
       "    }\n",
       "</style>\n",
       "<table border=\"1\" class=\"dataframe\">\n",
       "  <thead>\n",
       "    <tr style=\"text-align: right;\">\n",
       "      <th></th>\n",
       "      <th>Date</th>\n",
       "      <th>Time</th>\n",
       "      <th>Jikky</th>\n",
       "      <th>Kayis</th>\n",
       "      <th>Sinny</th>\n",
       "      <th>Criji</th>\n",
       "      <th>Johnan</th>\n",
       "      <th>Mode of class</th>\n",
       "      <th>Month</th>\n",
       "      <th>year</th>\n",
       "      <th>Day</th>\n",
       "      <th>Salary_1_jikky</th>\n",
       "      <th>Salary_1_kayis</th>\n",
       "      <th>Salary_1_Johnan</th>\n",
       "    </tr>\n",
       "  </thead>\n",
       "  <tbody>\n",
       "    <tr>\n",
       "      <th>0</th>\n",
       "      <td>2022-04-11</td>\n",
       "      <td>9:30 am- 10:30 am</td>\n",
       "      <td>1.0</td>\n",
       "      <td>1.0</td>\n",
       "      <td>0.0</td>\n",
       "      <td>0.0</td>\n",
       "      <td>0.0</td>\n",
       "      <td>Online</td>\n",
       "      <td>4</td>\n",
       "      <td>2022</td>\n",
       "      <td>11</td>\n",
       "      <td>100.0</td>\n",
       "      <td>0.0</td>\n",
       "      <td>0.0</td>\n",
       "    </tr>\n",
       "    <tr>\n",
       "      <th>1</th>\n",
       "      <td>2022-04-11</td>\n",
       "      <td>10:30 am- 11:30 am</td>\n",
       "      <td>1.0</td>\n",
       "      <td>1.0</td>\n",
       "      <td>0.0</td>\n",
       "      <td>0.0</td>\n",
       "      <td>0.0</td>\n",
       "      <td>Online</td>\n",
       "      <td>4</td>\n",
       "      <td>2022</td>\n",
       "      <td>11</td>\n",
       "      <td>100.0</td>\n",
       "      <td>0.0</td>\n",
       "      <td>0.0</td>\n",
       "    </tr>\n",
       "  </tbody>\n",
       "</table>\n",
       "</div>"
      ],
      "text/plain": [
       "        Date                Time  Jikky  Kayis  Sinny  Criji  Johnan  \\\n",
       "0 2022-04-11   9:30 am- 10:30 am    1.0    1.0    0.0    0.0     0.0   \n",
       "1 2022-04-11  10:30 am- 11:30 am    1.0    1.0    0.0    0.0     0.0   \n",
       "\n",
       "  Mode of class  Month  year  Day  Salary_1_jikky  Salary_1_kayis  \\\n",
       "0        Online      4  2022   11           100.0             0.0   \n",
       "1        Online      4  2022   11           100.0             0.0   \n",
       "\n",
       "   Salary_1_Johnan  \n",
       "0              0.0  \n",
       "1              0.0  "
      ]
     },
     "execution_count": 40,
     "metadata": {},
     "output_type": "execute_result"
    }
   ],
   "source": [
    "WH['Salary_1_Johnan']=(WH['Johnan']*100)\n",
    "WH.head(2)                       "
   ]
  },
  {
   "cell_type": "markdown",
   "id": "4ab2a7b0",
   "metadata": {},
   "source": [
    "### If the the payment for one hour is 150 means how much salary did they got in each month"
   ]
  },
  {
   "cell_type": "code",
   "execution_count": 45,
   "id": "36e9cb9e",
   "metadata": {},
   "outputs": [
    {
     "data": {
      "text/html": [
       "<div>\n",
       "<style scoped>\n",
       "    .dataframe tbody tr th:only-of-type {\n",
       "        vertical-align: middle;\n",
       "    }\n",
       "\n",
       "    .dataframe tbody tr th {\n",
       "        vertical-align: top;\n",
       "    }\n",
       "\n",
       "    .dataframe thead th {\n",
       "        text-align: right;\n",
       "    }\n",
       "</style>\n",
       "<table border=\"1\" class=\"dataframe\">\n",
       "  <thead>\n",
       "    <tr style=\"text-align: right;\">\n",
       "      <th></th>\n",
       "      <th>Date</th>\n",
       "      <th>Time</th>\n",
       "      <th>Jikky</th>\n",
       "      <th>Kayis</th>\n",
       "      <th>Sinny</th>\n",
       "      <th>Criji</th>\n",
       "      <th>Johnan</th>\n",
       "      <th>Mode of class</th>\n",
       "      <th>Month</th>\n",
       "      <th>year</th>\n",
       "      <th>Day</th>\n",
       "      <th>Salary_1_jikky</th>\n",
       "      <th>Salary_1_kayis</th>\n",
       "      <th>Salary_1_Johnan</th>\n",
       "      <th>Salary_1_sinny</th>\n",
       "      <th>Salary_1_criji</th>\n",
       "      <th>Salary_2_Johnan</th>\n",
       "    </tr>\n",
       "  </thead>\n",
       "  <tbody>\n",
       "    <tr>\n",
       "      <th>0</th>\n",
       "      <td>2022-04-11</td>\n",
       "      <td>9:30 am- 10:30 am</td>\n",
       "      <td>1.0</td>\n",
       "      <td>1.0</td>\n",
       "      <td>0.0</td>\n",
       "      <td>0.0</td>\n",
       "      <td>0.0</td>\n",
       "      <td>Online</td>\n",
       "      <td>4</td>\n",
       "      <td>2022</td>\n",
       "      <td>11</td>\n",
       "      <td>100.0</td>\n",
       "      <td>150.0</td>\n",
       "      <td>0.0</td>\n",
       "      <td>0.0</td>\n",
       "      <td>0.0</td>\n",
       "      <td>0.0</td>\n",
       "    </tr>\n",
       "    <tr>\n",
       "      <th>1</th>\n",
       "      <td>2022-04-11</td>\n",
       "      <td>10:30 am- 11:30 am</td>\n",
       "      <td>1.0</td>\n",
       "      <td>1.0</td>\n",
       "      <td>0.0</td>\n",
       "      <td>0.0</td>\n",
       "      <td>0.0</td>\n",
       "      <td>Online</td>\n",
       "      <td>4</td>\n",
       "      <td>2022</td>\n",
       "      <td>11</td>\n",
       "      <td>100.0</td>\n",
       "      <td>150.0</td>\n",
       "      <td>0.0</td>\n",
       "      <td>0.0</td>\n",
       "      <td>0.0</td>\n",
       "      <td>0.0</td>\n",
       "    </tr>\n",
       "  </tbody>\n",
       "</table>\n",
       "</div>"
      ],
      "text/plain": [
       "        Date                Time  Jikky  Kayis  Sinny  Criji  Johnan  \\\n",
       "0 2022-04-11   9:30 am- 10:30 am    1.0    1.0    0.0    0.0     0.0   \n",
       "1 2022-04-11  10:30 am- 11:30 am    1.0    1.0    0.0    0.0     0.0   \n",
       "\n",
       "  Mode of class  Month  year  Day  Salary_1_jikky  Salary_1_kayis  \\\n",
       "0        Online      4  2022   11           100.0           150.0   \n",
       "1        Online      4  2022   11           100.0           150.0   \n",
       "\n",
       "   Salary_1_Johnan  Salary_1_sinny  Salary_1_criji  Salary_2_Johnan  \n",
       "0              0.0             0.0             0.0              0.0  \n",
       "1              0.0             0.0             0.0              0.0  "
      ]
     },
     "execution_count": 45,
     "metadata": {},
     "output_type": "execute_result"
    }
   ],
   "source": [
    "WH['Salary_2_Johnan']=(WH['Johnan']*150)\n",
    "WH.head(2)                       "
   ]
  },
  {
   "cell_type": "code",
   "execution_count": 46,
   "id": "5aef3344",
   "metadata": {},
   "outputs": [
    {
     "data": {
      "text/html": [
       "<div>\n",
       "<style scoped>\n",
       "    .dataframe tbody tr th:only-of-type {\n",
       "        vertical-align: middle;\n",
       "    }\n",
       "\n",
       "    .dataframe tbody tr th {\n",
       "        vertical-align: top;\n",
       "    }\n",
       "\n",
       "    .dataframe thead th {\n",
       "        text-align: right;\n",
       "    }\n",
       "</style>\n",
       "<table border=\"1\" class=\"dataframe\">\n",
       "  <thead>\n",
       "    <tr style=\"text-align: right;\">\n",
       "      <th></th>\n",
       "      <th>Date</th>\n",
       "      <th>Time</th>\n",
       "      <th>Jikky</th>\n",
       "      <th>Kayis</th>\n",
       "      <th>Sinny</th>\n",
       "      <th>Criji</th>\n",
       "      <th>Johnan</th>\n",
       "      <th>Mode of class</th>\n",
       "      <th>Month</th>\n",
       "      <th>year</th>\n",
       "      <th>Day</th>\n",
       "      <th>Salary_1_jikky</th>\n",
       "      <th>Salary_1_kayis</th>\n",
       "      <th>Salary_1_Johnan</th>\n",
       "      <th>Salary_1_sinny</th>\n",
       "      <th>Salary_1_criji</th>\n",
       "      <th>Salary_2_Johnan</th>\n",
       "      <th>Salary_2_kayis</th>\n",
       "    </tr>\n",
       "  </thead>\n",
       "  <tbody>\n",
       "    <tr>\n",
       "      <th>0</th>\n",
       "      <td>2022-04-11</td>\n",
       "      <td>9:30 am- 10:30 am</td>\n",
       "      <td>1.0</td>\n",
       "      <td>1.0</td>\n",
       "      <td>0.0</td>\n",
       "      <td>0.0</td>\n",
       "      <td>0.0</td>\n",
       "      <td>Online</td>\n",
       "      <td>4</td>\n",
       "      <td>2022</td>\n",
       "      <td>11</td>\n",
       "      <td>100.0</td>\n",
       "      <td>150.0</td>\n",
       "      <td>0.0</td>\n",
       "      <td>0.0</td>\n",
       "      <td>0.0</td>\n",
       "      <td>0.0</td>\n",
       "      <td>150.0</td>\n",
       "    </tr>\n",
       "    <tr>\n",
       "      <th>1</th>\n",
       "      <td>2022-04-11</td>\n",
       "      <td>10:30 am- 11:30 am</td>\n",
       "      <td>1.0</td>\n",
       "      <td>1.0</td>\n",
       "      <td>0.0</td>\n",
       "      <td>0.0</td>\n",
       "      <td>0.0</td>\n",
       "      <td>Online</td>\n",
       "      <td>4</td>\n",
       "      <td>2022</td>\n",
       "      <td>11</td>\n",
       "      <td>100.0</td>\n",
       "      <td>150.0</td>\n",
       "      <td>0.0</td>\n",
       "      <td>0.0</td>\n",
       "      <td>0.0</td>\n",
       "      <td>0.0</td>\n",
       "      <td>150.0</td>\n",
       "    </tr>\n",
       "  </tbody>\n",
       "</table>\n",
       "</div>"
      ],
      "text/plain": [
       "        Date                Time  Jikky  Kayis  Sinny  Criji  Johnan  \\\n",
       "0 2022-04-11   9:30 am- 10:30 am    1.0    1.0    0.0    0.0     0.0   \n",
       "1 2022-04-11  10:30 am- 11:30 am    1.0    1.0    0.0    0.0     0.0   \n",
       "\n",
       "  Mode of class  Month  year  Day  Salary_1_jikky  Salary_1_kayis  \\\n",
       "0        Online      4  2022   11           100.0           150.0   \n",
       "1        Online      4  2022   11           100.0           150.0   \n",
       "\n",
       "   Salary_1_Johnan  Salary_1_sinny  Salary_1_criji  Salary_2_Johnan  \\\n",
       "0              0.0             0.0             0.0              0.0   \n",
       "1              0.0             0.0             0.0              0.0   \n",
       "\n",
       "   Salary_2_kayis  \n",
       "0           150.0  \n",
       "1           150.0  "
      ]
     },
     "execution_count": 46,
     "metadata": {},
     "output_type": "execute_result"
    }
   ],
   "source": [
    "WH['Salary_2_kayis']=(WH['Kayis']*150)\n",
    "WH.head(2)                       "
   ]
  },
  {
   "cell_type": "code",
   "execution_count": 47,
   "id": "73cc8b64",
   "metadata": {},
   "outputs": [
    {
     "data": {
      "text/html": [
       "<div>\n",
       "<style scoped>\n",
       "    .dataframe tbody tr th:only-of-type {\n",
       "        vertical-align: middle;\n",
       "    }\n",
       "\n",
       "    .dataframe tbody tr th {\n",
       "        vertical-align: top;\n",
       "    }\n",
       "\n",
       "    .dataframe thead th {\n",
       "        text-align: right;\n",
       "    }\n",
       "</style>\n",
       "<table border=\"1\" class=\"dataframe\">\n",
       "  <thead>\n",
       "    <tr style=\"text-align: right;\">\n",
       "      <th></th>\n",
       "      <th>Date</th>\n",
       "      <th>Time</th>\n",
       "      <th>Jikky</th>\n",
       "      <th>Kayis</th>\n",
       "      <th>Sinny</th>\n",
       "      <th>Criji</th>\n",
       "      <th>Johnan</th>\n",
       "      <th>Mode of class</th>\n",
       "      <th>Month</th>\n",
       "      <th>year</th>\n",
       "      <th>Day</th>\n",
       "      <th>Salary_1_jikky</th>\n",
       "      <th>Salary_1_kayis</th>\n",
       "      <th>Salary_1_Johnan</th>\n",
       "      <th>Salary_1_sinny</th>\n",
       "      <th>Salary_1_criji</th>\n",
       "      <th>Salary_2_Johnan</th>\n",
       "      <th>Salary_2_kayis</th>\n",
       "      <th>Salary_2_sinny</th>\n",
       "    </tr>\n",
       "  </thead>\n",
       "  <tbody>\n",
       "    <tr>\n",
       "      <th>0</th>\n",
       "      <td>2022-04-11</td>\n",
       "      <td>9:30 am- 10:30 am</td>\n",
       "      <td>1.0</td>\n",
       "      <td>1.0</td>\n",
       "      <td>0.0</td>\n",
       "      <td>0.0</td>\n",
       "      <td>0.0</td>\n",
       "      <td>Online</td>\n",
       "      <td>4</td>\n",
       "      <td>2022</td>\n",
       "      <td>11</td>\n",
       "      <td>100.0</td>\n",
       "      <td>150.0</td>\n",
       "      <td>0.0</td>\n",
       "      <td>0.0</td>\n",
       "      <td>0.0</td>\n",
       "      <td>0.0</td>\n",
       "      <td>150.0</td>\n",
       "      <td>0.0</td>\n",
       "    </tr>\n",
       "    <tr>\n",
       "      <th>1</th>\n",
       "      <td>2022-04-11</td>\n",
       "      <td>10:30 am- 11:30 am</td>\n",
       "      <td>1.0</td>\n",
       "      <td>1.0</td>\n",
       "      <td>0.0</td>\n",
       "      <td>0.0</td>\n",
       "      <td>0.0</td>\n",
       "      <td>Online</td>\n",
       "      <td>4</td>\n",
       "      <td>2022</td>\n",
       "      <td>11</td>\n",
       "      <td>100.0</td>\n",
       "      <td>150.0</td>\n",
       "      <td>0.0</td>\n",
       "      <td>0.0</td>\n",
       "      <td>0.0</td>\n",
       "      <td>0.0</td>\n",
       "      <td>150.0</td>\n",
       "      <td>0.0</td>\n",
       "    </tr>\n",
       "  </tbody>\n",
       "</table>\n",
       "</div>"
      ],
      "text/plain": [
       "        Date                Time  Jikky  Kayis  Sinny  Criji  Johnan  \\\n",
       "0 2022-04-11   9:30 am- 10:30 am    1.0    1.0    0.0    0.0     0.0   \n",
       "1 2022-04-11  10:30 am- 11:30 am    1.0    1.0    0.0    0.0     0.0   \n",
       "\n",
       "  Mode of class  Month  year  Day  Salary_1_jikky  Salary_1_kayis  \\\n",
       "0        Online      4  2022   11           100.0           150.0   \n",
       "1        Online      4  2022   11           100.0           150.0   \n",
       "\n",
       "   Salary_1_Johnan  Salary_1_sinny  Salary_1_criji  Salary_2_Johnan  \\\n",
       "0              0.0             0.0             0.0              0.0   \n",
       "1              0.0             0.0             0.0              0.0   \n",
       "\n",
       "   Salary_2_kayis  Salary_2_sinny  \n",
       "0           150.0             0.0  \n",
       "1           150.0             0.0  "
      ]
     },
     "execution_count": 47,
     "metadata": {},
     "output_type": "execute_result"
    }
   ],
   "source": [
    "WH['Salary_2_sinny']=(WH['Sinny']*150)\n",
    "WH.head(2)                       "
   ]
  },
  {
   "cell_type": "code",
   "execution_count": 48,
   "id": "cfddcf50",
   "metadata": {},
   "outputs": [
    {
     "data": {
      "text/html": [
       "<div>\n",
       "<style scoped>\n",
       "    .dataframe tbody tr th:only-of-type {\n",
       "        vertical-align: middle;\n",
       "    }\n",
       "\n",
       "    .dataframe tbody tr th {\n",
       "        vertical-align: top;\n",
       "    }\n",
       "\n",
       "    .dataframe thead th {\n",
       "        text-align: right;\n",
       "    }\n",
       "</style>\n",
       "<table border=\"1\" class=\"dataframe\">\n",
       "  <thead>\n",
       "    <tr style=\"text-align: right;\">\n",
       "      <th></th>\n",
       "      <th>Date</th>\n",
       "      <th>Time</th>\n",
       "      <th>Jikky</th>\n",
       "      <th>Kayis</th>\n",
       "      <th>Sinny</th>\n",
       "      <th>Criji</th>\n",
       "      <th>Johnan</th>\n",
       "      <th>Mode of class</th>\n",
       "      <th>Month</th>\n",
       "      <th>year</th>\n",
       "      <th>Day</th>\n",
       "      <th>Salary_1_jikky</th>\n",
       "      <th>Salary_1_kayis</th>\n",
       "      <th>Salary_1_Johnan</th>\n",
       "      <th>Salary_1_sinny</th>\n",
       "      <th>Salary_1_criji</th>\n",
       "      <th>Salary_2_Johnan</th>\n",
       "      <th>Salary_2_kayis</th>\n",
       "      <th>Salary_2_sinny</th>\n",
       "      <th>Salary_2_criji</th>\n",
       "    </tr>\n",
       "  </thead>\n",
       "  <tbody>\n",
       "    <tr>\n",
       "      <th>0</th>\n",
       "      <td>2022-04-11</td>\n",
       "      <td>9:30 am- 10:30 am</td>\n",
       "      <td>1.0</td>\n",
       "      <td>1.0</td>\n",
       "      <td>0.0</td>\n",
       "      <td>0.0</td>\n",
       "      <td>0.0</td>\n",
       "      <td>Online</td>\n",
       "      <td>4</td>\n",
       "      <td>2022</td>\n",
       "      <td>11</td>\n",
       "      <td>100.0</td>\n",
       "      <td>150.0</td>\n",
       "      <td>0.0</td>\n",
       "      <td>0.0</td>\n",
       "      <td>0.0</td>\n",
       "      <td>0.0</td>\n",
       "      <td>150.0</td>\n",
       "      <td>0.0</td>\n",
       "      <td>0.0</td>\n",
       "    </tr>\n",
       "    <tr>\n",
       "      <th>1</th>\n",
       "      <td>2022-04-11</td>\n",
       "      <td>10:30 am- 11:30 am</td>\n",
       "      <td>1.0</td>\n",
       "      <td>1.0</td>\n",
       "      <td>0.0</td>\n",
       "      <td>0.0</td>\n",
       "      <td>0.0</td>\n",
       "      <td>Online</td>\n",
       "      <td>4</td>\n",
       "      <td>2022</td>\n",
       "      <td>11</td>\n",
       "      <td>100.0</td>\n",
       "      <td>150.0</td>\n",
       "      <td>0.0</td>\n",
       "      <td>0.0</td>\n",
       "      <td>0.0</td>\n",
       "      <td>0.0</td>\n",
       "      <td>150.0</td>\n",
       "      <td>0.0</td>\n",
       "      <td>0.0</td>\n",
       "    </tr>\n",
       "  </tbody>\n",
       "</table>\n",
       "</div>"
      ],
      "text/plain": [
       "        Date                Time  Jikky  Kayis  Sinny  Criji  Johnan  \\\n",
       "0 2022-04-11   9:30 am- 10:30 am    1.0    1.0    0.0    0.0     0.0   \n",
       "1 2022-04-11  10:30 am- 11:30 am    1.0    1.0    0.0    0.0     0.0   \n",
       "\n",
       "  Mode of class  Month  year  Day  Salary_1_jikky  Salary_1_kayis  \\\n",
       "0        Online      4  2022   11           100.0           150.0   \n",
       "1        Online      4  2022   11           100.0           150.0   \n",
       "\n",
       "   Salary_1_Johnan  Salary_1_sinny  Salary_1_criji  Salary_2_Johnan  \\\n",
       "0              0.0             0.0             0.0              0.0   \n",
       "1              0.0             0.0             0.0              0.0   \n",
       "\n",
       "   Salary_2_kayis  Salary_2_sinny  Salary_2_criji  \n",
       "0           150.0             0.0             0.0  \n",
       "1           150.0             0.0             0.0  "
      ]
     },
     "execution_count": 48,
     "metadata": {},
     "output_type": "execute_result"
    }
   ],
   "source": [
    "WH['Salary_2_criji']=(WH['Criji']*150)\n",
    "WH.head(2)                       "
   ]
  },
  {
   "cell_type": "markdown",
   "id": "f38282b2",
   "metadata": {},
   "source": [
    "### Create a dataframe using the data you got with salary of each month of each mentors"
   ]
  },
  {
   "cell_type": "code",
   "execution_count": 50,
   "id": "bab0f28c",
   "metadata": {},
   "outputs": [
    {
     "data": {
      "text/plain": [
       "Salary_1_jikky     7120.0\n",
       "Salary_1_kayis     4440.0\n",
       "Salary_1_sinny     8175.0\n",
       "Salary_1_criji     6450.0\n",
       "Salary_1_Johnan    3450.0\n",
       "dtype: float64"
      ]
     },
     "execution_count": 50,
     "metadata": {},
     "output_type": "execute_result"
    }
   ],
   "source": [
    "WH[['Salary_1_jikky','Salary_1_kayis','Salary_1_sinny','Salary_1_criji','Salary_1_Johnan']].sum()"
   ]
  },
  {
   "cell_type": "code",
   "execution_count": 49,
   "id": "aa24b9ad",
   "metadata": {},
   "outputs": [
    {
     "data": {
      "text/html": [
       "<div>\n",
       "<style scoped>\n",
       "    .dataframe tbody tr th:only-of-type {\n",
       "        vertical-align: middle;\n",
       "    }\n",
       "\n",
       "    .dataframe tbody tr th {\n",
       "        vertical-align: top;\n",
       "    }\n",
       "\n",
       "    .dataframe thead th {\n",
       "        text-align: right;\n",
       "    }\n",
       "</style>\n",
       "<table border=\"1\" class=\"dataframe\">\n",
       "  <thead>\n",
       "    <tr style=\"text-align: right;\">\n",
       "      <th></th>\n",
       "      <th>Salary_1_jikky</th>\n",
       "      <th>Salary_1_kayis</th>\n",
       "      <th>Salary_1_sinny</th>\n",
       "      <th>Salary_1_criji</th>\n",
       "      <th>Salary_1_Johnan</th>\n",
       "    </tr>\n",
       "    <tr>\n",
       "      <th>Month</th>\n",
       "      <th></th>\n",
       "      <th></th>\n",
       "      <th></th>\n",
       "      <th></th>\n",
       "      <th></th>\n",
       "    </tr>\n",
       "  </thead>\n",
       "  <tbody>\n",
       "    <tr>\n",
       "      <th>4</th>\n",
       "      <td>1150.0</td>\n",
       "      <td>2175.0</td>\n",
       "      <td>1425.0</td>\n",
       "      <td>150.0</td>\n",
       "      <td>0.0</td>\n",
       "    </tr>\n",
       "    <tr>\n",
       "      <th>5</th>\n",
       "      <td>2270.0</td>\n",
       "      <td>2265.0</td>\n",
       "      <td>3300.0</td>\n",
       "      <td>3150.0</td>\n",
       "      <td>3450.0</td>\n",
       "    </tr>\n",
       "    <tr>\n",
       "      <th>6</th>\n",
       "      <td>3700.0</td>\n",
       "      <td>0.0</td>\n",
       "      <td>3450.0</td>\n",
       "      <td>3150.0</td>\n",
       "      <td>0.0</td>\n",
       "    </tr>\n",
       "  </tbody>\n",
       "</table>\n",
       "</div>"
      ],
      "text/plain": [
       "       Salary_1_jikky  Salary_1_kayis  Salary_1_sinny  Salary_1_criji  \\\n",
       "Month                                                                   \n",
       "4              1150.0          2175.0          1425.0           150.0   \n",
       "5              2270.0          2265.0          3300.0          3150.0   \n",
       "6              3700.0             0.0          3450.0          3150.0   \n",
       "\n",
       "       Salary_1_Johnan  \n",
       "Month                   \n",
       "4                  0.0  \n",
       "5               3450.0  \n",
       "6                  0.0  "
      ]
     },
     "execution_count": 49,
     "metadata": {},
     "output_type": "execute_result"
    }
   ],
   "source": [
    "WH.groupby('Month')[['Salary_1_jikky','Salary_1_kayis','Salary_1_sinny','Salary_1_criji','Salary_1_Johnan']].sum()"
   ]
  },
  {
   "cell_type": "markdown",
   "id": "2bf0169c",
   "metadata": {},
   "source": [
    "If per hour they get 100 means;\n",
    "\n",
    "Kayis earned the most salary in April\n",
    "\n",
    "Johnan earned a higher salary in May\n",
    "\n",
    "Jikky earned the most salary in June"
   ]
  },
  {
   "cell_type": "markdown",
   "id": "b306b26f",
   "metadata": {},
   "source": [
    "# Conclusion"
   ]
  },
  {
   "cell_type": "markdown",
   "id": "55e9fa92",
   "metadata": {},
   "source": [
    "91 rows and 8 columns contained in this table.\n",
    "\n",
    "Fill null is cleaned that it replaced 0 from nan\n",
    "\n",
    "The date split into month, day and year as they added in each column.\n",
    "\n",
    "Jikky took more class at the total of 71.2\n",
    "\n",
    "The mentors have taken online class than physical.\n",
    "\n",
    "Jikky mostly took the online class\n",
    "\n",
    "Sinny mostly took the physical class\n",
    "\n",
    "Kayis has took more hours of working in April, Kayis earned the most salary in April\n",
    "\n",
    "Johnan has took more hours of working in May, Johnan earned a higher salary in May\n",
    "\n",
    "Jikky has mostly took more hours of working in June, Jikky earned the most salary in June\n",
    "\n",
    "Jikky is working more time.\n",
    "\n",
    "More physical classes had taken in June.\n",
    "\n",
    "The mentors mostly took the class from 9.30am to 10.30am in April\n",
    "\n",
    "The mentors mostly took the class from 9.30am to 11.30am in May.\n",
    "\n",
    "The mentors mostly took the class from 2.30pm to 4.30pm in June"
   ]
  },
  {
   "cell_type": "code",
   "execution_count": null,
   "id": "bb2889e0",
   "metadata": {},
   "outputs": [],
   "source": []
  }
 ],
 "metadata": {
  "kernelspec": {
   "display_name": "Python 3 (ipykernel)",
   "language": "python",
   "name": "python3"
  },
  "language_info": {
   "codemirror_mode": {
    "name": "ipython",
    "version": 3
   },
   "file_extension": ".py",
   "mimetype": "text/x-python",
   "name": "python",
   "nbconvert_exporter": "python",
   "pygments_lexer": "ipython3",
   "version": "3.10.9"
  }
 },
 "nbformat": 4,
 "nbformat_minor": 5
}
