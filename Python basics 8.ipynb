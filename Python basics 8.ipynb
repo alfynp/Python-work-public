{
 "cells": [
  {
   "cell_type": "markdown",
   "id": "07f870ec",
   "metadata": {},
   "source": [
    "## Python Indentation"
   ]
  },
  {
   "cell_type": "code",
   "execution_count": 51,
   "id": "c738be64",
   "metadata": {},
   "outputs": [
    {
     "name": "stdout",
     "output_type": "stream",
     "text": [
      "Seven is greater than three!\n"
     ]
    }
   ],
   "source": [
    "#Python Indentation\n",
    "#if we give if statement, before printing the we should give space before next code\n",
    "\n",
    "if 7 > 3:\n",
    "    print(\"Seven is greater than three!\")"
   ]
  },
  {
   "cell_type": "code",
   "execution_count": 52,
   "id": "53da444e",
   "metadata": {},
   "outputs": [
    {
     "name": "stdout",
     "output_type": "stream",
     "text": [
      "Three is greater than one!\n",
      "Seven is greater than five!\n"
     ]
    }
   ],
   "source": [
    "if 3 > 1:\n",
    "    print(\"Three is greater than one!\")\n",
    "if 7 > 5:\n",
    "    print(\"Seven is greater than five!\")"
   ]
  },
  {
   "cell_type": "markdown",
   "id": "c74edc3f",
   "metadata": {},
   "source": [
    "## Python Variable Assigning"
   ]
  },
  {
   "cell_type": "code",
   "execution_count": 53,
   "id": "d22a04b4",
   "metadata": {},
   "outputs": [
    {
     "name": "stdout",
     "output_type": "stream",
     "text": [
      "7\n",
      "Hello\n"
     ]
    }
   ],
   "source": [
    "#Variables in Python\n",
    "x = 7\n",
    "y = \"Hello\"\n",
    "print(x)\n",
    "print(y)"
   ]
  },
  {
   "cell_type": "markdown",
   "id": "d831aa11",
   "metadata": {},
   "source": [
    "## Python Comments"
   ]
  },
  {
   "cell_type": "code",
   "execution_count": 54,
   "id": "bd9121ec",
   "metadata": {},
   "outputs": [
    {
     "data": {
      "text/plain": [
       "'\\nThis is a comment\\nwritten in\\nmore than just one line\\n'"
      ]
     },
     "execution_count": 54,
     "metadata": {},
     "output_type": "execute_result"
    }
   ],
   "source": [
    "#comments in python\n",
    "#It is a comment.\n",
    "\"\"\"\n",
    "This is a comment\n",
    "written in\n",
    "more than just one line\n",
    "\"\"\""
   ]
  },
  {
   "cell_type": "markdown",
   "id": "4101f42c",
   "metadata": {},
   "source": [
    "## Creating python variables"
   ]
  },
  {
   "cell_type": "code",
   "execution_count": 55,
   "id": "885407c5",
   "metadata": {},
   "outputs": [
    {
     "name": "stdout",
     "output_type": "stream",
     "text": [
      "3\n",
      "Johny\n"
     ]
    }
   ],
   "source": [
    "#Creating variables\n",
    "x = 3\n",
    "y = \"Johny\"\n",
    "\n",
    "print(x)\n",
    "print(y)"
   ]
  },
  {
   "cell_type": "code",
   "execution_count": 56,
   "id": "382cd201",
   "metadata": {},
   "outputs": [
    {
     "name": "stdout",
     "output_type": "stream",
     "text": [
      "Kitty\n"
     ]
    }
   ],
   "source": [
    "x = 540       # x is of type int\n",
    "x = \"Kitty\"   # x is now of type str\n",
    "print(x)\n"
   ]
  },
  {
   "cell_type": "markdown",
   "id": "b0471a1a",
   "metadata": {},
   "source": [
    "## Python Casting"
   ]
  },
  {
   "cell_type": "code",
   "execution_count": 57,
   "id": "d7c3f5b6",
   "metadata": {},
   "outputs": [
    {
     "name": "stdout",
     "output_type": "stream",
     "text": [
      "12\n",
      "12\n",
      "12.0\n"
     ]
    }
   ],
   "source": [
    "#Casting\n",
    "\n",
    "x = str(12)      # x will be '12'\n",
    "y = int(12)      # y will be 12\n",
    "z = float(12)    # z will be 12.0\n",
    "\n",
    "print(x)\n",
    "print(y)\n",
    "print(z)"
   ]
  },
  {
   "cell_type": "markdown",
   "id": "d93a5555",
   "metadata": {},
   "source": [
    "## Getting data type"
   ]
  },
  {
   "cell_type": "code",
   "execution_count": 58,
   "id": "71a7da15",
   "metadata": {},
   "outputs": [
    {
     "name": "stdout",
     "output_type": "stream",
     "text": [
      "<class 'int'>\n",
      "<class 'str'>\n"
     ]
    }
   ],
   "source": [
    "#get the type\n",
    "x = 3\n",
    "y = \"Annie\"\n",
    "\n",
    "print(type(x))\n",
    "print(type(y))"
   ]
  },
  {
   "cell_type": "markdown",
   "id": "eeea693b",
   "metadata": {},
   "source": [
    "## We can use single or double quotes"
   ]
  },
  {
   "cell_type": "code",
   "execution_count": 59,
   "id": "22adb672",
   "metadata": {},
   "outputs": [
    {
     "name": "stdout",
     "output_type": "stream",
     "text": [
      "Johny\n",
      "Johny\n"
     ]
    }
   ],
   "source": [
    "#Single or Double Quotes?\n",
    "\n",
    "x = \"Johny\"\n",
    "print(x)\n",
    "# is the same as\n",
    "x = 'Johny'\n",
    "\n",
    "print(x)"
   ]
  },
  {
   "cell_type": "markdown",
   "id": "12f40b65",
   "metadata": {},
   "source": [
    "## Case sensitive"
   ]
  },
  {
   "cell_type": "code",
   "execution_count": 60,
   "id": "704fd829",
   "metadata": {},
   "outputs": [
    {
     "name": "stdout",
     "output_type": "stream",
     "text": [
      "4\n",
      "Yash\n"
     ]
    }
   ],
   "source": [
    "#Case-Sensitive\n",
    "\n",
    "a = 4\n",
    "A = \"Yash\"\n",
    "#A will not overwrite a\n",
    "\n",
    "print(a)\n",
    "print(A)"
   ]
  },
  {
   "cell_type": "markdown",
   "id": "32ccd660",
   "metadata": {},
   "source": [
    "## Variable names should be"
   ]
  },
  {
   "cell_type": "code",
   "execution_count": 61,
   "id": "a6276cc0",
   "metadata": {},
   "outputs": [
    {
     "name": "stdout",
     "output_type": "stream",
     "text": [
      "John\n",
      "John\n",
      "John\n"
     ]
    }
   ],
   "source": [
    "## **Python - Variable Names**\n",
    "\n",
    "#Legal variable names:\n",
    "\n",
    "myvar = \"John\"\n",
    "my_var = \"John\"\n",
    "_my_var = \"John\"\n",
    "myVar = \"John\"\n",
    "MYVAR = \"John\"\n",
    "myvar2 = \"John\"\n",
    "\n",
    "print(myvar)\n",
    "print(my_var)\n",
    "print(_my_var)"
   ]
  },
  {
   "cell_type": "code",
   "execution_count": 62,
   "id": "7212318b",
   "metadata": {},
   "outputs": [
    {
     "data": {
      "text/plain": [
       "'\\nmyvar = \"John\"\\nmy-var = \"John\"\\nmy var = \"John\"\\n'"
      ]
     },
     "execution_count": 62,
     "metadata": {},
     "output_type": "execute_result"
    }
   ],
   "source": [
    "#Illegal variable names:\n",
    "\"\"\"\n",
    "myvar = \"John\"\n",
    "my-var = \"John\"\n",
    "my var = \"John\"\n",
    "\"\"\""
   ]
  },
  {
   "cell_type": "markdown",
   "id": "e4d8fa03",
   "metadata": {},
   "source": [
    "## Many values to multiple variable"
   ]
  },
  {
   "cell_type": "code",
   "execution_count": 63,
   "id": "485a3909",
   "metadata": {},
   "outputs": [
    {
     "name": "stdout",
     "output_type": "stream",
     "text": [
      "accounting\n",
      "bank\n",
      "chemistry\n"
     ]
    }
   ],
   "source": [
    "#Many Values to Multiple Variables\n",
    "\n",
    "a,b,c = \"accounting\",\"bank\",\"chemistry\"\n",
    "print(a)\n",
    "print(b)\n",
    "print(c)"
   ]
  },
  {
   "cell_type": "markdown",
   "id": "95503eaf",
   "metadata": {},
   "source": [
    "## One Value to Multiple Variables"
   ]
  },
  {
   "cell_type": "code",
   "execution_count": 64,
   "id": "0d42c327",
   "metadata": {},
   "outputs": [
    {
     "name": "stdout",
     "output_type": "stream",
     "text": [
      "Data Analysis\n",
      "Data Analysis\n",
      "Data Analysis\n"
     ]
    }
   ],
   "source": [
    "#One Value to Multiple Variables\n",
    "a = b = c = \"Data Analysis\"\n",
    "print(a)\n",
    "print(b)\n",
    "print(c)"
   ]
  },
  {
   "cell_type": "markdown",
   "id": "810cc706",
   "metadata": {},
   "source": [
    "## Unpack a collection"
   ]
  },
  {
   "cell_type": "code",
   "execution_count": 65,
   "id": "c0cfe06c",
   "metadata": {},
   "outputs": [
    {
     "name": "stdout",
     "output_type": "stream",
     "text": [
      "Accounting\n",
      "Chemistry\n",
      "Data Analysis\n"
     ]
    }
   ],
   "source": [
    "#Unpack a Collection\n",
    "courses = [\"Accounting\",\"Chemistry\",\"Data Analysis\"]\n",
    "a,b,c = courses\n",
    "\n",
    "print(a)\n",
    "print(b)\n",
    "print(c)"
   ]
  },
  {
   "cell_type": "markdown",
   "id": "631aa9d9",
   "metadata": {},
   "source": [
    "## Variable Output"
   ]
  },
  {
   "cell_type": "code",
   "execution_count": 66,
   "id": "6ffe2ef4",
   "metadata": {},
   "outputs": [
    {
     "name": "stdout",
     "output_type": "stream",
     "text": [
      "The course of python is so excellent\n"
     ]
    }
   ],
   "source": [
    "#Output Variables\n",
    "p = \"The course of python is so excellent\"\n",
    "print(p)"
   ]
  },
  {
   "cell_type": "code",
   "execution_count": 67,
   "id": "4d42a0f1",
   "metadata": {},
   "outputs": [
    {
     "name": "stdout",
     "output_type": "stream",
     "text": [
      "This course is awesome\n"
     ]
    }
   ],
   "source": [
    "x = \"This course\"\n",
    "y = \"is\"\n",
    "z = \"awesome\"\n",
    "print(x, y, z)\n",
    "     "
   ]
  },
  {
   "cell_type": "code",
   "execution_count": 68,
   "id": "dccef72f",
   "metadata": {},
   "outputs": [
    {
     "name": "stdout",
     "output_type": "stream",
     "text": [
      "This courseisawesome\n"
     ]
    }
   ],
   "source": [
    "x = \"This course\"\n",
    "y = \"is\"\n",
    "z = \"awesome\"\n",
    "print(x + y + z)"
   ]
  },
  {
   "cell_type": "code",
   "execution_count": 69,
   "id": "4ac7f3c2",
   "metadata": {},
   "outputs": [
    {
     "name": "stdout",
     "output_type": "stream",
     "text": [
      "12\n"
     ]
    }
   ],
   "source": [
    "x = 7\n",
    "y = 5\n",
    "print(x+y)"
   ]
  },
  {
   "cell_type": "code",
   "execution_count": 70,
   "id": "07a443f6",
   "metadata": {},
   "outputs": [
    {
     "ename": "TypeError",
     "evalue": "unsupported operand type(s) for +: 'int' and 'str'",
     "output_type": "error",
     "traceback": [
      "\u001b[1;31m---------------------------------------------------------------------------\u001b[0m",
      "\u001b[1;31mTypeError\u001b[0m                                 Traceback (most recent call last)",
      "Cell \u001b[1;32mIn[70], line 3\u001b[0m\n\u001b[0;32m      1\u001b[0m x \u001b[38;5;241m=\u001b[39m \u001b[38;5;241m5\u001b[39m\n\u001b[0;32m      2\u001b[0m y \u001b[38;5;241m=\u001b[39m \u001b[38;5;124m\"\u001b[39m\u001b[38;5;124mJohn\u001b[39m\u001b[38;5;124m\"\u001b[39m\n\u001b[1;32m----> 3\u001b[0m \u001b[38;5;28mprint\u001b[39m(\u001b[43mx\u001b[49m\u001b[38;5;241;43m+\u001b[39;49m\u001b[43my\u001b[49m)\n",
      "\u001b[1;31mTypeError\u001b[0m: unsupported operand type(s) for +: 'int' and 'str'"
     ]
    }
   ],
   "source": [
    "x = 5\n",
    "y = \"John\"\n",
    "print(x+y)\n",
    "#this result show as error"
   ]
  },
  {
   "cell_type": "code",
   "execution_count": 71,
   "id": "e8cfa4c6",
   "metadata": {},
   "outputs": [
    {
     "name": "stdout",
     "output_type": "stream",
     "text": [
      "4 Paul\n"
     ]
    }
   ],
   "source": [
    "x = 4\n",
    "y =\"Paul\"\n",
    "print(x,y)"
   ]
  },
  {
   "cell_type": "markdown",
   "id": "88c22372",
   "metadata": {},
   "source": [
    "## Global Variables"
   ]
  },
  {
   "cell_type": "code",
   "execution_count": 72,
   "id": "d31c991d",
   "metadata": {},
   "outputs": [
    {
     "name": "stdout",
     "output_type": "stream",
     "text": [
      "Python is Exciting\n"
     ]
    }
   ],
   "source": [
    "#Global Variables\n",
    "x = \"Exciting\"\n",
    "\n",
    "def myfunc():\n",
    "    print(\"Python is \" + x)\n",
    "\n",
    "myfunc()"
   ]
  },
  {
   "cell_type": "code",
   "execution_count": 79,
   "id": "b279ed89",
   "metadata": {},
   "outputs": [
    {
     "name": "stdout",
     "output_type": "stream",
     "text": [
      "Python is fantastic\n",
      "Python is excellent\n"
     ]
    }
   ],
   "source": [
    "x = \"excellent\"\n",
    "\n",
    "def myfunc():\n",
    "  x = \"fantastic\"\n",
    "  print(\"Python is \" + x)\n",
    "\n",
    "myfunc()\n",
    "\n",
    "print(\"Python is \" + x)"
   ]
  },
  {
   "cell_type": "code",
   "execution_count": 80,
   "id": "a36cd3e8",
   "metadata": {},
   "outputs": [
    {
     "name": "stdout",
     "output_type": "stream",
     "text": [
      "Python is fantastic\n"
     ]
    }
   ],
   "source": [
    "#The global Keyword\n",
    "def myfunc():\n",
    "  global x\n",
    "  x = \"fantastic\"\n",
    "\n",
    "myfunc()\n",
    "\n",
    "print(\"Python is \" + x)\n",
    "     "
   ]
  },
  {
   "cell_type": "code",
   "execution_count": 81,
   "id": "b978d1f5",
   "metadata": {},
   "outputs": [
    {
     "name": "stdout",
     "output_type": "stream",
     "text": [
      "Python is fantastic\n"
     ]
    }
   ],
   "source": [
    "x = \"awesome\"\n",
    "\n",
    "def myfunc():\n",
    "  global x\n",
    "  x = \"fantastic\"\n",
    "\n",
    "myfunc()\n",
    "\n",
    "print(\"Python is \" + x)\n",
    "     "
   ]
  },
  {
   "cell_type": "code",
   "execution_count": null,
   "id": "781bf720",
   "metadata": {},
   "outputs": [],
   "source": []
  }
 ],
 "metadata": {
  "kernelspec": {
   "display_name": "Python 3 (ipykernel)",
   "language": "python",
   "name": "python3"
  },
  "language_info": {
   "codemirror_mode": {
    "name": "ipython",
    "version": 3
   },
   "file_extension": ".py",
   "mimetype": "text/x-python",
   "name": "python",
   "nbconvert_exporter": "python",
   "pygments_lexer": "ipython3",
   "version": "3.10.9"
  }
 },
 "nbformat": 4,
 "nbformat_minor": 5
}
