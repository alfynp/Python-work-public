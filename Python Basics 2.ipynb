{
 "cells": [
  {
   "cell_type": "markdown",
   "id": "4eb07602",
   "metadata": {},
   "source": [
    "# 1st Python Program"
   ]
  },
  {
   "cell_type": "code",
   "execution_count": 12,
   "id": "e903e044",
   "metadata": {},
   "outputs": [
    {
     "name": "stdout",
     "output_type": "stream",
     "text": [
      "Hai Everyone\n"
     ]
    }
   ],
   "source": [
    "print('Hai Everyone')"
   ]
  },
  {
   "cell_type": "markdown",
   "id": "de004719",
   "metadata": {},
   "source": [
    "# Python Variables"
   ]
  },
  {
   "cell_type": "markdown",
   "id": "3121d2ef",
   "metadata": {},
   "source": [
    "## Variable declaration"
   ]
  },
  {
   "cell_type": "code",
   "execution_count": 13,
   "id": "b99dcf27",
   "metadata": {},
   "outputs": [
    {
     "data": {
      "text/plain": [
       "8"
      ]
     },
     "execution_count": 13,
     "metadata": {},
     "output_type": "execute_result"
    }
   ],
   "source": [
    "#variable is declared as the value 8 is assigned to it.\n",
    "x = 8\n",
    "x"
   ]
  },
  {
   "cell_type": "code",
   "execution_count": 14,
   "id": "0dc26a67",
   "metadata": {},
   "outputs": [
    {
     "data": {
      "text/plain": [
       "200"
      ]
     },
     "execution_count": 14,
     "metadata": {},
     "output_type": "execute_result"
    }
   ],
   "source": [
    "xyZ = 200\n",
    "xyZ"
   ]
  },
  {
   "cell_type": "markdown",
   "id": "1db749bf",
   "metadata": {},
   "source": [
    "# Data Types in Python"
   ]
  },
  {
   "cell_type": "markdown",
   "id": "fdc4e42b",
   "metadata": {},
   "source": [
    "## Numerical Data Types"
   ]
  },
  {
   "cell_type": "markdown",
   "id": "c67a2ce6",
   "metadata": {},
   "source": [
    "1.Integers"
   ]
  },
  {
   "cell_type": "markdown",
   "id": "e3c677bc",
   "metadata": {},
   "source": [
    "2.Float"
   ]
  },
  {
   "cell_type": "markdown",
   "id": "5723cc6c",
   "metadata": {},
   "source": [
    "3.Complex Numbers"
   ]
  },
  {
   "cell_type": "markdown",
   "id": "460d42f0",
   "metadata": {},
   "source": [
    "4.Boolean"
   ]
  },
  {
   "cell_type": "code",
   "execution_count": 15,
   "id": "777d6e57",
   "metadata": {},
   "outputs": [
    {
     "data": {
      "text/plain": [
       "int"
      ]
     },
     "execution_count": 15,
     "metadata": {},
     "output_type": "execute_result"
    }
   ],
   "source": [
    "# 1.Integers = are used to represent whole number values.\n",
    "x = 1000\n",
    "y = 10000\n",
    "\n",
    "type(y)"
   ]
  },
  {
   "cell_type": "code",
   "execution_count": 16,
   "id": "67bac2dc",
   "metadata": {},
   "outputs": [
    {
     "data": {
      "text/plain": [
       "int"
      ]
     },
     "execution_count": 16,
     "metadata": {},
     "output_type": "execute_result"
    }
   ],
   "source": [
    "type(x)"
   ]
  },
  {
   "cell_type": "code",
   "execution_count": 17,
   "id": "dbf81aca",
   "metadata": {},
   "outputs": [
    {
     "data": {
      "text/plain": [
       "float"
      ]
     },
     "execution_count": 17,
     "metadata": {},
     "output_type": "execute_result"
    }
   ],
   "source": [
    "# 2.Float = data type is used to represent decimal point values.\n",
    "a = 101.33\n",
    "b = 13.333\n",
    "\n",
    "type(a)"
   ]
  },
  {
   "cell_type": "code",
   "execution_count": 18,
   "id": "9a19458a",
   "metadata": {},
   "outputs": [
    {
     "data": {
      "text/plain": [
       "float"
      ]
     },
     "execution_count": 18,
     "metadata": {},
     "output_type": "execute_result"
    }
   ],
   "source": [
    "type(b)"
   ]
  },
  {
   "cell_type": "code",
   "execution_count": 19,
   "id": "c80ca277",
   "metadata": {},
   "outputs": [
    {
     "data": {
      "text/plain": [
       "complex"
      ]
     },
     "execution_count": 19,
     "metadata": {},
     "output_type": "execute_result"
    }
   ],
   "source": [
    "# 3.Complex numbers are used to represent imaginary values.\n",
    "z = 27+8j\n",
    "type(z)"
   ]
  },
  {
   "cell_type": "code",
   "execution_count": 20,
   "id": "ed79e36c",
   "metadata": {},
   "outputs": [
    {
     "data": {
      "text/plain": [
       "complex"
      ]
     },
     "execution_count": 20,
     "metadata": {},
     "output_type": "execute_result"
    }
   ],
   "source": [
    "c = 6+4j\n",
    "type(c)"
   ]
  },
  {
   "cell_type": "code",
   "execution_count": 21,
   "id": "cb2f6bc3",
   "metadata": {},
   "outputs": [
    {
     "name": "stdout",
     "output_type": "stream",
     "text": [
      "True\n"
     ]
    }
   ],
   "source": [
    "# 4.Boolean = is used to categorical output,since the output of boolean is either true or false.\n",
    "Boo = 6>5\n",
    "# Boo is the boolean variable.\n",
    "\n",
    "type(Boo)\n",
    "# the output will be bool\n",
    "\n",
    "print(Boo)\n",
    "# this will be print true."
   ]
  },
  {
   "cell_type": "code",
   "execution_count": 25,
   "id": "27abe4f6",
   "metadata": {},
   "outputs": [
    {
     "name": "stdout",
     "output_type": "stream",
     "text": [
      "False\n"
     ]
    }
   ],
   "source": [
    "d=18<16\n",
    "print(d)"
   ]
  }
 ],
 "metadata": {
  "kernelspec": {
   "display_name": "Python 3 (ipykernel)",
   "language": "python",
   "name": "python3"
  },
  "language_info": {
   "codemirror_mode": {
    "name": "ipython",
    "version": 3
   },
   "file_extension": ".py",
   "mimetype": "text/x-python",
   "name": "python",
   "nbconvert_exporter": "python",
   "pygments_lexer": "ipython3",
   "version": "3.10.9"
  }
 },
 "nbformat": 4,
 "nbformat_minor": 5
}
