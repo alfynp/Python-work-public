{
 "cells": [
  {
   "cell_type": "markdown",
   "id": "4555f3a9",
   "metadata": {},
   "source": [
    "# Sets"
   ]
  },
  {
   "cell_type": "markdown",
   "id": "e7fe33a6",
   "metadata": {},
   "source": [
    "A set is a collection which is unordered."
   ]
  },
  {
   "cell_type": "markdown",
   "id": "f1c9210a",
   "metadata": {},
   "source": [
    "To declare a set in python we use the curly brackets."
   ]
  },
  {
   "cell_type": "code",
   "execution_count": 27,
   "id": "44d54962",
   "metadata": {},
   "outputs": [
    {
     "name": "stdout",
     "output_type": "stream",
     "text": [
      "50\n",
      "20\n",
      "40\n",
      "10\n",
      "30\n"
     ]
    }
   ],
   "source": [
    "set={10,20,10,30,20,40,30,50,30}\n",
    "# will get all the values.\n",
    "for x in set:\n",
    " print(x)"
   ]
  },
  {
   "cell_type": "code",
   "execution_count": 28,
   "id": "2a829271",
   "metadata": {},
   "outputs": [
    {
     "name": "stdout",
     "output_type": "stream",
     "text": [
      "50\n",
      "20\n",
      "40\n",
      "10\n",
      "30\n"
     ]
    }
   ],
   "source": [
    "for x in set:\n",
    " print(x)"
   ]
  },
  {
   "cell_type": "code",
   "execution_count": 29,
   "id": "a3335bbd",
   "metadata": {},
   "outputs": [
    {
     "data": {
      "text/plain": [
       "True"
      ]
     },
     "execution_count": 29,
     "metadata": {},
     "output_type": "execute_result"
    }
   ],
   "source": [
    "20 in set\n",
    "# will return true if the value is in the set. "
   ]
  },
  {
   "cell_type": "code",
   "execution_count": 30,
   "id": "f4a4b2f7",
   "metadata": {},
   "outputs": [
    {
     "data": {
      "text/plain": [
       "False"
      ]
     },
     "execution_count": 30,
     "metadata": {},
     "output_type": "execute_result"
    }
   ],
   "source": [
    "120 in set"
   ]
  },
  {
   "cell_type": "code",
   "execution_count": 31,
   "id": "97248fba",
   "metadata": {},
   "outputs": [
    {
     "data": {
      "text/plain": [
       "True"
      ]
     },
     "execution_count": 31,
     "metadata": {},
     "output_type": "execute_result"
    }
   ],
   "source": [
    "50 in set"
   ]
  },
  {
   "cell_type": "code",
   "execution_count": 32,
   "id": "fde5f5d7",
   "metadata": {},
   "outputs": [
    {
     "data": {
      "text/plain": [
       "{10, 20, 30, 40, 50, 'pinki'}"
      ]
     },
     "execution_count": 32,
     "metadata": {},
     "output_type": "execute_result"
    }
   ],
   "source": [
    "# add a value in set\n",
    "set.add('pinki')\n",
    "set"
   ]
  },
  {
   "cell_type": "code",
   "execution_count": 33,
   "id": "6bd4c47e",
   "metadata": {},
   "outputs": [
    {
     "data": {
      "text/plain": [
       "{10, 120, 20, 30, 40, 50, 'pinki'}"
      ]
     },
     "execution_count": 33,
     "metadata": {},
     "output_type": "execute_result"
    }
   ],
   "source": [
    "set.add(120)\n",
    "set"
   ]
  },
  {
   "cell_type": "code",
   "execution_count": 34,
   "id": "6fc03155",
   "metadata": {},
   "outputs": [
    {
     "data": {
      "text/plain": [
       "True"
      ]
     },
     "execution_count": 34,
     "metadata": {},
     "output_type": "execute_result"
    }
   ],
   "source": [
    "120 in set"
   ]
  },
  {
   "cell_type": "code",
   "execution_count": 35,
   "id": "9b83267c",
   "metadata": {},
   "outputs": [
    {
     "data": {
      "text/plain": [
       "{10, 20, 30, 40, 50, 120}"
      ]
     },
     "execution_count": 35,
     "metadata": {},
     "output_type": "execute_result"
    }
   ],
   "source": [
    "# to remove an item from a set\n",
    "set.remove('pinki')\n",
    "set"
   ]
  },
  {
   "cell_type": "code",
   "execution_count": 36,
   "id": "6f2919f5",
   "metadata": {},
   "outputs": [
    {
     "data": {
      "text/plain": [
       "{10, 20, 30, 40, 50}"
      ]
     },
     "execution_count": 36,
     "metadata": {},
     "output_type": "execute_result"
    }
   ],
   "source": [
    "set.remove(120)\n",
    "set"
   ]
  },
  {
   "cell_type": "code",
   "execution_count": 37,
   "id": "5ab2a944",
   "metadata": {},
   "outputs": [
    {
     "data": {
      "text/plain": [
       "False"
      ]
     },
     "execution_count": 37,
     "metadata": {},
     "output_type": "execute_result"
    }
   ],
   "source": [
    "set1 ={5,10,20}\n",
    "set2 ={10,20,30}\n",
    "set1.issubset(set2)\n",
    "\n",
    "#to check subset or not"
   ]
  },
  {
   "cell_type": "code",
   "execution_count": 38,
   "id": "3e668112",
   "metadata": {},
   "outputs": [
    {
     "data": {
      "text/plain": [
       "True"
      ]
     },
     "execution_count": 38,
     "metadata": {},
     "output_type": "execute_result"
    }
   ],
   "source": [
    "set1 ={10,20}\n",
    "set2 ={10,20,30}\n",
    "set1.issubset(set2)"
   ]
  },
  {
   "cell_type": "code",
   "execution_count": 42,
   "id": "8f0c2c3b",
   "metadata": {},
   "outputs": [
    {
     "data": {
      "text/plain": [
       "False"
      ]
     },
     "execution_count": 42,
     "metadata": {},
     "output_type": "execute_result"
    }
   ],
   "source": [
    "st1={4,2,3}\n",
    "st2={4,3,1}\n",
    "st1.issubset(st2)"
   ]
  },
  {
   "cell_type": "code",
   "execution_count": 43,
   "id": "6cc10f34",
   "metadata": {},
   "outputs": [
    {
     "data": {
      "text/plain": [
       "True"
      ]
     },
     "execution_count": 43,
     "metadata": {},
     "output_type": "execute_result"
    }
   ],
   "source": [
    "St1={5,4,3}\n",
    "St2={5,4,3,2}\n",
    "St1.issubset(St2)"
   ]
  },
  {
   "cell_type": "code",
   "execution_count": 39,
   "id": "589303fc",
   "metadata": {},
   "outputs": [
    {
     "data": {
      "text/plain": [
       "{10, 20, 30}"
      ]
     },
     "execution_count": 39,
     "metadata": {},
     "output_type": "execute_result"
    }
   ],
   "source": [
    "# this will return a set with the union of the two sets.\n",
    "set1.union(set2)"
   ]
  },
  {
   "cell_type": "code",
   "execution_count": 40,
   "id": "6dca8640",
   "metadata": {},
   "outputs": [],
   "source": [
    "st1={4,2,3}\n",
    "st2={4,3,1}"
   ]
  },
  {
   "cell_type": "code",
   "execution_count": 41,
   "id": "77bee6f2",
   "metadata": {},
   "outputs": [
    {
     "data": {
      "text/plain": [
       "{1, 2, 3, 4}"
      ]
     },
     "execution_count": 41,
     "metadata": {},
     "output_type": "execute_result"
    }
   ],
   "source": [
    "st1.union(st2)"
   ]
  }
 ],
 "metadata": {
  "kernelspec": {
   "display_name": "Python 3 (ipykernel)",
   "language": "python",
   "name": "python3"
  },
  "language_info": {
   "codemirror_mode": {
    "name": "ipython",
    "version": 3
   },
   "file_extension": ".py",
   "mimetype": "text/x-python",
   "name": "python",
   "nbconvert_exporter": "python",
   "pygments_lexer": "ipython3",
   "version": "3.10.9"
  }
 },
 "nbformat": 4,
 "nbformat_minor": 5
}
