{
 "cells": [
  {
   "cell_type": "markdown",
   "id": "39c23f41",
   "metadata": {},
   "source": [
    "\n",
    "# Dictionary"
   ]
  },
  {
   "cell_type": "code",
   "execution_count": 9,
   "id": "1bb2bfd3",
   "metadata": {},
   "outputs": [
    {
     "data": {
      "text/plain": [
       "{'Name': 'Annmariya', 'Email': 'ann18@gmail.com', 'Phone number': '9485909927'}"
      ]
     },
     "execution_count": 9,
     "metadata": {},
     "output_type": "execute_result"
    }
   ],
   "source": [
    "# we created a dictionary now,with key: name,email,phone number\n",
    "# and values Annmariya,ann18@gmail.com,9485909927\n",
    "dict1={\"Name\":\"Annmariya\",\n",
    "      \"Email\":\"ann18@gmail.com\",\n",
    "      \"Phone number\":\"9485909927\"}\n",
    "dict1"
   ]
  },
  {
   "cell_type": "code",
   "execution_count": 10,
   "id": "49127273",
   "metadata": {},
   "outputs": [
    {
     "data": {
      "text/plain": [
       "'9485909927'"
      ]
     },
     "execution_count": 10,
     "metadata": {},
     "output_type": "execute_result"
    }
   ],
   "source": [
    "# now to seperately call each key from the dictionary we can use the code\n",
    "a=dict1['Phone number']\n",
    "a"
   ]
  },
  {
   "cell_type": "code",
   "execution_count": 11,
   "id": "67351c6f",
   "metadata": {},
   "outputs": [
    {
     "name": "stdout",
     "output_type": "stream",
     "text": [
      "{'Name': 'Andriya', 'Email': 'ann18@gmail.com', 'Phone number': '9485909927'}\n"
     ]
    }
   ],
   "source": [
    "# change the value in the dictionary\n",
    "dict1['Name']=\"Andriya\"\n",
    "print(dict1)"
   ]
  },
  {
   "cell_type": "code",
   "execution_count": 12,
   "id": "6e756e47",
   "metadata": {},
   "outputs": [
    {
     "name": "stdout",
     "output_type": "stream",
     "text": [
      "{'Name': 'Andriya', 'Email': 'annmol16@gmail.com', 'Phone number': '9485909927'}\n"
     ]
    }
   ],
   "source": [
    "dict1['Email']=\"annmol16@gmail.com\"\n",
    "print(dict1)"
   ]
  },
  {
   "cell_type": "code",
   "execution_count": 13,
   "id": "55a840c8",
   "metadata": {},
   "outputs": [
    {
     "name": "stdout",
     "output_type": "stream",
     "text": [
      "Name\n",
      "Email\n",
      "Phone number\n"
     ]
    }
   ],
   "source": [
    "# To get key words headings\n",
    "for x in dict1:\n",
    " print(x)"
   ]
  },
  {
   "cell_type": "code",
   "execution_count": 15,
   "id": "0dd5f90d",
   "metadata": {},
   "outputs": [
    {
     "name": "stdout",
     "output_type": "stream",
     "text": [
      "Andriya\n",
      "annmol16@gmail.com\n",
      "9485909927\n"
     ]
    }
   ],
   "source": [
    "# To get value\n",
    "for x in dict1:\n",
    " print(dict1[x])"
   ]
  },
  {
   "cell_type": "code",
   "execution_count": 16,
   "id": "8191d947",
   "metadata": {},
   "outputs": [
    {
     "name": "stdout",
     "output_type": "stream",
     "text": [
      "Name Andriya\n",
      "Email annmol16@gmail.com\n",
      "Phone number 9485909927\n"
     ]
    }
   ],
   "source": [
    "# To get both key and values\n",
    "for x,y in dict1.items():\n",
    " print(x,y)"
   ]
  },
  {
   "cell_type": "code",
   "execution_count": 17,
   "id": "25b2876e",
   "metadata": {},
   "outputs": [
    {
     "name": "stdout",
     "output_type": "stream",
     "text": [
      "3\n"
     ]
    }
   ],
   "source": [
    "# To get the length of dictionary\n",
    "print(len(dict1))\n"
   ]
  },
  {
   "cell_type": "code",
   "execution_count": 18,
   "id": "32cf3be4",
   "metadata": {},
   "outputs": [
    {
     "name": "stdout",
     "output_type": "stream",
     "text": [
      "{'Name': 'Andriya', 'Email': 'annmol16@gmail.com', 'Phone number': '9485909927', 'Age': 18}\n"
     ]
    }
   ],
   "source": [
    "# To add some more key and values into dictionary\n",
    "dict1[\"Age\"]=18\n",
    "print(dict1)"
   ]
  },
  {
   "cell_type": "code",
   "execution_count": 19,
   "id": "b87bbc71",
   "metadata": {},
   "outputs": [
    {
     "name": "stdout",
     "output_type": "stream",
     "text": [
      "4\n"
     ]
    }
   ],
   "source": [
    "print(len(dict1))"
   ]
  },
  {
   "cell_type": "code",
   "execution_count": 20,
   "id": "a83e7649",
   "metadata": {},
   "outputs": [
    {
     "name": "stdout",
     "output_type": "stream",
     "text": [
      "{'Name': 'Andriya', 'Email': 'annmol16@gmail.com', 'Phone number': '9485909927', 'Age': 18, 'Place': 'Kaloor'}\n"
     ]
    }
   ],
   "source": [
    "dict1[\"Place\"]=\"Kaloor\"\n",
    "print(dict1)"
   ]
  },
  {
   "cell_type": "code",
   "execution_count": 21,
   "id": "87e01f10",
   "metadata": {},
   "outputs": [
    {
     "name": "stdout",
     "output_type": "stream",
     "text": [
      "5\n"
     ]
    }
   ],
   "source": [
    "print(len(dict1))"
   ]
  },
  {
   "cell_type": "code",
   "execution_count": 23,
   "id": "4c71e330",
   "metadata": {},
   "outputs": [
    {
     "data": {
      "text/plain": [
       "{'Name': 'Andriya', 'Phone number': '9485909927', 'Age': 18, 'Place': 'Kaloor'}"
      ]
     },
     "execution_count": 23,
     "metadata": {},
     "output_type": "execute_result"
    }
   ],
   "source": [
    "# To remove value\n",
    "dict1.pop(\"Email\")\n",
    "dict1"
   ]
  },
  {
   "cell_type": "code",
   "execution_count": 24,
   "id": "88af63c2",
   "metadata": {},
   "outputs": [
    {
     "data": {
      "text/plain": [
       "{'Name': 'Andriya', 'Phone number': '9485909927', 'Age': 18}"
      ]
     },
     "execution_count": 24,
     "metadata": {},
     "output_type": "execute_result"
    }
   ],
   "source": [
    "# To delete from dictionary\n",
    "del dict1[\"Place\"]\n",
    "dict1"
   ]
  },
  {
   "cell_type": "code",
   "execution_count": 25,
   "id": "44388190",
   "metadata": {},
   "outputs": [
    {
     "data": {
      "text/plain": [
       "{}"
      ]
     },
     "execution_count": 25,
     "metadata": {},
     "output_type": "execute_result"
    }
   ],
   "source": [
    "# To clear all the values from dictionary\n",
    "dict1.clear()\n",
    "dict1"
   ]
  }
 ],
 "metadata": {
  "kernelspec": {
   "display_name": "Python 3 (ipykernel)",
   "language": "python",
   "name": "python3"
  },
  "language_info": {
   "codemirror_mode": {
    "name": "ipython",
    "version": 3
   },
   "file_extension": ".py",
   "mimetype": "text/x-python",
   "name": "python",
   "nbconvert_exporter": "python",
   "pygments_lexer": "ipython3",
   "version": "3.10.9"
  }
 },
 "nbformat": 4,
 "nbformat_minor": 5
}
